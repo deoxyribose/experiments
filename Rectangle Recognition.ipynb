{
 "cells": [
  {
   "cell_type": "code",
   "execution_count": 1,
   "metadata": {},
   "outputs": [],
   "source": [
    "import numpy as np\n",
    "import torch\n",
    "import pyro\n",
    "import pyro.distributions as dist\n",
    "import matplotlib.pylab as plt\n",
    "from pylab import rcParams\n",
    "rcParams['figure.figsize'] = 0.7,0.7"
   ]
  },
  {
   "cell_type": "code",
   "execution_count": 2,
   "metadata": {},
   "outputs": [],
   "source": [
    "def sample_point(w,h):\n",
    "    x_prob = pyro.sample(f\"x_prob\", dist.Dirichlet(torch.ones(w)))\n",
    "    y_prob = pyro.sample(f\"y_prob\", dist.Dirichlet(torch.ones(h)))\n",
    "    x = pyro.sample(f\"x\", dist.Categorical(x_prob))\n",
    "    y = pyro.sample(f\"y\", dist.Categorical(y_prob))\n",
    "    return x,y"
   ]
  },
  {
   "cell_type": "code",
   "execution_count": 3,
   "metadata": {},
   "outputs": [],
   "source": [
    "def sample_rectangle(w,h):\n",
    "    n_points = 2\n",
    "    with pyro.plate('P', n_points):\n",
    "        x,y = sample_point(w,h)\n",
    "    color_intensity = pyro.sample(\"color_intensity\",dist.Beta(0.5,0.5))\n",
    "    return x,y,color_intensity"
   ]
  },
  {
   "cell_type": "code",
   "execution_count": 4,
   "metadata": {},
   "outputs": [],
   "source": [
    "def sample_image(X):\n",
    "    w,h = X.shape\n",
    "    img = torch.ones((w,h))\n",
    "    x,y,color_intensity = sample_rectangle(w,h)\n",
    "    img[x[0]:x[0]+x[1],y[0]:y[0]+y[1]] = color_intensity\n",
    "    X = pyro.sample(\"obs\", dist.Normal(img,0.05))\n",
    "    return X"
   ]
  },
  {
   "cell_type": "code",
   "execution_count": 5,
   "metadata": {},
   "outputs": [],
   "source": [
    "w,h = 40,50\n",
    "img = sample_image(torch.ones(w,h))"
   ]
  },
  {
   "cell_type": "code",
   "execution_count": 6,
   "metadata": {},
   "outputs": [
    {
     "data": {
      "text/plain": [
       "<matplotlib.image.AxesImage at 0x7fa819e8e0b8>"
      ]
     },
     "execution_count": 6,
     "metadata": {},
     "output_type": "execute_result"
    },
    {
     "data": {
      "image/png": "[encoded data removed]",
      "text/plain": [
       "<Figure size 432x288 with 1 Axes>"
      ]
     },
     "metadata": {
      "needs_background": "light"
     },
     "output_type": "display_data"
    }
   ],
   "source": [
    "plt.imshow(img,cmap='gray',vmin=0,vmax=1,origin='lower')"
   ]
  },
  {
   "cell_type": "code",
   "execution_count": 7,
   "metadata": {
    "scrolled": false
   },
   "outputs": [],
   "source": [
    "foo = pyro.poutine.trace(sample_image).get_trace(img)"
   ]
  },
  {
   "cell_type": "code",
   "execution_count": 8,
   "metadata": {
    "scrolled": true
   },
   "outputs": [
    {
     "data": {
      "text/plain": [
       "OrderedDict([('_INPUT',\n",
       "              {'name': '_INPUT',\n",
       "               'type': 'args',\n",
       "               'args': (tensor([[0.9968, 0.9869, 1.0201,  ..., 0.9776, 0.8967, 0.9623],\n",
       "                        [0.9818, 0.9287, 0.9934,  ..., 0.8951, 1.0290, 0.9442],\n",
       "                        [1.0251, 0.9932, 0.9939,  ..., 1.1447, 0.9289, 0.9482],\n",
       "                        ...,\n",
       "                        [1.0238, 1.0422, 1.0396,  ..., 0.8926, 1.0356, 1.0186],\n",
       "                        [0.9767, 1.0741, 0.9168,  ..., 1.0690, 0.9371, 1.0542],\n",
       "                        [1.0697, 0.9494, 1.0610,  ..., 0.9849, 0.9830, 0.9821]]),),\n",
       "               'kwargs': {}}),\n",
       "             ('P',\n",
       "              {'type': 'sample',\n",
       "               'name': 'P',\n",
       "               'fn': <pyro.poutine.subsample_messenger._Subsample at 0x7fa819df4f98>,\n",
       "               'is_observed': False,\n",
       "               'args': (),\n",
       "               'kwargs': {},\n",
       "               'value': tensor([0, 1]),\n",
       "               'infer': {},\n",
       "               'scale': 1.0,\n",
       "               'mask': None,\n",
       "               'cond_indep_stack': (),\n",
       "               'done': True,\n",
       "               'stop': False,\n",
       "               'continuation': None}),\n",
       "             ('x_prob',\n",
       "              {'type': 'sample',\n",
       "               'name': 'x_prob',\n",
       "               'fn': Dirichlet(concentration: torch.Size([2, 40])),\n",
       "               'is_observed': False,\n",
       "               'args': (),\n",
       "               'kwargs': {},\n",
       "               'value': tensor([[2.6434e-02, 3.4544e-02, 2.6614e-02, 2.3443e-02, 5.2901e-02, 6.2385e-02,\n",
       "                        3.2369e-02, 1.3429e-02, 9.8830e-03, 3.4035e-02, 3.2692e-02, 8.3014e-03,\n",
       "                        2.0003e-03, 9.5708e-04, 7.8908e-02, 4.7315e-03, 6.6710e-02, 9.3510e-03,\n",
       "                        9.4735e-03, 6.4860e-03, 2.2520e-02, 2.7892e-02, 3.6716e-02, 3.1716e-02,\n",
       "                        4.5978e-02, 3.7388e-02, 2.0444e-02, 2.6427e-02, 2.3521e-03, 5.9792e-03,\n",
       "                        6.0183e-03, 7.8097e-03, 3.2760e-03, 2.6803e-02, 3.3995e-02, 1.1675e-03,\n",
       "                        1.9477e-02, 7.5176e-02, 3.3123e-02, 9.4433e-05],\n",
       "                       [1.2745e-03, 5.1070e-02, 2.0240e-02, 1.9242e-02, 1.9767e-02, 5.1215e-03,\n",
       "                        2.2723e-03, 8.2132e-03, 5.6946e-03, 2.2659e-03, 7.2429e-02, 5.0911e-02,\n",
       "                        1.8184e-02, 1.3823e-02, 6.6297e-02, 3.6076e-02, 1.2821e-02, 4.5849e-03,\n",
       "                        4.7222e-03, 2.3094e-02, 1.1838e-02, 2.6443e-02, 7.2021e-02, 1.6652e-02,\n",
       "                        1.2124e-03, 1.0971e-02, 1.0463e-02, 1.6561e-02, 6.0013e-03, 4.5750e-03,\n",
       "                        3.1643e-02, 1.1464e-02, 4.8454e-02, 2.9864e-02, 7.9325e-02, 2.2570e-02,\n",
       "                        9.6767e-02, 1.6637e-02, 1.5736e-02, 3.2699e-02]]),\n",
       "               'infer': {},\n",
       "               'scale': 1.0,\n",
       "               'mask': None,\n",
       "               'cond_indep_stack': (CondIndepStackFrame(name='P', dim=-1, size=2, counter=0),),\n",
       "               'done': True,\n",
       "               'stop': False,\n",
       "               'continuation': None}),\n",
       "             ('y_prob',\n",
       "              {'type': 'sample',\n",
       "               'name': 'y_prob',\n",
       "               'fn': Dirichlet(concentration: torch.Size([2, 50])),\n",
       "               'is_observed': False,\n",
       "               'args': (),\n",
       "               'kwargs': {},\n",
       "               'value': tensor([[4.0400e-02, 1.5082e-02, 1.6816e-02, 8.8672e-02, 2.3252e-03, 6.6850e-03,\n",
       "                        2.0509e-02, 2.2913e-02, 5.6558e-03, 1.2842e-02, 2.0339e-03, 5.2122e-03,\n",
       "                        1.4993e-02, 7.6029e-03, 1.4655e-03, 4.3712e-02, 7.6050e-05, 4.2308e-02,\n",
       "                        2.5756e-02, 1.9129e-02, 1.1160e-03, 4.1013e-03, 2.2057e-02, 1.4912e-02,\n",
       "                        4.4217e-02, 1.3932e-02, 2.6604e-02, 1.9081e-02, 2.2472e-02, 1.9678e-02,\n",
       "                        1.0152e-01, 1.5524e-03, 5.4826e-03, 3.3235e-02, 1.1477e-02, 1.0308e-02,\n",
       "                        3.5657e-02, 1.7435e-02, 1.1842e-02, 2.8441e-03, 6.7059e-03, 1.5972e-04,\n",
       "                        1.5642e-02, 4.9067e-02, 6.4521e-03, 5.9083e-02, 1.1129e-02, 2.4711e-02,\n",
       "                        1.3092e-02, 2.4615e-04],\n",
       "                       [4.8045e-02, 7.7796e-03, 6.8667e-02, 4.7236e-02, 5.3313e-03, 2.2925e-02,\n",
       "                        1.9902e-02, 3.2786e-02, 1.4164e-02, 2.0980e-02, 1.0659e-02, 6.9185e-02,\n",
       "                        1.7103e-03, 7.7615e-03, 2.6783e-02, 5.2040e-02, 8.7176e-03, 1.4710e-02,\n",
       "                        1.5900e-02, 2.4945e-02, 4.1448e-02, 2.4118e-02, 1.7449e-02, 1.0259e-02,\n",
       "                        9.2533e-03, 6.1729e-03, 3.5760e-03, 7.1128e-02, 2.4965e-02, 1.1950e-02,\n",
       "                        3.3181e-03, 8.5128e-04, 1.2116e-02, 1.6556e-04, 7.0689e-04, 3.9218e-03,\n",
       "                        7.5931e-03, 4.9153e-02, 7.7941e-03, 1.0349e-02, 2.3456e-02, 3.5768e-02,\n",
       "                        3.7981e-03, 1.9869e-02, 1.1305e-03, 1.3471e-02, 3.1115e-02, 1.9607e-02,\n",
       "                        8.5720e-03, 6.6978e-03]]),\n",
       "               'infer': {},\n",
       "               'scale': 1.0,\n",
       "               'mask': None,\n",
       "               'cond_indep_stack': (CondIndepStackFrame(name='P', dim=-1, size=2, counter=0),),\n",
       "               'done': True,\n",
       "               'stop': False,\n",
       "               'continuation': None}),\n",
       "             ('x',\n",
       "              {'type': 'sample',\n",
       "               'name': 'x',\n",
       "               'fn': Categorical(probs: torch.Size([2, 40])),\n",
       "               'is_observed': False,\n",
       "               'args': (),\n",
       "               'kwargs': {},\n",
       "               'value': tensor([ 2, 11]),\n",
       "               'infer': {},\n",
       "               'scale': 1.0,\n",
       "               'mask': None,\n",
       "               'cond_indep_stack': (CondIndepStackFrame(name='P', dim=-1, size=2, counter=0),),\n",
       "               'done': True,\n",
       "               'stop': False,\n",
       "               'continuation': None}),\n",
       "             ('y',\n",
       "              {'type': 'sample',\n",
       "               'name': 'y',\n",
       "               'fn': Categorical(probs: torch.Size([2, 50])),\n",
       "               'is_observed': False,\n",
       "               'args': (),\n",
       "               'kwargs': {},\n",
       "               'value': tensor([45, 46]),\n",
       "               'infer': {},\n",
       "               'scale': 1.0,\n",
       "               'mask': None,\n",
       "               'cond_indep_stack': (CondIndepStackFrame(name='P', dim=-1, size=2, counter=0),),\n",
       "               'done': True,\n",
       "               'stop': False,\n",
       "               'continuation': None}),\n",
       "             ('color_intensity',\n",
       "              {'type': 'sample',\n",
       "               'name': 'color_intensity',\n",
       "               'fn': Beta(),\n",
       "               'is_observed': False,\n",
       "               'args': (),\n",
       "               'kwargs': {},\n",
       "               'value': tensor(0.8411),\n",
       "               'infer': {},\n",
       "               'scale': 1.0,\n",
       "               'mask': None,\n",
       "               'cond_indep_stack': (),\n",
       "               'done': True,\n",
       "               'stop': False,\n",
       "               'continuation': None}),\n",
       "             ('obs',\n",
       "              {'type': 'sample',\n",
       "               'name': 'obs',\n",
       "               'fn': Normal(loc: torch.Size([40, 50]), scale: torch.Size([40, 50])),\n",
       "               'is_observed': False,\n",
       "               'args': (),\n",
       "               'kwargs': {},\n",
       "               'value': tensor([[0.9616, 1.0519, 0.9437,  ..., 1.0387, 1.0235, 0.9702],\n",
       "                       [1.0380, 1.0140, 0.9450,  ..., 0.9822, 1.0443, 1.0533],\n",
       "                       [0.9491, 0.9924, 1.0153,  ..., 0.8597, 0.7651, 0.8291],\n",
       "                       ...,\n",
       "                       [0.9883, 1.0653, 0.9538,  ..., 0.9842, 1.0423, 1.0404],\n",
       "                       [0.9784, 0.9796, 0.9623,  ..., 0.9081, 0.9309, 1.1730],\n",
       "                       [0.9094, 1.0216, 0.9995,  ..., 1.0218, 0.9741, 0.9925]]),\n",
       "               'infer': {},\n",
       "               'scale': 1.0,\n",
       "               'mask': None,\n",
       "               'cond_indep_stack': (),\n",
       "               'done': True,\n",
       "               'stop': False,\n",
       "               'continuation': None}),\n",
       "             ('_RETURN',\n",
       "              {'name': '_RETURN',\n",
       "               'type': 'return',\n",
       "               'value': tensor([[0.9616, 1.0519, 0.9437,  ..., 1.0387, 1.0235, 0.9702],\n",
       "                       [1.0380, 1.0140, 0.9450,  ..., 0.9822, 1.0443, 1.0533],\n",
       "                       [0.9491, 0.9924, 1.0153,  ..., 0.8597, 0.7651, 0.8291],\n",
       "                       ...,\n",
       "                       [0.9883, 1.0653, 0.9538,  ..., 0.9842, 1.0423, 1.0404],\n",
       "                       [0.9784, 0.9796, 0.9623,  ..., 0.9081, 0.9309, 1.1730],\n",
       "                       [0.9094, 1.0216, 0.9995,  ..., 1.0218, 0.9741, 0.9925]])})])"
      ]
     },
     "execution_count": 8,
     "metadata": {},
     "output_type": "execute_result"
    }
   ],
   "source": [
    "foo.nodes"
   ]
  },
  {
   "cell_type": "code",
   "execution_count": null,
   "metadata": {},
   "outputs": [],
   "source": []
  }
 ],
 "metadata": {
  "kernelspec": {
   "display_name": "Python 3",
   "language": "python",
   "name": "python3"
  },
  "language_info": {
   "codemirror_mode": {
    "name": "ipython",
    "version": 3
   },
   "file_extension": ".py",
   "mimetype": "text/x-python",
   "name": "python",
   "nbconvert_exporter": "python",
   "pygments_lexer": "ipython3",
   "version": "3.7.3"
  }
 },
 "nbformat": 4,
 "nbformat_minor": 2
}

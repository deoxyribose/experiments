{
 "cells": [
  {
   "cell_type": "markdown",
   "metadata": {},
   "source": [
    "### TO DO: add 3d elastic collisions between particles"
   ]
  },
  {
   "cell_type": "code",
   "execution_count": 5,
   "metadata": {},
   "outputs": [],
   "source": [
    "import numpy as np\n",
    "import pyro\n",
    "import torch\n",
    "\n",
    "from matplotlib import pyplot as plt\n",
    "from mpl_toolkits.mplot3d import Axes3D\n",
    "import matplotlib.animation\n",
    "%matplotlib qt"
   ]
  },
  {
   "cell_type": "code",
   "execution_count": 206,
   "metadata": {},
   "outputs": [],
   "source": [
    "from scipy.spatial.distance import pdist, squareform"
   ]
  },
  {
   "cell_type": "code",
   "execution_count": 198,
   "metadata": {
    "scrolled": true
   },
   "outputs": [],
   "source": [
    "n_timesteps = 20000\n",
    "n_particles = 5\n",
    "positions = np.empty((n_timesteps,n_particles,3))\n",
    "velocities = np.empty((n_timesteps,n_particles,3))\n",
    "\n",
    "positions[0] = np.random.randn(1,n_particles,3)*3\n",
    "velocities[0] = np.random.randn(n_particles,3)\n",
    "velocities[1] = velocities[0]\n",
    "positions[1] = velocities[1]+positions[0]\n",
    "rebound = np.ones_like(velocities[0])\n",
    "\n",
    "for t in range(1,n_timesteps):\n",
    "    velocities[t] = velocities[t-1]*rebound\n",
    "    positions[t] = velocities[t]+positions[t-1]\n",
    "    particle_pairs = list(itertools.combinations(np.arange(n_particles), 2))\n",
    "    particle_distances = pdist(positions[t])\n",
    "    particle_collisions = \n",
    "    outside_the_box = np.abs(positions[t]+ velocities[t-1]) >= np.ones(3)*10\n",
    "    rebound = np.ones_like(velocities[t])\n",
    "    rebound[outside_the_box] = -1"
   ]
  },
  {
   "cell_type": "code",
   "execution_count": 201,
   "metadata": {},
   "outputs": [
    {
     "data": {
      "text/plain": [
       "array([[ 7.57295709, -3.16512464,  6.00112969],\n",
       "       [-1.02202523, -0.26630375, -3.53059135],\n",
       "       [-6.21666165,  1.8067535 , -8.90380928],\n",
       "       [-4.15468403, -0.8626017 , -8.12035305],\n",
       "       [ 6.31860607,  0.05094974, -1.23867607]])"
      ]
     },
     "execution_count": 201,
     "metadata": {},
     "output_type": "execute_result"
    }
   ],
   "source": [
    "positions[200]"
   ]
  },
  {
   "cell_type": "code",
   "execution_count": 211,
   "metadata": {},
   "outputs": [],
   "source": [
    "import itertools"
   ]
  },
  {
   "cell_type": "code",
   "execution_count": 215,
   "metadata": {},
   "outputs": [],
   "source": [
    "particle_pairs = list(itertools.combinations(np.arange(n_particles), 2))"
   ]
  },
  {
   "cell_type": "code",
   "execution_count": 216,
   "metadata": {},
   "outputs": [],
   "source": [
    "particle_distances = pdist(positions[200])"
   ]
  },
  {
   "cell_type": "code",
   "execution_count": 217,
   "metadata": {},
   "outputs": [
    {
     "data": {
      "text/plain": [
       "[(0, 1),\n",
       " (0, 2),\n",
       " (0, 3),\n",
       " (0, 4),\n",
       " (1, 2),\n",
       " (1, 3),\n",
       " (1, 4),\n",
       " (2, 3),\n",
       " (2, 4),\n",
       " (3, 4)]"
      ]
     },
     "execution_count": 217,
     "metadata": {},
     "output_type": "execute_result"
    }
   ],
   "source": [
    "particle_pairs"
   ]
  },
  {
   "cell_type": "code",
   "execution_count": 218,
   "metadata": {},
   "outputs": [
    {
     "data": {
      "text/plain": [
       "array([13.15790977, 20.90527117, 18.50014737,  8.02068067,  7.75585487,\n",
       "        5.58883126,  7.69664818,  3.46280415, 14.79763665, 12.56510484])"
      ]
     },
     "execution_count": 218,
     "metadata": {},
     "output_type": "execute_result"
    }
   ],
   "source": [
    "particle_distances"
   ]
  },
  {
   "cell_type": "code",
   "execution_count": 226,
   "metadata": {},
   "outputs": [],
   "source": [
    "particle_collisions = [list(pair) for (i,pair) in enumerate(particle_pairs) if particle_distances[i] < 10]"
   ]
  },
  {
   "cell_type": "code",
   "execution_count": 227,
   "metadata": {},
   "outputs": [
    {
     "data": {
      "text/plain": [
       "[[0, 4], [1, 2], [1, 3], [1, 4], [2, 3]]"
      ]
     },
     "execution_count": 227,
     "metadata": {},
     "output_type": "execute_result"
    }
   ],
   "source": [
    "particle_collisions"
   ]
  },
  {
   "cell_type": "code",
   "execution_count": 228,
   "metadata": {},
   "outputs": [
    {
     "data": {
      "text/plain": [
       "array([[ 1.08684486,  0.67302629, -0.04265615],\n",
       "       [ 0.5572736 , -0.87003684,  0.36672879],\n",
       "       [ 0.05033073,  0.03372524,  0.51655302],\n",
       "       [-0.4074473 ,  1.64692067, -0.9667698 ],\n",
       "       [-0.7096704 ,  0.61301884, -0.75842231]])"
      ]
     },
     "execution_count": 228,
     "metadata": {},
     "output_type": "execute_result"
    }
   ],
   "source": [
    "velocities[200]"
   ]
  },
  {
   "cell_type": "code",
   "execution_count": 203,
   "metadata": {},
   "outputs": [
    {
     "data": {
      "text/plain": [
       "array([10.16765709,  3.68517686, 11.00859028,  9.16218394,  6.43907578])"
      ]
     },
     "execution_count": 203,
     "metadata": {},
     "output_type": "execute_result"
    }
   ],
   "source": [
    "np.linalg.norm(positions[200],axis=-1)"
   ]
  },
  {
   "cell_type": "code",
   "execution_count": 229,
   "metadata": {},
   "outputs": [],
   "source": [
    "def update_graph(num):\n",
    "    data=positions[num].T\n",
    "    graph._offsets3d = (data[0],data[1],data[2])\n",
    "    title.set_text('3D Test, time={}'.format(num))\n",
    "\n",
    "\n",
    "fig = plt.figure()\n",
    "ax = fig.add_subplot(111, projection='3d')\n",
    "#title = ax.set_title('3D Test')\n",
    "ax.set_xlim(-10,10)\n",
    "ax.set_ylim(-10,10)\n",
    "ax.set_zlim(-10,10)\n",
    "\n",
    "ax.grid(False)\n",
    "\n",
    "ax.set_xticks([])\n",
    "ax.set_yticks([])\n",
    "ax.set_zticks([])\n",
    "\n",
    "data=particles[0]\n",
    "graph = ax.scatter(*data.T, s=20)\n",
    "\n",
    "ani = matplotlib.animation.FuncAnimation(fig, update_graph, n_timesteps, \n",
    "                               interval=50, blit=False)"
   ]
  },
  {
   "cell_type": "code",
   "execution_count": null,
   "metadata": {},
   "outputs": [],
   "source": []
  }
 ],
 "metadata": {
  "kernelspec": {
   "display_name": "Python 3",
   "language": "python",
   "name": "python3"
  },
  "language_info": {
   "codemirror_mode": {
    "name": "ipython",
    "version": 3
   },
   "file_extension": ".py",
   "mimetype": "text/x-python",
   "name": "python",
   "nbconvert_exporter": "python",
   "pygments_lexer": "ipython3",
   "version": "3.7.3"
  }
 },
 "nbformat": 4,
 "nbformat_minor": 2
}

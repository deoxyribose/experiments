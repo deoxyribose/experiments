{
 "cells": [
  {
   "cell_type": "code",
   "execution_count": 46,
   "metadata": {},
   "outputs": [],
   "source": [
    "import numpy as np\n",
    "import torch\n",
    "import pyro\n",
    "from torch.distributions import constraints\n",
    "from pyro import distributions as dist\n",
    "import matplotlib.pylab as plt\n",
    "import openml\n",
    "import pandas as pd"
   ]
  },
  {
   "cell_type": "code",
   "execution_count": null,
   "metadata": {},
   "outputs": [],
   "source": [
    "# infer whether a distribution is continuous or discrete"
   ]
  },
  {
   "cell_type": "code",
   "execution_count": 7,
   "metadata": {},
   "outputs": [],
   "source": [
    "N = 1000"
   ]
  },
  {
   "cell_type": "code",
   "execution_count": 18,
   "metadata": {},
   "outputs": [],
   "source": [
    "standard_normal = dist.Normal(0,1)\n",
    "categorical = dist.Categorical(probs = torch.tensor([0.2, 0.05, 0.04, 0.06, 0.1, 0.4]))"
   ]
  },
  {
   "cell_type": "code",
   "execution_count": 19,
   "metadata": {},
   "outputs": [],
   "source": [
    "cont_sample = standard_normal.sample((N,))\n",
    "cat_sample = categorical.sample((N,))"
   ]
  },
  {
   "cell_type": "code",
   "execution_count": 20,
   "metadata": {},
   "outputs": [
    {
     "data": {
      "image/png": "[encoded data removed]",
      "text/plain": [
       "<Figure size 432x288 with 1 Axes>"
      ]
     },
     "metadata": {
      "needs_background": "light"
     },
     "output_type": "display_data"
    },
    {
     "data": {
      "image/png": "[encoded data removed]",
      "text/plain": [
       "<Figure size 432x288 with 1 Axes>"
      ]
     },
     "metadata": {
      "needs_background": "light"
     },
     "output_type": "display_data"
    }
   ],
   "source": [
    "plt.hist(cont_sample, 'auto');\n",
    "plt.figure()\n",
    "plt.hist(cat_sample, 'auto');"
   ]
  },
  {
   "cell_type": "code",
   "execution_count": 25,
   "metadata": {},
   "outputs": [],
   "source": [
    "def n_unique_obs(sample):\n",
    "    return len(np.unique(sample))"
   ]
  },
  {
   "cell_type": "code",
   "execution_count": 26,
   "metadata": {},
   "outputs": [],
   "source": [
    "def prop_unique_obs(sample):\n",
    "    return n_unique_obs(sample)/len(sample)"
   ]
  },
  {
   "cell_type": "code",
   "execution_count": 27,
   "metadata": {},
   "outputs": [
    {
     "data": {
      "text/plain": [
       "1.0"
      ]
     },
     "execution_count": 27,
     "metadata": {},
     "output_type": "execute_result"
    }
   ],
   "source": [
    "prop_unique_obs(cont_sample)"
   ]
  },
  {
   "cell_type": "code",
   "execution_count": 28,
   "metadata": {},
   "outputs": [
    {
     "data": {
      "text/plain": [
       "0.006"
      ]
     },
     "execution_count": 28,
     "metadata": {},
     "output_type": "execute_result"
    }
   ],
   "source": [
    "prop_unique_obs(cat_sample)"
   ]
  },
  {
   "cell_type": "code",
   "execution_count": 31,
   "metadata": {},
   "outputs": [],
   "source": [
    "creditg = openml.datasets.get_dataset(31)"
   ]
  },
  {
   "cell_type": "code",
   "execution_count": 32,
   "metadata": {},
   "outputs": [
    {
     "data": {
      "text/plain": [
       "OpenML Dataset\n",
       "==============\n",
       "Name..........: credit-g\n",
       "Version.......: 1\n",
       "Format........: ARFF\n",
       "Upload Date...: 2014-04-06 23:21:47\n",
       "Licence.......: Public\n",
       "Download URL..: https://www.openml.org/data/v1/download/31/credit-g.arff\n",
       "OpenML URL....: https://www.openml.org/d/31\n",
       "# of features.: 21\n",
       "# of instances: 1000"
      ]
     },
     "execution_count": 32,
     "metadata": {},
     "output_type": "execute_result"
    }
   ],
   "source": [
    "creditg"
   ]
  },
  {
   "cell_type": "code",
   "execution_count": 33,
   "metadata": {},
   "outputs": [
    {
     "data": {
      "text/plain": [
       "{0: [0 - checking_status (nominal)],\n",
       " 1: [1 - duration (numeric)],\n",
       " 2: [2 - credit_history (nominal)],\n",
       " 3: [3 - purpose (nominal)],\n",
       " 4: [4 - credit_amount (numeric)],\n",
       " 5: [5 - savings_status (nominal)],\n",
       " 6: [6 - employment (nominal)],\n",
       " 7: [7 - installment_commitment (numeric)],\n",
       " 8: [8 - personal_status (nominal)],\n",
       " 9: [9 - other_parties (nominal)],\n",
       " 10: [10 - residence_since (numeric)],\n",
       " 11: [11 - property_magnitude (nominal)],\n",
       " 12: [12 - age (numeric)],\n",
       " 13: [13 - other_payment_plans (nominal)],\n",
       " 14: [14 - housing (nominal)],\n",
       " 15: [15 - existing_credits (numeric)],\n",
       " 16: [16 - job (nominal)],\n",
       " 17: [17 - num_dependents (numeric)],\n",
       " 18: [18 - own_telephone (nominal)],\n",
       " 19: [19 - foreign_worker (nominal)],\n",
       " 20: [20 - class (nominal)]}"
      ]
     },
     "execution_count": 33,
     "metadata": {},
     "output_type": "execute_result"
    }
   ],
   "source": [
    "creditg.features"
   ]
  },
  {
   "cell_type": "code",
   "execution_count": 34,
   "metadata": {},
   "outputs": [],
   "source": [
    "data = creditg.get_data()"
   ]
  },
  {
   "cell_type": "code",
   "execution_count": 59,
   "metadata": {},
   "outputs": [
    {
     "name": "stdout",
     "output_type": "stream",
     "text": [
      "0.004\n",
      "0.033\n",
      "0.005\n",
      "0.01\n",
      "0.921\n",
      "0.005\n",
      "0.005\n",
      "0.004\n",
      "0.004\n",
      "0.003\n",
      "0.004\n",
      "0.004\n",
      "0.053\n",
      "0.003\n",
      "0.003\n",
      "0.004\n",
      "0.004\n",
      "0.002\n",
      "0.002\n",
      "0.002\n",
      "0.002\n"
     ]
    }
   ],
   "source": [
    "for feature in data[0]:\n",
    "    print(prop_unique_obs(data[0][feature]))"
   ]
  },
  {
   "cell_type": "code",
   "execution_count": 61,
   "metadata": {},
   "outputs": [
    {
     "data": {
      "text/plain": [
       "0      2.0\n",
       "1      1.0\n",
       "2      1.0\n",
       "3      1.0\n",
       "4      2.0\n",
       "      ... \n",
       "995    1.0\n",
       "996    1.0\n",
       "997    1.0\n",
       "998    1.0\n",
       "999    1.0\n",
       "Name: existing_credits, Length: 1000, dtype: float64"
      ]
     },
     "execution_count": 61,
     "metadata": {},
     "output_type": "execute_result"
    }
   ],
   "source": [
    "data[0]['existing_credits']"
   ]
  },
  {
   "cell_type": "code",
   "execution_count": 45,
   "metadata": {},
   "outputs": [
    {
     "data": {
      "text/plain": [
       "0               <0\n",
       "1         0<=X<200\n",
       "2      no checking\n",
       "3               <0\n",
       "4               <0\n",
       "          ...     \n",
       "995    no checking\n",
       "996             <0\n",
       "997    no checking\n",
       "998             <0\n",
       "999       0<=X<200\n",
       "Name: checking_status, Length: 1000, dtype: category\n",
       "Categories (4, object): [<0 < 0<=X<200 < >=200 < no checking]"
      ]
     },
     "execution_count": 45,
     "metadata": {},
     "output_type": "execute_result"
    }
   ],
   "source": [
    "data[0]['checking_status']"
   ]
  },
  {
   "cell_type": "code",
   "execution_count": 48,
   "metadata": {},
   "outputs": [
    {
     "data": {
      "text/plain": [
       "0      0\n",
       "1      1\n",
       "2      3\n",
       "3      0\n",
       "4      0\n",
       "      ..\n",
       "995    3\n",
       "996    0\n",
       "997    3\n",
       "998    0\n",
       "999    1\n",
       "Length: 1000, dtype: int8"
      ]
     },
     "execution_count": 48,
     "metadata": {},
     "output_type": "execute_result"
    }
   ],
   "source": [
    "data[0]['checking_status'].cat.codes"
   ]
  },
  {
   "cell_type": "code",
   "execution_count": 52,
   "metadata": {},
   "outputs": [
    {
     "data": {
      "text/plain": [
       "0       6.0\n",
       "1      48.0\n",
       "2      12.0\n",
       "3      42.0\n",
       "4      24.0\n",
       "       ... \n",
       "995    12.0\n",
       "996    30.0\n",
       "997    12.0\n",
       "998    45.0\n",
       "999    45.0\n",
       "Name: duration, Length: 1000, dtype: float64"
      ]
     },
     "execution_count": 52,
     "metadata": {},
     "output_type": "execute_result"
    }
   ],
   "source": [
    "data[0]['duration']"
   ]
  },
  {
   "cell_type": "code",
   "execution_count": 51,
   "metadata": {},
   "outputs": [
    {
     "data": {
      "text/plain": [
       "0.033"
      ]
     },
     "execution_count": 51,
     "metadata": {},
     "output_type": "execute_result"
    }
   ],
   "source": [
    "prop_unique_obs(data[0]['duration'])"
   ]
  },
  {
   "cell_type": "code",
   "execution_count": 50,
   "metadata": {},
   "outputs": [
    {
     "data": {
      "text/plain": [
       "(array([ 82.,  12.,  86., 183.,  68., 115.,   8.,  32., 184.,  14.,   3.,\n",
       "         40.,   3.,  83.,   5.,   1.,  11.,   5.,  49.,   0.,   0.,   2.,\n",
       "          0.,  13.,   0.,   0.,   0.,   0.,   1.]),\n",
       " array([ 4.        ,  6.34482759,  8.68965517, 11.03448276, 13.37931034,\n",
       "        15.72413793, 18.06896552, 20.4137931 , 22.75862069, 25.10344828,\n",
       "        27.44827586, 29.79310345, 32.13793103, 34.48275862, 36.82758621,\n",
       "        39.17241379, 41.51724138, 43.86206897, 46.20689655, 48.55172414,\n",
       "        50.89655172, 53.24137931, 55.5862069 , 57.93103448, 60.27586207,\n",
       "        62.62068966, 64.96551724, 67.31034483, 69.65517241, 72.        ]),\n",
       " <a list of 29 Patch objects>)"
      ]
     },
     "execution_count": 50,
     "metadata": {},
     "output_type": "execute_result"
    },
    {
     "data": {
      "image/png": "[encoded data removed]",
      "text/plain": [
       "<Figure size 432x288 with 1 Axes>"
      ]
     },
     "metadata": {
      "needs_background": "light"
     },
     "output_type": "display_data"
    }
   ],
   "source": [
    "plt.hist(data[0]['duration'],'auto')"
   ]
  },
  {
   "cell_type": "code",
   "execution_count": null,
   "metadata": {},
   "outputs": [],
   "source": []
  }
 ],
 "metadata": {
  "kernelspec": {
   "display_name": "Python 3",
   "language": "python",
   "name": "python3"
  },
  "language_info": {
   "codemirror_mode": {
    "name": "ipython",
    "version": 3
   },
   "file_extension": ".py",
   "mimetype": "text/x-python",
   "name": "python",
   "nbconvert_exporter": "python",
   "pygments_lexer": "ipython3",
   "version": "3.7.3"
  }
 },
 "nbformat": 4,
 "nbformat_minor": 2
}

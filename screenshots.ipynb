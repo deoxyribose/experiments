{
 "cells": [
  {
   "cell_type": "code",
   "execution_count": 1,
   "metadata": {},
   "outputs": [],
   "source": [
    "import numpy as np\n",
    "import pyautogui\n",
    "import imutils\n",
    "import cv2"
   ]
  },
  {
   "cell_type": "code",
   "execution_count": 2,
   "metadata": {},
   "outputs": [
    {
     "data": {
      "text/plain": [
       "True"
      ]
     },
     "execution_count": 2,
     "metadata": {},
     "output_type": "execute_result"
    }
   ],
   "source": [
    "image = pyautogui.screenshot()\n",
    "image = cv2.cvtColor(np.array(image), cv2.COLOR_RGB2BGR)\n",
    "cv2.imwrite(\"in_memory_to_disk.png\", image)"
   ]
  },
  {
   "cell_type": "code",
   "execution_count": 3,
   "metadata": {},
   "outputs": [
    {
     "data": {
      "text/plain": [
       "(1080, 1920, 3)"
      ]
     },
     "execution_count": 3,
     "metadata": {},
     "output_type": "execute_result"
    }
   ],
   "source": [
    "image.shape"
   ]
  },
  {
   "cell_type": "code",
   "execution_count": 4,
   "metadata": {},
   "outputs": [
    {
     "data": {
      "text/plain": [
       "array([[[ 32,  34,  37],\n",
       "        [ 32,  34,  37],\n",
       "        [ 32,  34,  37],\n",
       "        ...,\n",
       "        [ 32,  34,  37],\n",
       "        [ 32,  34,  37],\n",
       "        [ 32,  34,  37]],\n",
       "\n",
       "       [[ 32,  34,  37],\n",
       "        [ 32,  34,  37],\n",
       "        [ 32,  34,  37],\n",
       "        ...,\n",
       "        [ 32,  34,  37],\n",
       "        [ 32,  34,  37],\n",
       "        [ 32,  34,  37]],\n",
       "\n",
       "       [[ 32,  34,  37],\n",
       "        [ 32,  34,  37],\n",
       "        [ 32,  34,  37],\n",
       "        ...,\n",
       "        [ 32,  34,  37],\n",
       "        [ 32,  34,  37],\n",
       "        [ 32,  34,  37]],\n",
       "\n",
       "       ...,\n",
       "\n",
       "       [[238, 238, 238],\n",
       "        [238, 238, 238],\n",
       "        [238, 238, 238],\n",
       "        ...,\n",
       "        [238, 238, 238],\n",
       "        [238, 238, 238],\n",
       "        [238, 238, 238]],\n",
       "\n",
       "       [[238, 238, 238],\n",
       "        [238, 238, 238],\n",
       "        [238, 238, 238],\n",
       "        ...,\n",
       "        [238, 238, 238],\n",
       "        [238, 238, 238],\n",
       "        [238, 238, 238]],\n",
       "\n",
       "       [[238, 238, 238],\n",
       "        [238, 238, 238],\n",
       "        [238, 238, 238],\n",
       "        ...,\n",
       "        [238, 238, 238],\n",
       "        [238, 238, 238],\n",
       "        [238, 238, 238]]], dtype=uint8)"
      ]
     },
     "execution_count": 4,
     "metadata": {},
     "output_type": "execute_result"
    }
   ],
   "source": [
    "image"
   ]
  },
  {
   "cell_type": "code",
   "execution_count": null,
   "metadata": {},
   "outputs": [],
   "source": []
  }
 ],
 "metadata": {
  "kernelspec": {
   "display_name": "Python 3",
   "language": "python",
   "name": "python3"
  },
  "language_info": {
   "codemirror_mode": {
    "name": "ipython",
    "version": 3
   },
   "file_extension": ".py",
   "mimetype": "text/x-python",
   "name": "python",
   "nbconvert_exporter": "python",
   "pygments_lexer": "ipython3",
   "version": "3.7.3"
  }
 },
 "nbformat": 4,
 "nbformat_minor": 2
}

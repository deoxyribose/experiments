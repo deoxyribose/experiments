{
 "cells": [
  {
   "cell_type": "code",
   "execution_count": 1,
   "metadata": {},
   "outputs": [],
   "source": [
    "import networkx as nx\n",
    "import pyro.distributions as dist\n",
    "import matplotlib.pylab as plt\n",
    "import numpy as np\n",
    "import sys\n",
    "sys.path.append(\"/home/folzd/phd/compositions_mixtures_factors\")\n",
    "from model_operators import *\n",
    "from utils import *\n",
    "from code_generation import *\n",
    "from graph_grammar import *\n",
    "from models_and_guides import *\n",
    "from inference import *"
   ]
  },
  {
   "cell_type": "code",
   "execution_count": 2,
   "metadata": {},
   "outputs": [],
   "source": [
    "%load_ext autoreload\n",
    "\n",
    "%autoreload 2"
   ]
  },
  {
   "cell_type": "code",
   "execution_count": 3,
   "metadata": {},
   "outputs": [],
   "source": [
    "factor = nx.DiGraph()"
   ]
  },
  {
   "cell_type": "code",
   "execution_count": 4,
   "metadata": {},
   "outputs": [],
   "source": [
    "nodes = [\n",
    "    #('z_loc',{'type':'const', 'value':0.}),\n",
    "    #('z_scale',{'type':'const', 'value':1.}),\n",
    "    ('z_loc',{'type':'function', 'function':torch.zeros, 'args':(Name(id='K'),)}),\n",
    "    ('z_scale',{'type':'function', 'function':torch.ones, 'args':(Name(id='K'),)}),\n",
    "    ('z',{'distribution':dist.Normal,'type':'latent','event_dims':1}),\n",
    "    #('z_T',{'type':'deterministic', 'function':torch.transpose, 'args':(Num(0),Num(1))}),\n",
    "    #('z_T',{'type':'function', 'function':torch.transpose, 'args':(Num(0),Num(1))}),\n",
    "    ('cov_diag_loc',{'type':'param','shape':'D'}),\n",
    "    ('cov_diag_scale',{'type':'param','shape':'D','constraint':'positive'}),\n",
    "#    ('cov_factor_loc',{'type':'param','shape':'KD'}),\n",
    "#    ('cov_factor_scale',{'type':'param','shape':'KD','constraint':'positive'}),\n",
    "    ('cov_factor_loc',{'type':'param','shape':'DK'}),\n",
    "    ('cov_factor_scale',{'type':'param','shape':'DK','constraint':'positive'}),\n",
    "    ('cov_factor',{'distribution':dist.Normal,'type':'latent','event_dims':2}),\n",
    "    #('Wz',{'type':'deterministic', 'function':torch.matmul}),\n",
    "    ('Wz',{'type':'function', 'function':torch.matmul, 'args':('p','t')}),\n",
    "    ('X',{'distribution':dist.MultivariateNormal,'type':'obs'}),\n",
    "    ('cov_diag',{'distribution':dist.LogNormal,'type':'latent','event_dims':1}),\n",
    "    #('diag',{'type':'deterministic', 'function':torch.diag_embed}),\n",
    "    ('diag',{'type':'function', 'function':torch.diag_embed}),\n",
    "]"
   ]
  },
  {
   "cell_type": "code",
   "execution_count": 29,
   "metadata": {},
   "outputs": [
    {
     "name": "stdout",
     "output_type": "stream",
     "text": [
      "Module(body=[Expr(value=Num(n=0.001))])\n"
     ]
    }
   ],
   "source": [
    "print(astor.dump_tree(parse(\"\"\"1e-3\"\"\")))"
   ]
  },
  {
   "cell_type": "code",
   "execution_count": 5,
   "metadata": {},
   "outputs": [],
   "source": [
    "edges = [\n",
    "    ('cov_diag_loc','cov_diag',{'type':'param','param':'loc'}),\n",
    "    ('cov_diag_scale','cov_diag',{'type':'param','param':'scale'}),\n",
    "    ('cov_factor_loc','cov_factor',{'type':'param','param':'loc'}),\n",
    "    ('cov_factor_scale','cov_factor',{'type':'param','param':'scale'}),\n",
    "    ('z_loc','z',{'type':'param','param':'loc'}),\n",
    "    ('z_scale','z',{'type':'param','param':'scale'}),    \n",
    "    #('z','Wz',{'type':'arg', 'transpose':True}),\n",
    "#    ('z','z_T',{'type':'arg'}),\n",
    "#    ('z_T','Wz',{'type':'arg'}),\n",
    "    ('z','Wz',{'type':'arg'}),\n",
    "    ('cov_factor','Wz',{'type':'arg'}),\n",
    "    ('Wz','X',{'type':'param','param':'loc'}),\n",
    "    #('cov_diag','X',{'type':'param','param':'scale'})\n",
    "    ('cov_diag','diag',{'type':'arg'}),\n",
    "    ('diag','X',{'type':'param','param':'covariance_matrix'})\n",
    "]"
   ]
  },
  {
   "cell_type": "code",
   "execution_count": 6,
   "metadata": {},
   "outputs": [],
   "source": [
    "plate_attr = {\n",
    "#    'cov_factor':{'plates':['D','K']},\n",
    "#    'cov_diag':{'plates':['D']},\n",
    "    'X':{'plates':['N']},\n",
    "    'Wz':{'plates':['N']},\n",
    "    #'z':{'plates':['N','K']},\n",
    "    'z':{'plates':['N']},\n",
    "    #'z_T':{'plates':['N']}\n",
    "}"
   ]
  },
  {
   "cell_type": "code",
   "execution_count": 7,
   "metadata": {},
   "outputs": [],
   "source": [
    "factor.add_nodes_from(nodes)\n",
    "factor.add_edges_from(edges)\n",
    "nx.set_node_attributes(factor, plate_attr)"
   ]
  },
  {
   "cell_type": "markdown",
   "metadata": {},
   "source": [
    "W: D, K\n",
    "\n",
    "z: K, N\n",
    "\n",
    "Sigma: D\n",
    "\n",
    "Wz: N\n",
    "\n",
    "X: N"
   ]
  },
  {
   "cell_type": "code",
   "execution_count": 8,
   "metadata": {},
   "outputs": [
    {
     "name": "stderr",
     "output_type": "stream",
     "text": [
      "/home/folzd/anaconda3/lib/python3.7/site-packages/networkx/drawing/nx_pylab.py:579: MatplotlibDeprecationWarning: \n",
      "The iterable function was deprecated in Matplotlib 3.1 and will be removed in 3.3. Use np.iterable instead.\n",
      "  if not cb.iterable(width):\n",
      "/home/folzd/anaconda3/lib/python3.7/site-packages/networkx/drawing/nx_pylab.py:676: MatplotlibDeprecationWarning: \n",
      "The iterable function was deprecated in Matplotlib 3.1 and will be removed in 3.3. Use np.iterable instead.\n",
      "  if cb.iterable(node_size):  # many node sizes\n"
     ]
    },
    {
     "data": {
      "image/png": "[encoded data removed]",
      "text/plain": [
       "<Figure size 432x288 with 1 Axes>"
      ]
     },
     "metadata": {},
     "output_type": "display_data"
    }
   ],
   "source": [
    "nx.draw(factor, with_labels=True)"
   ]
  },
  {
   "cell_type": "code",
   "execution_count": 9,
   "metadata": {},
   "outputs": [],
   "source": [
    "marg_factor = marginalize_factor(factor)"
   ]
  },
  {
   "cell_type": "code",
   "execution_count": 10,
   "metadata": {
    "scrolled": false
   },
   "outputs": [
    {
     "data": {
      "image/png": "[encoded data removed]",
      "text/plain": [
       "<Figure size 432x288 with 1 Axes>"
      ]
     },
     "metadata": {},
     "output_type": "display_data"
    }
   ],
   "source": [
    "nx.draw(marg_factor, with_labels=True)"
   ]
  },
  {
   "cell_type": "code",
   "execution_count": 11,
   "metadata": {},
   "outputs": [],
   "source": [
    "mixture = mixture_from_marg_factor(marg_factor)"
   ]
  },
  {
   "cell_type": "code",
   "execution_count": 12,
   "metadata": {},
   "outputs": [
    {
     "data": {
      "image/png": "[encoded data removed]",
      "text/plain": [
       "<Figure size 432x288 with 1 Axes>"
      ]
     },
     "metadata": {},
     "output_type": "display_data"
    }
   ],
   "source": [
    "nx.draw(mixture, with_labels=True)"
   ]
  },
  {
   "cell_type": "code",
   "execution_count": 13,
   "metadata": {},
   "outputs": [
    {
     "data": {
      "text/plain": [
       "{'cov_diag_loc': ['C'],\n",
       " 'cov_diag_scale': ['C'],\n",
       " 'cov_factor_loc': ['C'],\n",
       " 'cov_factor_scale': ['C'],\n",
       " 'cov_factor': ['C'],\n",
       " 'X': ['N'],\n",
       " 'cov_diag': ['C'],\n",
       " 'loc': ['C'],\n",
       " 'assignment': ['N'],\n",
       " 'cov_factor_idx': ['N'],\n",
       " 'cov_diag_idx': ['N'],\n",
       " 'loc_idx': ['N']}"
      ]
     },
     "execution_count": 13,
     "metadata": {},
     "output_type": "execute_result"
    }
   ],
   "source": [
    "nx.get_node_attributes(mixture, 'plates')"
   ]
  },
  {
   "cell_type": "code",
   "execution_count": 14,
   "metadata": {},
   "outputs": [
    {
     "data": {
      "text/plain": [
       "{'cov_diag_loc': 'CD',\n",
       " 'cov_diag_scale': 'CD',\n",
       " 'cov_factor_loc': 'CDK',\n",
       " 'cov_factor_scale': 'CDK',\n",
       " 'mixing_proportions_concentration': 'C',\n",
       " 'loc_loc': 'CD',\n",
       " 'loc_scale': 'CD'}"
      ]
     },
     "execution_count": 14,
     "metadata": {},
     "output_type": "execute_result"
    }
   ],
   "source": [
    "nx.get_node_attributes(mixture, 'shape')"
   ]
  },
  {
   "cell_type": "code",
   "execution_count": 15,
   "metadata": {
    "scrolled": false
   },
   "outputs": [],
   "source": [
    "#generate_Model_class(marg_factor)\n",
    "generate_Model_class(mixture)"
   ]
  },
  {
   "cell_type": "code",
   "execution_count": 30,
   "metadata": {},
   "outputs": [],
   "source": [
    "from model import DAGModel"
   ]
  },
  {
   "cell_type": "code",
   "execution_count": 31,
   "metadata": {},
   "outputs": [],
   "source": [
    "pyro.clear_param_store()\n",
    "N = 1000\n",
    "D = 2\n",
    "K = 4\n",
    "C = 5\n",
    "dagmodel = DAGModel(torch.zeros(N,D),K,C,N,'id')\n",
    "tmp = dagmodel.model(torch.zeros(N,D))"
   ]
  },
  {
   "cell_type": "code",
   "execution_count": 32,
   "metadata": {},
   "outputs": [
    {
     "data": {
      "text/plain": [
       "{'loc_scale_init_id': ((5, 2), GreaterThan(lower_bound=0.0)),\n",
       " 'loc_prior_scale_init_id': ((5, 2), GreaterThan(lower_bound=0.0)),\n",
       " 'loc_loc_init_id': ((5, 2), Real()),\n",
       " 'loc_prior_loc_init_id': ((5, 2), Real()),\n",
       " 'mixing_proportions_concentration_init_id': ((5,),\n",
       "  GreaterThan(lower_bound=0.0)),\n",
       " 'mixing_proportions_prior_concentration_init_id': ((5,),\n",
       "  GreaterThan(lower_bound=0.0)),\n",
       " 'cov_factor_scale_init_id': ((5, 2, 4), GreaterThan(lower_bound=0.0)),\n",
       " 'cov_factor_prior_scale_init_id': ((5, 2, 4), GreaterThan(lower_bound=0.0)),\n",
       " 'cov_factor_loc_init_id': ((5, 2, 4), Real()),\n",
       " 'cov_factor_prior_loc_init_id': ((5, 2, 4), Real()),\n",
       " 'cov_diag_scale_init_id': ((5, 2), GreaterThan(lower_bound=0.0)),\n",
       " 'cov_diag_prior_scale_init_id': ((5, 2), GreaterThan(lower_bound=0.0)),\n",
       " 'cov_diag_loc_init_id': ((5, 2), Real()),\n",
       " 'cov_diag_prior_loc_init_id': ((5, 2), Real())}"
      ]
     },
     "execution_count": 32,
     "metadata": {},
     "output_type": "execute_result"
    }
   ],
   "source": [
    "dagmodel.param_shapes_and_support"
   ]
  },
  {
   "cell_type": "code",
   "execution_count": 33,
   "metadata": {},
   "outputs": [],
   "source": [
    "dgp = dagmodel.unconditioned_model\n",
    "trace = pyro.poutine.trace(dgp).get_trace(torch.empty(N,D))\n",
    "true_variables = dict([(name,trace.nodes[name][\"value\"]) for name in trace.stochastic_nodes if len(name)>1])\n",
    "\n",
    "new_dgp = pyro.poutine.condition(dgp, data={'loc_id':true_variables['loc_id']*20})\n",
    "trace = pyro.poutine.trace(new_dgp).get_trace(torch.empty(N,D))\n",
    "\n",
    "true_variables = dict([(name,trace.nodes[name][\"value\"]) for name in trace.stochastic_nodes if len(name)>1])\n",
    "X = true_variables['obs'].detach()\n",
    "Xz = torch.cat([X,true_variables['assignment_id'].detach().float().unsqueeze(-1)],dim=-1)\n",
    "Xzdata, Xztest_data = train_test_split(Xz)\n",
    "data, train_assign = Xzdata[:,:-1],Xzdata[:,-1]\n",
    "test_data, test_assign = Xztest_data[:,:-1],Xztest_data[:,-1]"
   ]
  },
  {
   "cell_type": "code",
   "execution_count": 34,
   "metadata": {},
   "outputs": [
    {
     "data": {
      "text/plain": [
       "torch.Size([1000, 2])"
      ]
     },
     "execution_count": 34,
     "metadata": {},
     "output_type": "execute_result"
    }
   ],
   "source": [
    "X.shape"
   ]
  },
  {
   "cell_type": "code",
   "execution_count": 35,
   "metadata": {
    "scrolled": false
   },
   "outputs": [
    {
     "data": {
      "text/plain": [
       "<matplotlib.collections.PathCollection at 0x7fe2f179d5f8>"
      ]
     },
     "execution_count": 35,
     "metadata": {},
     "output_type": "execute_result"
    },
    {
     "data": {
      "image/png": "[encoded data removed]",
      "text/plain": [
       "<Figure size 432x288 with 1 Axes>"
      ]
     },
     "metadata": {
      "needs_background": "light"
     },
     "output_type": "display_data"
    }
   ],
   "source": [
    "rand_idx = np.random.choice(D,2, replace=False)\n",
    "\n",
    "rand_idx\n",
    "\n",
    "plt.scatter(*data[:,rand_idx].T,c=train_assign.squeeze())\n",
    "#plt.scatter(*foo['obs'][:,0,0,rand_idx].squeeze().T.detach())"
   ]
  },
  {
   "cell_type": "code",
   "execution_count": 36,
   "metadata": {},
   "outputs": [],
   "source": [
    "config = dict(\n",
    "        n_iter = 4000,\n",
    "        learning_rate = 0.01, \n",
    "        beta1 = 0.9,\n",
    "        beta2 = 0.999,\n",
    "        learning_rate_decay = 1., # no decay by default\n",
    "        batch_size = 32, \n",
    "        n_elbo_particles = 1, \n",
    "        n_posterior_samples = 1024,\n",
    "        window = 500,\n",
    "        convergence_window = 30,\n",
    "        slope_significance = 0.1,\n",
    "        track_params = False,\n",
    "        monitor_gradients = False,\n",
    "        telemetry = None\n",
    "    )"
   ]
  },
  {
   "cell_type": "code",
   "execution_count": 37,
   "metadata": {},
   "outputs": [],
   "source": [
    "pyro.clear_param_store()\n",
    "N = 1000\n",
    "D = 2\n",
    "K = 4\n",
    "C = 2\n",
    "student = DAGModel(torch.zeros(N,D),K,C,N,'id')"
   ]
  },
  {
   "cell_type": "code",
   "execution_count": 38,
   "metadata": {
    "scrolled": true
   },
   "outputs": [
    {
     "name": "stdout",
     "output_type": "stream",
     "text": [
      "\n",
      "\n",
      "NLL after 0/4000 iterations is 31.116086959838867\n",
      "........................................................................................................................................................................................................................................................................................................................................................................................................................................................................................................................................................................................................................................................................................................................................................................................................................................................................................................................................................................................................................................\n",
      "\n",
      "NLL after 1000/4000 iterations is 9.246480941772461\n",
      "\n",
      "\n",
      "...................................................................................................................................................................................................................................................................................................................................................................................................................................................................................................................\n",
      "\n",
      "NLL after 1500/4000 iterations is 9.010904312133789\n",
      "\n",
      "\n",
      "...................................................................................................................................................................................................................................................................................................................................................................................................................................................................................................................\n",
      "\n",
      "NLL after 2000/4000 iterations is 8.870565414428711\n",
      "\n",
      "\n",
      "...................................................................................................................................................................................................................................................................................................................................................................................................................................................................................................................\n",
      "\n",
      "NLL after 2500/4000 iterations is 8.727434158325195\n",
      "\n",
      "\n",
      "...................................................................................................................................................................................................................................................................................................................................................................................................................................................................................................................\n",
      "\n",
      "NLL after 3000/4000 iterations is 8.631795883178711\n",
      "\n",
      "\n",
      "...................................................................................................................................................................................................................................................................................................................................................................................................................................................................................................................\n",
      "\n",
      "NLL after 3500/4000 iterations is 8.520554542541504\n",
      "\n",
      "\n",
      "...................................................................................................................................................................................................................................................................................................................................................................................................................................................................................................................\n",
      "Converged in 4000 iterations.\n",
      "\n"
     ]
    }
   ],
   "source": [
    "telemetry = inference(student, data, test_data, config=config)"
   ]
  },
  {
   "cell_type": "code",
   "execution_count": 81,
   "metadata": {
    "scrolled": false
   },
   "outputs": [],
   "source": [
    "student.sample_posterior_predictive(data.shape[0])"
   ]
  },
  {
   "cell_type": "code",
   "execution_count": 82,
   "metadata": {
    "scrolled": false
   },
   "outputs": [
    {
     "data": {
      "text/plain": [
       "torch.Size([900, 900, 2])"
      ]
     },
     "execution_count": 82,
     "metadata": {},
     "output_type": "execute_result"
    }
   ],
   "source": [
    "foo = student.posterior_predictive(data)\n",
    "\n",
    "foo['obs'].shape"
   ]
  },
  {
   "cell_type": "code",
   "execution_count": 83,
   "metadata": {},
   "outputs": [
    {
     "data": {
      "text/plain": [
       "[<matplotlib.lines.Line2D at 0x7fe2f17c2128>]"
      ]
     },
     "execution_count": 83,
     "metadata": {},
     "output_type": "execute_result"
    }
   ],
   "source": [
    "plt.plot(telemetry['loss'])"
   ]
  },
  {
   "cell_type": "code",
   "execution_count": 84,
   "metadata": {},
   "outputs": [
    {
     "data": {
      "text/plain": [
       "torch.Size([900, 900, 2])"
      ]
     },
     "execution_count": 84,
     "metadata": {},
     "output_type": "execute_result"
    }
   ],
   "source": [
    "foo['obs'].shape"
   ]
  },
  {
   "cell_type": "code",
   "execution_count": 85,
   "metadata": {},
   "outputs": [
    {
     "data": {
      "text/plain": [
       "torch.Size([900, 900])"
      ]
     },
     "execution_count": 85,
     "metadata": {},
     "output_type": "execute_result"
    }
   ],
   "source": [
    "foo['assignment_id'].shape"
   ]
  },
  {
   "cell_type": "code",
   "execution_count": 86,
   "metadata": {},
   "outputs": [
    {
     "data": {
      "text/plain": [
       "<matplotlib.collections.PathCollection at 0x7fe34f907828>"
      ]
     },
     "execution_count": 86,
     "metadata": {},
     "output_type": "execute_result"
    }
   ],
   "source": [
    "%matplotlib qt\n",
    "plt.scatter(*data[:,rand_idx].T)\n",
    "plt.scatter(*foo['obs'][:,0,rand_idx].squeeze().T.detach(),alpha=.1)\n",
    "\n",
    "#plt.scatter(*data[:,rand_idx].T,c=train_assign.squeeze())\n",
    "#plt.scatter(*foo['obs'][:,0,rand_idx].squeeze().T.detach(),c=foo['assignment_id'][:,0].squeeze().T.detach())"
   ]
  },
  {
   "cell_type": "code",
   "execution_count": 87,
   "metadata": {},
   "outputs": [
    {
     "data": {
      "text/plain": [
       "dict_keys(['loc_id', 'cov_factor_id', 'cov_diag_id', 'mixing_proportions_id', 'assignment_id', 'obs'])"
      ]
     },
     "execution_count": 87,
     "metadata": {},
     "output_type": "execute_result"
    }
   ],
   "source": [
    "foo.keys()"
   ]
  },
  {
   "cell_type": "code",
   "execution_count": 88,
   "metadata": {
    "scrolled": true
   },
   "outputs": [
    {
     "data": {
      "text/plain": [
       "dict_values([tensor([[[ -2.1107,   6.6554],\n",
       "         [ -5.1442,  -9.4402]],\n",
       "\n",
       "        [[ -2.1303,   6.6557],\n",
       "         [ -5.0206, -10.3242]],\n",
       "\n",
       "        [[ -2.2697,   6.4329],\n",
       "         [ -7.3576,  -9.9041]],\n",
       "\n",
       "        ...,\n",
       "\n",
       "        [[ -1.9773,   6.6731],\n",
       "         [ -7.7614, -10.4267]],\n",
       "\n",
       "        [[ -1.9762,   6.4666],\n",
       "         [ -6.5761,  -9.6064]],\n",
       "\n",
       "        [[ -2.0131,   6.9884],\n",
       "         [ -6.8206,  -9.7031]]], grad_fn=<ViewBackward>), tensor([[[[ -1.8854,   0.6722,  -3.0486,   0.8886],\n",
       "          [ -3.5405,  45.3525,   2.5750,  -0.7327]],\n",
       "\n",
       "         [[ 10.1769,   1.5336, -32.0025,  -2.4163],\n",
       "          [ -1.3813,  -0.0727,   0.2233,  -4.6656]]],\n",
       "\n",
       "\n",
       "        [[[ -1.3988,   0.8282,  -2.7861,   1.3765],\n",
       "          [ -2.8009,  32.2053,   0.0979,  -0.6021]],\n",
       "\n",
       "         [[  3.5338, -23.8570, -22.8935,  -4.7877],\n",
       "          [  0.2147,  -0.1744,   0.2640,  -4.7562]]],\n",
       "\n",
       "\n",
       "        [[[ -2.2276,   0.7779,  -3.1248,   1.3331],\n",
       "          [ -2.1477,  -2.4979,   2.3628,   0.0610]],\n",
       "\n",
       "         [[  9.7484, -41.0573,  52.0641,  -2.8814],\n",
       "          [  1.3113,   0.2312,   0.9801,  -4.8008]]],\n",
       "\n",
       "\n",
       "        ...,\n",
       "\n",
       "\n",
       "        [[[ -2.8540,   0.6700,  -2.3677,   1.9438],\n",
       "          [ -2.0294,   8.6392,   1.4279,  -0.0609]],\n",
       "\n",
       "         [[-59.6915, -23.1435, -33.3690,  -3.7491],\n",
       "          [  1.6807,   0.1679,   0.4655,  -4.8422]]],\n",
       "\n",
       "\n",
       "        [[[  0.1218,   0.4873,  -2.9042,   1.1274],\n",
       "          [ -2.9039,  -0.5866,   1.8385,  -0.1629]],\n",
       "\n",
       "         [[ -0.8473, -29.2636,  -8.2581,  -3.9369],\n",
       "          [  0.5890,   0.1043,   1.7705,  -5.5262]]],\n",
       "\n",
       "\n",
       "        [[[ -3.3564,   0.8750,  -3.1024,   1.2616],\n",
       "          [ -2.9472,  41.6026,   0.9842,  -0.1217]],\n",
       "\n",
       "         [[ 12.6166,  39.4775,  50.3391,  -1.6550],\n",
       "          [  3.0241,   0.0700,   1.6164,  -4.9166]]]], grad_fn=<ViewBackward>), tensor([[[1.6702e+00, 1.0394e+02],\n",
       "         [1.5113e+02, 1.0711e+01]],\n",
       "\n",
       "        [[1.7482e+00, 7.1765e+01],\n",
       "         [7.5272e-03, 4.0240e+00]],\n",
       "\n",
       "        [[1.7356e+00, 9.1442e+01],\n",
       "         [2.4475e-01, 1.9240e+00]],\n",
       "\n",
       "        ...,\n",
       "\n",
       "        [[1.6846e+00, 8.2201e+01],\n",
       "         [1.2567e+01, 1.0985e+00]],\n",
       "\n",
       "        [[1.7125e+00, 9.7737e+01],\n",
       "         [2.1509e+00, 1.5296e+00]],\n",
       "\n",
       "        [[1.5895e+00, 8.2229e+01],\n",
       "         [1.1606e+01, 1.9711e+00]]], grad_fn=<ViewBackward>), tensor([[[0.1656, 0.8344]],\n",
       "\n",
       "        [[0.2687, 0.7313]],\n",
       "\n",
       "        [[0.2814, 0.7186]],\n",
       "\n",
       "        ...,\n",
       "\n",
       "        [[0.0963, 0.9037]],\n",
       "\n",
       "        [[0.1151, 0.8849]],\n",
       "\n",
       "        [[0.1449, 0.8551]]], grad_fn=<ViewBackward>), tensor([[0, 1, 1,  ..., 1, 1, 0],\n",
       "        [1, 0, 0,  ..., 1, 1, 1],\n",
       "        [0, 1, 1,  ..., 1, 1, 1],\n",
       "        ...,\n",
       "        [1, 0, 1,  ..., 1, 1, 1],\n",
       "        [1, 1, 1,  ..., 1, 1, 1],\n",
       "        [0, 1, 1,  ..., 1, 1, 1]]), tensor([[[  -1.2431,    3.9889],\n",
       "         [   1.6253,  -11.2239],\n",
       "         [ -76.8399,   -6.8732],\n",
       "         ...,\n",
       "         [  -5.4965,    0.7501],\n",
       "         [  48.1887,   -4.3033],\n",
       "         [  -2.0815,   -6.2073]],\n",
       "\n",
       "        [[ -22.6785,  -14.9516],\n",
       "         [   2.5741,  -50.2614],\n",
       "         [   1.6517,   23.4903],\n",
       "         ...,\n",
       "         [  -6.9264,  -15.5213],\n",
       "         [  31.3384,   -7.3044],\n",
       "         [  -4.6959,  -14.4431]],\n",
       "\n",
       "        [[  -3.0803,    6.6214],\n",
       "         [  67.4628,   -7.7733],\n",
       "         [ -50.5831,   -8.1676],\n",
       "         ...,\n",
       "         [ -93.2389,  -17.4703],\n",
       "         [  10.5368,  -15.2880],\n",
       "         [-104.2194,  -17.2103]],\n",
       "\n",
       "        ...,\n",
       "\n",
       "        [[-124.4144,    2.3385],\n",
       "         [   3.0203,   23.8495],\n",
       "         [ -42.9471,  -11.9683],\n",
       "         ...,\n",
       "         [ -26.7820,   -8.3039],\n",
       "         [  49.6504,  -16.2108],\n",
       "         [  56.5235,  -15.1576]],\n",
       "\n",
       "        [[  -9.8977,   -3.8395],\n",
       "         [ -48.0206,  -18.5742],\n",
       "         [  18.0394,  -11.9729],\n",
       "         ...,\n",
       "         [ -19.2898,    2.2055],\n",
       "         [ -12.9288,   -7.3103],\n",
       "         [ -14.7536,  -13.5340]],\n",
       "\n",
       "        [[   6.4366,   11.5949],\n",
       "         [ -29.4755,   -6.0852],\n",
       "         [  17.9371,  -15.9120],\n",
       "         ...,\n",
       "         [ -89.7030,   -8.5174],\n",
       "         [-131.0292,   -9.0788],\n",
       "         [  36.2189,   -7.0983]]], grad_fn=<ViewBackward>)])"
      ]
     },
     "execution_count": 88,
     "metadata": {},
     "output_type": "execute_result"
    }
   ],
   "source": [
    "foo.values()"
   ]
  },
  {
   "cell_type": "code",
   "execution_count": 232,
   "metadata": {},
   "outputs": [],
   "source": [
    "n_posterior_samples = 200"
   ]
  },
  {
   "cell_type": "code",
   "execution_count": 233,
   "metadata": {},
   "outputs": [],
   "source": [
    "# get component distributions\n",
    "tmp = dist.LowRankMultivariateNormal(foo['loc_id'][:n_posterior_samples],foo['cov_factor_id'][:n_posterior_samples],foo['cov_diag_id'][:n_posterior_samples])"
   ]
  },
  {
   "cell_type": "code",
   "execution_count": 244,
   "metadata": {},
   "outputs": [],
   "source": [
    "# find log_prob of every datapoint under each component, for all posterior samples\n",
    "responsibilities = tmp.log_prob(data.unsqueeze(-2).unsqueeze(-2))"
   ]
  },
  {
   "cell_type": "code",
   "execution_count": 236,
   "metadata": {},
   "outputs": [],
   "source": [
    "greatest_responsibility,most_responsible = responsibilities.max(dim=-1)"
   ]
  },
  {
   "cell_type": "code",
   "execution_count": 241,
   "metadata": {},
   "outputs": [],
   "source": [
    "c = most_responsible.sum(1)>n_posterior_samples/C"
   ]
  },
  {
   "cell_type": "code",
   "execution_count": 242,
   "metadata": {},
   "outputs": [
    {
     "data": {
      "text/plain": [
       "<matplotlib.collections.PathCollection at 0x7fe1de43c978>"
      ]
     },
     "execution_count": 242,
     "metadata": {},
     "output_type": "execute_result"
    }
   ],
   "source": [
    "%matplotlib qt\n",
    "plt.scatter(*data[:,rand_idx].T,c=c)\n",
    "#plt.scatter(*foo['obs'][:,0,rand_idx].squeeze().T.detach(),alpha=.1)"
   ]
  },
  {
   "cell_type": "code",
   "execution_count": null,
   "metadata": {},
   "outputs": [],
   "source": [
    "# select component (pi,mu,W,Sigma) = (mixing_proportions, loc, cov_factor, cov_diag) for splitting\n",
    "# define two new components (pi_1,mu_1,W_1,Sigma_1) and (pi_2,mu_2,W_2,Sigma_2), such that\n",
    "# pi_1 = pi_2 P pi/2\n",
    "# mu_1, mu_2 = mu +- w, where w is the sum of eigenvectors of cov_factor.cov_factor.T + cov_diag**2, weighted by eigenvalues\n",
    "# the others are simply copied over"
   ]
  },
  {
   "cell_type": "code",
   "execution_count": null,
   "metadata": {},
   "outputs": [],
   "source": [
    "pyro.clear_param_store()\n",
    "N = 1000\n",
    "D = 2\n",
    "K = 4\n",
    "C = 3\n",
    "new_student = DAGModel(torch.zeros(N,D),K,C,N,'id')"
   ]
  },
  {
   "cell_type": "code",
   "execution_count": null,
   "metadata": {
    "scrolled": true
   },
   "outputs": [],
   "source": [
    "new_student.param_init"
   ]
  },
  {
   "cell_type": "code",
   "execution_count": null,
   "metadata": {},
   "outputs": [],
   "source": [
    "new_student.param_init['loc_prior_scale_init_id']"
   ]
  },
  {
   "cell_type": "code",
   "execution_count": null,
   "metadata": {},
   "outputs": [],
   "source": [
    "student.params['loc_prior_scale_id']"
   ]
  },
  {
   "cell_type": "code",
   "execution_count": null,
   "metadata": {},
   "outputs": [],
   "source": [
    "old_student = student"
   ]
  },
  {
   "cell_type": "code",
   "execution_count": null,
   "metadata": {},
   "outputs": [],
   "source": [
    "teacher = old_student\n",
    "student = new_student\n",
    "param_name = 'loc_loc_init_id'\n",
    "teacher_param_name = param_name.replace('init_'+student._id, teacher._id)"
   ]
  },
  {
   "cell_type": "code",
   "execution_count": null,
   "metadata": {},
   "outputs": [],
   "source": [
    "teacher_param_name"
   ]
  },
  {
   "cell_type": "code",
   "execution_count": null,
   "metadata": {},
   "outputs": [],
   "source": [
    "c = 1\n",
    "\n",
    "local_cov_mat = torch.matmul(teacher.params['cov_factor_loc_id'][c],teacher.params['cov_factor_loc_id'][c].T) + torch.diag(teacher.params['cov_diag_loc_id'][c]**2)\n",
    "eigvals, eigvecs = torch.eig(local_cov_mat, eigenvectors=True)\n",
    "new_component_loc_displacement = torch.matmul(torch.sqrt(eigvals[:,0]),eigvecs.T)\n",
    "\n",
    "ax = plt.axes()\n",
    "plt.scatter(*foo['obs'][:,1,rand_idx].squeeze().T.detach(),c=foo['assignment_id'][:,1].squeeze().T.detach())\n",
    "\n",
    "ax.arrow(*teacher.params['loc_loc_id'][c], *new_component_loc_displacement, head_width=0.5, head_length=0.7, fc='lightblue', ec='black')\n",
    "#ax.arrow(*student.params['loc_loc_id'][c], *-vec, head_width=0.5, head_length=0.7, fc='lightblue', ec='black')\n",
    "\n",
    "#plt.xlim(-20,40)\n",
    "#plt.ylim(-80,10)\n",
    "#plt.grid()"
   ]
  },
  {
   "cell_type": "code",
   "execution_count": null,
   "metadata": {},
   "outputs": [],
   "source": [
    "for param_name, param_value in student.param_init.items():\n",
    "    teacher_param_name = param_name.replace('init_'+student._id, teacher._id)\n",
    "    for component,_ in enumerate(teacher.param_init[param_name]):\n",
    "        if component == c:\n",
    "            if param_name in ['loc_loc_init_id', 'loc_prior_loc_init_id']:\n",
    "                comp1 = teacher.params[teacher_param_name][component] + new_component_loc_displacement\n",
    "                comp2 = teacher.params[teacher_param_name][component] - new_component_loc_displacement\n",
    "            elif param_name in ['mixing_proportions_concentration_init_id', 'mixing_proportions_prior_concentration_init_id']:\n",
    "                comp1 = comp2 = teacher.params[teacher_param_name][component]/2\n",
    "            else:\n",
    "                comp1 = comp2 = teacher.params[teacher_param_name][component]\n",
    "            student.param_init[param_name][component] = comp1\n",
    "            student.param_init[param_name][component + 1] = comp2\n",
    "            next\n",
    "        else:\n",
    "            student.param_init[param_name][component] = teacher.params[teacher_param_name][component]"
   ]
  },
  {
   "cell_type": "code",
   "execution_count": null,
   "metadata": {},
   "outputs": [],
   "source": [
    "student.param_init[param_name].shape"
   ]
  },
  {
   "cell_type": "code",
   "execution_count": null,
   "metadata": {},
   "outputs": [],
   "source": [
    "teacher.params[teacher_param_name].shape"
   ]
  },
  {
   "cell_type": "code",
   "execution_count": null,
   "metadata": {},
   "outputs": [],
   "source": [
    "config = dict(\n",
    "        n_iter = 1,\n",
    "        learning_rate = 0.01, \n",
    "        beta1 = 0.9,\n",
    "        beta2 = 0.999,\n",
    "        learning_rate_decay = 1., # no decay by default\n",
    "        batch_size = 32, \n",
    "        n_elbo_particles = 1, \n",
    "        n_posterior_samples = 1024,\n",
    "        window = 500,\n",
    "        convergence_window = 30,\n",
    "        slope_significance = 0.1,\n",
    "        track_params = False,\n",
    "        monitor_gradients = False,\n",
    "        telemetry = None\n",
    "    )"
   ]
  },
  {
   "cell_type": "code",
   "execution_count": null,
   "metadata": {},
   "outputs": [],
   "source": [
    "telemetry = inference(student, data, test_data, config=config)"
   ]
  },
  {
   "cell_type": "code",
   "execution_count": null,
   "metadata": {},
   "outputs": [],
   "source": [
    "student.sample_posterior_predictive(N)"
   ]
  },
  {
   "cell_type": "code",
   "execution_count": null,
   "metadata": {},
   "outputs": [],
   "source": [
    "foo = student.posterior_predictive(data)\n",
    "\n",
    "foo['obs'].shape"
   ]
  },
  {
   "cell_type": "code",
   "execution_count": null,
   "metadata": {},
   "outputs": [],
   "source": [
    "#plt.scatter(*data[:,rand_idx].T)\n",
    "#plt.scatter(*foo['obs'][:,0,rand_idx].squeeze().T.detach())\n",
    "\n",
    "#plt.scatter(*data[:,rand_idx].T,c=train_assign.squeeze())\n",
    "plt.scatter(*foo['obs'][:,0,rand_idx].squeeze().T.detach(),c=foo['assignment_id'][:,0].squeeze().T.detach())"
   ]
  },
  {
   "cell_type": "code",
   "execution_count": null,
   "metadata": {},
   "outputs": [],
   "source": [
    "config = dict(\n",
    "        n_iter = 4000,\n",
    "        learning_rate = 0.01, \n",
    "        beta1 = 0.9,\n",
    "        beta2 = 0.999,\n",
    "        learning_rate_decay = 1., # no decay by default\n",
    "        batch_size = 32, \n",
    "        n_elbo_particles = 1, \n",
    "        n_posterior_samples = 1024,\n",
    "        window = 500,\n",
    "        convergence_window = 30,\n",
    "        slope_significance = 0.1,\n",
    "        track_params = False,\n",
    "        monitor_gradients = False,\n",
    "        telemetry = None\n",
    "    )"
   ]
  },
  {
   "cell_type": "code",
   "execution_count": null,
   "metadata": {
    "scrolled": true
   },
   "outputs": [],
   "source": [
    "telemetry = inference(student, data, test_data, config=config)"
   ]
  },
  {
   "cell_type": "code",
   "execution_count": null,
   "metadata": {},
   "outputs": [],
   "source": [
    "student.sample_posterior_predictive(N)\n",
    "\n",
    "foo = student.posterior_predictive(data)\n",
    "\n",
    "#plt.scatter(*data[:,rand_idx].T)\n",
    "#plt.scatter(*foo['obs'][:,0,rand_idx].squeeze().T.detach())\n",
    "\n",
    "#plt.scatter(*data[:,rand_idx].T,c=train_assign.squeeze())\n",
    "plt.scatter(*foo['obs'][:,0,rand_idx].squeeze().T.detach(),c=foo['assignment_id'][:,0].squeeze().T.detach())"
   ]
  },
  {
   "cell_type": "code",
   "execution_count": null,
   "metadata": {},
   "outputs": [],
   "source": [
    "old_student = student\n",
    "teacher = student"
   ]
  },
  {
   "cell_type": "code",
   "execution_count": null,
   "metadata": {},
   "outputs": [],
   "source": [
    "c = 1\n",
    "\n",
    "local_cov_mat = torch.matmul(teacher.params['cov_factor_loc_id'][c],teacher.params['cov_factor_loc_id'][c].T) + torch.diag(teacher.params['cov_diag_loc_id'][c]**2)\n",
    "eigvals, eigvecs = torch.eig(local_cov_mat, eigenvectors=True)\n",
    "new_component_loc_displacement = torch.matmul(torch.sqrt(eigvals[:,0]),eigvecs.T)\n",
    "\n",
    "ax = plt.axes()\n",
    "plt.scatter(*foo['obs'][:,1,rand_idx].squeeze().T.detach(),c=foo['assignment_id'][:,1].squeeze().T.detach())\n",
    "\n",
    "ax.arrow(*teacher.params['loc_loc_id'][c], *new_component_loc_displacement, head_width=0.5, head_length=0.7, fc='lightblue', ec='black')\n",
    "#ax.arrow(*student.params['loc_loc_id'][c], *-vec, head_width=0.5, head_length=0.7, fc='lightblue', ec='black')\n",
    "\n",
    "#plt.xlim(-20,40)\n",
    "#plt.ylim(-80,10)\n",
    "#plt.grid()"
   ]
  },
  {
   "cell_type": "code",
   "execution_count": null,
   "metadata": {},
   "outputs": [],
   "source": [
    "for param_name, param_value in student.param_init.items():\n",
    "    teacher_param_name = param_name.replace('init_'+student._id, teacher._id)\n",
    "    for component,_ in enumerate(teacher.param_init[param_name]):\n",
    "        if component == c:\n",
    "            if param_name in ['loc_loc_init_id', 'loc_prior_loc_init_id']:\n",
    "                comp1 = teacher.params[teacher_param_name][component] + new_component_loc_displacement\n",
    "                comp2 = teacher.params[teacher_param_name][component] - new_component_loc_displacement\n",
    "            elif param_name in ['mixing_proportions_concentration_init_id', 'mixing_proportions_prior_concentration_init_id']:\n",
    "                comp1 = comp2 = teacher.params[teacher_param_name][component]/2\n",
    "            else:\n",
    "                comp1 = comp2 = teacher.params[teacher_param_name][component]\n",
    "            student.param_init[param_name][component] = comp1\n",
    "            student.param_init[param_name][component + 1] = comp2\n",
    "            next\n",
    "        else:\n",
    "            student.param_init[param_name][component] = teacher.params[teacher_param_name][component]"
   ]
  },
  {
   "cell_type": "code",
   "execution_count": null,
   "metadata": {},
   "outputs": [],
   "source": [
    "config = dict(\n",
    "        n_iter = 1,\n",
    "        learning_rate = 0.01, \n",
    "        beta1 = 0.9,\n",
    "        beta2 = 0.999,\n",
    "        learning_rate_decay = 1., # no decay by default\n",
    "        batch_size = 32, \n",
    "        n_elbo_particles = 1, \n",
    "        n_posterior_samples = 1024,\n",
    "        window = 500,\n",
    "        convergence_window = 30,\n",
    "        slope_significance = 0.1,\n",
    "        track_params = False,\n",
    "        monitor_gradients = False,\n",
    "        telemetry = None\n",
    "    )"
   ]
  },
  {
   "cell_type": "code",
   "execution_count": null,
   "metadata": {
    "scrolled": true
   },
   "outputs": [],
   "source": [
    "telemetry = inference(student, data, test_data, config=config)"
   ]
  },
  {
   "cell_type": "code",
   "execution_count": null,
   "metadata": {},
   "outputs": [],
   "source": [
    "student.sample_posterior_predictive(N)\n",
    "\n",
    "foo = student.posterior_predictive(data)\n",
    "\n",
    "#plt.scatter(*data[:,rand_idx].T)\n",
    "#plt.scatter(*foo['obs'][:,0,rand_idx].squeeze().T.detach())\n",
    "\n",
    "#plt.scatter(*data[:,rand_idx].T,c=train_assign.squeeze())\n",
    "plt.scatter(*foo['obs'][:,0,rand_idx].squeeze().T.detach(),c=foo['assignment_id'][:,0].squeeze().T.detach())"
   ]
  },
  {
   "cell_type": "code",
   "execution_count": null,
   "metadata": {},
   "outputs": [],
   "source": [
    "def incremental_init(student, teacher):\n",
    "    # modify parameters of student model to those of the teacher model\n",
    "    # assuming student has been randomly initialized\n",
    "    # assuming both student and teacher have the same parameter names, modulo id\n",
    "    # assuming teacher has smaller- or equal-sized parameters\n",
    "    for param_name, param_value in student.param_init.items():\n",
    "        teacher_param_name = param_name.replace('init_'+student._id, teacher._id)\n",
    "        assert teacher_param_name in teacher.params.keys()\n",
    "        # if corresponding param has same shape, use it\n",
    "        if param_value.shape == teacher.params[teacher_param_name].shape:\n",
    "            student.param_init[param_name] = teacher.params[teacher_param_name]\n",
    "        # if corresponding param has fewer rows, replace those\n",
    "        elif param_value.shape[0] > teacher.params[teacher_param_name].shape[0]:\n",
    "            student.param_init[param_name][:teacher.params[teacher_param_name].shape[0]] = teacher.params[teacher_param_name]\n",
    "        else:\n",
    "            print(f\"Parameter {param_name} and {teacher_param_name} have incompatible shapes.\")"
   ]
  },
  {
   "cell_type": "code",
   "execution_count": null,
   "metadata": {},
   "outputs": [],
   "source": [
    "foo.keys()"
   ]
  },
  {
   "cell_type": "code",
   "execution_count": null,
   "metadata": {},
   "outputs": [],
   "source": [
    "foo['loc_id'].shape"
   ]
  },
  {
   "cell_type": "code",
   "execution_count": null,
   "metadata": {},
   "outputs": [],
   "source": [
    "foo['loc_id'][0,0]"
   ]
  },
  {
   "cell_type": "code",
   "execution_count": null,
   "metadata": {},
   "outputs": [],
   "source": [
    "foo['cov_factor_id'][0,0]"
   ]
  },
  {
   "cell_type": "code",
   "execution_count": null,
   "metadata": {},
   "outputs": [],
   "source": [
    "foo['cov_diag_id'][0,0]"
   ]
  },
  {
   "cell_type": "code",
   "execution_count": null,
   "metadata": {},
   "outputs": [],
   "source": [
    "entropies = []\n",
    "entropies2 = []\n",
    "for i in range(1000):\n",
    "    et = dist.LowRankMultivariateNormal(foo['loc_id'][i,0],foo['cov_factor_id'][i,0],foo['cov_diag_id'][i,0])\n",
    "    entropies.append(et.entropy())\n",
    "    to = dist.LowRankMultivariateNormal(foo['loc_id'][i,1],foo['cov_factor_id'][i,1],foo['cov_diag_id'][i,1])\n",
    "    entropies2.append(to.entropy())"
   ]
  },
  {
   "cell_type": "code",
   "execution_count": null,
   "metadata": {},
   "outputs": [],
   "source": [
    "plt.hist(torch.tensor(entropies),'auto')\n",
    "plt.figure()\n",
    "plt.hist(torch.tensor(entropies2),'auto')"
   ]
  },
  {
   "cell_type": "code",
   "execution_count": null,
   "metadata": {},
   "outputs": [],
   "source": [
    "plt.scatter(*data[train_assign==1][:,rand_idx].T)"
   ]
  },
  {
   "cell_type": "code",
   "execution_count": null,
   "metadata": {},
   "outputs": [],
   "source": [
    "data[train_assign==1].shape"
   ]
  },
  {
   "cell_type": "code",
   "execution_count": null,
   "metadata": {},
   "outputs": [],
   "source": []
  }
 ],
 "metadata": {
  "kernelspec": {
   "display_name": "Python 3",
   "language": "python",
   "name": "python3"
  },
  "language_info": {
   "codemirror_mode": {
    "name": "ipython",
    "version": 3
   },
   "file_extension": ".py",
   "mimetype": "text/x-python",
   "name": "python",
   "nbconvert_exporter": "python",
   "pygments_lexer": "ipython3",
   "version": "3.7.3"
  }
 },
 "nbformat": 4,
 "nbformat_minor": 2
}

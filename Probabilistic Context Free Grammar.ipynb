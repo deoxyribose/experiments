{
 "cells": [
  {
   "cell_type": "code",
   "execution_count": 1,
   "metadata": {},
   "outputs": [],
   "source": [
    "import numpy as np"
   ]
  },
  {
   "cell_type": "code",
   "execution_count": 25,
   "metadata": {},
   "outputs": [],
   "source": [
    "production_rules = [\n",
    "    ('G','GG+G'),\n",
    "    ('G','MG+G'),\n",
    "    ('G','GM^t+G'),\n",
    "    ('G','CG+G'),\n",
    "    ('G','GC^t+G'),\n",
    "    ('G','exp(G)*G'),\n",
    "    ('G','BG+G'),\n",
    "    ('G','GB^t+G'),\n",
    "    ('B','BG+G'),\n",
    "    ('M','MG+G'),\n",
    "    ('M','B')]\n",
    "start = 'G'\n",
    "production_rule_probabilities = np.ones(len(production_rules))/len(production_rules)"
   ]
  },
  {
   "cell_type": "code",
   "execution_count": 35,
   "metadata": {},
   "outputs": [],
   "source": [
    "def sample_rule():\n",
    "    idx = np.random.choice(len(production_rules),p=production_rule_probabilities)\n",
    "    #print(production_rules[idx])\n",
    "    return production_rules[idx]"
   ]
  },
  {
   "cell_type": "code",
   "execution_count": 27,
   "metadata": {},
   "outputs": [],
   "source": [
    "def apply(string,rule):\n",
    "    assert rule[0] in string\n",
    "    if len(string) == 1:\n",
    "        return string.replace(rule[0],rule[1],1)\n",
    "    else:\n",
    "        return string.replace(rule[0],'('+rule[1]+')',1)"
   ]
  },
  {
   "cell_type": "code",
   "execution_count": 28,
   "metadata": {},
   "outputs": [],
   "source": [
    "def apply_random_rule(string):\n",
    "    try:\n",
    "        return apply(string,sample_rule())\n",
    "    except AssertionError:\n",
    "        return apply_random_rule(string)"
   ]
  },
  {
   "cell_type": "code",
   "execution_count": 29,
   "metadata": {},
   "outputs": [
    {
     "name": "stdout",
     "output_type": "stream",
     "text": [
      "('M', 'B')\n",
      "('G', 'GM^t+G')\n",
      "('G', 'MG+G')\n"
     ]
    },
    {
     "data": {
      "text/plain": [
       "'(MG+G)M^t+G'"
      ]
     },
     "execution_count": 29,
     "metadata": {},
     "output_type": "execute_result"
    }
   ],
   "source": [
    "apply_random_rule(apply_random_rule(start))"
   ]
  },
  {
   "cell_type": "code",
   "execution_count": 30,
   "metadata": {},
   "outputs": [],
   "source": [
    "def sample_string(level):\n",
    "    string = start\n",
    "    for i in range(level):\n",
    "        string = apply_random_rule(string)\n",
    "    return string"
   ]
  },
  {
   "cell_type": "code",
   "execution_count": 31,
   "metadata": {},
   "outputs": [
    {
     "name": "stdout",
     "output_type": "stream",
     "text": [
      "('M', 'B')\n",
      "('G', 'BG+G')\n",
      "('G', 'GG+G')\n"
     ]
    },
    {
     "data": {
      "text/plain": [
       "'B(GG+G)+G'"
      ]
     },
     "execution_count": 31,
     "metadata": {},
     "output_type": "execute_result"
    }
   ],
   "source": [
    "sample_string(2)"
   ]
  },
  {
   "cell_type": "code",
   "execution_count": 38,
   "metadata": {},
   "outputs": [
    {
     "name": "stdout",
     "output_type": "stream",
     "text": [
      "(exp(G)*G)C^t+G\n",
      "B(GB^t+G)+G\n",
      "(B)G+G\n",
      "(exp(G)*G)G+G\n",
      "(GM^t+G)C^t+G\n",
      "(MG+G)C^t+G\n",
      "M(exp(G)*G)+G\n",
      "(CG+G)C^t+G\n",
      "C(exp(G)*G)+G\n",
      "(MG+G)G+G\n",
      "(GC^t+G)G+G\n",
      "(GB^t+G)B^t+G\n",
      "(GM^t+G)G+G\n",
      "B(exp(G)*G)+G\n",
      "M(exp(G)*G)+G\n",
      "(MG+G)C^t+G\n",
      "exp((GG+G))*G\n",
      "(BG+G)G+G\n",
      "G(BG+G)^t+G\n",
      "G(BG+G)^t+G\n"
     ]
    }
   ],
   "source": [
    "for i in range(20):\n",
    "    print(sample_string(2))"
   ]
  },
  {
   "cell_type": "code",
   "execution_count": 41,
   "metadata": {},
   "outputs": [
    {
     "name": "stdout",
     "output_type": "stream",
     "text": [
      "(M(B(((GB^t+G)B^t+G)C^t+G)+G)+G)G+G\n",
      "(B((M((MG+G)B^t+G)+G)B^t+G)+G)C^t+G\n",
      "M(M(exp(((GB^t+G)(BG+G)^t+G))*G)+G)+G\n"
     ]
    }
   ],
   "source": [
    "for i in range(3):\n",
    "    print(sample_string(6))"
   ]
  },
  {
   "cell_type": "code",
   "execution_count": 8,
   "metadata": {},
   "outputs": [
    {
     "name": "stdout",
     "output_type": "stream",
     "text": [
      "C((B(BG+G)+G)G+G)+G\n"
     ]
    }
   ],
   "source": [
    "print(string)"
   ]
  }
 ],
 "metadata": {
  "kernelspec": {
   "display_name": "Python 3",
   "language": "python",
   "name": "python3"
  },
  "language_info": {
   "codemirror_mode": {
    "name": "ipython",
    "version": 3
   },
   "file_extension": ".py",
   "mimetype": "text/x-python",
   "name": "python",
   "nbconvert_exporter": "python",
   "pygments_lexer": "ipython3",
   "version": "3.7.3"
  }
 },
 "nbformat": 4,
 "nbformat_minor": 2
}

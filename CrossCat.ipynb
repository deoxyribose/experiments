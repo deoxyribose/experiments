{
 "cells": [
  {
   "cell_type": "code",
   "execution_count": 1,
   "metadata": {},
   "outputs": [],
   "source": [
    "import pyro\n",
    "import torch\n",
    "import numpy as np\n",
    "import pyro.distributions as dist"
   ]
  },
  {
   "cell_type": "code",
   "execution_count": 4,
   "metadata": {},
   "outputs": [],
   "source": [
    "D = 10"
   ]
  },
  {
   "cell_type": "code",
   "execution_count": 2,
   "metadata": {},
   "outputs": [],
   "source": [
    "alpha_D = pyro.sample('alpha_D', dist.Gamma(1,1))"
   ]
  },
  {
   "cell_type": "code",
   "execution_count": 5,
   "metadata": {},
   "outputs": [
    {
     "name": "stdout",
     "output_type": "stream",
     "text": [
      "tensor([0, 1, 2, 3, 4, 5, 6, 7, 8, 9])\n"
     ]
    }
   ],
   "source": [
    "for d in pyro.plate('D', D):\n",
    "    if isBinary(d):\n",
    "        # binary data is Beta-Bernoulli\n",
    "        alpha_d = pyro.sample('alpha_d', dist.Gamma(1,1))\n",
    "        beta_d = pyro.sample('beta_d', dist.Gamma(1,1))\n",
    "    elif isCategorical(d):\n",
    "        # categorical data is symmetric Dirichlet-Categorical\n",
    "        lambda_d = pyro.sample('lambda_d', dist.Gamma(1,1))\n",
    "    elif isContinuous(d):\n",
    "        # continuous data is Normal-Gamma\n",
    "        mu_d = pyro.sample('mu_d', dist.Normal(0,1))\n",
    "        kappa_d = pyro.sample('kappa_d', dist.Gamma(1,1))\n",
    "        nu_d = pyro.sample('nu_d', dist.Gamma(1,1))\n",
    "        tau_d = pyro.sample('tau_d', dist.Gamma(1,1))"
   ]
  },
  {
   "cell_type": "code",
   "execution_count": null,
   "metadata": {},
   "outputs": [],
   "source": []
  }
 ],
 "metadata": {
  "kernelspec": {
   "display_name": "Python 3",
   "language": "python",
   "name": "python3"
  },
  "language_info": {
   "codemirror_mode": {
    "name": "ipython",
    "version": 3
   },
   "file_extension": ".py",
   "mimetype": "text/x-python",
   "name": "python",
   "nbconvert_exporter": "python",
   "pygments_lexer": "ipython3",
   "version": "3.7.3"
  }
 },
 "nbformat": 4,
 "nbformat_minor": 2
}

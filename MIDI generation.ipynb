{
 "cells": [
  {
   "cell_type": "code",
   "execution_count": 1,
   "metadata": {
    "scrolled": true
   },
   "outputs": [
    {
     "name": "stdout",
     "output_type": "stream",
     "text": [
      "pygame 1.9.6\n",
      "Hello from the pygame community. https://www.pygame.org/contribute.html\n"
     ]
    }
   ],
   "source": [
    "from itertools import chain\n",
    "import numpy as np\n",
    "from midiutil import *\n",
    "import pygame\n",
    "\n",
    "import subprocess\n",
    "from collections.abc import Sequence"
   ]
  },
  {
   "cell_type": "code",
   "execution_count": 2,
   "metadata": {},
   "outputs": [],
   "source": [
    "working_pygame = False\n",
    "\n",
    "track = 0\n",
    "channel = 0\n",
    "#pitch = 120\n",
    "pitch = 60\n",
    "pitch1 = 60\n",
    "time = 0\n",
    "duration = 1\n",
    "volume = 100\n"
   ]
  },
  {
   "cell_type": "code",
   "execution_count": 3,
   "metadata": {},
   "outputs": [],
   "source": [
    "def blank_midifile():\n",
    "    MyMIDI = MIDIFile(1)\n",
    "    return MyMIDI\n",
    "\n",
    "#for i in range(12):\n",
    "#    MyMIDI.addNote(track,channel,pitch+i,time+i,duration,volume)"
   ]
  },
  {
   "cell_type": "code",
   "execution_count": 4,
   "metadata": {},
   "outputs": [],
   "source": [
    "if working_pygame:\n",
    "    # mixer config\n",
    "    freq = 44100  # audio CD quality\n",
    "    bitsize = 16   # unsigned 16 bit\n",
    "    channels = 2  # 1 is mono, 2 is stereo\n",
    "    buffer = 1024   # number of samples\n",
    "    pygame.mixer.init(freq, bitsize, channels, buffer)\n",
    "\n",
    "    # optional volume 0 to 1.0\n",
    "    pygame.mixer.music.set_volume(0.8)\n",
    "\n",
    "    def play_music(midi_filename):\n",
    "        '''Stream music_file in a blocking manner'''\n",
    "        clock = pygame.time.Clock()\n",
    "        pygame.mixer.music.load(midi_filename)\n",
    "        pygame.mixer.music.play()\n",
    "        while pygame.mixer.music.get_busy():\n",
    "            clock.tick(30) # check if playback has finished\n",
    "else:\n",
    "    def play_music(midi_filename):\n",
    "        subprocess.run(['timidity', midi_filename])"
   ]
  },
  {
   "cell_type": "code",
   "execution_count": 139,
   "metadata": {},
   "outputs": [],
   "source": [
    "intervals = {'1':0,\n",
    "             'b1':1,\n",
    "             '2':2,\n",
    "             'b3':3,\n",
    "             '3':4,\n",
    "             '4':5,\n",
    "             'b5':6,\n",
    "             '5':7,\n",
    "             'b6':8,\n",
    "             '6':9,\n",
    "             'b7':10,\n",
    "             '7':11,\n",
    "             '8':12\n",
    "            }"
   ]
  },
  {
   "cell_type": "code",
   "execution_count": 140,
   "metadata": {},
   "outputs": [],
   "source": [
    "class Scale(Sequence):\n",
    "    def __init__(self, *constituents):\n",
    "        super(Scale, self).__init__()\n",
    "        self._list = constituents\n",
    "        \n",
    "    def __repr__(self):\n",
    "        return f\"<{self.__class__.__name__} {self._list}>\"\n",
    "    \n",
    "    def __len__(self):\n",
    "        return len(self._list)\n",
    "    \n",
    "    def __getitem__(self, ii):\n",
    "        if isinstance(ii, int):\n",
    "            relative_octave = 0\n",
    "            while ii < 0:\n",
    "                relative_octave -= 1\n",
    "                ii += len(self)\n",
    "            while len(self._list) <= ii:\n",
    "                relative_octave += 1\n",
    "                ii -= len(self)\n",
    "            return self._list[ii] + 12 * relative_octave\n",
    "        elif isinstance(ii, slice):\n",
    "            if ii.start is None:\n",
    "                ii = slice(0, ii.stop, ii.step)\n",
    "            if ii.stop is None:\n",
    "                ii = slice(ii.start, len(self), ii.step)\n",
    "            if ii.step is None:\n",
    "                ii = slice(ii.start, ii.stop, 1)\n",
    "            output = []\n",
    "            while ii.start < ii.stop:\n",
    "                output.append(self[ii.start])\n",
    "                ii = slice(ii.start+ii.step, ii.stop, ii.step)\n",
    "            return output\n",
    "        else:\n",
    "            raise TypeError(\"index must be int or slice\")\n",
    "    "
   ]
  },
  {
   "cell_type": "code",
   "execution_count": 141,
   "metadata": {},
   "outputs": [
    {
     "name": "stdout",
     "output_type": "stream",
     "text": [
      "7\n"
     ]
    },
    {
     "data": {
      "text/plain": [
       "[-8, -7, -5, -3, -1, 0, 2, 4, 5, 7, 9, 11, 12, 14, 16, 17, 19]"
      ]
     },
     "execution_count": 141,
     "metadata": {},
     "output_type": "execute_result"
    }
   ],
   "source": [
    "major = [0, 2, 4, 5, 7, 9, 11] + [12 + x for x in [0, 2, 4, 5, 7, 9, 11]]\n",
    "major_o = Scale(0, 2, 4, 5, 7, 9, 11)\n",
    "\n",
    "print(len(major_o))\n",
    "\n",
    "[major_o[x] for x in range(-5, 12)]"
   ]
  },
  {
   "cell_type": "code",
   "execution_count": 142,
   "metadata": {},
   "outputs": [
    {
     "data": {
      "text/plain": [
       "<Scale (0, 2, 4, 5, 7, 9, 11)>"
      ]
     },
     "execution_count": 142,
     "metadata": {},
     "output_type": "execute_result"
    }
   ],
   "source": [
    "major_o"
   ]
  },
  {
   "cell_type": "code",
   "execution_count": 143,
   "metadata": {},
   "outputs": [
    {
     "data": {
      "text/plain": [
       "[7, 11, 14, 17, 21]"
      ]
     },
     "execution_count": 143,
     "metadata": {},
     "output_type": "execute_result"
    }
   ],
   "source": [
    "def major_chord(chord_numeral, jazzness=0):\n",
    "    # take two octaves of scale, starting on chord_numeral\n",
    "    scale = major_o[chord_numeral-1:chord_numeral-1+7*2]\n",
    "    # take every other node and return triad + jazzness\n",
    "    return scale[::2][:3+jazzness]\n",
    "major_chord(5, 2)"
   ]
  },
  {
   "cell_type": "code",
   "execution_count": 144,
   "metadata": {},
   "outputs": [
    {
     "data": {
      "text/plain": [
       "[0, 4, 7, 11]"
      ]
     },
     "execution_count": 144,
     "metadata": {},
     "output_type": "execute_result"
    }
   ],
   "source": [
    "major_chord(1, 1)"
   ]
  },
  {
   "cell_type": "code",
   "execution_count": 145,
   "metadata": {},
   "outputs": [],
   "source": [
    "class Tone:\n",
    "    def __init__(self, root, interval, duration=1, volume=100, parent=None, time=None):\n",
    "        if parent is None and time is None:\n",
    "            time = 0\n",
    "        self.parent = parent\n",
    "        self.time = time    \n",
    "        self.root = root\n",
    "        if type(interval) == str:\n",
    "            self.interval = intervals[interval]\n",
    "        else:\n",
    "            self.interval = interval\n",
    "        self.duration = duration\n",
    "        self.volume = volume\n",
    "        \n",
    "    #def __getattr__(self, name):\n",
    "    def __getattribute__(self, name):\n",
    "        if name == 'time' and self.parent is not None:\n",
    "            return self.parent.time + self.parent.duration\n",
    "        else:\n",
    "            return object.__getattribute__(self,name)\n",
    "            \n",
    "    \n",
    "    def add_note(self, midi_file, track, channel):\n",
    "        if self.parent is not None:\n",
    "            time = self.parent.time + self.parent.duration\n",
    "        elif self.time is not None:\n",
    "            time = self.time\n",
    "        else:\n",
    "            raise ValueError(\"Parent and/or time was messed with - don't do that!\")\n",
    "        \n",
    "        midi_file.addNote(track, channel, self.root + self.interval, time, self.duration, self.volume)"
   ]
  },
  {
   "cell_type": "code",
   "execution_count": 146,
   "metadata": {},
   "outputs": [],
   "source": [
    "class Chord:\n",
    "    def __init__(self, root, constituents, duration=1, volume=100, parent=None, time=None):\n",
    "        if parent is None and time is None:\n",
    "            time = 0\n",
    "        self.parent = parent\n",
    "        self.time = time    \n",
    "        self.root = root\n",
    "        self.constituents = []\n",
    "        for interval in constituents:\n",
    "            if type(interval) == str:\n",
    "                self.constituents.append(intervals[interval])\n",
    "            else:\n",
    "                self.constituents.append(interval)\n",
    "        self.duration = duration\n",
    "        self.volume = volume\n",
    "\n",
    "    def __getattribute__(self, name):\n",
    "        if name == 'time' and self.parent is not None:\n",
    "            return self.parent.time + self.parent.duration\n",
    "        else:\n",
    "            return object.__getattribute__(self,name)\n",
    "            \n",
    "    \n",
    "    def add_note(self, midi_file, track, channel):\n",
    "        if self.parent is not None:\n",
    "            time = self.parent.time + self.parent.duration\n",
    "        elif self.time is not None:\n",
    "            time = self.time\n",
    "        else:\n",
    "            raise ValueError(\"Parent and/or time was messed with - don't do that!\")\n",
    "        \n",
    "        for interval in self.constituents:\n",
    "            midi_file.addNote(track, channel, self.root + interval, time, self.duration, self.volume)"
   ]
  },
  {
   "cell_type": "code",
   "execution_count": 154,
   "metadata": {},
   "outputs": [],
   "source": [
    "def interval2pitch(ints):\n",
    "    return list(map(lambda x: intervals[x], ints))"
   ]
  },
  {
   "cell_type": "code",
   "execution_count": 161,
   "metadata": {},
   "outputs": [],
   "source": [
    "#major_scale = np.array([0,2,4,5,7,9,11])\n",
    "#major_blues = np.array(interval2pitch(['1','2','b3','3','5','6']))\n",
    "minor_blues = np.array(interval2pitch(['1','b3','4','b5','5','b7']))"
   ]
  },
  {
   "cell_type": "code",
   "execution_count": 162,
   "metadata": {},
   "outputs": [],
   "source": [
    "scale = minor_blues\n",
    "scale_probabilities = np.eye(12)[scale].sum(0)/len(scale)"
   ]
  },
  {
   "cell_type": "code",
   "execution_count": 163,
   "metadata": {},
   "outputs": [],
   "source": [
    "def bjorklund(m,k,rhythm = None):\n",
    "    # generates Euclidean rhythms, i.e. rhythms where beats are spread out as evenly as possible across the measure\n",
    "    # this is basically euclid's algorithm, see http://cgm.cs.mcgill.ca/~godfried/publications/banff.pdf\n",
    "    if rhythm is None:\n",
    "        rhythm = k*[[1]] + (m-k)*[[0]]\n",
    "    if m%k == 0:\n",
    "        # flatten list\n",
    "        return [beat for seq in rhythm for beat in seq]\n",
    "    else:\n",
    "        if k>m-k:\n",
    "            rhythm = [seq+rhythm[-1] if i<(m%k) else seq for i,seq in enumerate(rhythm[:k])]\n",
    "        else:\n",
    "            rhythm = [seq+rhythm[-1] if i<k else seq for i,seq in enumerate(rhythm[:k+(m%k)])]\n",
    "        return bjorklund(k,m%k,rhythm)"
   ]
  },
  {
   "cell_type": "code",
   "execution_count": 164,
   "metadata": {},
   "outputs": [
    {
     "data": {
      "text/plain": [
       "[1, 0, 1, 0, 0]"
      ]
     },
     "execution_count": 164,
     "metadata": {},
     "output_type": "execute_result"
    }
   ],
   "source": [
    "bjorklund(5,2)"
   ]
  },
  {
   "cell_type": "code",
   "execution_count": 219,
   "metadata": {},
   "outputs": [],
   "source": [
    "melody = []\n",
    "signs = []\n",
    "#rhythm = []\n",
    "n_bars = 4\n",
    "euclidean_rhythm = bjorklund(8,5) # cinquillo\n",
    "#euclidean_rhythm = bjorklund(13,5) # tresillo\n",
    "#euclidean_rhythm = bjorklund(2,3)\n",
    "#euclidean_rhythm = bjorklund(7,3)\n",
    "\n",
    "# interpret 1's as onsets, and 0's as continuation\n",
    "rhythm_in_measure = [0.5*(len(i)+1)for i in ''.join(map(str,euclidean_rhythm)).split('1')[1:]]\n",
    "#rhythm_in_measure = [0.25*(len(i)+1)for i in ''.join(map(str,euclidean_rhythm)).split('1')[1:]]\n",
    "rhythm = n_bars*rhythm_in_measure\n",
    "for _ in range(n_bars):\n",
    "    length = 0\n",
    "    for i in range(len(rhythm_in_measure)):\n",
    "    #while length < 4:\n",
    "        note = np.random.choice(range(0, 12), size = 1, p = scale_probabilities)\n",
    "        #sign = np.random.choice([-1,1],size=1)\n",
    "        #sign = 1\n",
    "        #duration = np.random.choice([0.25,0.5,1,1.25, 1.5, 1.75, 2], size=1)\n",
    "        #duration = np.random.choice([0.25,0.5,1, 2], size=1)\n",
    "        \n",
    "        melody.append(note)\n",
    "        #signs.append(sign)\n",
    "        #if duration > (4 - length):\n",
    "        #    duration = 4 - length\n",
    "        #rhythm.append(duration)\n",
    "        #length += duration\n",
    "melody = np.array(melody).flatten()\n",
    "rhythm = np.array(rhythm).flatten()\n",
    "signs = np.array(signs).flatten()"
   ]
  },
  {
   "cell_type": "code",
   "execution_count": 220,
   "metadata": {},
   "outputs": [],
   "source": [
    "def add_chord_progression(chord_progression, beats_per_chord = None, jazz = 0):\n",
    "    if beats_per_chord is None:\n",
    "        beats_per_chord = len(chord_progression)*[4]\n",
    "    elif type(beats_per_chord) == int:\n",
    "        beats_per_chord = len(chord_progression)*[beats_per_chord]\n",
    "        \n",
    "    chord = Chord(pitch, major_chord(chord_progression[0], jazzness=jazz), duration=beats_per_chord[0])\n",
    "    chord.add_note(midi_file, track, channel+1)\n",
    "    for ch,duration in zip(chord_progression[1:],beats_per_chord[1:]):\n",
    "        chord = Chord(pitch, major_chord(ch, jazzness=jazz), duration=duration, parent=chord)\n",
    "        chord.add_note(midi_file, track, channel+1)"
   ]
  },
  {
   "cell_type": "code",
   "execution_count": 221,
   "metadata": {},
   "outputs": [],
   "source": [
    "def add_melody(pitches, rhythm):\n",
    "    random_music = []\n",
    "    random_music.append(Tone(60, pitches[0], rhythm[0], time=0))\n",
    "    for interval, duration in zip(pitches[1:], rhythm[1:]):\n",
    "        random_music.append(Tone(pitch, interval, duration, parent=random_music[-1]))\n",
    "\n",
    "    for x in random_music:\n",
    "        x.add_note(midi_file, track, channel)\n",
    "    return random_music"
   ]
  },
  {
   "cell_type": "code",
   "execution_count": 222,
   "metadata": {},
   "outputs": [],
   "source": [
    "midi_file = blank_midifile()\n",
    "midi_file.addProgramChange(track, channel+1, 0, 8)"
   ]
  },
  {
   "cell_type": "code",
   "execution_count": 226,
   "metadata": {},
   "outputs": [],
   "source": [
    "melody = np.tile(melody[:5],4*4)\n",
    "rhythm = np.tile(rhythm,4)\n",
    "\n",
    "#melody = np.tile(melody[:4],5)"
   ]
  },
  {
   "cell_type": "code",
   "execution_count": 229,
   "metadata": {},
   "outputs": [],
   "source": [
    "# common jazz progression II-V-I\n",
    "#add_chord_progression([2,5,1,1], jazz=1)\n",
    "\n",
    "# pachabel's canon I-V-vi-iii-IV-I-IV-V\n",
    "#add_chord_progression([1,5,4,3,4,1,4,5], beats_per_chord = 2, jazz=0)\n",
    "\n",
    "# four chord song\n",
    "#add_chord_progression([6,4,1,5], beats_per_chord = 4, jazz=0)\n",
    "#add_chord_progression([1,5,6,4], beats_per_chord = 4, jazz=0)\n",
    "\n",
    "# 12-bar blues\n",
    "add_chord_progression([1,1,1,1,4,4,1,1,5,4,1,1], beats_per_chord = 2, jazz=0)\n",
    "\n",
    "# blues\n",
    "#add_chord_progression([1,4,1,1,4,4,1,1,5,4,1,5], beats_per_chord = 4, jazz=0)\n",
    "\n",
    "music = add_melody(melody, rhythm)"
   ]
  },
  {
   "cell_type": "code",
   "execution_count": 230,
   "metadata": {},
   "outputs": [
    {
     "ename": "KeyboardInterrupt",
     "evalue": "",
     "output_type": "error",
     "traceback": [
      "\u001b[0;31m---------------------------------------------------------------------------\u001b[0m",
      "\u001b[0;31mKeyboardInterrupt\u001b[0m                         Traceback (most recent call last)",
      "\u001b[0;32m<ipython-input-230-24f25ba82cf8>\u001b[0m in \u001b[0;36m<module>\u001b[0;34m\u001b[0m\n\u001b[1;32m      4\u001b[0m     \u001b[0mmidi_file\u001b[0m\u001b[0;34m.\u001b[0m\u001b[0mwriteFile\u001b[0m\u001b[0;34m(\u001b[0m\u001b[0mf\u001b[0m\u001b[0;34m)\u001b[0m\u001b[0;34m\u001b[0m\u001b[0;34m\u001b[0m\u001b[0m\n\u001b[1;32m      5\u001b[0m \u001b[0;34m\u001b[0m\u001b[0m\n\u001b[0;32m----> 6\u001b[0;31m \u001b[0mplay_music\u001b[0m\u001b[0;34m(\u001b[0m\u001b[0;34m'tmp.mid'\u001b[0m\u001b[0;34m)\u001b[0m\u001b[0;34m\u001b[0m\u001b[0;34m\u001b[0m\u001b[0m\n\u001b[0m",
      "\u001b[0;32m<ipython-input-4-3be0fd96e5bf>\u001b[0m in \u001b[0;36mplay_music\u001b[0;34m(midi_filename)\u001b[0m\n\u001b[1;32m     19\u001b[0m \u001b[0;32melse\u001b[0m\u001b[0;34m:\u001b[0m\u001b[0;34m\u001b[0m\u001b[0;34m\u001b[0m\u001b[0m\n\u001b[1;32m     20\u001b[0m     \u001b[0;32mdef\u001b[0m \u001b[0mplay_music\u001b[0m\u001b[0;34m(\u001b[0m\u001b[0mmidi_filename\u001b[0m\u001b[0;34m)\u001b[0m\u001b[0;34m:\u001b[0m\u001b[0;34m\u001b[0m\u001b[0;34m\u001b[0m\u001b[0m\n\u001b[0;32m---> 21\u001b[0;31m         \u001b[0msubprocess\u001b[0m\u001b[0;34m.\u001b[0m\u001b[0mrun\u001b[0m\u001b[0;34m(\u001b[0m\u001b[0;34m[\u001b[0m\u001b[0;34m'timidity'\u001b[0m\u001b[0;34m,\u001b[0m \u001b[0mmidi_filename\u001b[0m\u001b[0;34m]\u001b[0m\u001b[0;34m)\u001b[0m\u001b[0;34m\u001b[0m\u001b[0;34m\u001b[0m\u001b[0m\n\u001b[0m",
      "\u001b[0;32m~/anaconda3/lib/python3.7/subprocess.py\u001b[0m in \u001b[0;36mrun\u001b[0;34m(input, capture_output, timeout, check, *popenargs, **kwargs)\u001b[0m\n\u001b[1;32m    472\u001b[0m     \u001b[0;32mwith\u001b[0m \u001b[0mPopen\u001b[0m\u001b[0;34m(\u001b[0m\u001b[0;34m*\u001b[0m\u001b[0mpopenargs\u001b[0m\u001b[0;34m,\u001b[0m \u001b[0;34m**\u001b[0m\u001b[0mkwargs\u001b[0m\u001b[0;34m)\u001b[0m \u001b[0;32mas\u001b[0m \u001b[0mprocess\u001b[0m\u001b[0;34m:\u001b[0m\u001b[0;34m\u001b[0m\u001b[0;34m\u001b[0m\u001b[0m\n\u001b[1;32m    473\u001b[0m         \u001b[0;32mtry\u001b[0m\u001b[0;34m:\u001b[0m\u001b[0;34m\u001b[0m\u001b[0;34m\u001b[0m\u001b[0m\n\u001b[0;32m--> 474\u001b[0;31m             \u001b[0mstdout\u001b[0m\u001b[0;34m,\u001b[0m \u001b[0mstderr\u001b[0m \u001b[0;34m=\u001b[0m \u001b[0mprocess\u001b[0m\u001b[0;34m.\u001b[0m\u001b[0mcommunicate\u001b[0m\u001b[0;34m(\u001b[0m\u001b[0minput\u001b[0m\u001b[0;34m,\u001b[0m \u001b[0mtimeout\u001b[0m\u001b[0;34m=\u001b[0m\u001b[0mtimeout\u001b[0m\u001b[0;34m)\u001b[0m\u001b[0;34m\u001b[0m\u001b[0;34m\u001b[0m\u001b[0m\n\u001b[0m\u001b[1;32m    475\u001b[0m         \u001b[0;32mexcept\u001b[0m \u001b[0mTimeoutExpired\u001b[0m\u001b[0;34m:\u001b[0m\u001b[0;34m\u001b[0m\u001b[0;34m\u001b[0m\u001b[0m\n\u001b[1;32m    476\u001b[0m             \u001b[0mprocess\u001b[0m\u001b[0;34m.\u001b[0m\u001b[0mkill\u001b[0m\u001b[0;34m(\u001b[0m\u001b[0;34m)\u001b[0m\u001b[0;34m\u001b[0m\u001b[0;34m\u001b[0m\u001b[0m\n",
      "\u001b[0;32m~/anaconda3/lib/python3.7/subprocess.py\u001b[0m in \u001b[0;36mcommunicate\u001b[0;34m(self, input, timeout)\u001b[0m\n\u001b[1;32m    929\u001b[0m                 \u001b[0mstderr\u001b[0m \u001b[0;34m=\u001b[0m \u001b[0mself\u001b[0m\u001b[0;34m.\u001b[0m\u001b[0mstderr\u001b[0m\u001b[0;34m.\u001b[0m\u001b[0mread\u001b[0m\u001b[0;34m(\u001b[0m\u001b[0;34m)\u001b[0m\u001b[0;34m\u001b[0m\u001b[0;34m\u001b[0m\u001b[0m\n\u001b[1;32m    930\u001b[0m                 \u001b[0mself\u001b[0m\u001b[0;34m.\u001b[0m\u001b[0mstderr\u001b[0m\u001b[0;34m.\u001b[0m\u001b[0mclose\u001b[0m\u001b[0;34m(\u001b[0m\u001b[0;34m)\u001b[0m\u001b[0;34m\u001b[0m\u001b[0;34m\u001b[0m\u001b[0m\n\u001b[0;32m--> 931\u001b[0;31m             \u001b[0mself\u001b[0m\u001b[0;34m.\u001b[0m\u001b[0mwait\u001b[0m\u001b[0;34m(\u001b[0m\u001b[0;34m)\u001b[0m\u001b[0;34m\u001b[0m\u001b[0;34m\u001b[0m\u001b[0m\n\u001b[0m\u001b[1;32m    932\u001b[0m         \u001b[0;32melse\u001b[0m\u001b[0;34m:\u001b[0m\u001b[0;34m\u001b[0m\u001b[0;34m\u001b[0m\u001b[0m\n\u001b[1;32m    933\u001b[0m             \u001b[0;32mif\u001b[0m \u001b[0mtimeout\u001b[0m \u001b[0;32mis\u001b[0m \u001b[0;32mnot\u001b[0m \u001b[0;32mNone\u001b[0m\u001b[0;34m:\u001b[0m\u001b[0;34m\u001b[0m\u001b[0;34m\u001b[0m\u001b[0m\n",
      "\u001b[0;32m~/anaconda3/lib/python3.7/subprocess.py\u001b[0m in \u001b[0;36mwait\u001b[0;34m(self, timeout)\u001b[0m\n\u001b[1;32m    988\u001b[0m             \u001b[0mendtime\u001b[0m \u001b[0;34m=\u001b[0m \u001b[0m_time\u001b[0m\u001b[0;34m(\u001b[0m\u001b[0;34m)\u001b[0m \u001b[0;34m+\u001b[0m \u001b[0mtimeout\u001b[0m\u001b[0;34m\u001b[0m\u001b[0;34m\u001b[0m\u001b[0m\n\u001b[1;32m    989\u001b[0m         \u001b[0;32mtry\u001b[0m\u001b[0;34m:\u001b[0m\u001b[0;34m\u001b[0m\u001b[0;34m\u001b[0m\u001b[0m\n\u001b[0;32m--> 990\u001b[0;31m             \u001b[0;32mreturn\u001b[0m \u001b[0mself\u001b[0m\u001b[0;34m.\u001b[0m\u001b[0m_wait\u001b[0m\u001b[0;34m(\u001b[0m\u001b[0mtimeout\u001b[0m\u001b[0;34m=\u001b[0m\u001b[0mtimeout\u001b[0m\u001b[0;34m)\u001b[0m\u001b[0;34m\u001b[0m\u001b[0;34m\u001b[0m\u001b[0m\n\u001b[0m\u001b[1;32m    991\u001b[0m         \u001b[0;32mexcept\u001b[0m \u001b[0mKeyboardInterrupt\u001b[0m\u001b[0;34m:\u001b[0m\u001b[0;34m\u001b[0m\u001b[0;34m\u001b[0m\u001b[0m\n\u001b[1;32m    992\u001b[0m             \u001b[0;31m# https://bugs.python.org/issue25942\u001b[0m\u001b[0;34m\u001b[0m\u001b[0;34m\u001b[0m\u001b[0;34m\u001b[0m\u001b[0m\n",
      "\u001b[0;32m~/anaconda3/lib/python3.7/subprocess.py\u001b[0m in \u001b[0;36m_wait\u001b[0;34m(self, timeout)\u001b[0m\n\u001b[1;32m   1622\u001b[0m                         \u001b[0;32mif\u001b[0m \u001b[0mself\u001b[0m\u001b[0;34m.\u001b[0m\u001b[0mreturncode\u001b[0m \u001b[0;32mis\u001b[0m \u001b[0;32mnot\u001b[0m \u001b[0;32mNone\u001b[0m\u001b[0;34m:\u001b[0m\u001b[0;34m\u001b[0m\u001b[0;34m\u001b[0m\u001b[0m\n\u001b[1;32m   1623\u001b[0m                             \u001b[0;32mbreak\u001b[0m  \u001b[0;31m# Another thread waited.\u001b[0m\u001b[0;34m\u001b[0m\u001b[0;34m\u001b[0m\u001b[0m\n\u001b[0;32m-> 1624\u001b[0;31m                         \u001b[0;34m(\u001b[0m\u001b[0mpid\u001b[0m\u001b[0;34m,\u001b[0m \u001b[0msts\u001b[0m\u001b[0;34m)\u001b[0m \u001b[0;34m=\u001b[0m \u001b[0mself\u001b[0m\u001b[0;34m.\u001b[0m\u001b[0m_try_wait\u001b[0m\u001b[0;34m(\u001b[0m\u001b[0;36m0\u001b[0m\u001b[0;34m)\u001b[0m\u001b[0;34m\u001b[0m\u001b[0;34m\u001b[0m\u001b[0m\n\u001b[0m\u001b[1;32m   1625\u001b[0m                         \u001b[0;31m# Check the pid and loop as waitpid has been known to\u001b[0m\u001b[0;34m\u001b[0m\u001b[0;34m\u001b[0m\u001b[0;34m\u001b[0m\u001b[0m\n\u001b[1;32m   1626\u001b[0m                         \u001b[0;31m# return 0 even without WNOHANG in odd situations.\u001b[0m\u001b[0;34m\u001b[0m\u001b[0;34m\u001b[0m\u001b[0;34m\u001b[0m\u001b[0m\n",
      "\u001b[0;32m~/anaconda3/lib/python3.7/subprocess.py\u001b[0m in \u001b[0;36m_try_wait\u001b[0;34m(self, wait_flags)\u001b[0m\n\u001b[1;32m   1580\u001b[0m             \u001b[0;34m\"\"\"All callers to this function MUST hold self._waitpid_lock.\"\"\"\u001b[0m\u001b[0;34m\u001b[0m\u001b[0;34m\u001b[0m\u001b[0m\n\u001b[1;32m   1581\u001b[0m             \u001b[0;32mtry\u001b[0m\u001b[0;34m:\u001b[0m\u001b[0;34m\u001b[0m\u001b[0;34m\u001b[0m\u001b[0m\n\u001b[0;32m-> 1582\u001b[0;31m                 \u001b[0;34m(\u001b[0m\u001b[0mpid\u001b[0m\u001b[0;34m,\u001b[0m \u001b[0msts\u001b[0m\u001b[0;34m)\u001b[0m \u001b[0;34m=\u001b[0m \u001b[0mos\u001b[0m\u001b[0;34m.\u001b[0m\u001b[0mwaitpid\u001b[0m\u001b[0;34m(\u001b[0m\u001b[0mself\u001b[0m\u001b[0;34m.\u001b[0m\u001b[0mpid\u001b[0m\u001b[0;34m,\u001b[0m \u001b[0mwait_flags\u001b[0m\u001b[0;34m)\u001b[0m\u001b[0;34m\u001b[0m\u001b[0;34m\u001b[0m\u001b[0m\n\u001b[0m\u001b[1;32m   1583\u001b[0m             \u001b[0;32mexcept\u001b[0m \u001b[0mChildProcessError\u001b[0m\u001b[0;34m:\u001b[0m\u001b[0;34m\u001b[0m\u001b[0;34m\u001b[0m\u001b[0m\n\u001b[1;32m   1584\u001b[0m                 \u001b[0;31m# This happens if SIGCLD is set to be ignored or waiting\u001b[0m\u001b[0;34m\u001b[0m\u001b[0;34m\u001b[0m\u001b[0;34m\u001b[0m\u001b[0m\n",
      "\u001b[0;31mKeyboardInterrupt\u001b[0m: "
     ]
    }
   ],
   "source": [
    "for midi_track in midi_file.tracks:\n",
    "    midi_track.closeTrack()\n",
    "with open('tmp.mid','wb') as f:\n",
    "    midi_file.writeFile(f)\n",
    "\n",
    "play_music('tmp.mid')"
   ]
  },
  {
   "cell_type": "code",
   "execution_count": null,
   "metadata": {},
   "outputs": [],
   "source": [
    "import matplotlib.pylab as plt"
   ]
  },
  {
   "cell_type": "code",
   "execution_count": 91,
   "metadata": {},
   "outputs": [],
   "source": [
    "x = np.cumsum(rhythm)"
   ]
  },
  {
   "cell_type": "code",
   "execution_count": 92,
   "metadata": {},
   "outputs": [
    {
     "data": {
      "text/plain": [
       "[<matplotlib.lines.Line2D at 0x7fddabdff2b0>]"
      ]
     },
     "execution_count": 92,
     "metadata": {},
     "output_type": "execute_result"
    },
    {
     "data": {
      "image/png": "[encoded data removed]",
      "text/plain": [
       "<Figure size 432x288 with 1 Axes>"
      ]
     },
     "metadata": {
      "needs_background": "light"
     },
     "output_type": "display_data"
    }
   ],
   "source": [
    "plt.plot([0] + list(x[:-1]), melody,'.')"
   ]
  },
  {
   "cell_type": "code",
   "execution_count": 35,
   "metadata": {},
   "outputs": [],
   "source": [
    "midi_file = blank_midifile()\n",
    "the_lick = []\n",
    "the_lick.append(Tone(pitch, 1, 0.5, time=0))\n",
    "for interval, duration in [(2, 0.5), (3, 0.5), (5, 0.5), (2, 1), (-2, 0.5), (0, 1.5)]:\n",
    "    the_lick.append(Tone(pitch, interval, duration, parent=the_lick[-1]))\n",
    "\n",
    "for x in the_lick:\n",
    "    x.add_note(midi_file, track, channel)"
   ]
  },
  {
   "cell_type": "code",
   "execution_count": null,
   "metadata": {},
   "outputs": [],
   "source": []
  }
 ],
 "metadata": {
  "kernelspec": {
   "display_name": "Python 3",
   "language": "python",
   "name": "python3"
  },
  "language_info": {
   "codemirror_mode": {
    "name": "ipython",
    "version": 3
   },
   "file_extension": ".py",
   "mimetype": "text/x-python",
   "name": "python",
   "nbconvert_exporter": "python",
   "pygments_lexer": "ipython3",
   "version": "3.7.3"
  }
 },
 "nbformat": 4,
 "nbformat_minor": 2
}

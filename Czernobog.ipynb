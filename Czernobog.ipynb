{
 "cells": [
  {
   "cell_type": "code",
   "execution_count": 1,
   "metadata": {},
   "outputs": [],
   "source": [
    "import numpy as np\n",
    "import matplotlib.pylab as plt"
   ]
  },
  {
   "cell_type": "code",
   "execution_count": 2,
   "metadata": {},
   "outputs": [],
   "source": [
    "# 0 is black, 1 is white, -1 is empty"
   ]
  },
  {
   "cell_type": "code",
   "execution_count": 22,
   "metadata": {},
   "outputs": [],
   "source": [
    "def init():\n",
    "    \"\"\"\n",
    "    Set up the checkers board\n",
    "    \"\"\"\n",
    "    board = np.ones((8,8), dtype=np.int)*(-1)\n",
    "    # init whites\n",
    "    board[[0,2],1::2] = 1\n",
    "    board[1,::2] = 1\n",
    "    # init blacks\n",
    "    board[[5,7],::2] = 0\n",
    "    board[6,1::2] = 0\n",
    "    return board"
   ]
  },
  {
   "cell_type": "code",
   "execution_count": 23,
   "metadata": {},
   "outputs": [],
   "source": [
    "board = init()"
   ]
  },
  {
   "cell_type": "code",
   "execution_count": 24,
   "metadata": {},
   "outputs": [],
   "source": [
    "def win(board, player):\n",
    "    # player wins when other player has no pieces left\n",
    "    return not (board == 1-player).any()"
   ]
  },
  {
   "cell_type": "code",
   "execution_count": 25,
   "metadata": {},
   "outputs": [
    {
     "data": {
      "text/plain": [
       "array([[-1,  1, -1,  1, -1,  1, -1,  1],\n",
       "       [ 1, -1,  1, -1,  1, -1,  1, -1],\n",
       "       [-1,  1, -1,  1, -1,  1, -1,  1],\n",
       "       [-1, -1, -1, -1, -1, -1, -1, -1],\n",
       "       [-1, -1, -1, -1, -1, -1, -1, -1],\n",
       "       [ 0, -1,  0, -1,  0, -1,  0, -1],\n",
       "       [-1,  0, -1,  0, -1,  0, -1,  0],\n",
       "       [ 0, -1,  0, -1,  0, -1,  0, -1]])"
      ]
     },
     "execution_count": 25,
     "metadata": {},
     "output_type": "execute_result"
    }
   ],
   "source": [
    "board"
   ]
  },
  {
   "cell_type": "code",
   "execution_count": 26,
   "metadata": {},
   "outputs": [],
   "source": [
    "def move(board, player, move, in_place = True):\n",
    "    \"\"\"\n",
    "    Return new state of board after performing a move\n",
    "    \"\"\"\n",
    "    prev_pos, next_pos = move\n",
    "    i,j = prev_pos\n",
    "    ii,jj = next_pos\n",
    "    assert board[i,j] == player\n",
    "    assert board[ii,jj] == -1\n",
    "    if in_place:\n",
    "        board[i,j] = -1\n",
    "        board[ii,jj] = player\n",
    "        return board\n",
    "    else:\n",
    "        new_board = board.copy()\n",
    "        new_board[i,j] = -1\n",
    "        new_board[ii,jj] = player\n",
    "        return new_board"
   ]
  },
  {
   "cell_type": "code",
   "execution_count": 27,
   "metadata": {},
   "outputs": [
    {
     "data": {
      "text/plain": [
       "0"
      ]
     },
     "execution_count": 27,
     "metadata": {},
     "output_type": "execute_result"
    }
   ],
   "source": [
    "board[5,0]"
   ]
  },
  {
   "cell_type": "code",
   "execution_count": 28,
   "metadata": {},
   "outputs": [],
   "source": [
    "def man_move(board, player, pos):\n",
    "    \"\"\"\n",
    "    Non-capturing moves of regular pieces\n",
    "    \"\"\"\n",
    "    i,j = pos\n",
    "    assert board[i,j] == player\n",
    "    direction = player*2-1\n",
    "    possible_moves = []\n",
    "    moves = [(i+direction,j-1),(i+direction,j+1)]\n",
    "    for move in moves:\n",
    "        ii,jj = move\n",
    "        if 0 <= jj <= 7 and board[ii,jj] == -1:\n",
    "            possible_moves.append(move)\n",
    "    return possible_moves"
   ]
  },
  {
   "cell_type": "code",
   "execution_count": 29,
   "metadata": {},
   "outputs": [],
   "source": [
    "def player_pieces(board, player):\n",
    "    \"\"\"\n",
    "    Returns positions of a player's pieces\n",
    "    \"\"\"\n",
    "    i,j = np.where(board == player)\n",
    "    return list(zip(list(i),list(j)))"
   ]
  },
  {
   "cell_type": "code",
   "execution_count": 30,
   "metadata": {},
   "outputs": [],
   "source": [
    "def mergeDict(dict1, dict2):\n",
    "    ''' Merge dictionaries and keep values of common keys in list\n",
    "        Assumes values are lists\n",
    "    '''\n",
    "    dict3 = {**dict1, **dict2}\n",
    "    for key, value in dict3.items():\n",
    "        if key in dict1 and key in dict2:\n",
    "            dict3[key] = value + dict1[key]\n",
    "    return dict3"
   ]
  },
  {
   "cell_type": "code",
   "execution_count": 31,
   "metadata": {},
   "outputs": [],
   "source": [
    "def all_possible_moves_from(board, player):\n",
    "    \"\"\"\n",
    "    Returns all movements and capture-moves that a player can perform with his pieces\n",
    "    \"\"\"\n",
    "    player_piece_pos = player_pieces(board, player)\n",
    "    movement_moves = {piece:man_move(board, player, piece) for piece in player_piece_pos if man_move(board, player, piece)}\n",
    "    capture_moves = {piece:man_capture(board, player, piece) for piece in player_piece_pos if man_capture(board, player, piece)}\n",
    "    return mergeDict(movement_moves, capture_moves)"
   ]
  },
  {
   "cell_type": "code",
   "execution_count": 32,
   "metadata": {},
   "outputs": [
    {
     "data": {
      "text/plain": [
       "array([[-1,  1, -1,  1, -1,  1, -1,  1],\n",
       "       [ 1, -1,  1, -1,  1, -1,  1, -1],\n",
       "       [-1,  1, -1,  1, -1,  1, -1,  1],\n",
       "       [-1, -1, -1, -1, -1, -1, -1, -1],\n",
       "       [-1, -1, -1, -1, -1, -1, -1, -1],\n",
       "       [ 0, -1,  0, -1,  0, -1,  0, -1],\n",
       "       [-1,  0, -1,  0, -1,  0, -1,  0],\n",
       "       [ 0, -1,  0, -1,  0, -1,  0, -1]])"
      ]
     },
     "execution_count": 32,
     "metadata": {},
     "output_type": "execute_result"
    }
   ],
   "source": [
    "board"
   ]
  },
  {
   "cell_type": "code",
   "execution_count": 33,
   "metadata": {},
   "outputs": [],
   "source": [
    "board[0,5] = -1"
   ]
  },
  {
   "cell_type": "code",
   "execution_count": 123,
   "metadata": {},
   "outputs": [],
   "source": [
    "def one_jump(board, player, pos):\n",
    "    \"\"\"\n",
    "    Returns a list of positions a piece in a given position can move to, by capturing an opponent piece\n",
    "    \"\"\"\n",
    "    x,y = pos\n",
    "    assert board[x,y] == player\n",
    "    jumps = []\n",
    "    # look at all diagonal neighbors\n",
    "    # unless they fall out of bounds\n",
    "    neighbors = [(x+i,y+j) if 0 <= x+i <= 7 and 0 <= y+j <= 7 else pos for i in [-1,1] for j in [-1,1]]\n",
    "    # same for 2nd order diagonal neighbors\n",
    "    second_order_neighbors = [(x+i,y+j) if 0 <= x+i <= 7 and 0 <= y+j <= 7 else pos for i in [-2,2] for j in [-2,2]]\n",
    "    # return all jumps where the neighbor has an opponent piece and 2nd order neighbor is empty\n",
    "    for i,j in zip(neighbors, second_order_neighbors):\n",
    "        if (board[i[0],i[1]],board[j[0],j[1]]) == (1-player,-1):\n",
    "            jumps.append(j)\n",
    "    return jumps"
   ]
  },
  {
   "cell_type": "code",
   "execution_count": null,
   "metadata": {},
   "outputs": [],
   "source": []
  },
  {
   "cell_type": "code",
   "execution_count": 36,
   "metadata": {},
   "outputs": [
    {
     "data": {
      "text/plain": [
       "array([[-1,  1, -1,  1, -1,  1, -1,  1],\n",
       "       [ 1, -1,  1, -1,  1, -1,  1, -1],\n",
       "       [-1,  1, -1, -1, -1, -1, -1,  1],\n",
       "       [-1, -1,  1, -1,  1, -1, -1, -1],\n",
       "       [-1,  0, -1, -1, -1, -1, -1, -1],\n",
       "       [-1, -1,  0, -1,  0, -1,  0, -1],\n",
       "       [-1,  0, -1,  0, -1,  0, -1,  0],\n",
       "       [ 0, -1,  0, -1,  0, -1,  0, -1]])"
      ]
     },
     "execution_count": 36,
     "metadata": {},
     "output_type": "execute_result"
    }
   ],
   "source": [
    "board = init()\n",
    "\n",
    "move(board, 1, ((2,3), (3,2)))\n",
    "move(board, 0, ((5,0), (4,1)))\n",
    "move(board, 1, ((2,5), (3,4)))"
   ]
  },
  {
   "cell_type": "code",
   "execution_count": 37,
   "metadata": {},
   "outputs": [],
   "source": [
    "board[0,1] = -1\n",
    "board[5,2] = 1\n",
    "board[6,3] = -1\n",
    "board[5,4] = 1"
   ]
  },
  {
   "cell_type": "code",
   "execution_count": 38,
   "metadata": {},
   "outputs": [
    {
     "data": {
      "text/plain": [
       "<matplotlib.image.AxesImage at 0x7f7c8d466ac8>"
      ]
     },
     "execution_count": 38,
     "metadata": {},
     "output_type": "execute_result"
    },
    {
     "data": {
      "image/png": "[encoded data removed]",
      "text/plain": [
       "<Figure size 432x288 with 1 Axes>"
      ]
     },
     "metadata": {
      "needs_background": "light"
     },
     "output_type": "display_data"
    }
   ],
   "source": [
    "plt.imshow(board)"
   ]
  },
  {
   "cell_type": "code",
   "execution_count": 40,
   "metadata": {},
   "outputs": [],
   "source": [
    "def king_move(board, player, pos):\n",
    "    \"\"\"\n",
    "    Returns all moves possible by king pieces (dames)\n",
    "    \"\"\"\n",
    "    diag1 = [(ii,sum(pos)-ii) for ii in range(8) if 0 <= sum(pos)-ii <= 7]\n",
    "    diag2 = [(ii,ii-(pos[0]-pos[1])) for ii in range(8) if 0 <= ii-(pos[0]-pos[1]) <= 7]\n",
    "    moves = []\n",
    "    pos_idx = pos_idx = diag2.index(pos)\n",
    "    for i in range(pos_idx+1,len(diag2)):\n",
    "        if board[diag2[i]] == -1:\n",
    "            moves.append(diag2[i])\n",
    "        else:\n",
    "            break\n",
    "    for i in reversed(range(pos_idx + 1)):\n",
    "        if board[diag2[i]] == -1:\n",
    "            moves.append(diag2[i])\n",
    "        else:\n",
    "            break\n",
    "    \n",
    "    pos_idx = pos_idx = diag1.index(pos)\n",
    "\n",
    "    for i in range(pos_idx+1,len(diag1)):\n",
    "        if board[diag1[i]] == -1:\n",
    "            moves.append(diag1[i])\n",
    "        else:\n",
    "            break\n",
    "\n",
    "    for i in reversed(range(len(diag1) - pos_idx)):\n",
    "        if board[diag1[i]] == -1:\n",
    "            moves.append(diag1[i])\n",
    "        else:\n",
    "            break\n",
    "    return moves"
   ]
  },
  {
   "cell_type": "code",
   "execution_count": null,
   "metadata": {},
   "outputs": [],
   "source": [
    "def king_jump(board, player, pos):\n",
    "    x,y = pos\n",
    "    assert board[x,y] == player\n",
    "    jumps = []\n",
    "    # look at all diagonal neighbors\n",
    "    # unless they fall out of bounds\n",
    "    moves = king_move(board, player, pos)\n",
    "    # same for 2nd order diagonal neighbors\n",
    "    second_order_neighbors = [(x+i,y+j) if 0 <= x+i <= 7 and 0 <= y+j <= 7 else pos for i in [-2,2] for j in [-2,2]]\n",
    "    # return all jumps where the neighbor has an opponent piece and 2nd order neighbor is empty\n",
    "    for i,j in zip(neighbors, second_order_neighbors):\n",
    "        if (board[i[0],i[1]],board[j[0],j[1]]) == (1-player,-1):\n",
    "            jumps.append(j)\n",
    "    return jumps"
   ]
  },
  {
   "cell_type": "code",
   "execution_count": 41,
   "metadata": {},
   "outputs": [],
   "source": [
    "def middle_capture(pos,new_pos):\n",
    "    assert abs(pos[0]-new_pos[0]) == abs(pos[1]-new_pos[1]) == 2\n",
    "    return (pos[0]+new_pos[0])//2,(pos[1]+new_pos[1])//2"
   ]
  },
  {
   "cell_type": "code",
   "execution_count": 201,
   "metadata": {},
   "outputs": [],
   "source": [
    "def capture(board, player, pos, chains = None, depth = 0):\n",
    "    \"\"\"\n",
    "    Finds all chains of capture moves,\n",
    "    returns all subchains\n",
    "    \"\"\"\n",
    "    if chains is None:\n",
    "        chains = []\n",
    "    new_pos = one_jump(board, player, pos)\n",
    "    depth += 1\n",
    "    branches = 0\n",
    "    for p in new_pos:\n",
    "        branches += 1\n",
    "        if depth == 1:\n",
    "            subchain = []\n",
    "            chains.append(subchain)\n",
    "        elif depth > 1 and branches == 1:\n",
    "            subchain = chains[-1]\n",
    "        elif depth > 1 and branches > 1:\n",
    "            subchain = chains[-1][:-1].copy()\n",
    "            chains.append(subchain)\n",
    "        subchain.append(p)\n",
    "        hypothetical_board = move(board, player, (pos,p), in_place=False)\n",
    "        hypothetical_board[middle_capture(pos,p)] = -1\n",
    "        capture(hypothetical_board, player, p, chains, depth)\n",
    "    all_capture_moves = []\n",
    "    for chain in chains:\n",
    "        for n in range(1,len(chain)+1):\n",
    "            if chain[:n] not in all_capture_moves:\n",
    "                all_capture_moves.append(chain[:n])\n",
    "    return all_capture_moves"
   ]
  },
  {
   "cell_type": "code",
   "execution_count": 203,
   "metadata": {},
   "outputs": [],
   "source": [
    "board = np.ones((8,8), dtype=np.int)*(-1)\n",
    "# init whites\n",
    "board[7,1] = 1\n",
    "# init blacks\n",
    "board[4,4] = 0\n",
    "#board[5,3] = 0\n",
    "board[2,6] = 0\n",
    "#board[6,2] = 0\n",
    "#board[5,5] = 0"
   ]
  },
  {
   "cell_type": "code",
   "execution_count": 204,
   "metadata": {},
   "outputs": [
    {
     "data": {
      "text/plain": [
       "<matplotlib.image.AxesImage at 0x7f7c589e6278>"
      ]
     },
     "execution_count": 204,
     "metadata": {},
     "output_type": "execute_result"
    },
    {
     "data": {
      "image/png": "[encoded data removed]",
      "text/plain": [
       "<Figure size 432x288 with 1 Axes>"
      ]
     },
     "metadata": {
      "needs_background": "light"
     },
     "output_type": "display_data"
    }
   ],
   "source": [
    "plt.imshow(board)"
   ]
  },
  {
   "cell_type": "code",
   "execution_count": 206,
   "metadata": {},
   "outputs": [
    {
     "data": {
      "text/plain": [
       "[(1, 7)]"
      ]
     },
     "execution_count": 206,
     "metadata": {},
     "output_type": "execute_result"
    }
   ],
   "source": [
    "king_move(board, 1, (7,1))"
   ]
  },
  {
   "cell_type": "code",
   "execution_count": 205,
   "metadata": {},
   "outputs": [
    {
     "data": {
      "text/plain": [
       "[]"
      ]
     },
     "execution_count": 205,
     "metadata": {},
     "output_type": "execute_result"
    }
   ],
   "source": [
    "capture(board, 1, (7,1))"
   ]
  },
  {
   "cell_type": "code",
   "execution_count": null,
   "metadata": {},
   "outputs": [],
   "source": []
  }
 ],
 "metadata": {
  "kernelspec": {
   "display_name": "Python 3",
   "language": "python",
   "name": "python3"
  },
  "language_info": {
   "codemirror_mode": {
    "name": "ipython",
    "version": 3
   },
   "file_extension": ".py",
   "mimetype": "text/x-python",
   "name": "python",
   "nbconvert_exporter": "python",
   "pygments_lexer": "ipython3",
   "version": "3.7.3"
  }
 },
 "nbformat": 4,
 "nbformat_minor": 2
}

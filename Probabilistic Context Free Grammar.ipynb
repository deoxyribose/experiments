{
 "cells": [
  {
   "cell_type": "code",
   "execution_count": 1,
   "metadata": {},
   "outputs": [],
   "source": [
    "import numpy as np"
   ]
  },
  {
   "cell_type": "code",
   "execution_count": 2,
   "metadata": {},
   "outputs": [],
   "source": [
    "terminal = ['G','M','B','C']\n",
    "production_rules = [('G','GG+G'),('G','MG+G'),('G','GM^t+G'),('M','MG+G'),('G','CG+G'),('G','GC^t+G'),('G','exp(G)*G'),('G','BG+G'),('G','GB^t+G'),('B','BG+G'),('M','B')]\n",
    "start = 'G'\n",
    "production_rule_probabilities = np.ones(len(production_rules))/len(production_rules)"
   ]
  },
  {
   "cell_type": "code",
   "execution_count": 12,
   "metadata": {},
   "outputs": [],
   "source": [
    "def sample_rule():\n",
    "    idx = np.random.choice(len(production_rules),p=production_rule_probabilities)\n",
    "    print(production_rules[idx])\n",
    "    return production_rules[idx]"
   ]
  },
  {
   "cell_type": "code",
   "execution_count": 13,
   "metadata": {},
   "outputs": [],
   "source": [
    "def apply(string,rule):\n",
    "    assert rule[0] in string\n",
    "    return string.replace(rule[0],'('+rule[1]+')',1)"
   ]
  },
  {
   "cell_type": "code",
   "execution_count": 14,
   "metadata": {},
   "outputs": [],
   "source": [
    "def apply_random_rule(string):\n",
    "    try:\n",
    "        return apply(string,sample_rule())\n",
    "    except AssertionError:\n",
    "        return apply_random_rule(string)"
   ]
  },
  {
   "cell_type": "code",
   "execution_count": 15,
   "metadata": {},
   "outputs": [
    {
     "name": "stdout",
     "output_type": "stream",
     "text": [
      "('G', 'GB^t+G')\n",
      "('G', 'BG+G')\n"
     ]
    },
    {
     "data": {
      "text/plain": [
       "'((BG+G)B^t+G)'"
      ]
     },
     "execution_count": 15,
     "metadata": {},
     "output_type": "execute_result"
    }
   ],
   "source": [
    "apply_random_rule(apply_random_rule(start))"
   ]
  },
  {
   "cell_type": "code",
   "execution_count": 16,
   "metadata": {},
   "outputs": [
    {
     "name": "stdout",
     "output_type": "stream",
     "text": [
      "('G', 'MG+G')\n",
      "('M', 'B')\n",
      "('G', 'CG+G')\n",
      "('G', 'GB^t+G')\n"
     ]
    }
   ],
   "source": [
    "string = start\n",
    "for i in range(4):\n",
    "    string = apply_random_rule(string)"
   ]
  },
  {
   "cell_type": "code",
   "execution_count": 18,
   "metadata": {},
   "outputs": [
    {
     "name": "stdout",
     "output_type": "stream",
     "text": [
      "((B)(C(GB^t+G)+G)+G)\n"
     ]
    }
   ],
   "source": [
    "print(string)"
   ]
  },
  {
   "cell_type": "code",
   "execution_count": null,
   "metadata": {},
   "outputs": [],
   "source": []
  }
 ],
 "metadata": {
  "kernelspec": {
   "display_name": "Python 3",
   "language": "python",
   "name": "python3"
  },
  "language_info": {
   "codemirror_mode": {
    "name": "ipython",
    "version": 3
   },
   "file_extension": ".py",
   "mimetype": "text/x-python",
   "name": "python",
   "nbconvert_exporter": "python",
   "pygments_lexer": "ipython3",
   "version": "3.7.3"
  }
 },
 "nbformat": 4,
 "nbformat_minor": 2
}

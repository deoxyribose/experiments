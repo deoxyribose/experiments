{
 "cells": [
  {
   "cell_type": "code",
   "execution_count": 1,
   "metadata": {},
   "outputs": [],
   "source": [
    "import networkx as nx\n",
    "import pyro.distributions as dist\n",
    "import matplotlib.pylab as plt\n",
    "import numpy as np\n",
    "import sys\n",
    "sys.path.append(\"/home/folzd/phd/compositions_mixtures_factors\")\n",
    "from model_operators import *\n",
    "from utils import *\n",
    "from code_generation import *\n",
    "from graph_grammar import *\n",
    "from models_and_guides import *\n",
    "from inference import *\n",
    "from plotting import *"
   ]
  },
  {
   "cell_type": "code",
   "execution_count": 2,
   "metadata": {},
   "outputs": [],
   "source": [
    "%load_ext autoreload\n",
    "\n",
    "%autoreload 2"
   ]
  },
  {
   "cell_type": "markdown",
   "metadata": {},
   "source": [
    "## Define graph for factor model"
   ]
  },
  {
   "cell_type": "code",
   "execution_count": 3,
   "metadata": {},
   "outputs": [],
   "source": [
    "factor = nx.DiGraph()"
   ]
  },
  {
   "cell_type": "code",
   "execution_count": 4,
   "metadata": {},
   "outputs": [],
   "source": [
    "nodes = [\n",
    "    #('z_loc',{'type':'const', 'value':0.}),\n",
    "    #('z_scale',{'type':'const', 'value':1.}),\n",
    "    ('z_loc',{'type':'function', 'function':torch.zeros, 'args':(Name(id='K'),)}),\n",
    "    ('z_scale',{'type':'function', 'function':torch.ones, 'args':(Name(id='K'),)}),\n",
    "    ('z',{'distribution':dist.Normal,'type':'latent','event_dims':1}),\n",
    "    #('z_T',{'type':'deterministic', 'function':torch.transpose, 'args':(Num(0),Num(1))}),\n",
    "    #('z_T',{'type':'function', 'function':torch.transpose, 'args':(Num(0),Num(1))}),\n",
    "    ('cov_diag_loc',{'type':'param','shape':'D'}),\n",
    "    ('cov_diag_scale',{'type':'param','shape':'D','constraint':'positive'}),\n",
    "#    ('cov_factor_loc',{'type':'param','shape':'KD'}),\n",
    "#    ('cov_factor_scale',{'type':'param','shape':'KD','constraint':'positive'}),\n",
    "    ('cov_factor_loc',{'type':'param','shape':'DK'}),\n",
    "    ('cov_factor_scale',{'type':'param','shape':'DK','constraint':'positive'}),\n",
    "    ('cov_factor',{'distribution':dist.Normal,'type':'latent','event_dims':2}),\n",
    "    #('Wz',{'type':'deterministic', 'function':torch.matmul}),\n",
    "    ('Wz',{'type':'function', 'function':torch.matmul, 'args':('p','t')}),\n",
    "    ('X',{'distribution':dist.MultivariateNormal,'type':'obs'}),\n",
    "    ('cov_diag',{'distribution':dist.LogNormal,'type':'latent','event_dims':1}),\n",
    "    ('cov_diag_j',{'type':'function', 'function':torch.add, 'args':('p',Num(n=0.0001))}),\n",
    "    #('diag',{'type':'deterministic', 'function':torch.diag_embed}),\n",
    "    ('diag',{'type':'function', 'function':torch.diag_embed}),\n",
    "]"
   ]
  },
  {
   "cell_type": "code",
   "execution_count": 5,
   "metadata": {},
   "outputs": [],
   "source": [
    "edges = [\n",
    "    ('cov_diag_loc','cov_diag',{'type':'param','param':'loc'}),\n",
    "    ('cov_diag_scale','cov_diag',{'type':'param','param':'scale'}),\n",
    "    ('cov_factor_loc','cov_factor',{'type':'param','param':'loc'}),\n",
    "    ('cov_factor_scale','cov_factor',{'type':'param','param':'scale'}),\n",
    "    ('z_loc','z',{'type':'param','param':'loc'}),\n",
    "    ('z_scale','z',{'type':'param','param':'scale'}),    \n",
    "    #('z','Wz',{'type':'arg', 'transpose':True}),\n",
    "#    ('z','z_T',{'type':'arg'}),\n",
    "#    ('z_T','Wz',{'type':'arg'}),\n",
    "    ('z','Wz',{'type':'arg'}),\n",
    "    ('cov_factor','Wz',{'type':'arg'}),\n",
    "    ('Wz','X',{'type':'param','param':'loc'}),\n",
    "    #('cov_diag','X',{'type':'param','param':'scale'})\n",
    "    ('cov_diag','cov_diag_j',{'type':'arg'}),\n",
    "    ('cov_diag_j','diag',{'type':'arg'}),\n",
    "    ('diag','X',{'type':'param','param':'covariance_matrix'})\n",
    "]"
   ]
  },
  {
   "cell_type": "code",
   "execution_count": 6,
   "metadata": {},
   "outputs": [],
   "source": [
    "plate_attr = {\n",
    "#    'cov_factor':{'plates':['D','K']},\n",
    "#    'cov_diag':{'plates':['D']},\n",
    "    'X':{'plates':['N']},\n",
    "    'Wz':{'plates':['N']},\n",
    "    #'z':{'plates':['N','K']},\n",
    "    'z':{'plates':['N']},\n",
    "    #'z_T':{'plates':['N']}\n",
    "}"
   ]
  },
  {
   "cell_type": "code",
   "execution_count": 7,
   "metadata": {},
   "outputs": [],
   "source": [
    "factor.add_nodes_from(nodes)\n",
    "factor.add_edges_from(edges)\n",
    "nx.set_node_attributes(factor, plate_attr)"
   ]
  },
  {
   "cell_type": "markdown",
   "metadata": {},
   "source": [
    "W: D, K\n",
    "\n",
    "z: K, N\n",
    "\n",
    "Sigma: D\n",
    "\n",
    "Wz: N\n",
    "\n",
    "X: N"
   ]
  },
  {
   "cell_type": "code",
   "execution_count": 8,
   "metadata": {},
   "outputs": [
    {
     "name": "stderr",
     "output_type": "stream",
     "text": [
      "/home/folzd/anaconda3/lib/python3.7/site-packages/networkx/drawing/nx_pylab.py:579: MatplotlibDeprecationWarning: \n",
      "The iterable function was deprecated in Matplotlib 3.1 and will be removed in 3.3. Use np.iterable instead.\n",
      "  if not cb.iterable(width):\n",
      "/home/folzd/anaconda3/lib/python3.7/site-packages/networkx/drawing/nx_pylab.py:676: MatplotlibDeprecationWarning: \n",
      "The iterable function was deprecated in Matplotlib 3.1 and will be removed in 3.3. Use np.iterable instead.\n",
      "  if cb.iterable(node_size):  # many node sizes\n"
     ]
    },
    {
     "data": {
      "image/png": "[encoded data removed]",
      "text/plain": [
       "<Figure size 432x288 with 1 Axes>"
      ]
     },
     "metadata": {},
     "output_type": "display_data"
    }
   ],
   "source": [
    "nx.draw(factor, with_labels=True)"
   ]
  },
  {
   "cell_type": "markdown",
   "metadata": {},
   "source": [
    "## Marginalize latent variables out"
   ]
  },
  {
   "cell_type": "code",
   "execution_count": 9,
   "metadata": {},
   "outputs": [],
   "source": [
    "marg_factor = marginalize_factor(factor)"
   ]
  },
  {
   "cell_type": "code",
   "execution_count": 10,
   "metadata": {
    "scrolled": false
   },
   "outputs": [
    {
     "data": {
      "image/png": "[encoded data removed]",
      "text/plain": [
       "<Figure size 432x288 with 1 Axes>"
      ]
     },
     "metadata": {},
     "output_type": "display_data"
    }
   ],
   "source": [
    "nx.draw(marg_factor, with_labels=True)"
   ]
  },
  {
   "cell_type": "markdown",
   "metadata": {},
   "source": [
    "### Create graph and code for mixture of factor analyzers"
   ]
  },
  {
   "cell_type": "code",
   "execution_count": 11,
   "metadata": {},
   "outputs": [],
   "source": [
    "mixture = mixture_from_marg_factor(marg_factor)"
   ]
  },
  {
   "cell_type": "code",
   "execution_count": 12,
   "metadata": {},
   "outputs": [
    {
     "data": {
      "image/png": "[encoded data removed]",
      "text/plain": [
       "<Figure size 432x288 with 1 Axes>"
      ]
     },
     "metadata": {},
     "output_type": "display_data"
    }
   ],
   "source": [
    "nx.draw(mixture, with_labels=True)"
   ]
  },
  {
   "cell_type": "code",
   "execution_count": 13,
   "metadata": {},
   "outputs": [
    {
     "data": {
      "text/plain": [
       "{'cov_diag_loc': ['C'],\n",
       " 'cov_diag_scale': ['C'],\n",
       " 'cov_factor_loc': ['C'],\n",
       " 'cov_factor_scale': ['C'],\n",
       " 'cov_factor': ['C'],\n",
       " 'X': ['N'],\n",
       " 'cov_diag': ['C'],\n",
       " 'cov_diag_j': ['C'],\n",
       " 'loc': ['C'],\n",
       " 'assignment': ['N'],\n",
       " 'cov_factor_idx': ['N'],\n",
       " 'cov_diag_j_idx': ['N'],\n",
       " 'loc_idx': ['N']}"
      ]
     },
     "execution_count": 13,
     "metadata": {},
     "output_type": "execute_result"
    }
   ],
   "source": [
    "nx.get_node_attributes(mixture, 'plates')"
   ]
  },
  {
   "cell_type": "code",
   "execution_count": 14,
   "metadata": {},
   "outputs": [
    {
     "data": {
      "text/plain": [
       "{'cov_diag_loc': 'CD',\n",
       " 'cov_diag_scale': 'CD',\n",
       " 'cov_factor_loc': 'CDK',\n",
       " 'cov_factor_scale': 'CDK',\n",
       " 'mixing_proportions_concentration': 'C',\n",
       " 'loc_loc': 'CD',\n",
       " 'loc_scale': 'CD'}"
      ]
     },
     "execution_count": 14,
     "metadata": {},
     "output_type": "execute_result"
    }
   ],
   "source": [
    "nx.get_node_attributes(mixture, 'shape')"
   ]
  },
  {
   "cell_type": "code",
   "execution_count": 15,
   "metadata": {
    "scrolled": false
   },
   "outputs": [],
   "source": [
    "#generate_Model_class(marg_factor)\n",
    "generate_Model_class(mixture)"
   ]
  },
  {
   "cell_type": "code",
   "execution_count": 16,
   "metadata": {},
   "outputs": [],
   "source": [
    "from model import DAGModel"
   ]
  },
  {
   "cell_type": "code",
   "execution_count": 17,
   "metadata": {},
   "outputs": [],
   "source": [
    "pyro.clear_param_store()\n",
    "N = 5000\n",
    "D = 2\n",
    "K = 4\n",
    "C = 5\n",
    "dagmodel = DAGModel(torch.zeros(N,D),K,C,N,'id')\n",
    "tmp = dagmodel.model(torch.zeros(N,D))"
   ]
  },
  {
   "cell_type": "code",
   "execution_count": 18,
   "metadata": {},
   "outputs": [
    {
     "data": {
      "text/plain": [
       "{'loc_scale_init_id': ((5, 2), GreaterThan(lower_bound=0.0)),\n",
       " 'loc_prior_scale_init_id': ((5, 2), GreaterThan(lower_bound=0.0)),\n",
       " 'loc_loc_init_id': ((5, 2), Real()),\n",
       " 'loc_prior_loc_init_id': ((5, 2), Real()),\n",
       " 'mixing_proportions_concentration_init_id': ((5,),\n",
       "  GreaterThan(lower_bound=0.0)),\n",
       " 'mixing_proportions_prior_concentration_init_id': ((5,),\n",
       "  GreaterThan(lower_bound=0.0)),\n",
       " 'cov_factor_scale_init_id': ((5, 2, 4), GreaterThan(lower_bound=0.0)),\n",
       " 'cov_factor_prior_scale_init_id': ((5, 2, 4), GreaterThan(lower_bound=0.0)),\n",
       " 'cov_factor_loc_init_id': ((5, 2, 4), Real()),\n",
       " 'cov_factor_prior_loc_init_id': ((5, 2, 4), Real()),\n",
       " 'cov_diag_scale_init_id': ((5, 2), GreaterThan(lower_bound=0.0)),\n",
       " 'cov_diag_prior_scale_init_id': ((5, 2), GreaterThan(lower_bound=0.0)),\n",
       " 'cov_diag_loc_init_id': ((5, 2), Real()),\n",
       " 'cov_diag_prior_loc_init_id': ((5, 2), Real())}"
      ]
     },
     "execution_count": 18,
     "metadata": {},
     "output_type": "execute_result"
    }
   ],
   "source": [
    "dagmodel.param_shapes_and_support"
   ]
  },
  {
   "cell_type": "code",
   "execution_count": 19,
   "metadata": {},
   "outputs": [],
   "source": [
    "pyro.set_rng_seed(42)"
   ]
  },
  {
   "cell_type": "code",
   "execution_count": 20,
   "metadata": {},
   "outputs": [],
   "source": [
    "dgp = dagmodel.unconditioned_model\n",
    "trace = pyro.poutine.trace(dgp).get_trace(torch.empty(N,D))\n",
    "true_variables = dict([(name,trace.nodes[name][\"value\"]) for name in trace.stochastic_nodes if len(name)>1])\n",
    "true_locs = true_variables['loc_id']*20\n",
    "\n",
    "new_dgp = pyro.poutine.condition(dgp, data={'loc_id':true_locs})\n",
    "trace = pyro.poutine.trace(new_dgp).get_trace(torch.empty(N,D))\n",
    "\n",
    "true_variables = dict([(name,trace.nodes[name][\"value\"]) for name in trace.stochastic_nodes if len(name)>1])\n",
    "X = true_variables['obs'].detach()\n",
    "Xz = torch.cat([X,true_variables['assignment_id'].detach().float().unsqueeze(-1)],dim=-1)\n",
    "Xzdata, Xztest_data = train_test_split(Xz)\n",
    "data, train_assign = Xzdata[:,:-1],Xzdata[:,-1]\n",
    "test_data, test_assign = Xztest_data[:,:-1],Xztest_data[:,-1]"
   ]
  },
  {
   "cell_type": "code",
   "execution_count": 21,
   "metadata": {},
   "outputs": [
    {
     "data": {
      "text/plain": [
       "torch.Size([5000, 2])"
      ]
     },
     "execution_count": 21,
     "metadata": {},
     "output_type": "execute_result"
    }
   ],
   "source": [
    "X.shape"
   ]
  },
  {
   "cell_type": "code",
   "execution_count": 22,
   "metadata": {
    "scrolled": false
   },
   "outputs": [
    {
     "data": {
      "text/plain": [
       "<matplotlib.collections.PathCollection at 0x7f6905101518>"
      ]
     },
     "execution_count": 22,
     "metadata": {},
     "output_type": "execute_result"
    },
    {
     "data": {
      "image/png": "[encoded data removed]",
      "text/plain": [
       "<Figure size 432x288 with 1 Axes>"
      ]
     },
     "metadata": {
      "needs_background": "light"
     },
     "output_type": "display_data"
    }
   ],
   "source": [
    "rand_idx = np.random.choice(D,2, replace=False)\n",
    "\n",
    "rand_idx\n",
    "\n",
    "plt.scatter(*data[:,rand_idx].T,c=train_assign.squeeze())\n",
    "#plt.scatter(*foo['obs'][:,0,0,rand_idx].squeeze().T.detach())"
   ]
  },
  {
   "cell_type": "code",
   "execution_count": 23,
   "metadata": {},
   "outputs": [],
   "source": [
    "config = dict(\n",
    "        n_iter = 8000,\n",
    "        learning_rate = 0.01, \n",
    "        beta1 = 0.9,\n",
    "        beta2 = 0.999,\n",
    "        learning_rate_decay = 1., # no decay by default\n",
    "        batch_size = 32, \n",
    "        n_elbo_particles = 1, \n",
    "        n_posterior_samples = 1024,\n",
    "        window = 500,\n",
    "        convergence_window = 30,\n",
    "        slope_significance = 0.1,\n",
    "        track_params = False,\n",
    "        monitor_gradients = False,\n",
    "        telemetry = None\n",
    "    )"
   ]
  },
  {
   "cell_type": "code",
   "execution_count": 24,
   "metadata": {},
   "outputs": [],
   "source": [
    "pyro.clear_param_store()\n",
    "N = 1000\n",
    "D = 2\n",
    "K = 2\n",
    "C = 1\n",
    "student = DAGModel(torch.zeros(N,D),K,C,N,'id')\n",
    "student.param_init['mixing_proportions_prior_concentration_init' + '_id'] *= 10"
   ]
  },
  {
   "cell_type": "code",
   "execution_count": 25,
   "metadata": {
    "scrolled": true
   },
   "outputs": [
    {
     "name": "stdout",
     "output_type": "stream",
     "text": [
      "\n",
      "\n",
      "NLL after 0/8000 iterations is 83.54182434082031\n",
      "...................................................................................................................................................................................................................................................................................................................................................................................................................................................................................................................................................................................................................................................."
     ]
    },
    {
     "name": "stderr",
     "output_type": "stream",
     "text": [
      "/home/folzd/anaconda3/lib/python3.7/site-packages/pyro/infer/traceenum_elbo.py:419: UserWarning: Encountered NaN: loss\n",
      "  warn_if_nan(loss, \"loss\")\n"
     ]
    },
    {
     "name": "stdout",
     "output_type": "stream",
     "text": [
      "....................................................................................................................................................................................................................................................................................................................................................................................\n",
      "\n",
      "NLL after 1000/8000 iterations is 16.13912582397461\n",
      "\n",
      "\n",
      "...................................................................................................................................................................................................................................................................................................................................................................................................................................................................................................................\n",
      "\n",
      "NLL after 1500/8000 iterations is 12.990479469299316\n",
      "\n",
      "\n",
      "...................................................................................................................................................................................................................................................................................................................................................................................................................................................................................................................\n",
      "\n",
      "NLL after 2000/8000 iterations is 11.205305099487305\n",
      "\n",
      "\n",
      "...................................................................................................................................................................................................................................................................................................................................................................................................................................................................................................................\n",
      "\n",
      "NLL after 2500/8000 iterations is 10.26052474975586\n",
      "\n",
      "\n",
      "...................................................................................................................................................................................................................................................................................................................................................................................................................................................................................................................\n",
      "\n",
      "NLL after 3000/8000 iterations is 9.827770233154297\n",
      "\n",
      "\n",
      "...................................................................................................................................................................................................................................................................................................................................................................................................................................................................................................................\n",
      "\n",
      "NLL after 3500/8000 iterations is 9.65654182434082\n",
      "\n",
      "\n",
      "...................................................................................................................................................................................................................................................................................................................................................................................................................................................................................................................\n",
      "\n",
      "NLL after 4000/8000 iterations is 9.542046546936035\n",
      "\n",
      "\n",
      "...................................................................................................................................................................................................................................................................................................................................................................................................................................................................................................................\n",
      "\n",
      "NLL after 4500/8000 iterations is 9.4923677444458\n",
      "\n",
      "\n",
      "...................................................................................................................................................................................................................................................................................................................................................................................................................................................................................................................\n",
      "\n",
      "NLL after 5000/8000 iterations is 9.450892448425293\n",
      "\n",
      "\n",
      "...................................................................................................................................................................................................................................................................................................................................................................................................................................................................................................................\n",
      "\n",
      "NLL after 5500/8000 iterations is 9.409615516662598\n",
      "\n",
      "\n",
      "...................................................................................................................................................................................................................................................................................................................................................................................................................................................................................................................\n",
      "\n",
      "NLL after 6000/8000 iterations is 9.370675086975098\n",
      "\n",
      "\n",
      "...................................................................................................................................................................................................................................................................................................................................................................................................................................................................................................................\n",
      "\n",
      "NLL after 6500/8000 iterations is 9.331132888793945\n",
      "\n",
      "\n",
      "...................................................................................................................................................................................................................................................................................................................................................................................................................................................................................................................\n",
      "\n",
      "NLL after 7000/8000 iterations is 9.286664962768555\n",
      "\n",
      "\n",
      "...................................................................................................................................................................................................................................................................................................................................................................................................................................................................................................................\n",
      "\n",
      "NLL after 7500/8000 iterations is 9.236776351928711\n",
      "\n",
      "\n",
      "...................................................................................................................................................................................................................................................................................................................................................................................................................................................................................................................\n",
      "Converged in 8000 iterations.\n",
      "\n"
     ]
    }
   ],
   "source": [
    "telemetry = inference(student, data, test_data, config=config)"
   ]
  },
  {
   "cell_type": "code",
   "execution_count": 26,
   "metadata": {},
   "outputs": [],
   "source": [
    "config['telemetry'] = telemetry\n",
    "config['n_iter'] = 2000"
   ]
  },
  {
   "cell_type": "code",
   "execution_count": 27,
   "metadata": {},
   "outputs": [
    {
     "name": "stdout",
     "output_type": "stream",
     "text": [
      "Continuing from previous inference run.\n",
      "\n",
      "\n",
      "NLL after 8000/10000 iterations is 9.181147575378418\n",
      "\n",
      "\n",
      "...................................................................................................................................................................................................................................................................................................................................................................................................................................................................................................................\n",
      "\n",
      "NLL after 8500/10000 iterations is 9.12025260925293\n",
      "\n",
      "\n",
      "...................................................................................................................................................................................................................................................................................................................................................................................................................................................................................................................\n",
      "\n",
      "NLL after 9000/10000 iterations is 9.073633193969727\n",
      "\n",
      "\n",
      "...................................................................................................................................................................................................................................................................................................................................................................................................................................................................................................................\n",
      "\n",
      "NLL after 9500/10000 iterations is 9.04296875\n",
      "\n",
      "\n",
      "...................................................................................................................................................................................................................................................................................................................................................................................................................................................................................................................\n",
      "Converged in 10000 iterations.\n",
      "\n"
     ]
    }
   ],
   "source": [
    "telemetry2 = inference(student, data, test_data, config=config)"
   ]
  },
  {
   "cell_type": "code",
   "execution_count": 28,
   "metadata": {
    "scrolled": false
   },
   "outputs": [],
   "source": [
    "student.sample_posterior_predictive(data.shape[0])"
   ]
  },
  {
   "cell_type": "code",
   "execution_count": 29,
   "metadata": {
    "scrolled": false
   },
   "outputs": [],
   "source": [
    "student.batch_size = 500\n",
    "foo = student.posterior_predictive(data)\n",
    "student.batch_size = 32"
   ]
  },
  {
   "cell_type": "code",
   "execution_count": 30,
   "metadata": {},
   "outputs": [],
   "source": [
    "%matplotlib inline"
   ]
  },
  {
   "cell_type": "code",
   "execution_count": 31,
   "metadata": {},
   "outputs": [
    {
     "data": {
      "text/plain": [
       "[<matplotlib.lines.Line2D at 0x7f68a0d4d748>]"
      ]
     },
     "execution_count": 31,
     "metadata": {},
     "output_type": "execute_result"
    },
    {
     "data": {
      "image/png": "[encoded data removed]",
      "text/plain": [
       "<Figure size 432x288 with 1 Axes>"
      ]
     },
     "metadata": {
      "needs_background": "light"
     },
     "output_type": "display_data"
    }
   ],
   "source": [
    "plt.plot(telemetry['loss'])"
   ]
  },
  {
   "cell_type": "code",
   "execution_count": 32,
   "metadata": {},
   "outputs": [
    {
     "data": {
      "text/plain": [
       "[<matplotlib.lines.Line2D at 0x7f68a0cc6748>]"
      ]
     },
     "execution_count": 32,
     "metadata": {},
     "output_type": "execute_result"
    },
    {
     "data": {
      "image/png": "[encoded data removed]",
      "text/plain": [
       "<Figure size 432x288 with 1 Axes>"
      ]
     },
     "metadata": {
      "needs_background": "light"
     },
     "output_type": "display_data"
    }
   ],
   "source": [
    "plt.plot(telemetry['MNLL'])"
   ]
  },
  {
   "cell_type": "code",
   "execution_count": 33,
   "metadata": {},
   "outputs": [
    {
     "data": {
      "text/plain": [
       "torch.Size([4500, 500, 2])"
      ]
     },
     "execution_count": 33,
     "metadata": {},
     "output_type": "execute_result"
    }
   ],
   "source": [
    "foo['obs'].shape"
   ]
  },
  {
   "cell_type": "code",
   "execution_count": 34,
   "metadata": {},
   "outputs": [
    {
     "data": {
      "text/plain": [
       "torch.Size([4500, 500])"
      ]
     },
     "execution_count": 34,
     "metadata": {},
     "output_type": "execute_result"
    }
   ],
   "source": [
    "foo['assignment_id'].shape"
   ]
  },
  {
   "cell_type": "code",
   "execution_count": 137,
   "metadata": {},
   "outputs": [],
   "source": [
    "def compute_assignments(data, posterior_samples):\n",
    "    _id = list(posterior_samples.keys())[0].split('_')[-1]\n",
    "    n_posterior_samples,C,D = posterior_samples['loc_'+_id].shape\n",
    "\n",
    "    n_posterior_samples = 200\n",
    "    # get component distributions\n",
    "    components = dist.LowRankMultivariateNormal(posterior_samples['loc_'+_id][:n_posterior_samples],posterior_samples['cov_factor_'+_id][:n_posterior_samples],posterior_samples['cov_diag_'+_id][:n_posterior_samples])\n",
    "\n",
    "    # find log_prob of every datapoint under each component, for all posterior samples\n",
    "    responsibilities = components.log_prob(data.unsqueeze(-2).unsqueeze(-2))\n",
    "\n",
    "    greatest_responsibility,most_responsible = responsibilities.max(dim=-1)\n",
    "\n",
    "    return most_responsible.sum(1)>n_posterior_samples/C"
   ]
  },
  {
   "cell_type": "markdown",
   "metadata": {},
   "source": [
    "#### Plot color-coded true data against predictive posterior sample"
   ]
  },
  {
   "cell_type": "code",
   "execution_count": 202,
   "metadata": {},
   "outputs": [
    {
     "ename": "TypeError",
     "evalue": "tuple indices must be integers or slices, not str",
     "output_type": "error",
     "traceback": [
      "\u001b[0;31m---------------------------------------------------------------------------\u001b[0m",
      "\u001b[0;31mTypeError\u001b[0m                                 Traceback (most recent call last)",
      "\u001b[0;32m<ipython-input-202-39e68b5d2683>\u001b[0m in \u001b[0;36m<module>\u001b[0;34m\u001b[0m\n\u001b[1;32m      2\u001b[0m \u001b[0;31m#plt.scatter(*data[:,rand_idx].T)\u001b[0m\u001b[0;34m\u001b[0m\u001b[0;34m\u001b[0m\u001b[0;34m\u001b[0m\u001b[0m\n\u001b[1;32m      3\u001b[0m \u001b[0mplt\u001b[0m\u001b[0;34m.\u001b[0m\u001b[0mscatter\u001b[0m\u001b[0;34m(\u001b[0m\u001b[0;34m*\u001b[0m\u001b[0mdata\u001b[0m\u001b[0;34m[\u001b[0m\u001b[0;34m:\u001b[0m\u001b[0;34m,\u001b[0m\u001b[0mrand_idx\u001b[0m\u001b[0;34m]\u001b[0m\u001b[0;34m.\u001b[0m\u001b[0mT\u001b[0m\u001b[0;34m,\u001b[0m\u001b[0mc\u001b[0m\u001b[0;34m=\u001b[0m\u001b[0mtrain_assign\u001b[0m\u001b[0;34m.\u001b[0m\u001b[0msqueeze\u001b[0m\u001b[0;34m(\u001b[0m\u001b[0;34m)\u001b[0m\u001b[0;34m)\u001b[0m\u001b[0;34m\u001b[0m\u001b[0;34m\u001b[0m\u001b[0m\n\u001b[0;32m----> 4\u001b[0;31m \u001b[0mplt\u001b[0m\u001b[0;34m.\u001b[0m\u001b[0mscatter\u001b[0m\u001b[0;34m(\u001b[0m\u001b[0;34m*\u001b[0m\u001b[0mfoo\u001b[0m\u001b[0;34m[\u001b[0m\u001b[0;34m'obs'\u001b[0m\u001b[0;34m]\u001b[0m\u001b[0;34m[\u001b[0m\u001b[0;34m:\u001b[0m\u001b[0;34m,\u001b[0m\u001b[0;36m0\u001b[0m\u001b[0;34m,\u001b[0m\u001b[0mrand_idx\u001b[0m\u001b[0;34m]\u001b[0m\u001b[0;34m.\u001b[0m\u001b[0msqueeze\u001b[0m\u001b[0;34m(\u001b[0m\u001b[0;34m)\u001b[0m\u001b[0;34m.\u001b[0m\u001b[0mT\u001b[0m\u001b[0;34m.\u001b[0m\u001b[0mdetach\u001b[0m\u001b[0;34m(\u001b[0m\u001b[0;34m)\u001b[0m\u001b[0;34m,\u001b[0m\u001b[0malpha\u001b[0m\u001b[0;34m=\u001b[0m\u001b[0;36m.1\u001b[0m\u001b[0;34m)\u001b[0m\u001b[0;34m\u001b[0m\u001b[0;34m\u001b[0m\u001b[0m\n\u001b[0m",
      "\u001b[0;31mTypeError\u001b[0m: tuple indices must be integers or slices, not str"
     ]
    }
   ],
   "source": [
    "%matplotlib qt\n",
    "#plt.scatter(*data[:,rand_idx].T)\n",
    "plt.scatter(*data[:,rand_idx].T,c=train_assign.squeeze())\n",
    "plt.scatter(*foo['obs'][:,0,rand_idx].squeeze().T.detach(),alpha=.1)"
   ]
  },
  {
   "cell_type": "markdown",
   "metadata": {},
   "source": [
    "#### Plot color-coded predictive posterior sample"
   ]
  },
  {
   "cell_type": "code",
   "execution_count": 40,
   "metadata": {},
   "outputs": [
    {
     "data": {
      "text/plain": [
       "<matplotlib.collections.PathCollection at 0x7f689028f5f8>"
      ]
     },
     "execution_count": 40,
     "metadata": {},
     "output_type": "execute_result"
    }
   ],
   "source": [
    "plt.scatter(*foo['obs'][:,0,rand_idx].squeeze().T.detach(),c=foo['assignment_id'][:,0].squeeze().T.detach())"
   ]
  },
  {
   "cell_type": "markdown",
   "metadata": {},
   "source": [
    "#### Plot true data color-coded by predictive posterior sample"
   ]
  },
  {
   "cell_type": "code",
   "execution_count": 38,
   "metadata": {},
   "outputs": [
    {
     "data": {
      "text/plain": [
       "<matplotlib.collections.PathCollection at 0x7f68902c2e80>"
      ]
     },
     "execution_count": 38,
     "metadata": {},
     "output_type": "execute_result"
    }
   ],
   "source": [
    "plt.scatter(*data[:,rand_idx].T,c=compute_assignments(data, foo))"
   ]
  },
  {
   "cell_type": "markdown",
   "metadata": {},
   "source": [
    "## Make random split"
   ]
  },
  {
   "cell_type": "code",
   "execution_count": 114,
   "metadata": {},
   "outputs": [],
   "source": [
    "def split_along_eigvector(mean, cov):\n",
    "    eigvals, eigvecs = torch.eig(cov, eigenvectors=True)\n",
    "    weighted_eigvecs = torch.matmul(torch.diag(torch.sqrt(eigvals[:,0])),eigvecs.T)\n",
    "    # sample eigevector with probability proportional to eigenvalue\n",
    "    softmax = torch.nn.Softmax(dim=0)\n",
    "    v = np.random.choice(eigvals.shape[0],p=softmax(torch.abs(eigvals[:,0])).numpy())\n",
    "    vec = weighted_eigvecs[v]\n",
    "    eigvals0 = eigvals.clone()\n",
    "    eigvals0[v,0] = eigvals0[v,0]/2\n",
    "    # shift means by weighted eigenvector\n",
    "    # scale factor by 1/2\n",
    "    return torch.stack([mean+vec,mean-vec]), torch.matmul(torch.diag(torch.sqrt(eigvals0[:,0])),eigvecs.T)"
   ]
  },
  {
   "cell_type": "code",
   "execution_count": 198,
   "metadata": {},
   "outputs": [],
   "source": [
    "def init_split_move(student, teacher, split_cluster_idx):\n",
    "    \"\"\"\n",
    "    Replaces all tensors in student.param_init by those in teacher.params,\n",
    "    except for those that define the splitted cluster\n",
    "    \"\"\"\n",
    "    c = split_cluster_idx\n",
    "    \n",
    "    mean = teacher.params['loc_loc_'+teacher._id][c]\n",
    "    variances = torch.exp(teacher.params['cov_diag_loc_'+teacher._id][c]+teacher.params['cov_diag_scale_'+teacher._id][c]**2/2)\n",
    "    cov = torch.matmul(teacher.params['cov_factor_loc_'+teacher._id][c],teacher.params['cov_factor_loc_'+teacher._id][c].T) + torch.diag(variances)\n",
    "    \n",
    "    new_means, new_cov_factor = split_along_eigvector(mean, cov)    \n",
    "    \n",
    "    for param_name, param_value in student.param_init.items():\n",
    "        teacher_param_name = param_name.replace('init_'+student._id, teacher._id)\n",
    "        for component,_ in enumerate(teacher.params[teacher_param_name]):\n",
    "            print(component)\n",
    "            print(c)\n",
    "            if component == c:\n",
    "                student.param_init['loc_loc_init_'+student._id][component] = new_means[0]\n",
    "                student.param_init['loc_loc_init_'+student._id][component + 1] = new_means[1]\n",
    "                student.param_init['loc_prior_loc_init_'+student._id][component] = new_means[0]\n",
    "                student.param_init['loc_prior_loc_init_'+student._id][component + 1] = new_means[1]\n",
    "\n",
    "                student.param_init['cov_factor_loc_init_'+student._id][component] = new_cov_factor\n",
    "                student.param_init['cov_factor_loc_init_'+student._id][component + 1] = new_cov_factor\n",
    "                student.param_init['cov_factor_prior_loc_init_'+student._id][component] = new_cov_factor\n",
    "                student.param_init['cov_factor_prior_loc_init_'+student._id][component + 1] = new_cov_factor\n",
    "                \n",
    "                teacher_mixing = 'mixing_proportions_concentration_'+teacher._id\n",
    "                student.param_init['mixing_proportions_concentration_init_'+student._id][component] = teacher.params[teacher_mixing][component]/2\n",
    "                student.param_init['mixing_proportions_concentration_init_'+student._id][component + 1] = teacher.params[teacher_mixing][component]/2\n",
    "                next\n",
    "            else:\n",
    "                student.param_init[param_name][component] = teacher.params[teacher_param_name][component]\n",
    "    return mean, cov, new_means, new_cov_factor"
   ]
  },
  {
   "cell_type": "code",
   "execution_count": 163,
   "metadata": {},
   "outputs": [],
   "source": [
    "def split_move(teacher, _id):\n",
    "    C = teacher.C + 1\n",
    "    pyro.clear_param_store()\n",
    "    student = DAGModel(torch.zeros(N,D),K,C,N,_id)\n",
    "    # sample cluster to be split\n",
    "    # probabilities prop to cluster size?\n",
    "    split_cluster = np.random.choice(teacher.C)\n",
    "    foo = init_split_move(student, teacher, split_cluster)\n",
    "    config['n_iter'] = 1\n",
    "    config['telemetry'] = None\n",
    "    telemetry = inference(student, data, test_data, config=config)\n",
    "    return student, foo"
   ]
  },
  {
   "cell_type": "code",
   "execution_count": 110,
   "metadata": {},
   "outputs": [
    {
     "name": "stdout",
     "output_type": "stream",
     "text": [
      "\n",
      "\n",
      "NLL after 0/1 iterations is 9.044587135314941\n",
      ".\n",
      "Converged in 1 iterations.\n",
      "\n"
     ]
    }
   ],
   "source": [
    "new_student, foo = split_move(student, 'new')"
   ]
  },
  {
   "cell_type": "code",
   "execution_count": 112,
   "metadata": {},
   "outputs": [],
   "source": [
    "new_student.sample_posterior_predictive(data.shape[0])\n",
    "\n",
    "new_student.batch_size = 1\n",
    "new_student_ppc = new_student.posterior_predictive(data)\n",
    "new_student.batch_size = 32\n",
    "\n",
    "%matplotlib qt\n",
    "#plt.scatter(*data[:,rand_idx].T)\n",
    "plt.scatter(*data[:,rand_idx].T,c=train_assign.squeeze())\n",
    "plt.scatter(*new_student_ppc['obs'][:,0,rand_idx].squeeze().T.detach(),alpha=.1)"
   ]
  },
  {
   "cell_type": "code",
   "execution_count": 116,
   "metadata": {
    "scrolled": true
   },
   "outputs": [
    {
     "data": {
      "text/plain": [
       "<matplotlib.collections.PathCollection at 0x7f684af81978>"
      ]
     },
     "execution_count": 116,
     "metadata": {},
     "output_type": "execute_result"
    }
   ],
   "source": [
    "plt.scatter(*new_student_ppc['obs'][:,0,rand_idx].squeeze().T.detach(),c=new_student_ppc['assignment_'+new_student._id][:,0].squeeze().T.detach())"
   ]
  },
  {
   "cell_type": "code",
   "execution_count": 138,
   "metadata": {},
   "outputs": [
    {
     "data": {
      "text/plain": [
       "<matplotlib.collections.PathCollection at 0x7f684b2aeda0>"
      ]
     },
     "execution_count": 138,
     "metadata": {},
     "output_type": "execute_result"
    }
   ],
   "source": [
    "plt.scatter(*data[:,rand_idx].T,c=compute_assignments(data, new_student_ppc))"
   ]
  },
  {
   "cell_type": "code",
   "execution_count": 139,
   "metadata": {},
   "outputs": [],
   "source": [
    "config['n_iter'] = 8000\n",
    "config['telemetry'] = telemetry"
   ]
  },
  {
   "cell_type": "code",
   "execution_count": 140,
   "metadata": {
    "scrolled": true
   },
   "outputs": [
    {
     "name": "stdout",
     "output_type": "stream",
     "text": [
      "Continuing from previous inference run.\n"
     ]
    },
    {
     "name": "stderr",
     "output_type": "stream",
     "text": [
      "/home/folzd/anaconda3/lib/python3.7/site-packages/pyro/infer/traceenum_elbo.py:419: UserWarning: Encountered NaN: loss\n",
      "  warn_if_nan(loss, \"loss\")\n"
     ]
    },
    {
     "name": "stdout",
     "output_type": "stream",
     "text": [
      "\n",
      "\n",
      "NLL after 10000/18000 iterations is 9.035712242126465\n",
      "\n",
      "\n",
      "...................................................................................................................................................................................................................................................................................................................................................................................................................................................................................................................\n",
      "\n",
      "NLL after 10500/18000 iterations is 8.503824234008789\n",
      "\n",
      "\n",
      "...................................................................................................................................................................................................................................................................................................................................................................................................................................................................................................................\n",
      "\n",
      "NLL after 11000/18000 iterations is 7.889126777648926\n",
      "\n",
      "\n",
      "...................................................................................................................................................................................................................................................................................................................................................................................................................................................................................................................\n",
      "\n",
      "NLL after 11500/18000 iterations is 7.787835597991943\n",
      "\n",
      "\n",
      "...................................................................................................................................................................................................................................................................................................................................................................................................................................................................................................................\n",
      "\n",
      "NLL after 12000/18000 iterations is 7.508431434631348\n",
      "\n",
      "\n",
      "...................................................................................................................................................................................................................................................................................................................................................................................................................................................................................................................\n",
      "\n",
      "NLL after 12500/18000 iterations is 7.480086326599121\n",
      "\n",
      "\n",
      "...................................................................................................................................................................................................................................................................................................................................................................................................................................................................................................................\n",
      "\n",
      "NLL after 13000/18000 iterations is 7.495546340942383\n",
      "\n",
      "\n",
      "...................................................................................................................................................................................................................................................................................................................................................................................................................................................................................................................\n",
      "\n",
      "NLL after 13500/18000 iterations is 7.447700500488281\n",
      "\n",
      "\n",
      "...................................................................................................................................................................................................................................................................................................................................................................................................................................................................................................................\n",
      "\n",
      "NLL after 14000/18000 iterations is 7.457890510559082\n",
      "\n",
      "\n",
      "...................................................................................................................................................................................................................................................................................................................................................................................................................................................................................................................\n",
      "\n",
      "NLL after 14500/18000 iterations is 7.450378894805908\n",
      "\n",
      "\n",
      "...................................................................................................................................................................................................................................................................................................................................................................................................................................................................................................................\n",
      "\n",
      "NLL after 15000/18000 iterations is 7.43440055847168\n",
      "\n",
      "\n",
      "...................................................................................................................................................................................................................................................................................................................................................................................................................................................................................................................\n",
      "\n",
      "NLL after 15500/18000 iterations is 7.479285717010498\n",
      "\n",
      "\n",
      "...................................................................................................................................................................................................................................................................................................................................................................................................................................................................................................................\n",
      "\n",
      "NLL after 16000/18000 iterations is 7.483219623565674\n",
      "\n",
      "\n",
      "...................................................................................................................................................................................................................................................................................................................................................................................................................................................................................................................\n",
      "\n",
      "NLL after 16500/18000 iterations is 7.474579811096191\n",
      "\n",
      "\n",
      "...................................................................................................................................................................................................................................................................................................................................................................................................................................................................................................................\n",
      "\n",
      "NLL after 17000/18000 iterations is 7.457576274871826\n",
      "\n",
      "\n"
     ]
    },
    {
     "name": "stdout",
     "output_type": "stream",
     "text": [
      "...................................................................................................................................................................................................................................................................................................................................................................................................................................................................................................................\n",
      "\n",
      "NLL after 17500/18000 iterations is 7.4669880867004395\n",
      "\n",
      "\n",
      "...................................................................................................................................................................................................................................................................................................................................................................................................................................................................................................................\n",
      "Converged in 18000 iterations.\n",
      "\n"
     ]
    }
   ],
   "source": [
    "telemetry = inference(new_student, data, test_data, config=config)"
   ]
  },
  {
   "cell_type": "code",
   "execution_count": 164,
   "metadata": {},
   "outputs": [],
   "source": [
    "new_student.sample_posterior_predictive(data.shape[0])"
   ]
  },
  {
   "cell_type": "code",
   "execution_count": 165,
   "metadata": {},
   "outputs": [],
   "source": [
    "new_student.batch_size = 1\n",
    "new_student_ppc = new_student.posterior_predictive(data)\n",
    "new_student.batch_size = 32"
   ]
  },
  {
   "cell_type": "code",
   "execution_count": 201,
   "metadata": {},
   "outputs": [
    {
     "data": {
      "text/plain": [
       "<matplotlib.collections.PathCollection at 0x7f684b89b6d8>"
      ]
     },
     "execution_count": 201,
     "metadata": {},
     "output_type": "execute_result"
    }
   ],
   "source": [
    "%matplotlib qt\n",
    "#plt.scatter(*data[:,rand_idx].T)\n",
    "plt.scatter(*data[:,rand_idx].T,c=train_assign.squeeze())\n",
    "plt.scatter(*new_student_ppc['obs'][:,0,rand_idx].squeeze().T.detach(),alpha=.1)"
   ]
  },
  {
   "cell_type": "code",
   "execution_count": 174,
   "metadata": {},
   "outputs": [
    {
     "data": {
      "text/plain": [
       "'new'"
      ]
     },
     "execution_count": 174,
     "metadata": {},
     "output_type": "execute_result"
    }
   ],
   "source": [
    "new_student._id"
   ]
  },
  {
   "cell_type": "code",
   "execution_count": 175,
   "metadata": {},
   "outputs": [
    {
     "data": {
      "text/plain": [
       "<matplotlib.collections.PathCollection at 0x7f684bb57e80>"
      ]
     },
     "execution_count": 175,
     "metadata": {},
     "output_type": "execute_result"
    }
   ],
   "source": [
    "plt.scatter(*new_student_ppc['obs'][:,0,rand_idx].squeeze().T.detach(),c=new_student_ppc['assignment_'+new_student._id][:,0].squeeze().T.detach())"
   ]
  },
  {
   "cell_type": "code",
   "execution_count": 176,
   "metadata": {},
   "outputs": [
    {
     "data": {
      "text/plain": [
       "<matplotlib.collections.PathCollection at 0x7f688820fda0>"
      ]
     },
     "execution_count": 176,
     "metadata": {},
     "output_type": "execute_result"
    }
   ],
   "source": [
    "plt.scatter(*data[:,rand_idx].T,c=compute_assignments(data, new_student_ppc))"
   ]
  },
  {
   "cell_type": "code",
   "execution_count": 199,
   "metadata": {
    "scrolled": false
   },
   "outputs": [
    {
     "name": "stdout",
     "output_type": "stream",
     "text": [
      "0\n",
      "0\n",
      "1\n",
      "0\n",
      "0\n",
      "0\n",
      "1\n",
      "0\n",
      "0\n",
      "0\n",
      "1\n",
      "0\n",
      "0\n",
      "0\n",
      "1\n",
      "0\n",
      "0\n",
      "0\n",
      "1\n",
      "0\n",
      "0\n",
      "0\n",
      "1\n",
      "0\n",
      "0\n",
      "0\n",
      "1\n",
      "0\n",
      "0\n",
      "0\n",
      "1\n",
      "0\n",
      "0\n",
      "0\n",
      "1\n",
      "0\n",
      "0\n",
      "0\n",
      "1\n",
      "0\n",
      "0\n",
      "0\n",
      "1\n",
      "0\n",
      "0\n",
      "0\n",
      "1\n",
      "0\n",
      "0\n",
      "0\n",
      "1\n",
      "0\n",
      "0\n",
      "0\n",
      "1\n",
      "0\n",
      "\n",
      "\n",
      "NLL after 0/1 iterations is 104.67388153076172\n",
      ".\n",
      "Converged in 1 iterations.\n",
      "\n"
     ]
    },
    {
     "name": "stderr",
     "output_type": "stream",
     "text": [
      "/home/folzd/anaconda3/lib/python3.7/site-packages/pyro/infer/traceenum_elbo.py:419: UserWarning: Encountered NaN: loss\n",
      "  warn_if_nan(loss, \"loss\")\n"
     ]
    }
   ],
   "source": [
    "new_new_student, foo = split_move(new_student, 'new1')"
   ]
  },
  {
   "cell_type": "code",
   "execution_count": 195,
   "metadata": {},
   "outputs": [
    {
     "data": {
      "text/plain": [
       "<matplotlib.patches.Ellipse at 0x7f684a074780>"
      ]
     },
     "execution_count": 195,
     "metadata": {},
     "output_type": "execute_result"
    }
   ],
   "source": [
    "mean, cov, new_means, new_cov_factor = foo\n",
    "ax = plt.axes()\n",
    "plt.scatter(*data[:,rand_idx].T,c=train_assign.squeeze())\n",
    "#plt.scatter(x,y)\n",
    "plt.xlim(-30,50)\n",
    "plt.ylim(-140,140)\n",
    "confidence_ellipse(mean,cov,ax,3.0,'r',alpha=.5)\n",
    "confidence_ellipse(new_means[0],new_cov_factor@new_cov_factor.T,ax,3.0,'r',alpha=.5)\n",
    "confidence_ellipse(new_means[1],new_cov_factor@new_cov_factor.T,ax,3.0,'r',alpha=.5)\n",
    "#confidence_ellipse(student.params['loc_loc_id'][c].numpy(),np.cov(x,y),ax,3.0,'r',alpha=.5)\n",
    "#ax.arrow(*student.params['loc_loc_id'][c], *weighted_eigvecs[0], head_width=0.5, head_length=0.7, fc='lightblue', ec='black')\n",
    "#ax.arrow(*student.params['loc_loc_id'][c], *weighted_eigvecs[1], head_width=0.5, head_length=0.7, fc='lightblue', ec='black')"
   ]
  },
  {
   "cell_type": "code",
   "execution_count": null,
   "metadata": {},
   "outputs": [],
   "source": [
    "new_new_student.sample_posterior_predictive(data.shape[0])\n",
    "\n",
    "new_new_student.batch_size = 1\n",
    "new_new_student_ppc = new_new_student.posterior_predictive(data)\n",
    "new_new_student.batch_size = 32"
   ]
  },
  {
   "cell_type": "code",
   "execution_count": 196,
   "metadata": {},
   "outputs": [
    {
     "data": {
      "text/plain": [
       "<matplotlib.collections.PathCollection at 0x7f684acd8b38>"
      ]
     },
     "execution_count": 196,
     "metadata": {},
     "output_type": "execute_result"
    }
   ],
   "source": [
    "%matplotlib qt\n",
    "#plt.scatter(*data[:,rand_idx].T)\n",
    "plt.scatter(*data[:,rand_idx].T,c=train_assign.squeeze())\n",
    "plt.scatter(*new_new_student_ppc['obs'][:,0,rand_idx].squeeze().T.detach(),alpha=.1)"
   ]
  },
  {
   "cell_type": "code",
   "execution_count": null,
   "metadata": {},
   "outputs": [],
   "source": [
    "ax = plt.axes()\n",
    "plt.scatter(x,y)\n",
    "confidence_ellipse(student.params['loc_loc_id'][c].numpy(),cov,ax,3.0,'r',alpha=.5)\n",
    "#confidence_ellipse(student.params['loc_loc_id'][c].numpy(),np.cov(x,y),ax,3.0,'r',alpha=.5)\n",
    "ax.arrow(*student.params['loc_loc_id'][c], *weighted_eigvecs[0], head_width=0.5, head_length=0.7, fc='lightblue', ec='black')\n",
    "ax.arrow(*student.params['loc_loc_id'][c], *weighted_eigvecs[1], head_width=0.5, head_length=0.7, fc='lightblue', ec='black')"
   ]
  },
  {
   "cell_type": "code",
   "execution_count": null,
   "metadata": {},
   "outputs": [],
   "source": []
  }
 ],
 "metadata": {
  "kernelspec": {
   "display_name": "Python 3",
   "language": "python",
   "name": "python3"
  },
  "language_info": {
   "codemirror_mode": {
    "name": "ipython",
    "version": 3
   },
   "file_extension": ".py",
   "mimetype": "text/x-python",
   "name": "python",
   "nbconvert_exporter": "python",
   "pygments_lexer": "ipython3",
   "version": "3.7.3"
  }
 },
 "nbformat": 4,
 "nbformat_minor": 2
}

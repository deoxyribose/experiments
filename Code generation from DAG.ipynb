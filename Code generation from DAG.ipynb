{
 "cells": [
  {
   "cell_type": "code",
   "execution_count": 1,
   "metadata": {},
   "outputs": [],
   "source": [
    "import networkx as nx\n",
    "import pyro.distributions as dist\n",
    "import matplotlib.pylab as plt\n",
    "import numpy as np\n",
    "import sys\n",
    "sys.path.append(\"/home/folzd/phd/compositions_mixtures_factors\")\n",
    "from model_operators import *"
   ]
  },
  {
   "cell_type": "code",
   "execution_count": 2,
   "metadata": {},
   "outputs": [],
   "source": [
    "from models_and_guides import *"
   ]
  },
  {
   "cell_type": "code",
   "execution_count": 3,
   "metadata": {},
   "outputs": [],
   "source": [
    "def construct_sample(graph, node):\n",
    "    if 'distribution' in graph.nodes[node]:\n",
    "        distribution = graph.nodes[node]['distribution']\n",
    "        #assert len(distribution.arg_constraints) == 2\n",
    "        # assuming node is a loc-scale distribution\n",
    "        loc = [edge[0] for edge in graph.in_edges(node) if graph.edges[edge]['param'] == 'loc'][0]\n",
    "        scale = [edge[0] for edge in graph.in_edges(node) if graph.edges[edge]['param'] == 'scale'][0]\n",
    "        # get string repr of distribution\n",
    "        dist = ''.join(c for c in str(distribution).split('.')[-1] if c.isalnum())\n",
    "        if graph.nodes[node]['node_type'] == 'latent':\n",
    "            if 'plates' in graph.nodes[node]:\n",
    "                n_event_dims = len(graph.nodes[node]['plates'])\n",
    "                dist = Call(\n",
    "                func=Attribute(\n",
    "                    value=Call(func=Attribute(value=Name(id='dist'), attr='Normal'),\n",
    "                        args=[Name(id=loc), Name(id=scale)],\n",
    "                        keywords=[]),\n",
    "                    attr='to_event'),\n",
    "                args=[Num(n=n_event_dims)],\n",
    "                keywords=[])\n",
    "            else:\n",
    "                dist = Call(func=Attribute(value=Name(id='dist'), attr=dist),\n",
    "                                args=[Name(id=loc), Name(id=scale)],\n",
    "                                keywords=[])\n",
    "            return Assign(targets=[Name(id=node)],\n",
    "                    value=Call(func=Attribute(value=Name(id='pyro'), attr='sample'),\n",
    "                        args=[\n",
    "                            JoinedStr(\n",
    "                                values=[Str(s=node+'_'),\n",
    "                                    FormattedValue(value=Name(id='_id'), conversion=-1, format_spec=None)]),\n",
    "                            dist],\n",
    "                        keywords=[]))\n",
    "        elif graph.nodes[node]['node_type'] == 'obs':\n",
    "            return With(\n",
    "            items=[\n",
    "                withitem(\n",
    "                    context_expr=Call(func=Attribute(value=Name(id='pyro'), attr='plate'),\n",
    "                        args=[Str(s='N')],\n",
    "                        keywords=[keyword(arg='size', value=Name(id='N')),\n",
    "                            keyword(arg='subsample_size', value=Name(id='batch_size'))]),\n",
    "                    optional_vars=Name(id='ind'))],\n",
    "            body=[\n",
    "                Assign(targets=[Name(id=node)],\n",
    "                    value=Call(func=Attribute(value=Name(id='pyro'), attr='sample'),\n",
    "                        args=[Str(s='obs'),\n",
    "                            Call(func=Attribute(value=Name(id='dist'), attr=dist),\n",
    "                                args=[Name(id=loc)],\n",
    "                                keywords=[keyword(arg='covariance_matrix', value=Name(id=scale))])],\n",
    "                        keywords=[\n",
    "                            keyword(arg='obs',\n",
    "                                value=Call(func=Attribute(value=Name(id='X'), attr='index_select'),\n",
    "                                    args=[Num(n=0), Name(id='ind')],\n",
    "                                    keywords=[]))]))])\n",
    "            \n",
    "    elif graph.nodes[node]['node_type'] == 'deterministic':\n",
    "        # assuming function is a torch method, s.t. calling it looks like torch.method(arg1,arg2,...,argN)\n",
    "        # get string repr of function\n",
    "        function = graph.nodes[node]['function'].__name__\n",
    "        args = [Name(id=edge[0]) for edge in graph.in_edges(node)]\n",
    "        return Assign(targets=[Name(id=node)],\n",
    "            value=Call(func=Attribute(value=Name(id='pyro'), attr='deterministic'),\n",
    "                args=[\n",
    "                    JoinedStr(\n",
    "                            values=[Str(s=node+'_'),\n",
    "                                FormattedValue(value=Name(id='_id'), conversion=-1, format_spec=None)]),\n",
    "                    Call(func=Attribute(value=Name(id='torch'), attr=function),\n",
    "                        args=args,\n",
    "                        keywords=[])],\n",
    "                keywords=[]))"
   ]
  },
  {
   "cell_type": "code",
   "execution_count": 4,
   "metadata": {},
   "outputs": [],
   "source": [
    "factor = nx.DiGraph()"
   ]
  },
  {
   "cell_type": "code",
   "execution_count": 5,
   "metadata": {},
   "outputs": [],
   "source": [
    "nodes = [\n",
    "    ('cov_diag_loc',{'node_type':'param'}),\n",
    "    ('cov_diag_scale',{'node_type':'param','constraint':'positive'}),\n",
    "    ('cov_factor_loc',{'node_type':'param'}),\n",
    "    ('cov_factor_scale',{'node_type':'param','constraint':'positive'}),\n",
    "    ('z_loc',{'node_type':'const', 'value':0.}),\n",
    "    ('z_scale',{'node_type':'const', 'value':1.}),\n",
    "    ('z',{'distribution':dist.Normal,'node_type':'latent'}),\n",
    "    ('cov_factor',{'distribution':dist.Normal,'node_type':'latent'}),\n",
    "    ('Wz',{'node_type':'deterministic', 'function':torch.matmul}),\n",
    "    ('X',{'distribution':dist.MultivariateNormal,'node_type':'obs'}),\n",
    "    ('cov_diag',{'distribution':dist.LogNormal,'node_type':'latent'})\n",
    "]"
   ]
  },
  {
   "cell_type": "code",
   "execution_count": 6,
   "metadata": {},
   "outputs": [],
   "source": [
    "edges = [\n",
    "    ('cov_diag_loc','cov_diag',{'edge_type':'param','param':'loc'}),\n",
    "    ('cov_diag_scale','cov_diag',{'edge_type':'param','param':'scale'}),\n",
    "    ('cov_factor_loc','cov_factor',{'edge_type':'param','param':'loc'}),\n",
    "    ('cov_factor_scale','cov_factor',{'edge_type':'param','param':'scale'}),\n",
    "    ('z_loc','z',{'edge_type':'param','param':'loc'}),\n",
    "    ('z_scale','z',{'edge_type':'param','param':'scale'}),    \n",
    "    ('z','Wz',{'edge_type':'arg'}),\n",
    "    ('cov_factor','Wz',{'edge_type':'arg'}),\n",
    "    ('Wz','X',{'edge_type':'param','param':'loc'}),\n",
    "    ('cov_diag','X',{'edge_type':'param','param':'scale'})\n",
    "]"
   ]
  },
  {
   "cell_type": "code",
   "execution_count": 7,
   "metadata": {},
   "outputs": [],
   "source": [
    "factor.add_nodes_from(nodes)\n",
    "factor.add_edges_from(edges)"
   ]
  },
  {
   "cell_type": "markdown",
   "metadata": {},
   "source": [
    "W: D, K\n",
    "\n",
    "z: K, N\n",
    "\n",
    "Sigma: D\n",
    "\n",
    "Wz: N\n",
    "\n",
    "X: N"
   ]
  },
  {
   "cell_type": "code",
   "execution_count": 8,
   "metadata": {},
   "outputs": [],
   "source": [
    "plate_attr = {'cov_factor':{'plates':['D','K']},'cov_diag':{'plates':['D']},'X':{'plates':['N']},'Wz':{'plates':['N']},'z':{'plates':['N','K']}}"
   ]
  },
  {
   "cell_type": "code",
   "execution_count": 9,
   "metadata": {},
   "outputs": [],
   "source": [
    "nx.set_node_attributes(factor, plate_attr)"
   ]
  },
  {
   "cell_type": "code",
   "execution_count": 10,
   "metadata": {},
   "outputs": [
    {
     "data": {
      "text/plain": [
       "{'z': ['N', 'K'],\n",
       " 'cov_factor': ['D', 'K'],\n",
       " 'Wz': ['N'],\n",
       " 'X': ['N'],\n",
       " 'cov_diag': ['D']}"
      ]
     },
     "execution_count": 10,
     "metadata": {},
     "output_type": "execute_result"
    }
   ],
   "source": [
    "nx.get_node_attributes(factor, 'plates')"
   ]
  },
  {
   "cell_type": "code",
   "execution_count": 11,
   "metadata": {},
   "outputs": [
    {
     "name": "stderr",
     "output_type": "stream",
     "text": [
      "/home/folzd/anaconda3/lib/python3.7/site-packages/networkx/drawing/nx_pylab.py:579: MatplotlibDeprecationWarning: \n",
      "The iterable function was deprecated in Matplotlib 3.1 and will be removed in 3.3. Use np.iterable instead.\n",
      "  if not cb.iterable(width):\n",
      "/home/folzd/anaconda3/lib/python3.7/site-packages/networkx/drawing/nx_pylab.py:676: MatplotlibDeprecationWarning: \n",
      "The iterable function was deprecated in Matplotlib 3.1 and will be removed in 3.3. Use np.iterable instead.\n",
      "  if cb.iterable(node_size):  # many node sizes\n"
     ]
    },
    {
     "data": {
      "image/png": "[encoded data removed]",
      "text/plain": [
       "<Figure size 432x288 with 1 Axes>"
      ]
     },
     "metadata": {},
     "output_type": "display_data"
    }
   ],
   "source": [
    "nx.draw(factor, with_labels=True)"
   ]
  },
  {
   "cell_type": "code",
   "execution_count": 15,
   "metadata": {},
   "outputs": [],
   "source": [
    "def construct_initalization(graph, node):\n",
    "    if graph.nodes[node]['node_type'] == 'param':\n",
    "        return Assign(targets=[Name(id=node+'_init')],\n",
    "            value=Subscript(value=Attribute(value=Name(id='self'), attr='param_init'),\n",
    "                slice=Index(\n",
    "                    value=JoinedStr(\n",
    "                        values=[Str(s=node+'_init_'),\n",
    "                            FormattedValue(value=Name(id='_id'), conversion=-1, format_spec=None)]))))"
   ]
  },
  {
   "cell_type": "code",
   "execution_count": 16,
   "metadata": {},
   "outputs": [],
   "source": [
    "def construct_param(graph, node):\n",
    "    if graph.nodes[node]['node_type'] == 'param':\n",
    "        # need to infer constraint\n",
    "        if 'constraint' not in graph.nodes[node].keys():\n",
    "            constraint = []\n",
    "        else:\n",
    "            constraint = [keyword(arg='constraint', value=Attribute(value=Name(id='constraints'), attr=graph.nodes[node]['constraint']))]\n",
    "        return Assign(targets=[Name(id=node)],\n",
    "                value=Call(func=Attribute(value=Name(id='pyro'), attr='param'),\n",
    "                    args=[\n",
    "                        JoinedStr(\n",
    "                            values=[Str(s=node+'_'),\n",
    "                                FormattedValue(value=Name(id='_id'), conversion=-1, format_spec=None)]),\n",
    "                        Name(id=node)],\n",
    "                    keywords=constraint))\n",
    "    elif graph.nodes[node]['node_type'] == 'const':\n",
    "        return Assign(targets=[Name(id=node)], value=Num(n=graph.nodes[node]['value']))\n",
    "    else:\n",
    "        raise \"Root nodes must be either parameters or constants.\""
   ]
  },
  {
   "cell_type": "code",
   "execution_count": 18,
   "metadata": {},
   "outputs": [],
   "source": [
    "def construct_sample(graph, node):\n",
    "    if 'distribution' in graph.nodes[node]:\n",
    "        distribution = graph.nodes[node]['distribution']\n",
    "        #assert len(distribution.arg_constraints) == 2\n",
    "        # assuming node is a loc-scale distribution\n",
    "        loc = [edge[0] for edge in graph.in_edges(node) if graph.edges[edge]['param'] == 'loc'][0]\n",
    "        scale = [edge[0] for edge in graph.in_edges(node) if graph.edges[edge]['param'] == 'scale'][0]\n",
    "        # get string repr of distribution\n",
    "        dist = ''.join(c for c in str(distribution).split('.')[-1] if c.isalnum())\n",
    "        dist = Call(func=Attribute(value=Name(id='dist'), attr=dist),\n",
    "                                args=[Name(id=loc), Name(id=scale)],\n",
    "                                keywords=[])\n",
    "        if graph.nodes[node]['node_type'] == 'latent':\n",
    "            keywords = []\n",
    "        elif graph.nodes[node]['node_type'] == 'obs':\n",
    "            # assuming this is wrapped in a with pyro.plate(subsampling) as ind:\n",
    "            keywords = [keyword(arg='obs',\n",
    "                                value=Call(func=Attribute(value=Name(id='X'), attr='index_select'),\n",
    "                                    args=[Num(n=0), Name(id='ind')],\n",
    "                                    keywords=[]))]\n",
    "        return Assign(targets=[Name(id=node)],\n",
    "                    value=Call(func=Attribute(value=Name(id='pyro'), attr='sample'),\n",
    "                        args=[\n",
    "                            JoinedStr(\n",
    "                                values=[Str(s=node+'_'),\n",
    "                                    FormattedValue(value=Name(id='_id'), conversion=-1, format_spec=None)]),\n",
    "                            dist],\n",
    "                        keywords=keywords))\n",
    "            \n",
    "    elif graph.nodes[node]['node_type'] == 'deterministic':\n",
    "        # assuming function is a torch method, s.t. calling it looks like torch.method(arg1,arg2,...,argN)\n",
    "        # get string repr of function\n",
    "        function = graph.nodes[node]['function'].__name__\n",
    "        args = [Name(id=edge[0]) for edge in graph.in_edges(node)]\n",
    "        return Assign(targets=[Name(id=node)],\n",
    "            value=Call(func=Attribute(value=Name(id='pyro'), attr='deterministic'),\n",
    "                args=[\n",
    "                    JoinedStr(\n",
    "                            values=[Str(s=node+'_'),\n",
    "                                FormattedValue(value=Name(id='_id'), conversion=-1, format_spec=None)]),\n",
    "                    Call(func=Attribute(value=Name(id='torch'), attr=function),\n",
    "                        args=args,\n",
    "                        keywords=[])],\n",
    "                keywords=[]))"
   ]
  },
  {
   "cell_type": "code",
   "execution_count": 29,
   "metadata": {},
   "outputs": [],
   "source": [
    "def construct_plate(graph, plate):\n",
    "    if plate == 'N':\n",
    "        keywords = [keyword(arg='size', value=Name(id='N')),\n",
    "                            keyword(arg='subsample_size', value=Name(id='batch_size'))]\n",
    "        optional_vars=Name(id='ind')\n",
    "    else: \n",
    "        keywords = []\n",
    "        optional_vars=None\n",
    "    return With(\n",
    "            items=[withitem(\n",
    "                    context_expr=Call(func=Attribute(value=Name(id='pyro'), attr='plate'),\n",
    "                        args=[\n",
    "                            JoinedStr(\n",
    "                                values=[Str(s=plate+'_'),\n",
    "                                    FormattedValue(value=Name(id='_id'), conversion=-1, format_spec=None)]),\n",
    "                            Name(id=plate[-1])],\n",
    "                        keywords=keywords),\n",
    "                    optional_vars=optional_vars)\n",
    "                ],\n",
    "            body=[Pass])"
   ]
  },
  {
   "cell_type": "code",
   "execution_count": 31,
   "metadata": {
    "scrolled": false
   },
   "outputs": [
    {
     "name": "stdout",
     "output_type": "stream",
     "text": [
      "def model(self, X):\n",
      "    _id = self._id\n",
      "    cov_diag_loc_init = self.param_init[f'cov_diag_loc_init_{_id}']\n",
      "    cov_diag_loc = pyro.param(f'cov_diag_loc_{_id}', cov_diag_loc)\n",
      "    cov_diag_scale_init = self.param_init[f'cov_diag_scale_init_{_id}']\n",
      "    cov_diag_scale = pyro.param(f'cov_diag_scale_{_id}', cov_diag_scale,\n",
      "        constraint=constraints.positive)\n",
      "    cov_factor_loc_init = self.param_init[f'cov_factor_loc_init_{_id}']\n",
      "    cov_factor_loc = pyro.param(f'cov_factor_loc_{_id}', cov_factor_loc)\n",
      "    cov_factor_scale_init = self.param_init[f'cov_factor_scale_init_{_id}']\n",
      "    cov_factor_scale = pyro.param(f'cov_factor_scale_{_id}',\n",
      "        cov_factor_scale, constraint=constraints.positive)\n",
      "    z_loc = 0.0\n",
      "    z_scale = 1.0\n",
      "    with pyro.plate(f'D_{_id}', D):\n",
      "        with pyro.plate(f'DK_{_id}', K):\n",
      "            cov_factor = pyro.sample(f'cov_factor_{_id}', dist.Normal(\n",
      "                cov_factor_loc, cov_factor_scale))\n",
      "        cov_diag = pyro.sample(f'cov_diag_{_id}', dist.LogNormal(\n",
      "            cov_diag_loc, cov_diag_scale))\n",
      "    with pyro.plate(f'N_{_id}', N, size=N, subsample_size=batch_size) as ind:\n",
      "        with pyro.plate(f'NK_{_id}', K):\n",
      "            z = pyro.sample(f'z_{_id}', dist.Normal(z_loc, z_scale))\n",
      "        Wz = pyro.deterministic(f'Wz_{_id}', torch.matmul(z, cov_factor))\n",
      "        X = pyro.sample(f'X_{_id}', dist.MultivariateNormal(Wz, cov_diag),\n",
      "            obs=X.index_select(0, ind))\n",
      "    return X\n",
      "\n"
     ]
    }
   ],
   "source": [
    "model = Model(torch.zeros(100,10),100,'E')\n",
    "source = inspect.getsource(model.model).strip()\n",
    "tree = parse(source)\n",
    "# figure out which plates to create\n",
    "plates = [''.join(plate) for plate in nx.get_node_attributes(factor, 'plates').values()]\n",
    "new_plates = []\n",
    "for plate in plates:\n",
    "    if not any([other_plate.startswith(plate) for other_plate in plates if other_plate != plate]):\n",
    "        new_plates.append(plate)\n",
    "# create plates\n",
    "for plate_config in new_plates:\n",
    "    prev_plate = plate_config[0]\n",
    "    AddToFunctionBody(construct_plate(factor, prev_plate), head=True).visit(tree)\n",
    "    for plate in plate_config[1:]:\n",
    "        AddToPlate(prev_plate, construct_plate(factor, prev_plate+plate)).visit(tree)\n",
    "        prev_plate = plate\n",
    "# create all nodes in DAG\n",
    "for node in nx.topological_sort(factor):\n",
    "    if factor.in_degree[node] == 0:\n",
    "        AddToFunctionBody(construct_param(factor, node), head=True).visit(tree)\n",
    "        AddToFunctionBody(construct_initalization(factor, node), head=True).visit(tree)\n",
    "    else:\n",
    "        if 'plates' in factor.nodes[node]:\n",
    "            plate = ''.join(factor.nodes[node]['plates'])\n",
    "            AddToPlate(plate, construct_sample(factor, node)).visit(tree)\n",
    "        else:\n",
    "            AddToFunctionBody(construct_sample(factor, node), head=True).visit(tree)\n",
    "# add _id to model\n",
    "AddToFunctionBody(Assign(targets=[Name(id='_id')], value=Attribute(value=Name(id='self'), attr='_id')), head=True).visit(tree)\n",
    "new_source = astor.to_source(ast.parse(tree))\n",
    "print(new_source)"
   ]
  },
  {
   "cell_type": "code",
   "execution_count": null,
   "metadata": {},
   "outputs": [],
   "source": []
  }
 ],
 "metadata": {
  "kernelspec": {
   "display_name": "Python 3",
   "language": "python",
   "name": "python3"
  },
  "language_info": {
   "codemirror_mode": {
    "name": "ipython",
    "version": 3
   },
   "file_extension": ".py",
   "mimetype": "text/x-python",
   "name": "python",
   "nbconvert_exporter": "python",
   "pygments_lexer": "ipython3",
   "version": "3.7.3"
  }
 },
 "nbformat": 4,
 "nbformat_minor": 2
}

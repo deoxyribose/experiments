{
 "cells": [
  {
   "cell_type": "code",
   "execution_count": 19,
   "metadata": {},
   "outputs": [],
   "source": [
    "import matplotlib.pyplot as plt"
   ]
  },
  {
   "cell_type": "code",
   "execution_count": 1,
   "metadata": {},
   "outputs": [],
   "source": [
    "import yfinance as yf"
   ]
  },
  {
   "cell_type": "code",
   "execution_count": 14,
   "metadata": {},
   "outputs": [
    {
     "name": "stdout",
     "output_type": "stream",
     "text": [
      "yfinance.Ticker object <ACB>\n"
     ]
    }
   ],
   "source": [
    "msft = yf.Ticker(\"ACB\")\n",
    "print(msft)"
   ]
  },
  {
   "cell_type": "code",
   "execution_count": 15,
   "metadata": {
    "scrolled": false
   },
   "outputs": [
    {
     "data": {
      "text/plain": [
       "{'zip': 'T5J 1Y6',\n",
       " 'sector': 'Healthcare',\n",
       " 'fullTimeEmployees': 2779,\n",
       " 'longBusinessSummary': 'Aurora Cannabis Inc. produces and distributes medical cannabis products. It is vertically integrated and horizontally diversified across various segments of the cannabis value chain, including facility engineering and design, cannabis breeding, genetics research, production, derivatives, high value-add product development, home cultivation, wholesale, and retail distribution. The company produces various strains of dried cannabis, cannabis oil and capsules, and topicals kits for medical patients. It also sells vaporizers; consumable vaporizer accessories, including valves, screens, etc.; and herb mills for using CanniMed herbal cannabis products, as well as grinders and vaporizer lockable containers. In addition, the company engages in the development of medical cannabis products at various stages of development, including oral, topical, edible, and inhalable products; and operation of CanvasRX, a network of cannabis counseling and outreach centers. Further, it provides patient counselling services; design and construction services; and cannabis analytical product testing services. As of September 11, 2019, the company had operations in 25 countries across five continents. Aurora Cannabis Inc. is headquartered in Edmonton, Canada.',\n",
       " 'city': 'Edmonton',\n",
       " 'phone': '855-279-4652',\n",
       " 'state': 'AB',\n",
       " 'country': 'Canada',\n",
       " 'companyOfficers': [],\n",
       " 'website': 'http://auroramj.com',\n",
       " 'maxAge': 1,\n",
       " 'address1': '10355 Jasper Avenue',\n",
       " 'industry': 'Drug Manufacturers—Specialty & Generic',\n",
       " 'address2': 'Suite 500',\n",
       " 'previousClose': 0.8333,\n",
       " 'regularMarketOpen': 0.8666,\n",
       " 'twoHundredDayAverage': 2.4447465,\n",
       " 'trailingAnnualDividendYield': None,\n",
       " 'payoutRatio': 0,\n",
       " 'volume24Hr': None,\n",
       " 'regularMarketDayHigh': 0.87,\n",
       " 'navPrice': None,\n",
       " 'averageDailyVolume10Day': 58263742,\n",
       " 'totalAssets': None,\n",
       " 'regularMarketPreviousClose': 0.8333,\n",
       " 'fiftyDayAverage': 1.0768824,\n",
       " 'trailingAnnualDividendRate': None,\n",
       " 'open': 0.8666,\n",
       " 'toCurrency': None,\n",
       " 'averageVolume10days': 58263742,\n",
       " 'expireDate': None,\n",
       " 'yield': None,\n",
       " 'algorithm': None,\n",
       " 'dividendRate': None,\n",
       " 'exDividendDate': None,\n",
       " 'beta': 1.974588,\n",
       " 'circulatingSupply': None,\n",
       " 'startDate': None,\n",
       " 'regularMarketDayLow': 0.79,\n",
       " 'priceHint': 4,\n",
       " 'currency': 'USD',\n",
       " 'trailingPE': 3.748148,\n",
       " 'regularMarketVolume': 29958560,\n",
       " 'lastMarket': None,\n",
       " 'maxSupply': None,\n",
       " 'openInterest': None,\n",
       " 'marketCap': 959578432,\n",
       " 'volumeAllCurrencies': None,\n",
       " 'strikePrice': None,\n",
       " 'averageVolume': 33454749,\n",
       " 'priceToSalesTrailing12Months': None,\n",
       " 'dayLow': 0.79,\n",
       " 'ask': 0.8099,\n",
       " 'ytdReturn': None,\n",
       " 'askSize': 1100,\n",
       " 'volume': 29958560,\n",
       " 'fiftyTwoWeekHigh': 9.37,\n",
       " 'forwardPE': None,\n",
       " 'fromCurrency': None,\n",
       " 'fiveYearAvgDividendYield': None,\n",
       " 'fiftyTwoWeekLow': 0.6,\n",
       " 'bid': 0.8,\n",
       " 'tradeable': True,\n",
       " 'dividendYield': None,\n",
       " 'bidSize': 1000,\n",
       " 'dayHigh': 0.87,\n",
       " 'exchange': 'NYQ',\n",
       " 'shortName': 'Aurora Cannabis Inc.',\n",
       " 'longName': 'Aurora Cannabis Inc.',\n",
       " 'exchangeTimezoneName': 'America/New_York',\n",
       " 'exchangeTimezoneShortName': 'EDT',\n",
       " 'isEsgPopulated': False,\n",
       " 'gmtOffSetMilliseconds': '-14400000',\n",
       " 'quoteType': 'EQUITY',\n",
       " 'symbol': 'ACB',\n",
       " 'messageBoardId': 'finmb_272485300',\n",
       " 'market': 'us_market',\n",
       " 'annualHoldingsTurnover': None,\n",
       " 'enterpriseToRevenue': None,\n",
       " 'beta3Year': None,\n",
       " 'profitMargins': 0,\n",
       " 'enterpriseToEbitda': None,\n",
       " '52WeekChange': -0.91039824,\n",
       " 'morningStarRiskRating': None,\n",
       " 'forwardEps': None,\n",
       " 'revenueQuarterlyGrowth': None,\n",
       " 'sharesOutstanding': 1168969984,\n",
       " 'fundInceptionDate': None,\n",
       " 'annualReportExpenseRatio': None,\n",
       " 'bookValue': 3.439,\n",
       " 'sharesShort': 195730812,\n",
       " 'sharesPercentSharesOut': 0.16469999,\n",
       " 'fundFamily': None,\n",
       " 'lastFiscalYearEnd': 1561852800,\n",
       " 'heldPercentInstitutions': 0.13387999,\n",
       " 'netIncomeToCommon': None,\n",
       " 'trailingEps': 0.216,\n",
       " 'lastDividendValue': None,\n",
       " 'SandP52WeekChange': -0.14059132,\n",
       " 'priceToBook': 0.23541728,\n",
       " 'heldPercentInsiders': 0.03258,\n",
       " 'nextFiscalYearEnd': 1625011200,\n",
       " 'mostRecentQuarter': 1577750400,\n",
       " 'shortRatio': 7.09,\n",
       " 'sharesShortPreviousMonthDate': 1581638400,\n",
       " 'floatShares': 1153813387,\n",
       " 'enterpriseValue': 946402176,\n",
       " 'threeYearAverageReturn': None,\n",
       " 'lastSplitDate': None,\n",
       " 'lastSplitFactor': None,\n",
       " 'legalType': None,\n",
       " 'morningStarOverallRating': None,\n",
       " 'earningsQuarterlyGrowth': None,\n",
       " 'dateShortInterest': 1584057600,\n",
       " 'pegRatio': None,\n",
       " 'lastCapGain': None,\n",
       " 'shortPercentOfFloat': None,\n",
       " 'sharesShortPriorMonth': 198071388,\n",
       " 'category': None,\n",
       " 'fiveYearAverageReturn': None,\n",
       " 'regularMarketPrice': 0.8666,\n",
       " 'logo_url': 'https://logo.clearbit.com/auroramj.com'}"
      ]
     },
     "execution_count": 15,
     "metadata": {},
     "output_type": "execute_result"
    }
   ],
   "source": [
    "# get stock info\n",
    "msft.info"
   ]
  },
  {
   "cell_type": "code",
   "execution_count": 16,
   "metadata": {},
   "outputs": [],
   "source": [
    "tmp = msft.history(period=\"1mo\")"
   ]
  },
  {
   "cell_type": "code",
   "execution_count": 21,
   "metadata": {
    "scrolled": true
   },
   "outputs": [
    {
     "data": {
      "text/plain": [
       "Date\n",
       "2020-03-06    1.280\n",
       "2020-03-09    0.960\n",
       "2020-03-10    1.030\n",
       "2020-03-11    0.962\n",
       "2020-03-12    0.680\n",
       "2020-03-13    0.772\n",
       "2020-03-16    0.700\n",
       "2020-03-17    0.720\n",
       "2020-03-18    0.680\n",
       "2020-03-19    0.635\n",
       "2020-03-20    0.720\n",
       "2020-03-23    0.800\n",
       "2020-03-24    0.750\n",
       "2020-03-25    0.740\n",
       "2020-03-26    0.771\n",
       "2020-03-27    1.070\n",
       "2020-03-30    1.020\n",
       "2020-03-31    0.915\n",
       "2020-04-01    0.875\n",
       "2020-04-02    0.830\n",
       "2020-04-03    0.867\n",
       "Name: Open, dtype: float64"
      ]
     },
     "execution_count": 21,
     "metadata": {},
     "output_type": "execute_result"
    }
   ],
   "source": [
    "tmp['Open']"
   ]
  },
  {
   "cell_type": "code",
   "execution_count": null,
   "metadata": {},
   "outputs": [],
   "source": []
  }
 ],
 "metadata": {
  "kernelspec": {
   "display_name": "Python 3",
   "language": "python",
   "name": "python3"
  },
  "language_info": {
   "codemirror_mode": {
    "name": "ipython",
    "version": 3
   },
   "file_extension": ".py",
   "mimetype": "text/x-python",
   "name": "python",
   "nbconvert_exporter": "python",
   "pygments_lexer": "ipython3",
   "version": "3.7.3"
  }
 },
 "nbformat": 4,
 "nbformat_minor": 2
}

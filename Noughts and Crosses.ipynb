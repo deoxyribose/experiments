{
 "cells": [
  {
   "cell_type": "code",
   "execution_count": 1,
   "metadata": {},
   "outputs": [],
   "source": [
    "import numpy as np\n",
    "import networkx as nx\n",
    "import matplotlib.pyplot as plt\n",
    "import pydot\n",
    "from networkx.drawing.nx_pydot import graphviz_layout\n",
    "import torch\n",
    "import pyro.distributions as dist"
   ]
  },
  {
   "cell_type": "code",
   "execution_count": 2,
   "metadata": {},
   "outputs": [],
   "source": [
    "# 0 is nought\n",
    "# 1 is cross\n",
    "# -1 is empty"
   ]
  },
  {
   "cell_type": "code",
   "execution_count": 3,
   "metadata": {},
   "outputs": [],
   "source": [
    "board = np.ones((3,3), dtype=np.int)*(-1)"
   ]
  },
  {
   "cell_type": "code",
   "execution_count": 4,
   "metadata": {},
   "outputs": [
    {
     "data": {
      "text/plain": [
       "array([[-1, -1, -1],\n",
       "       [-1, -1, -1],\n",
       "       [-1, -1, -1]])"
      ]
     },
     "execution_count": 4,
     "metadata": {},
     "output_type": "execute_result"
    }
   ],
   "source": [
    "board"
   ]
  },
  {
   "cell_type": "code",
   "execution_count": 5,
   "metadata": {},
   "outputs": [],
   "source": [
    "def win(board, player):\n",
    "    vertical_streak = any(all(board[i] == np.ones(3,dtype=np.int)*player) for i in range(3))\n",
    "    horizontal_streak = any(all(board[:,i] == np.ones(3,dtype=np.int)*player) for i in range(3))\n",
    "    diagonal_streak = all(np.diag(board) == np.ones(3,dtype=np.int)*player)\n",
    "    other_diagonal_streak = all(np.diag(np.flip(board, axis=1)) == np.ones(3,dtype=np.int)*player)\n",
    "    return any([vertical_streak,horizontal_streak,diagonal_streak,other_diagonal_streak])"
   ]
  },
  {
   "cell_type": "code",
   "execution_count": 6,
   "metadata": {},
   "outputs": [
    {
     "data": {
      "text/plain": [
       "9"
      ]
     },
     "execution_count": 6,
     "metadata": {},
     "output_type": "execute_result"
    }
   ],
   "source": [
    "(board == -1).sum()"
   ]
  },
  {
   "cell_type": "code",
   "execution_count": 7,
   "metadata": {},
   "outputs": [],
   "source": [
    "def draw(board):\n",
    "    # no empty positions left\n",
    "    return not (win(board, 0) or win(board, 1)) and (board == -1).sum() <= 1"
   ]
  },
  {
   "cell_type": "code",
   "execution_count": 8,
   "metadata": {},
   "outputs": [],
   "source": [
    "def move(board, player, position, in_place = True):\n",
    "    i,j = position\n",
    "    assert board[i,j] == -1\n",
    "    if in_place:\n",
    "        board[i,j] = player\n",
    "        return board\n",
    "    else:\n",
    "        new_board = board.copy()\n",
    "        new_board[i,j] = player\n",
    "        return new_board"
   ]
  },
  {
   "cell_type": "code",
   "execution_count": 9,
   "metadata": {},
   "outputs": [],
   "source": [
    "def all_possible_moves_from(board):\n",
    "    i,j = np.where(board == -1)\n",
    "    return list(zip(list(i),list(j)))"
   ]
  },
  {
   "cell_type": "code",
   "execution_count": 10,
   "metadata": {},
   "outputs": [],
   "source": [
    "def random_move(board, player):\n",
    "    # i = np.random.randint(3)\n",
    "    # j = np.random.randint(3)\n",
    "    # return move(board, player, (i,j))\n",
    "    moves = all_possible_moves_from(board)\n",
    "    n_possible_moves = len(moves)\n",
    "    move_idx = np.random.choice(n_possible_moves,size=1)\n",
    "    selected_move = moves[int(move_idx)]\n",
    "    return move(board, player, selected_move)"
   ]
  },
  {
   "cell_type": "code",
   "execution_count": 11,
   "metadata": {},
   "outputs": [],
   "source": [
    "def random_game(board):\n",
    "    game = []\n",
    "    turn = 1\n",
    "    while not any([win(board, 0), win(board, 1), draw(board)]):\n",
    "        try:\n",
    "            board = random_move(board, turn)\n",
    "        except AssertionError:\n",
    "            continue\n",
    "        turn = 1-turn\n",
    "        game.append(board.copy())\n",
    "    return game"
   ]
  },
  {
   "cell_type": "code",
   "execution_count": 12,
   "metadata": {},
   "outputs": [],
   "source": [
    "def totuple(board):\n",
    "    return tuple([tuple(row) for row in board])"
   ]
  },
  {
   "cell_type": "code",
   "execution_count": 13,
   "metadata": {},
   "outputs": [],
   "source": [
    "def UCT(game_tree, node, parent_node = None):\n",
    "    w = game_tree.nodes[node]['wins']\n",
    "    n = game_tree.nodes[node]['n_simulations']\n",
    "    # if a node hasn't been explored, we definitely want to go to that node\n",
    "    if n == 0:\n",
    "        return np.inf\n",
    "    if parent_node is None:\n",
    "        N = game_tree.in_edges(node)[0][0]['n_simulations']\n",
    "    else:\n",
    "        N = game_tree.nodes[parent_node]['n_simulations']\n",
    "    c = np.sqrt(2)\n",
    "    return w/np.float(n) + c*np.sqrt(np.log(N)/n)"
   ]
  },
  {
   "cell_type": "code",
   "execution_count": 14,
   "metadata": {},
   "outputs": [],
   "source": [
    "def selection(game_tree, current_node):\n",
    "    # from root node\n",
    "    if current_node is None:\n",
    "        current_node = totuple(starting_board)\n",
    "    children = [e[1] for e in game_tree.out_edges(current_node)]\n",
    "    path = [current_node]\n",
    "    # and until we reach a leaf node\n",
    "    while len(children) != 0:\n",
    "        # if the current node hasn't been visited before\n",
    "        if game_tree.nodes[current_node]['n_simulations'] == 0:\n",
    "            # choose a child randomly\n",
    "            favorite_child = np.random.choice(len(children),size=1)\n",
    "        else:\n",
    "            # go to child node that has greatest UCT\n",
    "            favorite_child = np.argmax([UCT(game_tree, child_node, current_node) for child_node in children])\n",
    "        current_node = children[int(favorite_child)]\n",
    "        children = [e[1] for e in game_tree.out_edges(current_node)]\n",
    "        path.append(current_node)\n",
    "    return current_node, path"
   ]
  },
  {
   "cell_type": "code",
   "execution_count": 15,
   "metadata": {},
   "outputs": [],
   "source": [
    "def expansion(current_node, path):\n",
    "    # if current_node has been reached before\n",
    "    if game_tree.nodes[current_node]['n_simulations'] != 0:\n",
    "        player = 1-game_tree.nodes[current_node]['player']\n",
    "        # add all other moves from parent node\n",
    "        current_board = np.array(current_node)\n",
    "        expansions = [totuple(move(current_board,player,pos,in_place=False)) for pos in all_possible_moves_from(current_board)]\n",
    "        game_tree.add_nodes_from([(expansion, {'player':player,'wins':0, 'n_simulations':0}) for expansion in expansions])\n",
    "        game_tree.add_edges_from([(current_node, expansion) for expansion in expansions])\n",
    "        path.append(expansions[0])\n",
    "        return expansions[0], path\n",
    "    else:\n",
    "        return current_node, path"
   ]
  },
  {
   "cell_type": "code",
   "execution_count": 16,
   "metadata": {},
   "outputs": [],
   "source": [
    "def simulation(current_node):\n",
    "    board = np.array(current_node)\n",
    "    # if we didn't reach a terminal node\n",
    "    if not any([win(board, 0), win(board, 1), draw(board)]):\n",
    "        # simulate until we reach one\n",
    "        game = random_game(np.array(current_node))\n",
    "        board = game[-1]\n",
    "    winner = win(board,0)*0 + win(board,1)*1 + draw(board)*0.5\n",
    "    return winner"
   ]
  },
  {
   "cell_type": "code",
   "execution_count": 17,
   "metadata": {},
   "outputs": [],
   "source": [
    "def backpropagation(game_tree, winner, path):\n",
    "    for node in path:\n",
    "        game_tree.nodes[node]['n_simulations'] += 1\n",
    "        if game_tree.nodes[node]['player'] == winner:\n",
    "            game_tree.nodes[node]['wins'] += 1\n",
    "        if winner == 0.5:\n",
    "            game_tree.nodes[node]['wins'] += winner"
   ]
  },
  {
   "cell_type": "code",
   "execution_count": 18,
   "metadata": {},
   "outputs": [],
   "source": [
    "def MCTS(game_tree, starting_node = None, n_iter = 10):\n",
    "    i = 0\n",
    "    while i < n_iter:\n",
    "        current_node, path = selection(game_tree, starting_node)\n",
    "        board = np.array(current_node)\n",
    "        # if current node doesn't end the game\n",
    "        if not any([win(board, 0), win(board, 1), draw(board)]):\n",
    "            current_node, path = expansion(current_node, path)\n",
    "            winner = simulation(current_node)\n",
    "        else:\n",
    "            winner = win(board,0)*0 + win(board,1)*1 + draw(board)*0.5\n",
    "        backpropagation(game_tree, winner, path)\n",
    "        i += 1"
   ]
  },
  {
   "cell_type": "code",
   "execution_count": 19,
   "metadata": {
    "scrolled": false
   },
   "outputs": [],
   "source": [
    "game_tree = nx.DiGraph()\n",
    "starting_board = np.ones((3,3), dtype=np.int)*(-1)\n",
    "game_tree.add_nodes_from([(totuple(starting_board), {'player':0,'wins':0, 'n_simulations':0})])\n",
    "MCTS(game_tree)"
   ]
  },
  {
   "cell_type": "code",
   "execution_count": 20,
   "metadata": {},
   "outputs": [],
   "source": [
    "def sample_policy(game_tree, game_state):\n",
    "    game_tree.nodes[totuple(game_state)]\n",
    "    children = [e[1] for e in game_tree.out_edges(totuple(game_state))]\n",
    "    # assuming the move with the most simulations made is best\n",
    "    n_simulated = [game_tree.nodes[child]['n_simulations'] for child in children]\n",
    "    #win_ratios = [game_tree.nodes[child]['wins']/game_tree.nodes[child]['n_simulations'] for child in children]\n",
    "    policy = np.random.choice(np.where(np.array(n_simulated) == max(n_simulated))[0])\n",
    "    return np.array(children[policy])"
   ]
  },
  {
   "cell_type": "code",
   "execution_count": 21,
   "metadata": {},
   "outputs": [],
   "source": [
    "#pos = graphviz_layout(game_tree, prog=\"dot\")\n",
    "#\n",
    "#%matplotlib qt\n",
    "#nx.draw(game_tree, pos=pos)\n",
    "#nx.draw_networkx_labels(game_tree, pos, win_ratio, font_size=5);"
   ]
  },
  {
   "cell_type": "code",
   "execution_count": 22,
   "metadata": {},
   "outputs": [],
   "source": [
    "def click_coords2move(coords):\n",
    "    x,y = coords\n",
    "    x_norm = x/2.5*3\n",
    "    y_norm = y/2.5*3\n",
    "    j = int(x_norm)\n",
    "    i = int(y_norm)\n",
    "    return (i,j)"
   ]
  },
  {
   "cell_type": "code",
   "execution_count": 23,
   "metadata": {},
   "outputs": [],
   "source": [
    "import time"
   ]
  },
  {
   "cell_type": "code",
   "execution_count": 24,
   "metadata": {},
   "outputs": [],
   "source": [
    "class TicTacToe:\n",
    "    def __init__(self, board):\n",
    "        self.board = board\n",
    "        self.game_state = self.board.get_array()\n",
    "        self.game = [self.game_state]\n",
    "        self.end = False\n",
    "        self.cid = self.board.figure.canvas.mpl_connect('button_press_event', self)\n",
    "\n",
    "    def __call__(self, event):\n",
    "        if not self.end:\n",
    "            # get player move\n",
    "            input_move = click_coords2move((event.xdata, event.ydata))\n",
    "            board_after_player_move = move(self.game_state, 1, input_move)\n",
    "            self.game_state = board_after_player_move\n",
    "\n",
    "            # render player move\n",
    "            self.board.set_data(self.game_state)\n",
    "            self.board.figure.canvas.draw()\n",
    "            # check if anyone won\n",
    "            if any([win(self.game_state, 0), win(self.game_state, 1), draw(self.game_state)]):\n",
    "                winner = win(self.game_state,0)*0 + win(self.game_state,1)*1 + draw(self.game_state)*0.5\n",
    "                if winner == 1:\n",
    "                    self.board.axes.set_title(f'You win!')\n",
    "                elif winner == 0:\n",
    "                    self.board.axes.set_title(f'AI wins!')\n",
    "                else:\n",
    "                    self.board.axes.set_title(f'Draw!')\n",
    "                    \n",
    "                self.board.figure.canvas.draw()\n",
    "                self.end = True\n",
    "\n",
    "            # get AI move\n",
    "            # if player has made a move the AI has never seen, add it to the game tree\n",
    "            if totuple(self.game_state) not in game_tree.nodes:\n",
    "                game_tree.add_nodes_from([(totuple(self.game_state),{'player':player,'wins':0, 'n_simulations':0})])\n",
    "                game_tree.add_edges_from([(self.game[-1],self.game_state)])\n",
    "            # run search from board after player's move\n",
    "            MCTS(game_tree, totuple(self.game_state), 400)\n",
    "            # sample AI move\n",
    "            board_after_AI_move = sample_policy(game_tree, self.game_state)\n",
    "            self.game_state = board_after_AI_move\n",
    "            self.game.append(self.game_state)\n",
    "\n",
    "            # render AI move\n",
    "            self.board.set_data(self.game_state)\n",
    "            self.board.figure.canvas.draw()\n",
    "\n",
    "            # check if anyone won\n",
    "            if any([win(self.game_state, 0), win(self.game_state, 1), draw(self.game_state)]):\n",
    "                winner = win(self.game_state,0)*0 + win(self.game_state,1)*1 + draw(self.game_state)*0.5\n",
    "                if winner == 1:\n",
    "                    self.board.axes.set_title(f'You win!')\n",
    "                elif winner == 0:\n",
    "                    self.board.axes.set_title(f'AI wins!')\n",
    "                else:\n",
    "                    self.board.axes.set_title(f'Draw!')\n",
    "                self.board.figure.canvas.draw()\n",
    "                self.end = True\n",
    "            #print(self.board.get_array())\n",
    "        "
   ]
  },
  {
   "cell_type": "code",
   "execution_count": 25,
   "metadata": {},
   "outputs": [],
   "source": [
    "%matplotlib qt"
   ]
  },
  {
   "cell_type": "code",
   "execution_count": 30,
   "metadata": {
    "scrolled": false
   },
   "outputs": [
    {
     "name": "stderr",
     "output_type": "stream",
     "text": [
      "Traceback (most recent call last):\n",
      "  File \"/home/folzd/anaconda3/lib/python3.7/site-packages/matplotlib/cbook/__init__.py\", line 216, in process\n",
      "    func(*args, **kwargs)\n",
      "  File \"<ipython-input-24-159cf8887101>\", line 13, in __call__\n",
      "    board_after_player_move = move(self.game_state, 1, input_move)\n",
      "  File \"<ipython-input-8-ab8bfc1f275b>\", line 3, in move\n",
      "    assert board[i,j] == -1\n",
      "AssertionError\n"
     ]
    }
   ],
   "source": [
    "starting_board = np.ones((3,3), dtype=np.int)*(-1)\n",
    "#starting_board = np.array([[ 1, -1, -1],[-1, -1, -1],[-1, -1,  0]])\n",
    "fig = plt.figure()\n",
    "ax = fig.add_subplot(111)\n",
    "\n",
    "#ax.set_title('Click')\n",
    "board = ax.imshow(starting_board, vmin=-1,vmax=1)\n",
    "plt.axis('off')\n",
    "\n",
    "tictactoe = TicTacToe(board)\n",
    "\n",
    "plt.show()"
   ]
  },
  {
   "cell_type": "code",
   "execution_count": 27,
   "metadata": {},
   "outputs": [
    {
     "data": {
      "text/plain": [
       "10"
      ]
     },
     "execution_count": 27,
     "metadata": {},
     "output_type": "execute_result"
    }
   ],
   "source": [
    "len(game_tree.nodes)"
   ]
  },
  {
   "cell_type": "code",
   "execution_count": 28,
   "metadata": {},
   "outputs": [
    {
     "data": {
      "text/plain": [
       "9"
      ]
     },
     "execution_count": 28,
     "metadata": {},
     "output_type": "execute_result"
    }
   ],
   "source": [
    "len(game_tree.edges)"
   ]
  },
  {
   "cell_type": "code",
   "execution_count": 29,
   "metadata": {},
   "outputs": [
    {
     "data": {
      "text/plain": [
       "(10, 3, 3)"
      ]
     },
     "execution_count": 29,
     "metadata": {},
     "output_type": "execute_result"
    }
   ],
   "source": [
    "np.unique(np.array(game_tree.nodes), axis=-1).shape"
   ]
  }
 ],
 "metadata": {
  "kernelspec": {
   "display_name": "Python 3",
   "language": "python",
   "name": "python3"
  },
  "language_info": {
   "codemirror_mode": {
    "name": "ipython",
    "version": 3
   },
   "file_extension": ".py",
   "mimetype": "text/x-python",
   "name": "python",
   "nbconvert_exporter": "python",
   "pygments_lexer": "ipython3",
   "version": "3.7.3"
  }
 },
 "nbformat": 4,
 "nbformat_minor": 2
}

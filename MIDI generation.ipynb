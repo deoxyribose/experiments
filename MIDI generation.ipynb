{
 "cells": [
  {
   "cell_type": "code",
   "execution_count": 1,
   "metadata": {},
   "outputs": [
    {
     "name": "stdout",
     "output_type": "stream",
     "text": [
      "pygame 1.9.6\n",
      "Hello from the pygame community. https://www.pygame.org/contribute.html\n"
     ]
    }
   ],
   "source": [
    "from itertools import chain\n",
    "import numpy as np\n",
    "from midiutil import *\n",
    "import pygame"
   ]
  },
  {
   "cell_type": "code",
   "execution_count": 2,
   "metadata": {},
   "outputs": [],
   "source": [
    "track = 0\n",
    "channel = 0\n",
    "#pitch = 120\n",
    "pitch = 60\n",
    "pitch1 = 60\n",
    "time = 0\n",
    "duration = 1\n",
    "volume = 100\n"
   ]
  },
  {
   "cell_type": "code",
   "execution_count": 3,
   "metadata": {},
   "outputs": [],
   "source": [
    "def blank_midifile():\n",
    "    MyMIDI = MIDIFile(1)\n",
    "    return MyMIDI\n",
    "\n",
    "#for i in range(12):\n",
    "#    MyMIDI.addNote(track,channel,pitch+i,time+i,duration,volume)"
   ]
  },
  {
   "cell_type": "code",
   "execution_count": 4,
   "metadata": {},
   "outputs": [],
   "source": [
    "intervals = {'prim':0,\n",
    "             'minor_second':1,\n",
    "             'major_second':2,\n",
    "             'minor_third':3,\n",
    "             'major_third':4,\n",
    "             'fourth':5,\n",
    "             'tritone':6,\n",
    "             'fifth':7,\n",
    "             'minor_sixth':8,\n",
    "             'major_sixth':9,\n",
    "             'minor_seventh':10,\n",
    "             'major_seventh':11,\n",
    "             'octave':12\n",
    "            }"
   ]
  },
  {
   "cell_type": "code",
   "execution_count": 5,
   "metadata": {},
   "outputs": [],
   "source": [
    "major = [0, 2, 4, 5, 7, 9, 11] + [12 + x for x in [0, 2, 4, 5, 7, 9, 11]]"
   ]
  },
  {
   "cell_type": "code",
   "execution_count": 6,
   "metadata": {},
   "outputs": [
    {
     "data": {
      "text/plain": [
       "[2, 5, 9, 12, 16, 19, 23]"
      ]
     },
     "execution_count": 6,
     "metadata": {},
     "output_type": "execute_result"
    }
   ],
   "source": [
    "def major_chord(chord_numeral, jazzness=0):\n",
    "    return major[chord_numeral-1::2][:(3+jazzness)]\n",
    "major_chord(2, 5)"
   ]
  },
  {
   "cell_type": "code",
   "execution_count": 7,
   "metadata": {},
   "outputs": [],
   "source": [
    "class Tone:\n",
    "    def __init__(self, root, interval, duration=1, volume=100, parent=None, time=None):\n",
    "        if parent is None and time is None:\n",
    "            time = 0\n",
    "        self.parent = parent\n",
    "        self.time = time    \n",
    "        self.root = root\n",
    "        if type(interval) == str:\n",
    "            self.interval = intervals[interval]\n",
    "        else:\n",
    "            self.interval = interval\n",
    "        self.duration = duration\n",
    "        self.volume = volume\n",
    "        \n",
    "    #def __getattr__(self, name):\n",
    "    def __getattribute__(self, name):\n",
    "        if name == 'time' and self.parent is not None:\n",
    "            return self.parent.time + self.parent.duration\n",
    "        else:\n",
    "            return object.__getattribute__(self,name)\n",
    "            \n",
    "    \n",
    "    def add_note(self, midi_file, track, channel):\n",
    "        if self.parent is not None:\n",
    "            time = self.parent.time + self.parent.duration\n",
    "        elif self.time is not None:\n",
    "            time = self.time\n",
    "        else:\n",
    "            raise ValueError(\"Parent and/or time was messed with - don't do that!\")\n",
    "        \n",
    "        midi_file.addNote(track, channel, self.root + self.interval, time, self.duration, self.volume)"
   ]
  },
  {
   "cell_type": "code",
   "execution_count": 8,
   "metadata": {},
   "outputs": [],
   "source": [
    "class Chord:\n",
    "    def __init__(self, root, constituents, duration=1, volume=100, parent=None, time=None):\n",
    "        if parent is None and time is None:\n",
    "            time = 0\n",
    "        self.parent = parent\n",
    "        self.time = time    \n",
    "        self.root = root\n",
    "        self.constituents = []\n",
    "        for interval in constituents:\n",
    "            if type(interval) == str:\n",
    "                self.constituents.append(intervals[interval])\n",
    "            else:\n",
    "                self.constituents.append(interval)\n",
    "        self.duration = duration\n",
    "        self.volume = volume\n",
    "\n",
    "    def __getattribute__(self, name):\n",
    "        if name == 'time' and self.parent is not None:\n",
    "            return self.parent.time + self.parent.duration\n",
    "        else:\n",
    "            return object.__getattribute__(self,name)\n",
    "            \n",
    "    \n",
    "    def add_note(self, midi_file, track, channel):\n",
    "        if self.parent is not None:\n",
    "            time = self.parent.time + self.parent.duration\n",
    "        elif self.time is not None:\n",
    "            time = self.time\n",
    "        else:\n",
    "            raise ValueError(\"Parent and/or time was messed with - don't do that!\")\n",
    "        \n",
    "        for interval in self.constituents:\n",
    "            midi_file.addNote(track, channel, self.root + interval, time, self.duration, self.volume)"
   ]
  },
  {
   "cell_type": "code",
   "execution_count": 9,
   "metadata": {},
   "outputs": [],
   "source": [
    "major_scale = np.array([0,2,4,5,7,9,11])"
   ]
  },
  {
   "cell_type": "code",
   "execution_count": 10,
   "metadata": {},
   "outputs": [],
   "source": [
    "major_scale_probabilities = np.eye(12)[major_scale].sum(0)/7"
   ]
  },
  {
   "cell_type": "code",
   "execution_count": 11,
   "metadata": {},
   "outputs": [],
   "source": [
    "melody = []\n",
    "signs = []\n",
    "rhythm = []\n",
    "for _ in range(4):\n",
    "    length = 0\n",
    "    while length < 4:\n",
    "        note = np.random.choice(range(0, 12), size = 1, p = major_scale_probabilities)\n",
    "        #sign = np.random.choice([-1,1],size=1)\n",
    "        sign = 1\n",
    "        #duration = np.random.choice([0.25,0.5,1,1.25, 1.5, 1.75, 2], size=1)\n",
    "        duration = np.random.choice([0.25,0.5,1, 2], size=1)\n",
    "        melody.append(note)\n",
    "        signs.append(sign)\n",
    "        if duration > (4 - length):\n",
    "            duration = 4 - length\n",
    "        rhythm.append(duration)\n",
    "        length += duration"
   ]
  },
  {
   "cell_type": "code",
   "execution_count": 12,
   "metadata": {},
   "outputs": [
    {
     "data": {
      "text/plain": [
       "array([4.])"
      ]
     },
     "execution_count": 12,
     "metadata": {},
     "output_type": "execute_result"
    }
   ],
   "source": [
    "length"
   ]
  },
  {
   "cell_type": "code",
   "execution_count": 13,
   "metadata": {},
   "outputs": [],
   "source": [
    "melody = np.array(melody).flatten()\n",
    "rhythm = np.array(rhythm).flatten()\n",
    "signs = np.array(signs).flatten()"
   ]
  },
  {
   "cell_type": "code",
   "execution_count": 14,
   "metadata": {},
   "outputs": [],
   "source": [
    "midi_file = blank_midifile()\n",
    "the_lick = []\n",
    "the_lick.append(Tone(pitch, 1, 0.5, time=0))\n",
    "for interval, duration in [(2, 0.5), (3, 0.5), (5, 0.5), (2, 1), (-2, 0.5), (0, 1.5)]:\n",
    "    the_lick.append(Tone(pitch, interval, duration, parent=the_lick[-1]))\n",
    "\n",
    "for x in the_lick:\n",
    "    x.add_note(midi_file, track, channel)"
   ]
  },
  {
   "cell_type": "code",
   "execution_count": 46,
   "metadata": {},
   "outputs": [],
   "source": [
    "midi_file = blank_midifile()\n",
    "midi_file.addProgramChange(track, channel+1, 0, 8)\n",
    "random_music = []\n",
    "pitches = melody*sign\n",
    "random_music.append(Tone(60, pitches[0], rhythm[0], time=0))\n",
    "for interval, duration in zip(pitches[1:], rhythm[1:]):\n",
    "    random_music.append(Tone(pitch, interval, duration, parent=random_music[-1]))\n",
    "\n",
    "for x in random_music:\n",
    "    x.add_note(midi_file, track, channel)"
   ]
  },
  {
   "cell_type": "code",
   "execution_count": 47,
   "metadata": {},
   "outputs": [
    {
     "name": "stdout",
     "output_type": "stream",
     "text": [
      "[2, 5, 9, 12]\n",
      "[7, 11, 14, 17]\n",
      "[0, 4, 7, 11]\n",
      "[0, 4, 7, 11]\n"
     ]
    }
   ],
   "source": [
    "#midi_file = blank_midifile()\n",
    "c = Chord(pitch, major_chord(2, jazzness=1), duration=4)\n",
    "d = Chord(pitch, major_chord(5, jazzness=1), duration=4, parent=c)\n",
    "e = Chord(pitch, major_chord(1, jazzness=1), duration=4, parent=d)\n",
    "f = Chord(pitch, major_chord(1, jazzness=1), duration=4, parent=e)\n",
    "c.add_note(midi_file, track, channel+1)\n",
    "d.add_note(midi_file, track, channel+1)\n",
    "e.add_note(midi_file, track, channel+1)\n",
    "f.add_note(midi_file, track, channel+1)\n",
    "\n",
    "print(c.constituents)\n",
    "print(d.constituents)\n",
    "print(e.constituents)\n",
    "print(f.constituents)"
   ]
  },
  {
   "cell_type": "code",
   "execution_count": 48,
   "metadata": {},
   "outputs": [],
   "source": [
    "for midi_track in midi_file.tracks:\n",
    "    midi_track.closeTrack()\n",
    "with open('tmp.mid','wb') as f:\n",
    "    midi_file.writeFile(f)"
   ]
  },
  {
   "cell_type": "code",
   "execution_count": 49,
   "metadata": {},
   "outputs": [],
   "source": [
    "def play_music(midi_filename):\n",
    "  '''Stream music_file in a blocking manner'''\n",
    "  clock = pygame.time.Clock()\n",
    "  pygame.mixer.music.load(midi_filename)\n",
    "  pygame.mixer.music.play()\n",
    "  while pygame.mixer.music.get_busy():\n",
    "    clock.tick(30) # check if playback has finished"
   ]
  },
  {
   "cell_type": "code",
   "execution_count": null,
   "metadata": {},
   "outputs": [],
   "source": [
    "# mixer config\n",
    "freq = 44100  # audio CD quality\n",
    "bitsize = -16   # unsigned 16 bit\n",
    "channels = 2  # 1 is mono, 2 is stereo\n",
    "buffer = 1024   # number of samples\n",
    "pygame.mixer.init(freq, bitsize, channels, buffer)\n",
    "\n",
    "# optional volume 0 to 1.0\n",
    "pygame.mixer.music.set_volume(0.8)\n",
    "\n",
    "# listen for interruptions\n",
    "#try:\n",
    "  # use the midi file you just saved\n",
    "play_music('tmp.mid')\n",
    "#except KeyboardInterrupt:\n",
    "  ## if user hits Ctrl/C then exit\n",
    "  ## (works only in console mode)\n",
    "  #pygame.mixer.music.fadeout(1000)\n",
    "  #pygame.mixer.music.stop()\n",
    "  #raise SystemExit"
   ]
  },
  {
   "cell_type": "code",
   "execution_count": 51,
   "metadata": {},
   "outputs": [],
   "source": [
    "import matplotlib.pylab as plt"
   ]
  },
  {
   "cell_type": "code",
   "execution_count": 52,
   "metadata": {},
   "outputs": [],
   "source": [
    "x = np.cumsum(rhythm)"
   ]
  },
  {
   "cell_type": "code",
   "execution_count": 53,
   "metadata": {},
   "outputs": [
    {
     "data": {
      "text/plain": [
       "[<matplotlib.lines.Line2D at 0x7f96e588f160>]"
      ]
     },
     "execution_count": 53,
     "metadata": {},
     "output_type": "execute_result"
    },
    {
     "data": {
      "image/png": "[encoded data removed]",
      "text/plain": [
       "<Figure size 432x288 with 1 Axes>"
      ]
     },
     "metadata": {
      "needs_background": "light"
     },
     "output_type": "display_data"
    }
   ],
   "source": [
    "plt.plot([0] + list(x[:-1]), melody,'.')"
   ]
  },
  {
   "cell_type": "code",
   "execution_count": null,
   "metadata": {},
   "outputs": [],
   "source": []
  },
  {
   "cell_type": "code",
   "execution_count": null,
   "metadata": {},
   "outputs": [],
   "source": []
  }
 ],
 "metadata": {
  "kernelspec": {
   "display_name": "Python 3",
   "language": "python",
   "name": "python3"
  },
  "language_info": {
   "codemirror_mode": {
    "name": "ipython",
    "version": 3
   },
   "file_extension": ".py",
   "mimetype": "text/x-python",
   "name": "python",
   "nbconvert_exporter": "python",
   "pygments_lexer": "ipython3",
   "version": "3.7.3"
  }
 },
 "nbformat": 4,
 "nbformat_minor": 2
}

{
 "cells": [
  {
   "cell_type": "code",
   "execution_count": 1,
   "metadata": {},
   "outputs": [],
   "source": [
    "import dill\n",
    "import networkx as nx\n",
    "import pyro.distributions as dist\n",
    "import matplotlib.pylab as plt\n",
    "import numpy as np\n",
    "import sys\n",
    "sys.path.append(\"/home/folzd/phd/compositions_mixtures_factors\")\n",
    "from model_operators import *\n",
    "from utils import *\n",
    "from code_generation import *\n",
    "from graph_grammar import *\n",
    "from models_and_guides import *\n",
    "from inference import *\n",
    "from plotting import *\n",
    "from scipy.stats import gaussian_kde"
   ]
  },
  {
   "cell_type": "code",
   "execution_count": 2,
   "metadata": {},
   "outputs": [],
   "source": [
    "%load_ext autoreload\n",
    "\n",
    "%autoreload 2"
   ]
  },
  {
   "cell_type": "markdown",
   "metadata": {},
   "source": [
    "## Define graph for factor model"
   ]
  },
  {
   "cell_type": "code",
   "execution_count": 3,
   "metadata": {},
   "outputs": [],
   "source": [
    "factor = nx.DiGraph()"
   ]
  },
  {
   "cell_type": "code",
   "execution_count": 4,
   "metadata": {},
   "outputs": [],
   "source": [
    "nodes = [\n",
    "    #('z_loc',{'type':'const', 'value':0.}),\n",
    "    #('z_scale',{'type':'const', 'value':1.}),\n",
    "    ('z_loc',{'type':'function', 'function':torch.zeros, 'args':(Name(id='K'),)}),\n",
    "    ('z_scale',{'type':'function', 'function':torch.ones, 'args':(Name(id='K'),)}),\n",
    "    ('z',{'distribution':dist.Normal,'type':'latent','event_dims':1}),\n",
    "    #('z_T',{'type':'deterministic', 'function':torch.transpose, 'args':(Num(0),Num(1))}),\n",
    "    #('z_T',{'type':'function', 'function':torch.transpose, 'args':(Num(0),Num(1))}),\n",
    "    ('cov_diag_loc',{'type':'param','shape':'D'}),\n",
    "    ('cov_diag_scale',{'type':'param','shape':'D','constraint':'positive'}),\n",
    "#    ('cov_factor_loc',{'type':'param','shape':'KD'}),\n",
    "#    ('cov_factor_scale',{'type':'param','shape':'KD','constraint':'positive'}),\n",
    "    ('cov_factor_loc',{'type':'param','shape':'DK'}),\n",
    "    ('cov_factor_scale',{'type':'param','shape':'DK','constraint':'positive'}),\n",
    "    ('cov_factor',{'distribution':dist.Normal,'type':'latent','event_dims':2}),\n",
    "    ('loc_loc',{'type':'param','shape':'D'}),\n",
    "    ('loc_scale',{'type':'param','shape':'D','constraint':'positive'}),\n",
    "    ('loc',{'distribution':dist.Normal,'type':'latent','event_dims':1}),\n",
    "    #('Wz',{'type':'deterministic', 'function':torch.matmul}),\n",
    "    ('Wz',{'type':'function', 'function':torch.matmul, 'args':('p','t')}),\n",
    "    ('Wzloc',{'type':'function', 'function':torch.add, 'args':('p','p')}),\n",
    "    ('X',{'distribution':dist.MultivariateNormal,'type':'obs'}),\n",
    "    ('cov_diag',{'distribution':dist.LogNormal,'type':'latent','event_dims':1}),\n",
    "    ('cov_diag_j',{'type':'function', 'function':torch.add, 'args':('p',Num(n=0.0001))}),\n",
    "    #('diag',{'type':'deterministic', 'function':torch.diag_embed}),\n",
    "    ('diag',{'type':'function', 'function':torch.diag_embed}),\n",
    "]"
   ]
  },
  {
   "cell_type": "code",
   "execution_count": 5,
   "metadata": {},
   "outputs": [],
   "source": [
    "edges = [\n",
    "    ('cov_diag_loc','cov_diag',{'type':'param','param':'loc'}),\n",
    "    ('cov_diag_scale','cov_diag',{'type':'param','param':'scale'}),\n",
    "    ('cov_factor_loc','cov_factor',{'type':'param','param':'loc'}),\n",
    "    ('cov_factor_scale','cov_factor',{'type':'param','param':'scale'}),\n",
    "    ('loc_loc','loc',{'type':'param','param':'loc'}),\n",
    "    ('loc_scale','loc',{'type':'param','param':'scale'}),\n",
    "    ('z_loc','z',{'type':'param','param':'loc'}),\n",
    "    ('z_scale','z',{'type':'param','param':'scale'}),    \n",
    "    #('z','Wz',{'type':'arg', 'transpose':True}),\n",
    "#    ('z','z_T',{'type':'arg'}),\n",
    "#    ('z_T','Wz',{'type':'arg'}),\n",
    "    ('z','Wz',{'type':'arg'}),\n",
    "    ('cov_factor','Wz',{'type':'arg'}),\n",
    "    ('Wz','Wzloc',{'type':'arg'}),\n",
    "    ('loc','Wzloc',{'type':'arg'}),\n",
    "    ('Wzloc','X',{'type':'param','param':'loc'}),\n",
    "    #('cov_diag','X',{'type':'param','param':'scale'})\n",
    "    ('cov_diag','cov_diag_j',{'type':'arg'}),\n",
    "    ('cov_diag_j','diag',{'type':'arg'}),\n",
    "    ('diag','X',{'type':'param','param':'covariance_matrix'})\n",
    "]"
   ]
  },
  {
   "cell_type": "code",
   "execution_count": 6,
   "metadata": {},
   "outputs": [],
   "source": [
    "plate_attr = {\n",
    "#    'cov_factor':{'plates':['D','K']},\n",
    "#    'cov_diag':{'plates':['D']},\n",
    "    'X':{'plates':['N']},\n",
    "    'Wz':{'plates':['N']},\n",
    "    #'z':{'plates':['N','K']},\n",
    "    'z':{'plates':['N']},\n",
    "    #'z_T':{'plates':['N']}\n",
    "}"
   ]
  },
  {
   "cell_type": "code",
   "execution_count": 7,
   "metadata": {},
   "outputs": [],
   "source": [
    "factor.add_nodes_from(nodes)\n",
    "factor.add_edges_from(edges)\n",
    "nx.set_node_attributes(factor, plate_attr)"
   ]
  },
  {
   "cell_type": "markdown",
   "metadata": {},
   "source": [
    "W: D, K\n",
    "\n",
    "z: K, N\n",
    "\n",
    "Sigma: D\n",
    "\n",
    "Wz: N\n",
    "\n",
    "X: N"
   ]
  },
  {
   "cell_type": "code",
   "execution_count": 8,
   "metadata": {},
   "outputs": [
    {
     "name": "stderr",
     "output_type": "stream",
     "text": [
      "/home/folzd/anaconda3/lib/python3.7/site-packages/networkx/drawing/nx_pylab.py:579: MatplotlibDeprecationWarning: \n",
      "The iterable function was deprecated in Matplotlib 3.1 and will be removed in 3.3. Use np.iterable instead.\n",
      "  if not cb.iterable(width):\n",
      "/home/folzd/anaconda3/lib/python3.7/site-packages/networkx/drawing/nx_pylab.py:676: MatplotlibDeprecationWarning: \n",
      "The iterable function was deprecated in Matplotlib 3.1 and will be removed in 3.3. Use np.iterable instead.\n",
      "  if cb.iterable(node_size):  # many node sizes\n"
     ]
    },
    {
     "data": {
      "image/png": "[encoded data removed]",
      "text/plain": [
       "<Figure size 432x288 with 1 Axes>"
      ]
     },
     "metadata": {},
     "output_type": "display_data"
    }
   ],
   "source": [
    "nx.draw(factor, with_labels=True)"
   ]
  },
  {
   "cell_type": "markdown",
   "metadata": {},
   "source": [
    "## Marginalize latent variables out"
   ]
  },
  {
   "cell_type": "code",
   "execution_count": 9,
   "metadata": {},
   "outputs": [],
   "source": [
    "marg_factor = marginalize_factor(factor)"
   ]
  },
  {
   "cell_type": "code",
   "execution_count": 10,
   "metadata": {
    "scrolled": false
   },
   "outputs": [
    {
     "data": {
      "image/png": "[encoded data removed]",
      "text/plain": [
       "<Figure size 432x288 with 1 Axes>"
      ]
     },
     "metadata": {},
     "output_type": "display_data"
    }
   ],
   "source": [
    "nx.draw(marg_factor, with_labels=True)"
   ]
  },
  {
   "cell_type": "markdown",
   "metadata": {},
   "source": [
    "### Create graph and code for mixture of factor analyzers"
   ]
  },
  {
   "cell_type": "code",
   "execution_count": 11,
   "metadata": {},
   "outputs": [],
   "source": [
    "mixture = mixture_from_marg_factor(marg_factor)"
   ]
  },
  {
   "cell_type": "code",
   "execution_count": 12,
   "metadata": {},
   "outputs": [
    {
     "data": {
      "image/png": "[encoded data removed]",
      "text/plain": [
       "<Figure size 432x288 with 1 Axes>"
      ]
     },
     "metadata": {},
     "output_type": "display_data"
    }
   ],
   "source": [
    "nx.draw(mixture, with_labels=True)"
   ]
  },
  {
   "cell_type": "code",
   "execution_count": 13,
   "metadata": {
    "scrolled": false
   },
   "outputs": [
    {
     "name": "stdout",
     "output_type": "stream",
     "text": [
      "Created model mixture_marginalize in model.py\n"
     ]
    }
   ],
   "source": [
    "#generate_Model_class(marg_factor)\n",
    "generate_Model_class(mixture, [marginalize_factor, mixture_from_marg_factor])"
   ]
  },
  {
   "cell_type": "code",
   "execution_count": 14,
   "metadata": {},
   "outputs": [
    {
     "name": "stdout",
     "output_type": "stream",
     "text": [
      "Created model marginalize in model.py\n"
     ]
    }
   ],
   "source": [
    "generate_Model_class(marg_factor, [marginalize_factor])"
   ]
  },
  {
   "cell_type": "code",
   "execution_count": 15,
   "metadata": {},
   "outputs": [],
   "source": [
    "from model import *"
   ]
  },
  {
   "cell_type": "code",
   "execution_count": 16,
   "metadata": {},
   "outputs": [],
   "source": [
    "from pyro.ops.indexing import Vindex\n",
    "\n",
    "class mixture_marginalize(Model):\n",
    "    \"\"\"\n",
    "    Template class for code generated from a DAG\n",
    "    \"\"\"\n",
    "    def __init__(self, X, K, C, batch_size, _id):\n",
    "        self.K = K\n",
    "        self.C = C\n",
    "        super(mixture_marginalize, self).__init__(X, batch_size, _id)\n",
    "\n",
    "\n",
    "    def get_param_shapes_and_support(self, _id=None):\n",
    "        if _id == None:\n",
    "            _id = self._id\n",
    "        return {f'loc_scale_init_{_id}': ((self.C, self.D), constraints.\n",
    "            positive), f'loc_prior_scale_init_{_id}': ((self.C, self.D),\n",
    "            constraints.positive), f'loc_loc_init_{_id}': ((self.C, self.D),\n",
    "            constraints.real), f'loc_prior_loc_init_{_id}': ((self.C, self.D),\n",
    "            constraints.real), f'mixing_proportions_concentration_init_{_id}':\n",
    "            ((self.C,), constraints.positive),\n",
    "            f'mixing_proportions_prior_concentration_init_{_id}': ((self.C,),\n",
    "            constraints.positive), f'cov_factor_scale_init_{_id}': ((self.C,\n",
    "            self.D, self.K), constraints.positive),\n",
    "            f'cov_factor_prior_scale_init_{_id}': ((self.C, self.D, self.K),\n",
    "            constraints.positive), f'cov_factor_loc_init_{_id}': ((self.C, self\n",
    "            .D, self.K), constraints.real), f'cov_factor_prior_loc_init_{_id}':\n",
    "            ((self.C, self.D, self.K), constraints.real),\n",
    "            f'cov_diag_scale_init_{_id}': ((self.C, self.D), constraints.\n",
    "            positive), f'cov_diag_prior_scale_init_{_id}': ((self.C, self.D),\n",
    "            constraints.positive), f'cov_diag_loc_init_{_id}': ((self.C, self.D\n",
    "            ), constraints.real), f'cov_diag_prior_loc_init_{_id}': ((self.C,\n",
    "            self.D), constraints.real)}\n",
    "\n",
    "\n",
    "    def model(self, X):\n",
    "        C = self.C\n",
    "        K = self.K\n",
    "        N, D = X.shape\n",
    "        _id = self._id\n",
    "        loc_prior_scale_init = self.param_init[f'loc_prior_scale_init_{_id}']\n",
    "        loc_prior_scale = pyro.param(f'loc_prior_scale_{_id}',\n",
    "            loc_prior_scale_init, constraint=constraints.positive)\n",
    "        loc_prior_loc_init = self.param_init[f'loc_prior_loc_init_{_id}']\n",
    "        loc_prior_loc = pyro.param(f'loc_prior_loc_{_id}', loc_prior_loc_init)\n",
    "        with pyro.plate(f'C_{_id}', C):\n",
    "            loc = pyro.sample(f'loc_{_id}', dist.Normal(loc_prior_loc,\n",
    "                loc_prior_scale).to_event(1))\n",
    "            cov_factor_prior_scale_init = self.param_init[\n",
    "                f'cov_factor_prior_scale_init_{_id}']\n",
    "            cov_factor_prior_scale = pyro.param(f'cov_factor_prior_scale_{_id}',\n",
    "                cov_factor_prior_scale_init, constraint=constraints.positive)\n",
    "            cov_factor_prior_loc_init = self.param_init[\n",
    "                f'cov_factor_prior_loc_init_{_id}']\n",
    "            cov_factor_prior_loc = pyro.param(f'cov_factor_prior_loc_{_id}',\n",
    "                cov_factor_prior_loc_init)\n",
    "            cov_factor = pyro.sample(f'cov_factor_{_id}', dist.Normal(\n",
    "                cov_factor_prior_loc, cov_factor_prior_scale).to_event(2))\n",
    "            cov_diag_prior_scale_init = self.param_init[\n",
    "                f'cov_diag_prior_scale_init_{_id}']\n",
    "            cov_diag_prior_scale = pyro.param(f'cov_diag_prior_scale_{_id}',\n",
    "                cov_diag_prior_scale_init, constraint=constraints.positive)\n",
    "            cov_diag_prior_loc_init = self.param_init[\n",
    "                f'cov_diag_prior_loc_init_{_id}']\n",
    "            cov_diag_prior_loc = pyro.param(f'cov_diag_prior_loc_{_id}',\n",
    "                cov_diag_prior_loc_init)\n",
    "            cov_diag = pyro.sample(f'cov_diag_{_id}', dist.LogNormal(\n",
    "                cov_diag_prior_loc, cov_diag_prior_scale).to_event(1))\n",
    "            cov_diag_j = torch.add(cov_diag, 0.0001)\n",
    "        mixing_proportions_prior_concentration_init = self.param_init[\n",
    "            f'mixing_proportions_prior_concentration_init_{_id}']\n",
    "        mixing_proportions_prior_concentration = pyro.param(\n",
    "            f'mixing_proportions_prior_concentration_{_id}',\n",
    "            mixing_proportions_prior_concentration_init, constraint=constraints\n",
    "            .positive)\n",
    "        mixing_proportions = pyro.sample(f'mixing_proportions_{_id}', dist.\n",
    "            Dirichlet(mixing_proportions_prior_concentration))\n",
    "        with pyro.plate(f'N_{_id}', N, subsample_size=self.batch_size) as ind:\n",
    "            assignment = pyro.sample(f'assignment_{_id}', dist.Categorical(\n",
    "                mixing_proportions), infer={'enumerate': 'parallel'})\n",
    "\n",
    "            #loc_idx = loc[assignment]\n",
    "            #cov_diag_j_idx = cov_diag_j[assignment]\n",
    "            #cov_factor_idx = cov_factor[assignment]\n",
    "            loc_idx = Vindex(loc)[...,assignment,:]\n",
    "            cov_diag_j_idx = Vindex(cov_diag_j)[...,assignment,:]\n",
    "            cov_factor_idx = Vindex(cov_factor)[...,assignment,:,:]\n",
    "            X = pyro.sample('obs', dist.LowRankMultivariateNormal(loc_idx,\n",
    "                cov_factor_idx, cov_diag_j_idx), obs=X.index_select(0, ind))\n",
    "        return X\n",
    "\n",
    "\n",
    "    def guide(self, X):\n",
    "        C = self.C\n",
    "        K = self.K\n",
    "        N, D = X.shape\n",
    "        _id = self._id\n",
    "        loc_scale_init = self.param_init[f'loc_scale_init_{_id}']\n",
    "        loc_scale = pyro.param(f'loc_scale_{_id}', loc_scale_init, constraint=\n",
    "            constraints.positive)\n",
    "        loc_loc_init = self.param_init[f'loc_loc_init_{_id}']\n",
    "        loc_loc = pyro.param(f'loc_loc_{_id}', loc_loc_init)\n",
    "        with pyro.plate(f'C_{_id}', C):\n",
    "            loc = pyro.sample(f'loc_{_id}', dist.Normal(loc_loc, loc_scale).\n",
    "                to_event(1))\n",
    "            cov_factor_scale_init = self.param_init[f'cov_factor_scale_init_{_id}']\n",
    "            cov_factor_scale = pyro.param(f'cov_factor_scale_{_id}',\n",
    "                cov_factor_scale_init, constraint=constraints.positive)\n",
    "            cov_factor_loc_init = self.param_init[f'cov_factor_loc_init_{_id}']\n",
    "            cov_factor_loc = pyro.param(f'cov_factor_loc_{_id}',\n",
    "                cov_factor_loc_init)\n",
    "            cov_factor = pyro.sample(f'cov_factor_{_id}', dist.Normal(\n",
    "                cov_factor_loc, cov_factor_scale).to_event(2))\n",
    "            cov_diag_scale_init = self.param_init[f'cov_diag_scale_init_{_id}']\n",
    "            cov_diag_scale = pyro.param(f'cov_diag_scale_{_id}',\n",
    "                cov_diag_scale_init, constraint=constraints.positive)\n",
    "            cov_diag_loc_init = self.param_init[f'cov_diag_loc_init_{_id}']\n",
    "            cov_diag_loc = pyro.param(f'cov_diag_loc_{_id}', cov_diag_loc_init)\n",
    "            cov_diag = pyro.sample(f'cov_diag_{_id}', dist.LogNormal(\n",
    "                cov_diag_loc, cov_diag_scale).to_event(1))\n",
    "            cov_diag_j = torch.add(cov_diag, 0.0001)\n",
    "        mixing_proportions_concentration_init = self.param_init[\n",
    "            f'mixing_proportions_concentration_init_{_id}']\n",
    "        mixing_proportions_concentration = pyro.param(\n",
    "            f'mixing_proportions_concentration_{_id}',\n",
    "            mixing_proportions_concentration_init, constraint=constraints.positive)\n",
    "        mixing_proportions = pyro.sample(f'mixing_proportions_{_id}', dist.\n",
    "            Dirichlet(mixing_proportions_concentration))\n",
    "        return cov_factor, cov_diag, loc, mixing_proportions\n"
   ]
  },
  {
   "cell_type": "code",
   "execution_count": 17,
   "metadata": {},
   "outputs": [],
   "source": [
    "pyro.clear_param_store()\n",
    "N = 5000\n",
    "D = 2\n",
    "K = 2\n",
    "C = 5\n",
    "dagmodel = mixture_marginalize(torch.zeros(N,D),K,C,N,'id')\n",
    "tmp = dagmodel.model(torch.zeros(N,D))"
   ]
  },
  {
   "cell_type": "code",
   "execution_count": 18,
   "metadata": {},
   "outputs": [
    {
     "data": {
      "text/plain": [
       "{'loc_scale_init_id': ((5, 2), GreaterThan(lower_bound=0.0)),\n",
       " 'loc_prior_scale_init_id': ((5, 2), GreaterThan(lower_bound=0.0)),\n",
       " 'loc_loc_init_id': ((5, 2), Real()),\n",
       " 'loc_prior_loc_init_id': ((5, 2), Real()),\n",
       " 'mixing_proportions_concentration_init_id': ((5,),\n",
       "  GreaterThan(lower_bound=0.0)),\n",
       " 'mixing_proportions_prior_concentration_init_id': ((5,),\n",
       "  GreaterThan(lower_bound=0.0)),\n",
       " 'cov_factor_scale_init_id': ((5, 2, 2), GreaterThan(lower_bound=0.0)),\n",
       " 'cov_factor_prior_scale_init_id': ((5, 2, 2), GreaterThan(lower_bound=0.0)),\n",
       " 'cov_factor_loc_init_id': ((5, 2, 2), Real()),\n",
       " 'cov_factor_prior_loc_init_id': ((5, 2, 2), Real()),\n",
       " 'cov_diag_scale_init_id': ((5, 2), GreaterThan(lower_bound=0.0)),\n",
       " 'cov_diag_prior_scale_init_id': ((5, 2), GreaterThan(lower_bound=0.0)),\n",
       " 'cov_diag_loc_init_id': ((5, 2), Real()),\n",
       " 'cov_diag_prior_loc_init_id': ((5, 2), Real())}"
      ]
     },
     "execution_count": 18,
     "metadata": {},
     "output_type": "execute_result"
    }
   ],
   "source": [
    "dagmodel.param_shapes_and_support"
   ]
  },
  {
   "cell_type": "code",
   "execution_count": 19,
   "metadata": {},
   "outputs": [],
   "source": [
    "pyro.set_rng_seed(42)"
   ]
  },
  {
   "cell_type": "code",
   "execution_count": 20,
   "metadata": {},
   "outputs": [],
   "source": [
    "dgp = dagmodel.unconditioned_model\n",
    "trace = pyro.poutine.trace(dgp).get_trace(torch.empty(N,D))\n",
    "true_variables = dict([(name,trace.nodes[name][\"value\"]) for name in trace.stochastic_nodes if len(name)>1])\n",
    "true_locs = true_variables['loc_id']*20\n",
    "\n",
    "new_dgp = pyro.poutine.condition(dgp, data={'loc_id':true_locs})\n",
    "trace = pyro.poutine.trace(new_dgp).get_trace(torch.empty(N,D))\n",
    "\n",
    "true_variables = dict([(name,trace.nodes[name][\"value\"]) for name in trace.stochastic_nodes if len(name)>1])\n",
    "X = true_variables['obs'].detach()\n",
    "Xz = torch.cat([X,true_variables['assignment_id'].detach().float().unsqueeze(-1)],dim=-1)\n",
    "Xzdata, Xztest_data = train_test_split(Xz)\n",
    "data, train_assign = Xzdata[:,:-1],Xzdata[:,-1]\n",
    "test_data, test_assign = Xztest_data[:,:-1],Xztest_data[:,-1]"
   ]
  },
  {
   "cell_type": "code",
   "execution_count": 21,
   "metadata": {},
   "outputs": [
    {
     "data": {
      "text/plain": [
       "torch.Size([5000, 2])"
      ]
     },
     "execution_count": 21,
     "metadata": {},
     "output_type": "execute_result"
    }
   ],
   "source": [
    "X.shape"
   ]
  },
  {
   "cell_type": "code",
   "execution_count": 22,
   "metadata": {
    "scrolled": false
   },
   "outputs": [
    {
     "data": {
      "text/plain": [
       "<matplotlib.collections.PathCollection at 0x7f9df7c78898>"
      ]
     },
     "execution_count": 22,
     "metadata": {},
     "output_type": "execute_result"
    },
    {
     "data": {
      "image/png": "[encoded data removed]",
      "text/plain": [
       "<Figure size 432x288 with 1 Axes>"
      ]
     },
     "metadata": {
      "needs_background": "light"
     },
     "output_type": "display_data"
    }
   ],
   "source": [
    "rand_idx = np.random.choice(D,2, replace=False)\n",
    "\n",
    "rand_idx\n",
    "\n",
    "plt.scatter(*data[:,rand_idx].T,c=train_assign.squeeze())\n",
    "#plt.scatter(*foo['obs'][:,0,0,rand_idx].squeeze().T.detach())"
   ]
  },
  {
   "cell_type": "markdown",
   "metadata": {},
   "source": [
    "## Make random split"
   ]
  },
  {
   "cell_type": "code",
   "execution_count": 23,
   "metadata": {},
   "outputs": [],
   "source": [
    "def split_along_eigvector(mean, cov):\n",
    "    eigvals, eigvecs = torch.eig(cov, eigenvectors=True)\n",
    "    # cov = M @ M.T\n",
    "    # where M = eigvecs @ torch.diag(torch.sqrt(eigvals[:,0]))\n",
    "    weighted_eigvecs = torch.matmul(torch.diag(torch.sqrt(eigvals[:,0])),eigvecs.T)\n",
    "    # sample eigevector with probability proportional to eigenvalue\n",
    "    softmax = torch.nn.Softmax(dim=0)\n",
    "    v = np.random.choice(eigvals.shape[0],p=softmax(torch.abs(eigvals[:,0])).numpy())\n",
    "    vec = weighted_eigvecs[v]\n",
    "    eigvals0 = eigvals.clone()\n",
    "    eigvals0[v,0] = eigvals0[v,0]/2\n",
    "    # shift means by weighted eigenvector\n",
    "    # scale factor by 1/2\n",
    "    return torch.stack([mean+vec,mean-vec]), torch.matmul(eigvecs,torch.diag(torch.sqrt(eigvals0[:,0])))"
   ]
  },
  {
   "cell_type": "code",
   "execution_count": 24,
   "metadata": {},
   "outputs": [],
   "source": [
    "def get_cov(variance_loc_param, variance_scale_param, cov_factor_param):\n",
    "    variances_mean = torch.exp(variance_loc_param+variance_scale_param**2/2)\n",
    "    cov = torch.matmul(cov_factor_param,cov_factor_param.T) + torch.diag(variances_mean)\n",
    "    return cov"
   ]
  },
  {
   "cell_type": "code",
   "execution_count": 25,
   "metadata": {},
   "outputs": [],
   "source": [
    "def cov_mat(model, c=None):\n",
    "    if c == None:\n",
    "        # return all covmats\n",
    "        cs = np.arange(model.params['mixing_proportions_concentration_'+model._id].shape[0])\n",
    "    else:\n",
    "        cs = [c]\n",
    "    covs = []\n",
    "    for c in cs:\n",
    "        cov = get_cov(model.params['cov_diag_loc_'+model._id][c],model.params['cov_diag_scale_'+model._id][c],model.params['cov_factor_loc_'+model._id][c])\n",
    "        covs.append(cov)\n",
    "    return covs"
   ]
  },
  {
   "cell_type": "code",
   "execution_count": 26,
   "metadata": {},
   "outputs": [],
   "source": [
    "def init_split_move(student, teacher, split_cluster_idx):\n",
    "    \"\"\"\n",
    "    Replaces all tensors in student.param_init by those in teacher.params,\n",
    "    except for those that define the splitted cluster, which are split_along_eigvector\n",
    "    \"\"\"\n",
    "    c = split_cluster_idx\n",
    "    \n",
    "    if type(teacher) == marginalize:\n",
    "        mean = teacher.params['loc_loc_'+teacher._id]\n",
    "        cov = get_cov(teacher.params['cov_diag_loc_'+teacher._id],teacher.params['cov_diag_scale_'+teacher._id],teacher.params['cov_factor_loc_'+teacher._id])\n",
    "        teacher.params['mixing_proportions_concentration_'+teacher._id] = torch.ones(1)\n",
    "        teacher.params['mixing_proportions_prior_concentration_'+teacher._id] = torch.ones(1)\n",
    "    else:\n",
    "        mean = teacher.params['loc_loc_'+teacher._id][c]\n",
    "        cov = cov_mat(teacher, c=split_cluster_idx)[0]\n",
    "        teacher_mixing = 'mixing_proportions_concentration_'+teacher._id\n",
    "    \n",
    "    new_means, new_cov_factor = split_along_eigvector(mean, cov)    \n",
    "    \n",
    "    for param_name, param_value in student.param_init.items():\n",
    "        teacher_param_name = param_name.replace('init_'+student._id, teacher._id)\n",
    "        if teacher_param_name not in teacher.params.keys():\n",
    "            print(teacher_param_name)\n",
    "        teacher_mixing = 'mixing_proportions_concentration_'+teacher._id\n",
    "        for component,_ in enumerate(teacher.params[teacher_param_name]):\n",
    "            if component == c:\n",
    "                student.param_init['loc_loc_init_'+student._id][component] = new_means[0]\n",
    "                student.param_init['loc_loc_init_'+student._id][-1] = new_means[1]\n",
    "                student.param_init['loc_prior_loc_init_'+student._id][component] = new_means[0]\n",
    "                student.param_init['loc_prior_loc_init_'+student._id][-1] = new_means[1]\n",
    "\n",
    "                student.param_init['cov_factor_loc_init_'+student._id][component] = new_cov_factor\n",
    "                student.param_init['cov_factor_loc_init_'+student._id][-1] = new_cov_factor\n",
    "                student.param_init['cov_factor_prior_loc_init_'+student._id][component] = new_cov_factor\n",
    "                student.param_init['cov_factor_prior_loc_init_'+student._id][-1] = new_cov_factor\n",
    "                \n",
    "                student.param_init['mixing_proportions_concentration_init_'+student._id][component] = teacher.params[teacher_mixing][component]/2\n",
    "                student.param_init['mixing_proportions_concentration_init_'+student._id][-1] = teacher.params[teacher_mixing][component]/2\n",
    "                next\n",
    "            else:\n",
    "                student.param_init[param_name][component] = teacher.params[teacher_param_name][component]\n",
    "    return mean, cov, new_means, new_cov_factor"
   ]
  },
  {
   "cell_type": "code",
   "execution_count": 27,
   "metadata": {},
   "outputs": [],
   "source": [
    "# new criterion:\n",
    "# empirical KL divergence\n",
    "# E_q[log(q/p)]\n",
    "# where q is the empirical distribution\n",
    "# and p is the component distribution"
   ]
  },
  {
   "cell_type": "code",
   "execution_count": 28,
   "metadata": {},
   "outputs": [],
   "source": [
    "def compute_assignments(data, posterior_samples, _id):\n",
    "    if _id is None:\n",
    "        _id = list(posterior_samples.keys())[0].split('_')[-1]\n",
    "    n_posterior_samples,C,D = posterior_samples['loc_'+_id].shape\n",
    "    #n_posterior_samples = 200\n",
    "    # get component distributions\n",
    "    components = dist.LowRankMultivariateNormal(posterior_samples['loc_'+_id][:n_posterior_samples],posterior_samples['cov_factor_'+_id][:n_posterior_samples],posterior_samples['cov_diag_'+_id][:n_posterior_samples])\n",
    "    # find log_prob of every datapoint under each component, for all posterior samples\n",
    "    responsibilities = components.log_prob(data.unsqueeze(-2).unsqueeze(-2))\n",
    "    greatest_responsibility,most_responsible = responsibilities.max(dim=-1)\n",
    "\n",
    "    assignment = []\n",
    "    for votes in most_responsible:\n",
    "        vote, counts = torch.unique(votes, return_counts = True)\n",
    "        assignment.append(int(vote[counts.argmax()]))\n",
    "\n",
    "    return np.array(assignment)"
   ]
  },
  {
   "cell_type": "code",
   "execution_count": 29,
   "metadata": {},
   "outputs": [],
   "source": [
    "def KLpq(data, cluster, components, assignments):\n",
    "    \"\"\"\n",
    "    Divergence from mixture component distribution (q)\n",
    "    to Kernel Density Estimate of component (p)\n",
    "    \"\"\"\n",
    "    data_assigned_to_cluster = data[assignments == cluster]\n",
    "    n,d = data.shape\n",
    "    kde = gaussian_kde(data_assigned_to_cluster.T, bw_method=n**(-1./(d+4))/d)\n",
    "    p_logpdf = np.array([kde.logpdf(data_assigned_to_cluster[i]) for i in range(len(data_assigned_to_cluster))]).squeeze()\n",
    "    q_logpdf = torch.tensor([components.log_prob(data_assigned_to_cluster[i]).mean(0)[cluster] for i in range(len(data_assigned_to_cluster))])\n",
    "    return (np.exp(p_logpdf)*(p_logpdf-q_logpdf.numpy())).sum()"
   ]
  },
  {
   "cell_type": "code",
   "execution_count": 30,
   "metadata": {},
   "outputs": [],
   "source": [
    "def split_move(teacher, _id):\n",
    "    pyro.clear_param_store()\n",
    "    if type(teacher) == marginalize:\n",
    "        C = 2\n",
    "        split_cluster = 0\n",
    "    else:\n",
    "        C = teacher.C\n",
    "        # sample cluster to be split\n",
    "        # probabilities prop to cluster size?\n",
    "        # probs prop to covmat_trace/mixing_weight? (split clusters that are large compared to how many points they contain)\n",
    "        # probs = torch.stack([cov.trace() for cov in cov_mat(teacher)])/teacher.params['mixing_proportions_concentration_'+teacher._id]\n",
    "        teacher.sample_posterior_predictive(data.shape[0])\n",
    "        teacher.batch_size = 1\n",
    "        teacher_ppc = teacher.posterior_predictive(data)\n",
    "        _id = teacher._id\n",
    "        assignments = compute_assignments(data, teacher_ppc, _id)\n",
    "        components = dist.LowRankMultivariateNormal(teacher_ppc['loc_'+_id],teacher_ppc['cov_factor_'+_id],teacher_ppc['cov_diag_'+_id])\n",
    "        probs = torch.tensor([KLpq(data, cluster, components, assignments) for cluster in range(C)])\n",
    "        softmax = torch.nn.Softmax(dim = 0)\n",
    "        #probs = probs/probs.sum()\n",
    "        probs = softmax(probs).numpy()\n",
    "        split_cluster = np.random.choice(teacher.C,p=probs)\n",
    "        C = teacher.C + 1\n",
    "    student = mixture_marginalize(torch.zeros(N,D),K,C,N,_id)\n",
    "    foo = init_split_move(student, teacher, split_cluster)\n",
    "    config['n_iter'] = 1\n",
    "    config['telemetry'] = None\n",
    "    inference(student, data, test_data, config=config)\n",
    "    return student, foo"
   ]
  },
  {
   "cell_type": "code",
   "execution_count": 31,
   "metadata": {
    "scrolled": false
   },
   "outputs": [
    {
     "name": "stdout",
     "output_type": "stream",
     "text": [
      "\n",
      "\n",
      "NLL after 0/1000 iterations is 37.7818603515625\n",
      "....................................................................................................\n",
      "\n",
      "NLL after 100/1000 iterations is 10.437751770019531\n",
      "\n",
      "\n",
      ".................................................\n",
      "\n",
      "NLL after 150/1000 iterations is 9.647025108337402\n",
      "\n",
      "\n",
      ".................................................\n",
      "\n",
      "NLL after 200/1000 iterations is 9.409064292907715\n",
      "\n",
      "\n",
      ".................................................\n",
      "\n",
      "NLL after 250/1000 iterations is 9.284811973571777\n",
      "\n",
      "\n",
      ".................................................\n",
      "\n",
      "NLL after 300/1000 iterations is 9.296917915344238\n",
      "\n",
      "\n",
      ".................................................\n",
      "\n",
      "NLL after 350/1000 iterations is 9.222557067871094\n",
      "\n",
      "\n",
      ".................................................\n",
      "\n",
      "NLL after 400/1000 iterations is 9.26545524597168\n",
      "\n",
      "\n",
      ".................................................\n",
      "\n",
      "NLL after 450/1000 iterations is 9.284183502197266\n",
      "\n",
      "\n",
      ".................................................\n",
      "\n",
      "NLL after 500/1000 iterations is 9.304303169250488\n",
      "\n",
      "\n",
      ".................................................\n",
      "\n",
      "NLL after 550/1000 iterations is 9.329859733581543\n",
      "\n",
      "\n",
      ".................................................\n",
      "\n",
      "NLL after 600/1000 iterations is 9.296817779541016\n",
      "\n",
      "\n",
      ".................................................\n",
      "\n",
      "NLL after 650/1000 iterations is 9.276651382446289\n",
      "\n",
      "\n",
      ".................................................\n",
      "\n",
      "NLL after 700/1000 iterations is 9.281699180603027\n",
      "\n",
      "\n",
      ".................................................\n",
      "\n",
      "NLL after 750/1000 iterations is 9.301568031311035\n",
      "\n",
      "\n",
      ".................................................\n",
      "\n",
      "NLL after 800/1000 iterations is 9.294750213623047\n",
      "\n",
      "\n",
      ".................................................\n",
      "\n",
      "NLL after 850/1000 iterations is 9.279342651367188\n",
      "\n",
      "\n",
      ".................................................\n",
      "\n",
      "NLL after 900/1000 iterations is 9.246125221252441\n",
      "\n",
      "\n",
      ".................................................\n",
      "\n",
      "NLL after 950/1000 iterations is 9.216089248657227\n",
      "\n",
      "\n",
      ".................................................\n",
      "Converged in 1000 iterations.\n",
      "\n",
      "1\n",
      "\n",
      "\n",
      "NLL after 0/1 iterations is 9.301783561706543\n",
      ".\n",
      "Converged in 1 iterations.\n",
      "\n",
      "Continuing from previous inference run.\n",
      "\n",
      "\n",
      "NLL after 1000/2000 iterations is 9.282651901245117\n",
      "\n",
      "\n",
      ".................................................\n",
      "\n",
      "NLL after 1050/2000 iterations is 8.861296653747559\n",
      "\n",
      "\n",
      ".................................................\n",
      "\n",
      "NLL after 1100/2000 iterations is 8.65223503112793\n",
      "\n",
      "\n",
      ".................................................\n",
      "\n",
      "NLL after 1150/2000 iterations is 7.874919891357422\n",
      "\n",
      "\n",
      ".................................................\n",
      "\n",
      "NLL after 1200/2000 iterations is 7.52459192276001\n",
      "\n",
      "\n",
      ".................................................\n",
      "\n",
      "NLL after 1250/2000 iterations is 7.371009349822998\n",
      "\n",
      "\n",
      ".................................................\n",
      "\n",
      "NLL after 1300/2000 iterations is 7.22274112701416\n",
      "\n",
      "\n",
      ".................................................\n",
      "\n",
      "NLL after 1350/2000 iterations is 7.004552841186523\n",
      "\n",
      "\n",
      ".................................................\n",
      "\n",
      "NLL after 1400/2000 iterations is 6.969383716583252\n",
      "\n",
      "\n",
      ".................................................\n",
      "\n",
      "NLL after 1450/2000 iterations is 6.938806056976318\n",
      "\n",
      "\n",
      ".................................................\n",
      "\n",
      "NLL after 1500/2000 iterations is 6.931365489959717\n",
      "\n",
      "\n",
      ".................................................\n",
      "\n",
      "NLL after 1550/2000 iterations is 6.908714294433594\n",
      "\n",
      "\n",
      ".................................................\n",
      "\n",
      "NLL after 1600/2000 iterations is 6.920450687408447\n",
      "\n",
      "\n",
      ".................................................\n",
      "\n",
      "NLL after 1650/2000 iterations is 6.89846134185791\n",
      "\n",
      "\n",
      ".................................................\n",
      "\n",
      "NLL after 1700/2000 iterations is 6.8961567878723145\n",
      "\n",
      "\n",
      ".................................................\n",
      "\n",
      "NLL after 1750/2000 iterations is 6.904522895812988\n",
      "\n",
      "\n",
      ".................................................\n",
      "\n",
      "NLL after 1800/2000 iterations is 6.888406276702881\n",
      "\n",
      "\n",
      ".................................................\n",
      "\n",
      "NLL after 1850/2000 iterations is 6.887257099151611\n",
      "\n",
      "\n",
      ".................................................\n",
      "\n",
      "NLL after 1900/2000 iterations is 6.89273738861084\n",
      "\n",
      "\n",
      ".................................................\n",
      "\n",
      "NLL after 1950/2000 iterations is 6.882123947143555\n",
      "\n",
      "\n",
      ".................................................\n",
      "Converged in 2000 iterations.\n",
      "\n",
      "2\n"
     ]
    },
    {
     "ename": "AssertionError",
     "evalue": "",
     "output_type": "error",
     "traceback": [
      "\u001b[0;31m---------------------------------------------------------------------------\u001b[0m",
      "\u001b[0;31mAssertionError\u001b[0m                            Traceback (most recent call last)",
      "\u001b[0;32m<ipython-input-31-881acf7df2cf>\u001b[0m in \u001b[0;36m<module>\u001b[0;34m\u001b[0m\n\u001b[1;32m     30\u001b[0m     \u001b[0mprint\u001b[0m\u001b[0;34m(\u001b[0m\u001b[0msplit_count\u001b[0m\u001b[0;34m)\u001b[0m\u001b[0;34m\u001b[0m\u001b[0;34m\u001b[0m\u001b[0m\n\u001b[1;32m     31\u001b[0m     \u001b[0mteacher\u001b[0m \u001b[0;34m=\u001b[0m \u001b[0mstudent\u001b[0m\u001b[0;34m\u001b[0m\u001b[0;34m\u001b[0m\u001b[0m\n\u001b[0;32m---> 32\u001b[0;31m     \u001b[0mstudent\u001b[0m\u001b[0;34m,\u001b[0m \u001b[0m_\u001b[0m \u001b[0;34m=\u001b[0m \u001b[0msplit_move\u001b[0m\u001b[0;34m(\u001b[0m\u001b[0mteacher\u001b[0m\u001b[0;34m,\u001b[0m \u001b[0;34m'split_'\u001b[0m\u001b[0;34m+\u001b[0m\u001b[0mstr\u001b[0m\u001b[0;34m(\u001b[0m\u001b[0msplit_count\u001b[0m\u001b[0;34m)\u001b[0m\u001b[0;34m)\u001b[0m\u001b[0;34m\u001b[0m\u001b[0;34m\u001b[0m\u001b[0m\n\u001b[0m\u001b[1;32m     33\u001b[0m     \u001b[0mconfig\u001b[0m\u001b[0;34m[\u001b[0m\u001b[0;34m'n_iter'\u001b[0m\u001b[0;34m]\u001b[0m \u001b[0;34m=\u001b[0m \u001b[0mn_iter\u001b[0m\u001b[0;34m\u001b[0m\u001b[0;34m\u001b[0m\u001b[0m\n\u001b[1;32m     34\u001b[0m     \u001b[0mconfig\u001b[0m\u001b[0;34m[\u001b[0m\u001b[0;34m'telemetry'\u001b[0m\u001b[0;34m]\u001b[0m \u001b[0;34m=\u001b[0m \u001b[0mtelemetry\u001b[0m\u001b[0;34m\u001b[0m\u001b[0;34m\u001b[0m\u001b[0m\n",
      "\u001b[0;32m<ipython-input-30-34cc118d392e>\u001b[0m in \u001b[0;36msplit_move\u001b[0;34m(teacher, _id)\u001b[0m\n\u001b[1;32m     22\u001b[0m         \u001b[0msplit_cluster\u001b[0m \u001b[0;34m=\u001b[0m \u001b[0mnp\u001b[0m\u001b[0;34m.\u001b[0m\u001b[0mrandom\u001b[0m\u001b[0;34m.\u001b[0m\u001b[0mchoice\u001b[0m\u001b[0;34m(\u001b[0m\u001b[0mteacher\u001b[0m\u001b[0;34m.\u001b[0m\u001b[0mC\u001b[0m\u001b[0;34m,\u001b[0m\u001b[0mp\u001b[0m\u001b[0;34m=\u001b[0m\u001b[0mprobs\u001b[0m\u001b[0;34m)\u001b[0m\u001b[0;34m\u001b[0m\u001b[0;34m\u001b[0m\u001b[0m\n\u001b[1;32m     23\u001b[0m         \u001b[0mC\u001b[0m \u001b[0;34m=\u001b[0m \u001b[0mteacher\u001b[0m\u001b[0;34m.\u001b[0m\u001b[0mC\u001b[0m \u001b[0;34m+\u001b[0m \u001b[0;36m1\u001b[0m\u001b[0;34m\u001b[0m\u001b[0;34m\u001b[0m\u001b[0m\n\u001b[0;32m---> 24\u001b[0;31m     \u001b[0mstudent\u001b[0m \u001b[0;34m=\u001b[0m \u001b[0mmixture_marginalize\u001b[0m\u001b[0;34m(\u001b[0m\u001b[0mtorch\u001b[0m\u001b[0;34m.\u001b[0m\u001b[0mzeros\u001b[0m\u001b[0;34m(\u001b[0m\u001b[0mN\u001b[0m\u001b[0;34m,\u001b[0m\u001b[0mD\u001b[0m\u001b[0;34m)\u001b[0m\u001b[0;34m,\u001b[0m\u001b[0mK\u001b[0m\u001b[0;34m,\u001b[0m\u001b[0mC\u001b[0m\u001b[0;34m,\u001b[0m\u001b[0mN\u001b[0m\u001b[0;34m,\u001b[0m\u001b[0m_id\u001b[0m\u001b[0;34m)\u001b[0m\u001b[0;34m\u001b[0m\u001b[0;34m\u001b[0m\u001b[0m\n\u001b[0m\u001b[1;32m     25\u001b[0m     \u001b[0mfoo\u001b[0m \u001b[0;34m=\u001b[0m \u001b[0minit_split_move\u001b[0m\u001b[0;34m(\u001b[0m\u001b[0mstudent\u001b[0m\u001b[0;34m,\u001b[0m \u001b[0mteacher\u001b[0m\u001b[0;34m,\u001b[0m \u001b[0msplit_cluster\u001b[0m\u001b[0;34m)\u001b[0m\u001b[0;34m\u001b[0m\u001b[0;34m\u001b[0m\u001b[0m\n\u001b[1;32m     26\u001b[0m     \u001b[0mconfig\u001b[0m\u001b[0;34m[\u001b[0m\u001b[0;34m'n_iter'\u001b[0m\u001b[0;34m]\u001b[0m \u001b[0;34m=\u001b[0m \u001b[0;36m1\u001b[0m\u001b[0;34m\u001b[0m\u001b[0;34m\u001b[0m\u001b[0m\n",
      "\u001b[0;32m<ipython-input-16-ceae459aac72>\u001b[0m in \u001b[0;36m__init__\u001b[0;34m(self, X, K, C, batch_size, _id)\u001b[0m\n\u001b[1;32m      8\u001b[0m         \u001b[0mself\u001b[0m\u001b[0;34m.\u001b[0m\u001b[0mK\u001b[0m \u001b[0;34m=\u001b[0m \u001b[0mK\u001b[0m\u001b[0;34m\u001b[0m\u001b[0;34m\u001b[0m\u001b[0m\n\u001b[1;32m      9\u001b[0m         \u001b[0mself\u001b[0m\u001b[0;34m.\u001b[0m\u001b[0mC\u001b[0m \u001b[0;34m=\u001b[0m \u001b[0mC\u001b[0m\u001b[0;34m\u001b[0m\u001b[0;34m\u001b[0m\u001b[0m\n\u001b[0;32m---> 10\u001b[0;31m         \u001b[0msuper\u001b[0m\u001b[0;34m(\u001b[0m\u001b[0mmixture_marginalize\u001b[0m\u001b[0;34m,\u001b[0m \u001b[0mself\u001b[0m\u001b[0;34m)\u001b[0m\u001b[0;34m.\u001b[0m\u001b[0m__init__\u001b[0m\u001b[0;34m(\u001b[0m\u001b[0mX\u001b[0m\u001b[0;34m,\u001b[0m \u001b[0mbatch_size\u001b[0m\u001b[0;34m,\u001b[0m \u001b[0m_id\u001b[0m\u001b[0;34m)\u001b[0m\u001b[0;34m\u001b[0m\u001b[0;34m\u001b[0m\u001b[0m\n\u001b[0m\u001b[1;32m     11\u001b[0m \u001b[0;34m\u001b[0m\u001b[0m\n\u001b[1;32m     12\u001b[0m \u001b[0;34m\u001b[0m\u001b[0m\n",
      "\u001b[0;32m~/phd/compositions_mixtures_factors/models_and_guides.py\u001b[0m in \u001b[0;36m__init__\u001b[0;34m(self, X, batch_size, _id)\u001b[0m\n\u001b[1;32m     29\u001b[0m         \u001b[0;31m# to avoid naming conflicts, make sure there aren't parameters in the param store\u001b[0m\u001b[0;34m\u001b[0m\u001b[0;34m\u001b[0m\u001b[0;34m\u001b[0m\u001b[0m\n\u001b[1;32m     30\u001b[0m         \u001b[0;31m# that end with the same _id\u001b[0m\u001b[0;34m\u001b[0m\u001b[0;34m\u001b[0m\u001b[0;34m\u001b[0m\u001b[0m\n\u001b[0;32m---> 31\u001b[0;31m         \u001b[0;32massert\u001b[0m \u001b[0;32mnot\u001b[0m \u001b[0many\u001b[0m\u001b[0;34m(\u001b[0m\u001b[0;34m[\u001b[0m\u001b[0mkey\u001b[0m\u001b[0;34m.\u001b[0m\u001b[0mendswith\u001b[0m\u001b[0;34m(\u001b[0m\u001b[0;34m'_'\u001b[0m\u001b[0;34m+\u001b[0m\u001b[0m_id\u001b[0m\u001b[0;34m)\u001b[0m \u001b[0;32mfor\u001b[0m \u001b[0mkey\u001b[0m \u001b[0;32min\u001b[0m \u001b[0mpyro\u001b[0m\u001b[0;34m.\u001b[0m\u001b[0mget_param_store\u001b[0m\u001b[0;34m(\u001b[0m\u001b[0;34m)\u001b[0m\u001b[0;34m.\u001b[0m\u001b[0mkeys\u001b[0m\u001b[0;34m(\u001b[0m\u001b[0;34m)\u001b[0m\u001b[0;34m]\u001b[0m\u001b[0;34m)\u001b[0m\u001b[0;34m\u001b[0m\u001b[0;34m\u001b[0m\u001b[0m\n\u001b[0m\u001b[1;32m     32\u001b[0m         \u001b[0mself\u001b[0m\u001b[0;34m.\u001b[0m\u001b[0m_id\u001b[0m \u001b[0;34m=\u001b[0m \u001b[0m_id\u001b[0m\u001b[0;34m\u001b[0m\u001b[0;34m\u001b[0m\u001b[0m\n\u001b[1;32m     33\u001b[0m         \u001b[0mself\u001b[0m\u001b[0;34m.\u001b[0m\u001b[0mbatch_size\u001b[0m \u001b[0;34m=\u001b[0m \u001b[0mbatch_size\u001b[0m\u001b[0;34m\u001b[0m\u001b[0;34m\u001b[0m\u001b[0m\n",
      "\u001b[0;31mAssertionError\u001b[0m: "
     ]
    }
   ],
   "source": [
    "n_iter = 1000\n",
    "config = dict(\n",
    "        n_iter = n_iter,\n",
    "        learning_rate = 0.08, \n",
    "        beta1 = 0.9,\n",
    "        beta2 = 0.999,\n",
    "        learning_rate_decay = 1., # no decay by default\n",
    "        batch_size = 32, \n",
    "        n_elbo_particles = 32, \n",
    "        n_posterior_samples = 1024,\n",
    "        window = 50,\n",
    "        convergence_window = 10,\n",
    "        slope_significance = 0.99,\n",
    "        track_params = True,\n",
    "        monitor_gradients = False,\n",
    "        telemetry = None\n",
    "    )\n",
    "\n",
    "pyro.clear_param_store()\n",
    "N,D = data.shape\n",
    "K = 2\n",
    "C = 2\n",
    "split_count = 0\n",
    "student = marginalize(data, 2, 32, 'split_0')\n",
    "telemetry = inference(student, data, test_data, config=config)\n",
    "MNLL = 1e10\n",
    "new_MNLL = telemetry['MNLL'][-1]\n",
    "while MNLL/new_MNLL > 1.001: \n",
    "    split_count += 1\n",
    "    print(split_count)\n",
    "    teacher = student\n",
    "    student, _ = split_move(teacher, 'split_'+str(split_count))\n",
    "    config['n_iter'] = n_iter\n",
    "    config['telemetry'] = telemetry\n",
    "    telemetry = inference(student, data, test_data, config=config)\n",
    "    MNLL = new_MNLL\n",
    "    new_MNLL = telemetry['MNLL'][-1]"
   ]
  },
  {
   "cell_type": "code",
   "execution_count": null,
   "metadata": {},
   "outputs": [],
   "source": [
    "%debug"
   ]
  },
  {
   "cell_type": "code",
   "execution_count": null,
   "metadata": {},
   "outputs": [],
   "source": [
    "telemetry.keys()"
   ]
  },
  {
   "cell_type": "code",
   "execution_count": null,
   "metadata": {},
   "outputs": [],
   "source": [
    "telemetry['param_history']"
   ]
  },
  {
   "cell_type": "code",
   "execution_count": null,
   "metadata": {},
   "outputs": [],
   "source": [
    "param_store = pyro.get_param_store()"
   ]
  },
  {
   "cell_type": "code",
   "execution_count": null,
   "metadata": {},
   "outputs": [],
   "source": [
    "telemetry['param_store_state']"
   ]
  },
  {
   "cell_type": "code",
   "execution_count": null,
   "metadata": {},
   "outputs": [],
   "source": [
    "param_store.set_state"
   ]
  },
  {
   "cell_type": "code",
   "execution_count": null,
   "metadata": {
    "scrolled": false
   },
   "outputs": [],
   "source": [
    "c = 1\n",
    "for i in range(split_count):\n",
    "    pyro.clear_param_store()\n",
    "    first_iter = {param:values[0] for param,values in telemetry['param_history'].items() if param.endswith(str(i))}\n",
    "    last_iter = {param:values[-1] for param,values in telemetry['param_history'].items() if param.endswith(str(i))}\n",
    "    \n",
    "    if i == 0: \n",
    "        history1 = marginalize(data, 2, 32, 'h1')\n",
    "        history2 = marginalize(data, 2, 32, 'h2')\n",
    "    else:\n",
    "        history1 = mixture_marginalize(torch.zeros(N,D),K,i+1,N,'h1')\n",
    "        history2 = mixture_marginalize(torch.zeros(N,D),K,i+1,N,'h2')\n",
    "    \n",
    "    # set params to historical ones\n",
    "    for param,value in first_iter.items():\n",
    "        pyro.param(param[:-7]+'h1', value)\n",
    "    for param,value in last_iter.items():\n",
    "        pyro.param(param[:-7]+'h2', value)\n",
    "    # sample posterior predictive\n",
    "    history1.sample_posterior_predictive(data.shape[0])\n",
    "    history1.batch_size = 1\n",
    "    history1_ppc = history1.posterior_predictive(data)\n",
    "    history1.batch_size = 32\n",
    "    # plot\n",
    "    #plt.subplot(4,2,c)\n",
    "    plt.figure()\n",
    "    plt.scatter(*data[:,rand_idx].T,c=train_assign.squeeze())\n",
    "    plt.scatter(*history1_ppc['obs'][:,0,rand_idx].squeeze().T.detach(),alpha=.1)\n",
    "    c += 1\n",
    "    \n",
    "    # sample posterior predictive\n",
    "    history2.sample_posterior_predictive(data.shape[0])\n",
    "    history2.batch_size = 1\n",
    "    history2_ppc = history2.posterior_predictive(data)\n",
    "    history2.batch_size = 32\n",
    "    # plot\n",
    "    #plt.subplot(4,2,c)\n",
    "    plt.figure()\n",
    "    plt.scatter(*data[:,rand_idx].T,c=train_assign.squeeze())\n",
    "    plt.scatter(*history2_ppc['obs'][:,0,rand_idx].squeeze().T.detach(),alpha=.1)\n",
    "    c += 1"
   ]
  },
  {
   "cell_type": "code",
   "execution_count": null,
   "metadata": {},
   "outputs": [],
   "source": [
    "len(telemetry['loss'])"
   ]
  },
  {
   "cell_type": "code",
   "execution_count": null,
   "metadata": {},
   "outputs": [],
   "source": [
    "MNLL"
   ]
  },
  {
   "cell_type": "code",
   "execution_count": null,
   "metadata": {},
   "outputs": [],
   "source": [
    "new_MNLL"
   ]
  },
  {
   "cell_type": "code",
   "execution_count": null,
   "metadata": {},
   "outputs": [],
   "source": [
    "MNLL/new_MNLL"
   ]
  },
  {
   "cell_type": "code",
   "execution_count": null,
   "metadata": {},
   "outputs": [],
   "source": [
    "teacher.sample_posterior_predictive(data.shape[0])\n",
    "\n",
    "teacher.batch_size = 1\n",
    "teacher_ppc = teacher.posterior_predictive(data)\n",
    "teacher.batch_size = 32"
   ]
  },
  {
   "cell_type": "code",
   "execution_count": null,
   "metadata": {},
   "outputs": [],
   "source": [
    "student.sample_posterior_predictive(data.shape[0])\n",
    "\n",
    "student.batch_size = 1\n",
    "student_ppc = student.posterior_predictive(data)\n",
    "student.batch_size = 32"
   ]
  },
  {
   "cell_type": "code",
   "execution_count": null,
   "metadata": {},
   "outputs": [],
   "source": [
    "%matplotlib qt\n",
    "plt.plot(telemetry['MNLL'])"
   ]
  },
  {
   "cell_type": "markdown",
   "metadata": {},
   "source": [
    "#### Plot color-coded true data against predictive posterior sample"
   ]
  },
  {
   "cell_type": "code",
   "execution_count": null,
   "metadata": {},
   "outputs": [],
   "source": [
    "%matplotlib qt\n",
    "#plt.scatter(*data[:,rand_idx].T)\n",
    "plt.scatter(*data[:,rand_idx].T,c=train_assign.squeeze())\n",
    "#plt.scatter(*student_ppc['obs'][:,0,rand_idx].squeeze().T.detach(),alpha=.1)\n",
    "plt.scatter(*teacher_ppc['obs'][:,0,rand_idx].squeeze().T.detach(),alpha=.1)"
   ]
  },
  {
   "cell_type": "code",
   "execution_count": null,
   "metadata": {},
   "outputs": [],
   "source": []
  },
  {
   "cell_type": "code",
   "execution_count": null,
   "metadata": {},
   "outputs": [],
   "source": []
  },
  {
   "cell_type": "code",
   "execution_count": null,
   "metadata": {},
   "outputs": [],
   "source": [
    "plt.figure()\n",
    "plt.scatter(*data[assignments == 2].T)"
   ]
  },
  {
   "cell_type": "code",
   "execution_count": null,
   "metadata": {},
   "outputs": [],
   "source": []
  },
  {
   "cell_type": "code",
   "execution_count": null,
   "metadata": {},
   "outputs": [],
   "source": [
    "cluster = 1\n",
    "data_assigned_to_cluster = data[assignments == cluster]"
   ]
  },
  {
   "cell_type": "code",
   "execution_count": null,
   "metadata": {},
   "outputs": [],
   "source": [
    "kde = gaussian_kde(data_assigned_to_cluster.T)"
   ]
  },
  {
   "cell_type": "code",
   "execution_count": null,
   "metadata": {},
   "outputs": [],
   "source": [
    "#point = 1000\n",
    "point = 340"
   ]
  },
  {
   "cell_type": "code",
   "execution_count": null,
   "metadata": {},
   "outputs": [],
   "source": [
    "plt.figure()\n",
    "plt.scatter(*data[assignments == 1].T)\n",
    "plt.scatter(*data[assignments == 1][point].T)"
   ]
  },
  {
   "cell_type": "code",
   "execution_count": null,
   "metadata": {},
   "outputs": [],
   "source": []
  },
  {
   "cell_type": "code",
   "execution_count": null,
   "metadata": {},
   "outputs": [],
   "source": []
  },
  {
   "cell_type": "code",
   "execution_count": null,
   "metadata": {},
   "outputs": [],
   "source": [
    "KLpq(data, 0, components, assignments)"
   ]
  },
  {
   "cell_type": "code",
   "execution_count": null,
   "metadata": {},
   "outputs": [],
   "source": [
    "KLpq(data, 1, components, assignments)"
   ]
  },
  {
   "cell_type": "code",
   "execution_count": null,
   "metadata": {},
   "outputs": [],
   "source": [
    "KLpq(data, 2, components, assignments)"
   ]
  },
  {
   "cell_type": "code",
   "execution_count": null,
   "metadata": {},
   "outputs": [],
   "source": [
    "plt.figure()\n",
    "#plt.scatter(*data[:,rand_idx].T)\n",
    "plt.scatter(*data[:,rand_idx].T,c=train_assign.squeeze())\n",
    "plt.figure()\n",
    "plt.scatter(*data[:,rand_idx].T,c=compute_assignments(data, teacher_ppc, 'split_4'))\n",
    "#plt.scatter(*teacher_ppc['obs'][:,0,rand_idx].squeeze().T.detach(),alpha=.1)"
   ]
  },
  {
   "cell_type": "code",
   "execution_count": null,
   "metadata": {},
   "outputs": [],
   "source": [
    "student_ppc"
   ]
  },
  {
   "cell_type": "markdown",
   "metadata": {},
   "source": [
    "#### Plot color-coded predictive posterior sample"
   ]
  },
  {
   "cell_type": "code",
   "execution_count": null,
   "metadata": {
    "scrolled": true
   },
   "outputs": [],
   "source": [
    "plt.figure()\n",
    "plt.scatter(*student_ppc['obs'][:,0,rand_idx].squeeze().T.detach(),c=student_ppc['assignment_'+student._id][:,0].squeeze().T.detach())"
   ]
  },
  {
   "cell_type": "code",
   "execution_count": null,
   "metadata": {},
   "outputs": [],
   "source": [
    "plt.figure()\n",
    "plt.scatter(*data[:,rand_idx].T)\n",
    "plt.scatter(*teacher_ppc['obs'][:,0,rand_idx].squeeze().T.detach(),c=teacher_ppc['assignment_'+teacher._id][:,0].squeeze().T.detach())"
   ]
  },
  {
   "cell_type": "code",
   "execution_count": null,
   "metadata": {},
   "outputs": [],
   "source": [
    "teacher.params"
   ]
  },
  {
   "cell_type": "markdown",
   "metadata": {},
   "source": [
    "#### Plot true data color-coded by predictive posterior sample"
   ]
  },
  {
   "cell_type": "code",
   "execution_count": null,
   "metadata": {},
   "outputs": [],
   "source": [
    "plt.scatter(*data[:,rand_idx].T,c=compute_assignments(data, student_ppc))"
   ]
  },
  {
   "cell_type": "code",
   "execution_count": null,
   "metadata": {},
   "outputs": [],
   "source": [
    "mean, cov, new_means, new_cov_factor = foo\n",
    "ax = plt.axes()\n",
    "plt.scatter(*data[:,rand_idx].T,c=train_assign.squeeze())\n",
    "#plt.scatter(x,y)\n",
    "plt.xlim(-30,50)\n",
    "plt.ylim(-140,140)\n",
    "confidence_ellipse(mean,cov,ax,3.0,'b',alpha=.5)\n",
    "confidence_ellipse(new_means[0],new_cov_factor@new_cov_factor.T,ax,3.0,'r',alpha=.5)\n",
    "confidence_ellipse(new_means[1],new_cov_factor@new_cov_factor.T,ax,3.0,'r',alpha=.5)\n",
    "#confidence_ellipse(student.params['loc_loc_id'][c].numpy(),np.cov(x,y),ax,3.0,'r',alpha=.5)\n",
    "#ax.arrow(*student.params['loc_loc_id'][c], *weighted_eigvecs[0], head_width=0.5, head_length=0.7, fc='lightblue', ec='black')\n",
    "#ax.arrow(*student.params['loc_loc_id'][c], *weighted_eigvecs[1], head_width=0.5, head_length=0.7, fc='lightblue', ec='black')"
   ]
  }
 ],
 "metadata": {
  "kernelspec": {
   "display_name": "Python 3",
   "language": "python",
   "name": "python3"
  },
  "language_info": {
   "codemirror_mode": {
    "name": "ipython",
    "version": 3
   },
   "file_extension": ".py",
   "mimetype": "text/x-python",
   "name": "python",
   "nbconvert_exporter": "python",
   "pygments_lexer": "ipython3",
   "version": "3.7.3"
  }
 },
 "nbformat": 4,
 "nbformat_minor": 2
}

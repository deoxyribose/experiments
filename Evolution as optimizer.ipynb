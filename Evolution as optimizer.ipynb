{
 "cells": [
  {
   "cell_type": "code",
   "execution_count": 1,
   "metadata": {},
   "outputs": [],
   "source": [
    "# Evolution can be thought of as an optimizer\n",
    "# Can we optimize simple univariate functions with it?"
   ]
  },
  {
   "cell_type": "code",
   "execution_count": 2,
   "metadata": {},
   "outputs": [],
   "source": [
    "# Evolution happens when there is\n",
    "# Variation in a trait\n",
    "# Heritability of the trait\n",
    "# Differential fitness conferred by the trait."
   ]
  },
  {
   "cell_type": "code",
   "execution_count": 3,
   "metadata": {},
   "outputs": [],
   "source": [
    "import numpy as np\n",
    "import matplotlib.pylab as plt\n",
    "from mpl_toolkits import mplot3d "
   ]
  },
  {
   "cell_type": "code",
   "execution_count": 4,
   "metadata": {},
   "outputs": [],
   "source": [
    "from scipy.optimize import minimize"
   ]
  },
  {
   "cell_type": "code",
   "execution_count": 5,
   "metadata": {},
   "outputs": [],
   "source": [
    "fitness = lambda x,y: (np.cos(0.1*x ** 2) + np.sin(0.1*y ** 3))*np.exp(-(x**2+y**2)/100)"
   ]
  },
  {
   "cell_type": "code",
   "execution_count": 6,
   "metadata": {},
   "outputs": [],
   "source": [
    "def negfitness(x):\n",
    "    return -fitness(*x)"
   ]
  },
  {
   "cell_type": "code",
   "execution_count": 7,
   "metadata": {},
   "outputs": [],
   "source": [
    "foo = minimize(negfitness, np.ones(2), method='BFGS')"
   ]
  },
  {
   "cell_type": "code",
   "execution_count": 8,
   "metadata": {},
   "outputs": [],
   "source": [
    "norm_fitness = lambda x,y: -fitness(x,y)/foo.fun"
   ]
  },
  {
   "cell_type": "code",
   "execution_count": 9,
   "metadata": {},
   "outputs": [],
   "source": [
    "# defining surface and axes \n",
    "res = 100\n",
    "genotype_range = 10\n",
    "x = np.outer(np.linspace(-genotype_range, genotype_range, res), np.ones(res)) \n",
    "y = x.copy().T \n",
    "z = fitness(x,y)"
   ]
  },
  {
   "cell_type": "code",
   "execution_count": 10,
   "metadata": {},
   "outputs": [],
   "source": [
    "%matplotlib qt\n",
    "fig = plt.figure() \n",
    "# syntax for 3-D plotting \n",
    "ax = plt.axes(projection ='3d') \n",
    "  \n",
    "# syntax for plotting \n",
    "ax.plot_surface(x, y, z, cmap ='viridis', edgecolor ='green',linewidths=.1) \n",
    "ax.set_title('Surface plot geeks for geeks') \n",
    "plt.show() "
   ]
  },
  {
   "cell_type": "code",
   "execution_count": 11,
   "metadata": {},
   "outputs": [],
   "source": [
    "# we wish to evolve a fit creature\n",
    "# where a creature is a point (x,y)\n",
    "# and fit means that it maximizes the fitness function\n",
    "# let's start with random points"
   ]
  },
  {
   "cell_type": "code",
   "execution_count": 12,
   "metadata": {},
   "outputs": [],
   "source": [
    "N = 30\n",
    "population = np.random.rand(N,2)*genotype_range-genotype_range/2"
   ]
  },
  {
   "cell_type": "code",
   "execution_count": 13,
   "metadata": {},
   "outputs": [],
   "source": [
    "fig = plt.figure() \n",
    "# syntax for 3-D plotting \n",
    "ax = plt.axes(projection ='3d') \n",
    "  \n",
    "# syntax for plotting \n",
    "ax.plot_surface(x, y, z, cmap ='viridis', edgecolor ='green',alpha=.1,linewidths=0) \n",
    "ax.scatter(population[:,0],population[:,1],fitness(*population.T))\n",
    "ax.set_title('Surface plot geeks for geeks') \n",
    "plt.show() "
   ]
  },
  {
   "cell_type": "code",
   "execution_count": 14,
   "metadata": {},
   "outputs": [],
   "source": [
    "# If fitness is less than 0, the creature won't reproduce\n",
    "# Otherwise, reproduce with a small mutation, with probability proportional to fitness"
   ]
  },
  {
   "cell_type": "code",
   "execution_count": 15,
   "metadata": {},
   "outputs": [],
   "source": [
    "def reproduce(population):\n",
    "    offspring = []\n",
    "    while len(offspring) < N:\n",
    "        for creature in population:\n",
    "            # fitness is negative, creature doesn't survive to maturity\n",
    "            if norm_fitness(*creature) < 0:\n",
    "                continue\n",
    "            else:\n",
    "                # if creature survives, it can have between 0 and 2 offspring\n",
    "                if np.random.binomial(2, norm_fitness(*creature)):\n",
    "                    offspring.append(creature + np.random.randn(2)*0.1)\n",
    "    return np.array(offspring)"
   ]
  },
  {
   "cell_type": "code",
   "execution_count": 16,
   "metadata": {},
   "outputs": [],
   "source": [
    "n_generations = 100\n",
    "for i in range(n_generations):\n",
    "    population = reproduce(population)"
   ]
  },
  {
   "cell_type": "code",
   "execution_count": 23,
   "metadata": {},
   "outputs": [],
   "source": [
    "fig = plt.figure() \n",
    "# syntax for 3-D plotting \n",
    "ax = plt.axes(projection ='3d') \n",
    "  \n",
    "# syntax for plotting \n",
    "ax.plot_surface(x, y, z, cmap ='viridis', edgecolor ='green',alpha=.1,linewidths=0) \n",
    "ax.scatter(population[:,0],population[:,1],fitness(*population.T))\n",
    "ax.set_title('Surface plot geeks for geeks') \n",
    "plt.show()"
   ]
  },
  {
   "cell_type": "code",
   "execution_count": 22,
   "metadata": {},
   "outputs": [
    {
     "data": {
      "text/plain": [
       "-1.8650001375988017"
      ]
     },
     "execution_count": 22,
     "metadata": {},
     "output_type": "execute_result"
    }
   ],
   "source": [
    "negfitness(population.mean(0))"
   ]
  },
  {
   "cell_type": "code",
   "execution_count": 20,
   "metadata": {},
   "outputs": [
    {
     "data": {
      "text/plain": [
       "-1.8797576940008491"
      ]
     },
     "execution_count": 20,
     "metadata": {},
     "output_type": "execute_result"
    }
   ],
   "source": [
    "foo.fun"
   ]
  }
 ],
 "metadata": {
  "kernelspec": {
   "display_name": "Python 3",
   "language": "python",
   "name": "python3"
  },
  "language_info": {
   "codemirror_mode": {
    "name": "ipython",
    "version": 3
   },
   "file_extension": ".py",
   "mimetype": "text/x-python",
   "name": "python",
   "nbconvert_exporter": "python",
   "pygments_lexer": "ipython3",
   "version": "3.7.3"
  }
 },
 "nbformat": 4,
 "nbformat_minor": 2
}

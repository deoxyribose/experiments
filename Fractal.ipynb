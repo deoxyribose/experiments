{
 "cells": [
  {
   "cell_type": "code",
   "execution_count": 1,
   "metadata": {},
   "outputs": [],
   "source": [
    "import numpy as np\n",
    "import matplotlib.pylab as plt"
   ]
  },
  {
   "cell_type": "code",
   "execution_count": 2,
   "metadata": {},
   "outputs": [],
   "source": [
    "def plot_fractal(fractal):\n",
    "    ax = plt.axes()\n",
    "    for vector in fractal:\n",
    "        ax.arrow(*vector, lw=3, head_width=0, head_length=0, fc='lightblue', ec='black')\n",
    "    plt.xlim(-100,100)\n",
    "    plt.ylim(-100,100)\n",
    "    plt.axis('equal')"
   ]
  },
  {
   "cell_type": "code",
   "execution_count": 3,
   "metadata": {},
   "outputs": [],
   "source": [
    "v0 = np.array([5,5,1,0])\n",
    "endpoint = v0[:2] + v0[2:]"
   ]
  },
  {
   "cell_type": "code",
   "execution_count": 42,
   "metadata": {},
   "outputs": [
    {
     "data": {
      "text/plain": [
       "array([[ 0.,  1.],\n",
       "       [-1.,  0.]])"
      ]
     },
     "execution_count": 42,
     "metadata": {},
     "output_type": "execute_result"
    }
   ],
   "source": [
    "rot_mat"
   ]
  },
  {
   "cell_type": "code",
   "execution_count": 52,
   "metadata": {},
   "outputs": [],
   "source": [
    "deg = 3/2*np.pi\n",
    "rot_mat = np.array([[np.cos(deg),-np.sin(deg)],[np.sin(deg),np.cos(deg)]])"
   ]
  },
  {
   "cell_type": "code",
   "execution_count": 53,
   "metadata": {},
   "outputs": [
    {
     "data": {
      "text/plain": [
       "array([[-1.8369702e-16,  1.0000000e+00],\n",
       "       [-1.0000000e+00, -1.8369702e-16]])"
      ]
     },
     "execution_count": 53,
     "metadata": {},
     "output_type": "execute_result"
    }
   ],
   "source": [
    "rot_mat"
   ]
  },
  {
   "cell_type": "code",
   "execution_count": 54,
   "metadata": {},
   "outputs": [
    {
     "data": {
      "text/plain": [
       "array([[ 0.,  1.],\n",
       "       [-1.,  0.]])"
      ]
     },
     "execution_count": 54,
     "metadata": {},
     "output_type": "execute_result"
    }
   ],
   "source": [
    "np.array([[0.,1.],[-1.,0.]])"
   ]
  },
  {
   "cell_type": "code",
   "execution_count": 68,
   "metadata": {},
   "outputs": [],
   "source": [
    "def fractal(vectors = [], n_recur = 10):\n",
    "    # 90 deg clockwise\n",
    "    #deg = 3/2*np.pi\n",
    "    #deg = 0.4*np.pi\n",
    "    deg = ((n_recur-32)/(n_recur+1))*np.pi\n",
    "    rot_mat = np.array([[np.cos(deg),-np.sin(deg)],[np.sin(deg),np.cos(deg)]])\n",
    "    # rotate and append to end of last vector\n",
    "    transform = lambda v, v_last: np.r_[v_last[:2] + v_last[2:], np.matmul(rot_mat,v[2:])]\n",
    "    if n_recur == 0:\n",
    "        v0 = np.array([5,5,1,0])\n",
    "        return [v0]\n",
    "    else:\n",
    "        # keep all vectors from previous recursion\n",
    "        vectors = fractal(vectors, n_recur-1)\n",
    "        new_vectors = vectors.copy()\n",
    "        for v in vectors:\n",
    "            new_vectors.append(transform(v, new_vectors[-1]))\n",
    "        return new_vectors"
   ]
  },
  {
   "cell_type": "code",
   "execution_count": 69,
   "metadata": {},
   "outputs": [],
   "source": [
    "rot_mat = np.array([[0.,1.],[-1.,0.]])"
   ]
  },
  {
   "cell_type": "code",
   "execution_count": 70,
   "metadata": {},
   "outputs": [],
   "source": [
    "foo = fractal(n_recur=3)"
   ]
  },
  {
   "cell_type": "code",
   "execution_count": 71,
   "metadata": {},
   "outputs": [],
   "source": [
    "foo = np.array(foo)"
   ]
  },
  {
   "cell_type": "code",
   "execution_count": 72,
   "metadata": {},
   "outputs": [],
   "source": [
    "tmp = np.matmul(rot_mat,np.array(foo)[:,2:].T).T"
   ]
  },
  {
   "cell_type": "code",
   "execution_count": 73,
   "metadata": {},
   "outputs": [
    {
     "data": {
      "text/plain": [
       "array([[ 0.00000000e+00, -1.00000000e+00],\n",
       "       [ 1.00000000e+00,  3.67455938e-15],\n",
       "       [ 1.22464680e-15, -1.00000000e+00],\n",
       "       [ 1.00000000e+00,  4.89920618e-15],\n",
       "       [ 7.07106781e-01,  7.07106781e-01],\n",
       "       [-7.07106781e-01,  7.07106781e-01],\n",
       "       [ 7.07106781e-01,  7.07106781e-01],\n",
       "       [-7.07106781e-01,  7.07106781e-01]])"
      ]
     },
     "execution_count": 73,
     "metadata": {},
     "output_type": "execute_result"
    }
   ],
   "source": [
    "tmp"
   ]
  },
  {
   "cell_type": "code",
   "execution_count": 74,
   "metadata": {},
   "outputs": [
    {
     "data": {
      "text/plain": [
       "array([[ 5.00000000e+00,  5.00000000e+00,  1.00000000e+00,\n",
       "         0.00000000e+00],\n",
       "       [ 6.00000000e+00,  5.00000000e+00, -3.67455938e-15,\n",
       "         1.00000000e+00],\n",
       "       [ 6.00000000e+00,  6.00000000e+00,  1.00000000e+00,\n",
       "         1.22464680e-15],\n",
       "       [ 7.00000000e+00,  6.00000000e+00, -4.89920618e-15,\n",
       "         1.00000000e+00],\n",
       "       [ 7.00000000e+00,  7.00000000e+00, -7.07106781e-01,\n",
       "         7.07106781e-01],\n",
       "       [ 6.29289322e+00,  7.70710678e+00, -7.07106781e-01,\n",
       "        -7.07106781e-01],\n",
       "       [ 5.58578644e+00,  7.00000000e+00, -7.07106781e-01,\n",
       "         7.07106781e-01],\n",
       "       [ 4.87867966e+00,  7.70710678e+00, -7.07106781e-01,\n",
       "        -7.07106781e-01]])"
      ]
     },
     "execution_count": 74,
     "metadata": {},
     "output_type": "execute_result"
    }
   ],
   "source": [
    "foo"
   ]
  },
  {
   "cell_type": "code",
   "execution_count": 75,
   "metadata": {},
   "outputs": [
    {
     "data": {
      "text/plain": [
       "array([[4.87867966, 6.70710678],\n",
       "       [5.87867966, 6.70710678],\n",
       "       [5.87867966, 5.70710678],\n",
       "       [6.87867966, 5.70710678],\n",
       "       [7.58578644, 6.41421356],\n",
       "       [6.87867966, 7.12132034],\n",
       "       [7.58578644, 7.82842712],\n",
       "       [6.87867966, 8.53553391]])"
      ]
     },
     "execution_count": 75,
     "metadata": {},
     "output_type": "execute_result"
    }
   ],
   "source": [
    "np.cumsum(tmp,axis=0) + foo[-1,:2]"
   ]
  },
  {
   "cell_type": "code",
   "execution_count": 76,
   "metadata": {},
   "outputs": [
    {
     "data": {
      "text/plain": [
       "[array([5, 5, 1, 0]),\n",
       " array([ 6.00000000e+00,  5.00000000e+00, -3.67455938e-15,  1.00000000e+00]),\n",
       " array([6.0000000e+00, 6.0000000e+00, 1.0000000e+00, 1.2246468e-15]),\n",
       " array([ 7.00000000e+00,  6.00000000e+00, -4.89920618e-15,  1.00000000e+00]),\n",
       " array([ 7.        ,  7.        , -0.70710678,  0.70710678]),\n",
       " array([ 6.29289322,  7.70710678, -0.70710678, -0.70710678]),\n",
       " array([ 5.58578644,  7.        , -0.70710678,  0.70710678]),\n",
       " array([ 4.87867966,  7.70710678, -0.70710678, -0.70710678]),\n",
       " array([4.17157288, 7.        , 0.30901699, 0.95105652]),\n",
       " array([ 4.48058987,  7.95105652, -0.95105652,  0.30901699]),\n",
       " array([3.52953335, 8.26007351, 0.30901699, 0.95105652]),\n",
       " array([ 3.83855035,  9.21113003, -0.95105652,  0.30901699]),\n",
       " array([ 2.88749383,  9.52014702, -0.89100652, -0.4539905 ]),\n",
       " array([ 1.99648731,  9.06615652,  0.4539905 , -0.89100652]),\n",
       " array([ 2.45047781,  8.17515   , -0.89100652, -0.4539905 ]),\n",
       " array([ 1.55947128,  7.7211595 ,  0.4539905 , -0.89100652])]"
      ]
     },
     "execution_count": 76,
     "metadata": {},
     "output_type": "execute_result"
    }
   ],
   "source": [
    "fractal(n_recur=4)"
   ]
  },
  {
   "cell_type": "code",
   "execution_count": 77,
   "metadata": {},
   "outputs": [],
   "source": [
    "%matplotlib qt"
   ]
  },
  {
   "cell_type": "code",
   "execution_count": 79,
   "metadata": {},
   "outputs": [
    {
     "data": {
      "text/plain": [
       "(-100, 100)"
      ]
     },
     "execution_count": 79,
     "metadata": {},
     "output_type": "execute_result"
    }
   ],
   "source": [
    "plot_fractal(fractal(n_recur=8))\n",
    "plt.xlim(-100,100)\n",
    "plt.ylim(-100,100)\n",
    "#plt.xlim(-50,50)\n",
    "#plt.ylim(-50,50)"
   ]
  },
  {
   "cell_type": "code",
   "execution_count": null,
   "metadata": {},
   "outputs": [],
   "source": []
  }
 ],
 "metadata": {
  "kernelspec": {
   "display_name": "Python 3",
   "language": "python",
   "name": "python3"
  },
  "language_info": {
   "codemirror_mode": {
    "name": "ipython",
    "version": 3
   },
   "file_extension": ".py",
   "mimetype": "text/x-python",
   "name": "python",
   "nbconvert_exporter": "python",
   "pygments_lexer": "ipython3",
   "version": "3.7.3"
  }
 },
 "nbformat": 4,
 "nbformat_minor": 2
}

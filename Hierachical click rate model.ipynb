{
 "cells": [
  {
   "cell_type": "code",
   "execution_count": 1,
   "metadata": {},
   "outputs": [],
   "source": [
    "import pyro.distributions as dist\n",
    "import matplotlib.pylab as plt\n",
    "import numpy as np\n",
    "import torch\n",
    "import pyro"
   ]
  },
  {
   "cell_type": "code",
   "execution_count": 2,
   "metadata": {},
   "outputs": [],
   "source": [
    "n_ads = 10\n",
    "n_websites = 8\n",
    "view_rate = 1000\n",
    "website_popularity = pyro.sample(\"website_popularity\", dist.Beta(0.8,0.5).expand_by([n_websites]))\n",
    "engagement = pyro.sample(\"engagement\", dist.Beta(0.2,0.8).expand_by([n_ads]))\n",
    "views = pyro.sample(\"views\", dist.Poisson(view_rate*website_popularity).expand_by([n_ads]))\n",
    "clicks = pyro.sample(\"clicks\", dist.Poisson(engagement.unsqueeze(-1)*views))"
   ]
  },
  {
   "cell_type": "code",
   "execution_count": 3,
   "metadata": {},
   "outputs": [
    {
     "data": {
      "image/png": "[encoded data removed]",
      "text/plain": [
       "<Figure size 432x288 with 1 Axes>"
      ]
     },
     "metadata": {
      "needs_background": "light"
     },
     "output_type": "display_data"
    }
   ],
   "source": [
    "plt.hist(dist.Beta(0.8,0.5).sample((1000,)),'auto');"
   ]
  },
  {
   "cell_type": "code",
   "execution_count": 4,
   "metadata": {},
   "outputs": [
    {
     "data": {
      "text/plain": [
       "tensor([0.9082, 0.9271, 0.1433, 0.0042, 0.5998, 0.4808, 0.2850, 0.2482, 0.2112,\n",
       "        0.0662])"
      ]
     },
     "execution_count": 4,
     "metadata": {},
     "output_type": "execute_result"
    }
   ],
   "source": [
    "engagement"
   ]
  },
  {
   "cell_type": "code",
   "execution_count": 5,
   "metadata": {},
   "outputs": [
    {
     "data": {
      "text/plain": [
       "tensor([[  34.,  901.,  989.,  837.,  666.,  359.,  983.,  524.],\n",
       "        [  31.,  927.,  961.,  840.,  694.,  359., 1029.,  501.],\n",
       "        [  36.,  908., 1009.,  790.,  666.,  340.,  987.,  586.],\n",
       "        [  26.,  937.,  980.,  791.,  667.,  371.,  933.,  551.],\n",
       "        [  36.,  898.,  917.,  837.,  692.,  377.,  924.,  539.],\n",
       "        [  31.,  866., 1000.,  805.,  682.,  361.,  958.,  577.],\n",
       "        [  40.,  879.,  973.,  770.,  640.,  344.,  974.,  508.],\n",
       "        [  48.,  932., 1037.,  782.,  714.,  338.,  964.,  547.],\n",
       "        [  34.,  948., 1035.,  777.,  696.,  360., 1016.,  534.],\n",
       "        [  29.,  908.,  997.,  774.,  713.,  316., 1000.,  565.]])"
      ]
     },
     "execution_count": 5,
     "metadata": {},
     "output_type": "execute_result"
    }
   ],
   "source": [
    "views"
   ]
  },
  {
   "cell_type": "code",
   "execution_count": 6,
   "metadata": {},
   "outputs": [
    {
     "data": {
      "text/plain": [
       "tensor([[ 23., 797., 898., 751., 573., 341., 911., 430.],\n",
       "        [ 32., 821., 904., 801., 673., 327., 954., 425.],\n",
       "        [  6., 144., 139., 109.,  89.,  52., 129.,  98.],\n",
       "        [  0.,   4.,   2.,   2.,   2.,   1.,   5.,   3.],\n",
       "        [ 20., 554., 519., 501., 422., 227., 573., 330.],\n",
       "        [ 23., 399., 455., 418., 354., 167., 461., 290.],\n",
       "        [  8., 236., 302., 223., 179.,  86., 286., 139.],\n",
       "        [  8., 233., 268., 178., 179.,  76., 246., 140.],\n",
       "        [ 10., 205., 250., 153., 167.,  87., 224., 118.],\n",
       "        [  0.,  68.,  62.,  45.,  42.,  16.,  56.,  29.]])"
      ]
     },
     "execution_count": 6,
     "metadata": {},
     "output_type": "execute_result"
    }
   ],
   "source": [
    "clicks"
   ]
  },
  {
   "cell_type": "code",
   "execution_count": null,
   "metadata": {},
   "outputs": [],
   "source": []
  }
 ],
 "metadata": {
  "kernelspec": {
   "display_name": "Python 3",
   "language": "python",
   "name": "python3"
  },
  "language_info": {
   "codemirror_mode": {
    "name": "ipython",
    "version": 3
   },
   "file_extension": ".py",
   "mimetype": "text/x-python",
   "name": "python",
   "nbconvert_exporter": "python",
   "pygments_lexer": "ipython3",
   "version": "3.7.3"
  }
 },
 "nbformat": 4,
 "nbformat_minor": 2
}

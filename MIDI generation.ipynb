{
 "cells": [
  {
   "cell_type": "code",
   "execution_count": 25,
   "metadata": {
    "scrolled": true
   },
   "outputs": [],
   "source": [
    "from itertools import chain\n",
    "import numpy as np\n",
    "from midiutil import *\n",
    "import pygame\n",
    "\n",
    "import subprocess\n",
    "from collections.abc import Sequence"
   ]
  },
  {
   "cell_type": "code",
   "execution_count": 26,
   "metadata": {},
   "outputs": [],
   "source": [
    "working_pygame = False\n",
    "\n",
    "track = 0\n",
    "channel = 0\n",
    "#pitch = 120\n",
    "pitch = 60\n",
    "pitch1 = 60\n",
    "time = 0\n",
    "duration = 1\n",
    "volume = 100\n"
   ]
  },
  {
   "cell_type": "code",
   "execution_count": 27,
   "metadata": {},
   "outputs": [],
   "source": [
    "def blank_midifile():\n",
    "    MyMIDI = MIDIFile(1)\n",
    "    return MyMIDI\n",
    "\n",
    "#for i in range(12):\n",
    "#    MyMIDI.addNote(track,channel,pitch+i,time+i,duration,volume)"
   ]
  },
  {
   "cell_type": "code",
   "execution_count": 28,
   "metadata": {},
   "outputs": [],
   "source": [
    "if working_pygame:\n",
    "    # mixer config\n",
    "    freq = 44100  # audio CD quality\n",
    "    bitsize = 16   # unsigned 16 bit\n",
    "    channels = 2  # 1 is mono, 2 is stereo\n",
    "    buffer = 1024   # number of samples\n",
    "    pygame.mixer.init(freq, bitsize, channels, buffer)\n",
    "\n",
    "    # optional volume 0 to 1.0\n",
    "    pygame.mixer.music.set_volume(0.8)\n",
    "\n",
    "    def play_music(midi_filename):\n",
    "        '''Stream music_file in a blocking manner'''\n",
    "        clock = pygame.time.Clock()\n",
    "        pygame.mixer.music.load(midi_filename)\n",
    "        pygame.mixer.music.play()\n",
    "        while pygame.mixer.music.get_busy():\n",
    "            clock.tick(30) # check if playback has finished\n",
    "else:\n",
    "    def play_music(midi_filename):\n",
    "        subprocess.run(['timidity', midi_filename])"
   ]
  },
  {
   "cell_type": "code",
   "execution_count": 29,
   "metadata": {},
   "outputs": [],
   "source": [
    "intervals = {'1':0,\n",
    "             'b1':1,\n",
    "             '2':2,\n",
    "             'b3':3,\n",
    "             '3':4,\n",
    "             '4':5,\n",
    "             'b5':6,\n",
    "             '5':7,\n",
    "             'b6':8,\n",
    "             '6':9,\n",
    "             'b7':10,\n",
    "             '7':11,\n",
    "             '8':12\n",
    "            }"
   ]
  },
  {
   "cell_type": "code",
   "execution_count": 221,
   "metadata": {},
   "outputs": [],
   "source": [
    "class Scale(Sequence):\n",
    "    def __init__(self, *constituents):\n",
    "        super(Scale, self).__init__()\n",
    "        self._list = constituents\n",
    "        \n",
    "    def __repr__(self):\n",
    "        return f\"<{self.__class__.__name__} {self._list}>\"\n",
    "    \n",
    "    def __len__(self):\n",
    "        return len(self._list)\n",
    "    \n",
    "    def __getitem__(self, ii):\n",
    "        if isinstance(ii, np.int64):\n",
    "            ii = int(ii)\n",
    "        if isinstance(ii, int):\n",
    "            relative_octave = 0\n",
    "            while ii < 0:\n",
    "                relative_octave -= 1\n",
    "                ii += len(self)\n",
    "            while len(self._list) <= ii:\n",
    "                relative_octave += 1\n",
    "                ii -= len(self)\n",
    "            return self._list[ii] + 12 * relative_octave\n",
    "        elif isinstance(ii, slice):\n",
    "            if ii.start is None:\n",
    "                ii = slice(0, ii.stop, ii.step)\n",
    "            if ii.stop is None:\n",
    "                ii = slice(ii.start, len(self), ii.step)\n",
    "            if ii.step is None:\n",
    "                ii = slice(ii.start, ii.stop, 1)\n",
    "            output = []\n",
    "            while ii.start < ii.stop:\n",
    "                output.append(self[ii.start])\n",
    "                ii = slice(ii.start+ii.step, ii.stop, ii.step)\n",
    "            return output\n",
    "        else:\n",
    "            raise TypeError(\"index must be int or slice\")\n",
    "    "
   ]
  },
  {
   "cell_type": "code",
   "execution_count": 222,
   "metadata": {},
   "outputs": [
    {
     "name": "stdout",
     "output_type": "stream",
     "text": [
      "7\n"
     ]
    },
    {
     "data": {
      "text/plain": [
       "[-8, -7, -5, -3, -1, 0, 2, 4, 5, 7, 9, 11, 12, 14, 16, 17, 19]"
      ]
     },
     "execution_count": 222,
     "metadata": {},
     "output_type": "execute_result"
    }
   ],
   "source": [
    "major = [0, 2, 4, 5, 7, 9, 11] + [12 + x for x in [0, 2, 4, 5, 7, 9, 11]]\n",
    "major_o = Scale(0, 2, 4, 5, 7, 9, 11)\n",
    "\n",
    "print(len(major_o))\n",
    "\n",
    "[major_o[x] for x in range(-5, 12)]"
   ]
  },
  {
   "cell_type": "code",
   "execution_count": 32,
   "metadata": {},
   "outputs": [
    {
     "data": {
      "text/plain": [
       "<Scale (0, 2, 4, 5, 7, 9, 11)>"
      ]
     },
     "execution_count": 32,
     "metadata": {},
     "output_type": "execute_result"
    }
   ],
   "source": [
    "major_o"
   ]
  },
  {
   "cell_type": "code",
   "execution_count": 33,
   "metadata": {},
   "outputs": [
    {
     "data": {
      "text/plain": [
       "[7, 11, 14, 17, 21]"
      ]
     },
     "execution_count": 33,
     "metadata": {},
     "output_type": "execute_result"
    }
   ],
   "source": [
    "def major_chord(chord_numeral, jazzness=0):\n",
    "    # take two octaves of scale, starting on chord_numeral\n",
    "    scale = major_o[chord_numeral-1:chord_numeral-1+7*2]\n",
    "    # take every other node and return triad + jazzness\n",
    "    return scale[::2][:3+jazzness]\n",
    "major_chord(5, 2)"
   ]
  },
  {
   "cell_type": "code",
   "execution_count": 34,
   "metadata": {},
   "outputs": [
    {
     "data": {
      "text/plain": [
       "[0, 4, 7, 11]"
      ]
     },
     "execution_count": 34,
     "metadata": {},
     "output_type": "execute_result"
    }
   ],
   "source": [
    "major_chord(1, 1)"
   ]
  },
  {
   "cell_type": "code",
   "execution_count": 35,
   "metadata": {},
   "outputs": [],
   "source": [
    "class Tone:\n",
    "    def __init__(self, root, interval, duration=1, volume=100, parent=None, time=None):\n",
    "        if parent is None and time is None:\n",
    "            time = 0\n",
    "        self.parent = parent\n",
    "        self.time = time    \n",
    "        self.root = root\n",
    "        if type(interval) == str:\n",
    "            self.interval = intervals[interval]\n",
    "        else:\n",
    "            self.interval = interval\n",
    "        self.duration = duration\n",
    "        self.volume = volume\n",
    "        \n",
    "    #def __getattr__(self, name):\n",
    "    def __getattribute__(self, name):\n",
    "        if name == 'time' and self.parent is not None:\n",
    "            return self.parent.time + self.parent.duration\n",
    "        else:\n",
    "            return object.__getattribute__(self,name)\n",
    "            \n",
    "    \n",
    "    def add_note(self, midi_file, track, channel):\n",
    "        if self.parent is not None:\n",
    "            time = self.parent.time + self.parent.duration\n",
    "        elif self.time is not None:\n",
    "            time = self.time\n",
    "        else:\n",
    "            raise ValueError(\"Parent and/or time was messed with - don't do that!\")\n",
    "        \n",
    "        midi_file.addNote(track, channel, self.root + self.interval, time, self.duration, self.volume)"
   ]
  },
  {
   "cell_type": "code",
   "execution_count": 36,
   "metadata": {},
   "outputs": [],
   "source": [
    "class Chord:\n",
    "    def __init__(self, root, constituents, duration=1, volume=100, parent=None, time=None):\n",
    "        if parent is None and time is None:\n",
    "            time = 0\n",
    "        self.parent = parent\n",
    "        self.time = time    \n",
    "        self.root = root\n",
    "        self.constituents = []\n",
    "        for interval in constituents:\n",
    "            if type(interval) == str:\n",
    "                self.constituents.append(intervals[interval])\n",
    "            else:\n",
    "                self.constituents.append(interval)\n",
    "        self.duration = duration\n",
    "        self.volume = volume\n",
    "\n",
    "    def __getattribute__(self, name):\n",
    "        if name == 'time' and self.parent is not None:\n",
    "            return self.parent.time + self.parent.duration\n",
    "        else:\n",
    "            return object.__getattribute__(self,name)\n",
    "            \n",
    "    \n",
    "    def add_note(self, midi_file, track, channel):\n",
    "        if self.parent is not None:\n",
    "            time = self.parent.time + self.parent.duration\n",
    "        elif self.time is not None:\n",
    "            time = self.time\n",
    "        else:\n",
    "            raise ValueError(\"Parent and/or time was messed with - don't do that!\")\n",
    "        \n",
    "        for interval in self.constituents:\n",
    "            midi_file.addNote(track, channel, self.root + interval, time, self.duration, self.volume)"
   ]
  },
  {
   "cell_type": "code",
   "execution_count": 37,
   "metadata": {},
   "outputs": [],
   "source": [
    "def interval2pitch(ints):\n",
    "    return list(map(lambda x: intervals[x], ints))"
   ]
  },
  {
   "cell_type": "code",
   "execution_count": 37,
   "metadata": {},
   "outputs": [],
   "source": [
    "def midifile_with_chord_progression():\n",
    "    midi_file = blank_midifile()\n",
    "    midi_file.addProgramChange(track, channel+1, 0, 8)\n",
    "    c = Chord(pitch, major_chord(2, jazzness=1), duration=4)\n",
    "    d = Chord(pitch, major_chord(5, jazzness=1), duration=4, parent=c)\n",
    "    e = Chord(pitch, major_chord(1, jazzness=1), duration=4, parent=d)\n",
    "    f = Chord(pitch, major_chord(1, jazzness=1), duration=4, parent=e)\n",
    "    c.add_note(midi_file, track, channel+1)\n",
    "    d.add_note(midi_file, track, channel+1)\n",
    "    e.add_note(midi_file, track, channel+1)\n",
    "    f.add_note(midi_file, track, channel+1)\n",
    "    return midi_file"
   ]
  },
  {
   "cell_type": "code",
   "metadata": {},
   "outputs": [],
   "source": [
    "major_scale = np.array([0,2,4,5,7,9,11])\n",
    "major_blues = np.array(interval2pitch(['1','2','b3','3','5','6']))\n",
    "minor_blues = np.array(interval2pitch(['1','b3','4','b5','5','b7']))"
   ]
  },
  {
   "cell_type": "code",
   "execution_count": 109,
   "metadata": {},
   "outputs": [],
   "source": [
    "scale = major_scale\n",
    "scale_probabilities = np.eye(12)[scale].sum(0)/len(scale)"
   ]
  },
  {
   "cell_type": "code",
   "execution_count": 268,
   "metadata": {},
   "outputs": [],
   "source": [
    "def bjorklund(m,k,rhythm = None):\n",
    "    # generates Euclidean rhythms, i.e. rhythms where beats are spread out as evenly as possible across the measure\n",
    "    # this is basically euclid's algorithm, see http://cgm.cs.mcgill.ca/~godfried/publications/banff.pdf\n",
    "    if rhythm is None:\n",
    "        rhythm = k*[[1]] + (m-k)*[[0]]\n",
    "    #print(rhythm)\n",
    "    if m%k == 0:\n",
    "        # flatten list\n",
    "        return [beat for seq in rhythm for beat in seq]\n",
    "    else:\n",
    "        if k>m-k:\n",
    "            rhythm = [seq+rhythm[-1] if i<(m%k) else seq for i,seq in enumerate(rhythm[:k])]\n",
    "        else:\n",
    "            rhythm = [seq+rhythm[-1] if i<k else seq for i,seq in enumerate(rhythm[:k+(m%k)])]\n",
    "        return bjorklund(k,m%k,rhythm)"
   ]
  },
  {
   "cell_type": "code",
   "execution_count": 277,
   "metadata": {},
   "outputs": [
    {
     "data": {
      "text/plain": [
       "[1, 0, 0, 0]"
      ]
     },
     "execution_count": 277,
     "metadata": {},
     "output_type": "execute_result"
    }
   ],
   "source": [
    "bjorklund(4,1)"
   ]
  },
  {
   "cell_type": "code",
   "execution_count": 248,
   "metadata": {},
   "outputs": [],
   "source": [
    "def add_chord_progression(chord_progression, beats_per_chord = None, jazz = 0):\n",
    "    if beats_per_chord is None:\n",
    "        beats_per_chord = len(chord_progression)*[4]\n",
    "    elif type(beats_per_chord) == int:\n",
    "        beats_per_chord = len(chord_progression)*[beats_per_chord]\n",
    "        \n",
    "    chord = Chord(pitch, major_chord(chord_progression[0], jazzness=jazz), duration=beats_per_chord[0])\n",
    "    chord.add_note(midi_file, track, channel+1)\n",
    "    for ch,duration in zip(chord_progression[1:],beats_per_chord[1:]):\n",
    "        chord = Chord(pitch, major_chord(ch, jazzness=jazz), duration=duration, parent=chord)\n",
    "        chord.add_note(midi_file, track, channel+1)"
   ]
  },
  {
   "cell_type": "code",
   "execution_count": 249,
   "metadata": {},
   "outputs": [],
   "source": [
    "def add_melody(pitches, rhythm):\n",
    "    random_music = []\n",
    "    random_music.append(Tone(60, pitches[0], rhythm[0], time=0))\n",
    "    for interval, duration in zip(pitches[1:], rhythm[1:]):\n",
    "        random_music.append(Tone(pitch, interval, duration, parent=random_music[-1]))\n",
    "\n",
    "    for x in random_music:\n",
    "        x.add_note(midi_file, track, channel)\n",
    "    return random_music"
   ]
  },
  {
   "cell_type": "code",
   "execution_count": 250,
   "metadata": {},
   "outputs": [
    {
     "name": "stdout",
     "output_type": "stream",
     "text": [
      "Generating durations\n",
      "Generating_pitches\n",
      "[1.0, 1.0, 2.0, 2.0, 2.0, 4, 0.5, 0.5, 0.25, 0.25, 0.5, 2.0]\n",
      "Genrating Tone objects\n",
      "9 for 1.0\n",
      "2 for 2.0\n",
      "9 for 2.0\n",
      "11 for 2.0\n",
      "5 for 4\n",
      "11 for 0.5\n",
      "5 for 0.5\n",
      "0 for 0.25\n",
      "5 for 0.25\n",
      "2 for 0.5\n",
      "9 for 2.0\n",
      "Writing to midi_file\n"
     ]
    }
   ],
   "source": [
    "remaining_durations = [4, 4, 4, 4]\n",
    "binary_tree_durations = []\n",
    "print(\"Generating durations\")\n",
    "while len(remaining_durations) > 0:\n",
    "    current_duration = remaining_durations.pop()\n",
    "    flip = np.random.choice(2)\n",
    "    if flip == 0:\n",
    "        binary_tree_durations.append(current_duration)\n",
    "    else:\n",
    "        remaining_durations.append(current_duration/2)\n",
    "        remaining_durations.append(current_duration/2)\n",
    "\n",
    "print(\"Generating_pitches\")\n",
    "binary_tree_pitches = [np.random.choice(range(0, 12), size = 1, p = major_scale_probabilities)[0]\n",
    "                       for _ in binary_tree_durations]\n",
    "\n",
    "print(binary_tree_durations)\n",
    "\n",
    "\n",
    "midi_file = midifile_with_chord_progression()\n",
    "random_music = [Tone(pitch, binary_tree_pitches[0], binary_tree_durations[0], time=0)]\n",
    "print(\"Genrating Tone objects\")\n",
    "for interval, duration in zip(binary_tree_pitches[1:], binary_tree_durations[1:]):\n",
    "    print(f\"{interval} for {duration}\")\n",
    "    random_music.append(Tone(pitch, interval, duration, parent=random_music[-1]))\n",
    "\n",
    "print(\"Writing to midi_file\")\n",
    "for x in random_music:\n",
    "    x.add_note(midi_file, track, channel)"
    "def pitch_to_scale_step(melody):\n",
    "    scale_step2pitch = {major_o[i]:i for i in range(-20,20)}\n",
    "    return [scale_step2pitch[pitch] for pitch in melody]"
   ]
  },
  {
   "cell_type": "code",
   "execution_count": 127,
   "metadata": {},
   "outputs": [],
   "source": [
    "midi_file = midifile_with_chord_progression()\n",
    "midi_file.addProgramChange(track, channel+1, 0, 8)\n",
    "random_music = []\n",
    "pitches = melody*sign\n",
    "random_music.append(Tone(60, pitches[0], rhythm[0], time=0))\n",
    "for interval, duration in zip(pitches[1:], rhythm[1:]):\n",
    "    random_music.append(Tone(pitch, interval, duration, parent=random_music[-1]))\n",
    "\n",
    "for x in random_music:\n",
    "    x.add_note(midi_file, track, channel)"
   "execution_count": 251,
   "metadata": {},
   "outputs": [],
   "source": [
    "def scale_step_to_pitch(scale_steps):\n",
    "    return np.array([major_o[scale_step] for scale_step in scale_steps])"
   ]
  },
  {
   "cell_type": "code",
   "execution_count": 252,
   "metadata": {},
   "outputs": [],
   "source": [
    "def invert(melody):\n",
    "    melody = pitch_to_scale_step(melody)\n",
    "    inverted = melody[0] - np.cumsum(np.diff(melody,prepend = melody[0]))\n",
    "    return scale_step_to_pitch(inverted)"
   ]
  },
  {
   "cell_type": "code",
   "execution_count": 253,
   "metadata": {},
   "outputs": [],
   "source": [
    "def retrograde(melody):\n",
    "    melody = pitch_to_scale_step(melody)\n",
    "    retrograded = np.array(list(reversed(melody)))\n",
    "    return scale_step_to_pitch(retrograded)"
   ]
  },
  {
   "cell_type": "code",
   "execution_count": 254,
   "metadata": {},
   "outputs": [],
   "source": [
    "def identity(melody):\n",
    "    return melody"
   ]
  },
  {
   "cell_type": "code",
   "execution_count": 255,
   "metadata": {},
   "outputs": [],
   "source": [
    "def repeat_pieces_transformed(melody, transform, piece_length = 4):\n",
    "    transformed_melody = np.apply_along_axis(transform, 1, melody.reshape(piece_length,-1))\n",
    "    return np.c_[melody.reshape(piece_length,-1),transformed_melody].flatten()"
   ]
  },
  {
   "cell_type": "code",
   "execution_count": null,
   "metadata": {},
   "outputs": [],
   "source": [
    "melody = []\n",
    "signs = []\n",
    "#rhythm = []\n",
    "n_bars = 4\n",
    "\n",
    "notes_per_measure, beats_per_measure = 4,16\n",
    "#notes_per_measure, beats_per_measure = 5,8 # cinquillo\n",
    "#notes_per_measure, beats_per_measure = 5,13 # tresillo\n",
    "euclidean_rhythm = bjorklund(beats_per_measure, notes_per_measure)\n",
    "#euclidean_rhythm = bjorklund(13,5) # tresillo\n",
    "#euclidean_rhythm = bjorklund(2,3)\n",
    "#euclidean_rhythm = bjorklund(7,3)\n",
    "\n",
    "# interpret 1's as onsets, and 0's as continuation\n",
    "rhythm_in_measure = [0.5*(len(i)+1)for i in ''.join(map(str,euclidean_rhythm)).split('1')[1:]]\n",
    "#rhythm_in_measure = [0.25*(len(i)+1)for i in ''.join(map(str,euclidean_rhythm)).split('1')[1:]]\n",
    "rhythm = n_bars*rhythm_in_measure\n",
    "for _ in range(n_bars):\n",
    "    length = 0\n",
    "    for i in range(len(rhythm_in_measure)):\n",
    "    #while length < 4:\n",
    "        note = np.random.choice(range(0, 12), size = 1, p = scale_probabilities)\n",
    "        #sign = np.random.choice([-1,1],size=1)\n",
    "        #sign = 1\n",
    "        #duration = np.random.choice([0.25,0.5,1,1.25, 1.5, 1.75, 2], size=1)\n",
    "        #duration = np.random.choice([0.25,0.5,1, 2], size=1)\n",
    "        \n",
    "        melody.append(note)\n",
    "        #signs.append(sign)\n",
    "        #if duration > (4 - length):\n",
    "        #    duration = 4 - length\n",
    "        #rhythm.append(duration)\n",
    "        #length += duration\n",
    "melody = np.array(melody).flatten()\n",
    "rhythm = np.array(rhythm).flatten()\n",
    "signs = np.array(signs).flatten()"
   ]
  },
  {
   "cell_type": "code",
   "execution_count": 171,
   "metadata": {},
   "outputs": [],
   "source": [
    "for midi_track in midi_file.tracks:\n",
    "    midi_track.closeTrack()\n",
    "\n",
    "with open('tmp.mid','wb') as f:\n",
    "    midi_file.writeFile(f)"
   ]
  },
  {
   "cell_type": "code",
   "execution_count": 257,
   "metadata": {},
   "outputs": [],
   "source": [
    "rhythm = repeat_pieces_transformed(rhythm, identity)"
   ]
  },
  {
   "cell_type": "code",
   "execution_count": 258,
   "metadata": {},
   "outputs": [],
   "source": [
    "midi_file = blank_midifile()\n",
    "midi_file.addProgramChange(track, channel+1, 0, 8)"
   ]
  },
  {
   "cell_type": "code",
   "execution_count": 259,
   "metadata": {},
   "outputs": [],
   "source": [
    "#melody = np.tile(melody[:5],4*4)\n",
    "#rhythm = np.tile(rhythm,4)\n",
    "\n",
    "#melody = np.tile(melody[:4],5)"
   ]
  },
  {
   "cell_type": "code",
   "execution_count": 260,
   "metadata": {},
   "outputs": [],
   "source": [
    "# common jazz progression II-V-I\n",
    "#add_chord_progression([2,5,1,1], jazz=1)\n",
    "\n",
    "# pachabel's canon I-V-vi-iii-IV-I-IV-V\n",
    "add_chord_progression([1,5,4,3,4,1,4,5], beats_per_chord = 2, jazz=0)\n",
    "\n",
    "# four chord song\n",
    "#add_chord_progression([6,4,1,5], beats_per_chord = 4, jazz=0)\n",
    "#add_chord_progression([1,5,6,4], beats_per_chord = 4, jazz=0)\n",
    "\n",
    "# 12-bar blues\n",
    "#add_chord_progression([1,1,1,1,4,4,1,1,5,4,1,1], beats_per_chord = 2, jazz=0)\n",
    "\n",
    "# blues\n",
    "#add_chord_progression([1,4,1,1,4,4,1,1,5,4,1,5], beats_per_chord = 4, jazz=0)\n",
    "\n",
    "music = add_melody(melody, rhythm)"
   ]
  },
  {
   "cell_type": "code",
   "execution_count": 261,
   "metadata": {
    "scrolled": true
   },
   "outputs": [
    {
     "data": {
      "text/plain": [
       "[<matplotlib.lines.Line2D at 0x7facec4f42e0>]"
      ]
     },
     "execution_count": 23,
     "metadata": {},
     "output_type": "execute_result"
    },
    {
     "data": {
      "image/png": "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\n",
      "text/plain": [
       "<Figure size 432x288 with 1 Axes>"
      ]
     },
     "metadata": {
      "needs_background": "light"
     },
     "output_type": "display_data"
    }
   ],
   "source": [
    "for midi_track in midi_file.tracks:\n",
    "    midi_track.closeTrack()\n",
    "with open('tmp.mid','wb') as f:\n",
    "    midi_file.writeFile(f)\n",
    "\n",
    "play_music('tmp.mid')"
   ]
  },
  {
   "cell_type": "code",
   "execution_count": null,
   "metadata": {},
   "outputs": [],
   "source": [
    "import matplotlib.pylab as plt"
   ]
  },
  {
   "cell_type": "code",
   "execution_count": null,
   "metadata": {},
   "outputs": [],
   "source": [
    "x = np.cumsum(rhythm)"
   ]
  },
  {
   "cell_type": "code",
   "execution_count": null,
   "metadata": {},
   "outputs": [],
   "source": [
    "plt.plot([0] + list(x[:-1]), melody,'.')"
   ]
  },
  {
   "cell_type": "code",
   "execution_count": null,
   "metadata": {},
   "outputs": [],
   "source": [
    "midi_file = blank_midifile()\n",
    "the_lick = []\n",
    "the_lick.append(Tone(pitch, 1, 0.5, time=0))\n",
    "for interval, duration in [(2, 0.5), (3, 0.5), (5, 0.5), (2, 1), (-2, 0.5), (0, 1.5)]:\n",
    "    the_lick.append(Tone(pitch, interval, duration, parent=the_lick[-1]))\n",
    "\n",
    "for x in the_lick:\n",
    "    x.add_note(midi_file, track, channel)"
   ]
  },
  {
   "cell_type": "code",
   "execution_count": null,
   "metadata": {},
   "outputs": [],
   "source": []
  }
 ],
 "metadata": {
  "kernelspec": {
   "display_name": "Python 3",
   "language": "python",
   "name": "python3"
  }
 },
 "nbformat": 4,
 "nbformat_minor": 2
}

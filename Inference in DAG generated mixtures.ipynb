{
 "cells": [
  {
   "cell_type": "code",
   "execution_count": 1,
   "metadata": {},
   "outputs": [],
   "source": [
    "import networkx as nx\n",
    "import pyro.distributions as dist\n",
    "import matplotlib.pylab as plt\n",
    "import numpy as np\n",
    "import sys\n",
    "sys.path.append(\"/home/folzd/phd/compositions_mixtures_factors\")\n",
    "from model_operators import *\n",
    "from utils import *\n",
    "from code_generation import *\n",
    "from graph_grammar import *\n",
    "from models_and_guides import *\n",
    "from inference import *"
   ]
  },
  {
   "cell_type": "code",
   "execution_count": 2,
   "metadata": {},
   "outputs": [],
   "source": [
    "%load_ext autoreload\n",
    "\n",
    "%autoreload 2"
   ]
  },
  {
   "cell_type": "code",
   "execution_count": 3,
   "metadata": {},
   "outputs": [],
   "source": [
    "factor = nx.DiGraph()"
   ]
  },
  {
   "cell_type": "code",
   "execution_count": 4,
   "metadata": {},
   "outputs": [],
   "source": [
    "nodes = [\n",
    "    #('z_loc',{'type':'const', 'value':0.}),\n",
    "    #('z_scale',{'type':'const', 'value':1.}),\n",
    "    ('z_loc',{'type':'function', 'function':torch.zeros, 'args':(Name(id='K'),)}),\n",
    "    ('z_scale',{'type':'function', 'function':torch.ones, 'args':(Name(id='K'),)}),\n",
    "    ('z',{'distribution':dist.Normal,'type':'latent','event_dims':1}),\n",
    "    #('z_T',{'type':'deterministic', 'function':torch.transpose, 'args':(Num(0),Num(1))}),\n",
    "    #('z_T',{'type':'function', 'function':torch.transpose, 'args':(Num(0),Num(1))}),\n",
    "    ('cov_diag_loc',{'type':'param','shape':'D'}),\n",
    "    ('cov_diag_scale',{'type':'param','shape':'D','constraint':'positive'}),\n",
    "#    ('cov_factor_loc',{'type':'param','shape':'KD'}),\n",
    "#    ('cov_factor_scale',{'type':'param','shape':'KD','constraint':'positive'}),\n",
    "    ('cov_factor_loc',{'type':'param','shape':'DK'}),\n",
    "    ('cov_factor_scale',{'type':'param','shape':'DK','constraint':'positive'}),\n",
    "    ('cov_factor',{'distribution':dist.Normal,'type':'latent','event_dims':2}),\n",
    "    #('Wz',{'type':'deterministic', 'function':torch.matmul}),\n",
    "    ('Wz',{'type':'function', 'function':torch.matmul, 'args':('p','t')}),\n",
    "    ('X',{'distribution':dist.MultivariateNormal,'type':'obs'}),\n",
    "    ('cov_diag',{'distribution':dist.LogNormal,'type':'latent','event_dims':1}),\n",
    "    ('cov_diag_j',{'type':'function', 'function':torch.add, 'args':('p',Num(n=0.0001))}),\n",
    "    #('diag',{'type':'deterministic', 'function':torch.diag_embed}),\n",
    "    ('diag',{'type':'function', 'function':torch.diag_embed}),\n",
    "]"
   ]
  },
  {
   "cell_type": "code",
   "execution_count": 5,
   "metadata": {},
   "outputs": [],
   "source": [
    "edges = [\n",
    "    ('cov_diag_loc','cov_diag',{'type':'param','param':'loc'}),\n",
    "    ('cov_diag_scale','cov_diag',{'type':'param','param':'scale'}),\n",
    "    ('cov_factor_loc','cov_factor',{'type':'param','param':'loc'}),\n",
    "    ('cov_factor_scale','cov_factor',{'type':'param','param':'scale'}),\n",
    "    ('z_loc','z',{'type':'param','param':'loc'}),\n",
    "    ('z_scale','z',{'type':'param','param':'scale'}),    \n",
    "    #('z','Wz',{'type':'arg', 'transpose':True}),\n",
    "#    ('z','z_T',{'type':'arg'}),\n",
    "#    ('z_T','Wz',{'type':'arg'}),\n",
    "    ('z','Wz',{'type':'arg'}),\n",
    "    ('cov_factor','Wz',{'type':'arg'}),\n",
    "    ('Wz','X',{'type':'param','param':'loc'}),\n",
    "    #('cov_diag','X',{'type':'param','param':'scale'})\n",
    "    ('cov_diag','cov_diag_j',{'type':'arg'}),\n",
    "    ('cov_diag_j','diag',{'type':'arg'}),\n",
    "    ('diag','X',{'type':'param','param':'covariance_matrix'})\n",
    "]"
   ]
  },
  {
   "cell_type": "code",
   "execution_count": 6,
   "metadata": {},
   "outputs": [],
   "source": [
    "plate_attr = {\n",
    "#    'cov_factor':{'plates':['D','K']},\n",
    "#    'cov_diag':{'plates':['D']},\n",
    "    'X':{'plates':['N']},\n",
    "    'Wz':{'plates':['N']},\n",
    "    #'z':{'plates':['N','K']},\n",
    "    'z':{'plates':['N']},\n",
    "    #'z_T':{'plates':['N']}\n",
    "}"
   ]
  },
  {
   "cell_type": "code",
   "execution_count": 7,
   "metadata": {},
   "outputs": [],
   "source": [
    "factor.add_nodes_from(nodes)\n",
    "factor.add_edges_from(edges)\n",
    "nx.set_node_attributes(factor, plate_attr)"
   ]
  },
  {
   "cell_type": "markdown",
   "metadata": {},
   "source": [
    "W: D, K\n",
    "\n",
    "z: K, N\n",
    "\n",
    "Sigma: D\n",
    "\n",
    "Wz: N\n",
    "\n",
    "X: N"
   ]
  },
  {
   "cell_type": "code",
   "execution_count": 8,
   "metadata": {},
   "outputs": [
    {
     "name": "stderr",
     "output_type": "stream",
     "text": [
      "/home/folzd/anaconda3/lib/python3.7/site-packages/networkx/drawing/nx_pylab.py:579: MatplotlibDeprecationWarning: \n",
      "The iterable function was deprecated in Matplotlib 3.1 and will be removed in 3.3. Use np.iterable instead.\n",
      "  if not cb.iterable(width):\n",
      "/home/folzd/anaconda3/lib/python3.7/site-packages/networkx/drawing/nx_pylab.py:676: MatplotlibDeprecationWarning: \n",
      "The iterable function was deprecated in Matplotlib 3.1 and will be removed in 3.3. Use np.iterable instead.\n",
      "  if cb.iterable(node_size):  # many node sizes\n"
     ]
    },
    {
     "data": {
      "image/png": "[encoded data removed]",
      "text/plain": [
       "<Figure size 432x288 with 1 Axes>"
      ]
     },
     "metadata": {},
     "output_type": "display_data"
    }
   ],
   "source": [
    "nx.draw(factor, with_labels=True)"
   ]
  },
  {
   "cell_type": "code",
   "execution_count": 9,
   "metadata": {},
   "outputs": [],
   "source": [
    "marg_factor = marginalize_factor(factor)"
   ]
  },
  {
   "cell_type": "code",
   "execution_count": 10,
   "metadata": {
    "scrolled": false
   },
   "outputs": [
    {
     "data": {
      "image/png": "[encoded data removed]",
      "text/plain": [
       "<Figure size 432x288 with 1 Axes>"
      ]
     },
     "metadata": {},
     "output_type": "display_data"
    }
   ],
   "source": [
    "nx.draw(marg_factor, with_labels=True)"
   ]
  },
  {
   "cell_type": "code",
   "execution_count": 11,
   "metadata": {},
   "outputs": [],
   "source": [
    "mixture = mixture_from_marg_factor(marg_factor)"
   ]
  },
  {
   "cell_type": "code",
   "execution_count": 12,
   "metadata": {},
   "outputs": [
    {
     "data": {
      "image/png": "[encoded data removed]",
      "text/plain": [
       "<Figure size 432x288 with 1 Axes>"
      ]
     },
     "metadata": {},
     "output_type": "display_data"
    }
   ],
   "source": [
    "nx.draw(mixture, with_labels=True)"
   ]
  },
  {
   "cell_type": "code",
   "execution_count": 13,
   "metadata": {},
   "outputs": [
    {
     "data": {
      "text/plain": [
       "{'cov_diag_loc': ['C'],\n",
       " 'cov_diag_scale': ['C'],\n",
       " 'cov_factor_loc': ['C'],\n",
       " 'cov_factor_scale': ['C'],\n",
       " 'cov_factor': ['C'],\n",
       " 'X': ['N'],\n",
       " 'cov_diag': ['C'],\n",
       " 'cov_diag_j': ['C'],\n",
       " 'loc': ['C'],\n",
       " 'assignment': ['N'],\n",
       " 'cov_factor_idx': ['N'],\n",
       " 'cov_diag_j_idx': ['N'],\n",
       " 'loc_idx': ['N']}"
      ]
     },
     "execution_count": 13,
     "metadata": {},
     "output_type": "execute_result"
    }
   ],
   "source": [
    "nx.get_node_attributes(mixture, 'plates')"
   ]
  },
  {
   "cell_type": "code",
   "execution_count": 14,
   "metadata": {},
   "outputs": [
    {
     "data": {
      "text/plain": [
       "{'cov_diag_loc': 'CD',\n",
       " 'cov_diag_scale': 'CD',\n",
       " 'cov_factor_loc': 'CDK',\n",
       " 'cov_factor_scale': 'CDK',\n",
       " 'mixing_proportions_concentration': 'C',\n",
       " 'loc_loc': 'CD',\n",
       " 'loc_scale': 'CD'}"
      ]
     },
     "execution_count": 14,
     "metadata": {},
     "output_type": "execute_result"
    }
   ],
   "source": [
    "nx.get_node_attributes(mixture, 'shape')"
   ]
  },
  {
   "cell_type": "code",
   "execution_count": 15,
   "metadata": {
    "scrolled": false
   },
   "outputs": [],
   "source": [
    "#generate_Model_class(marg_factor)\n",
    "generate_Model_class(mixture)"
   ]
  },
  {
   "cell_type": "code",
   "execution_count": 16,
   "metadata": {},
   "outputs": [],
   "source": [
    "from model import DAGModel"
   ]
  },
  {
   "cell_type": "code",
   "execution_count": 17,
   "metadata": {},
   "outputs": [],
   "source": [
    "\n",
    "from pyro.ops.indexing import Vindex\n",
    "\n",
    "class DAGModel(Model):\n",
    "    \"\"\"\n",
    "    Template class for code generated from a DAG\n",
    "    \"\"\"\n",
    "    def __init__(self, X, K, C, batch_size, _id):\n",
    "        self.K = K\n",
    "        self.C = C\n",
    "        super(DAGModel, self).__init__(X, batch_size, _id)\n",
    "\n",
    "\n",
    "    def get_param_shapes_and_support(self, _id=None):\n",
    "        if _id == None:\n",
    "            _id = self._id\n",
    "        return {f'loc_scale_init_{_id}': ((self.C, self.D), constraints.\n",
    "            positive), f'loc_prior_scale_init_{_id}': ((self.C, self.D),\n",
    "            constraints.positive), f'loc_loc_init_{_id}': ((self.C, self.D),\n",
    "            constraints.real), f'loc_prior_loc_init_{_id}': ((self.C, self.D),\n",
    "            constraints.real), f'mixing_proportions_concentration_init_{_id}':\n",
    "            ((self.C,), constraints.positive),\n",
    "            f'mixing_proportions_prior_concentration_init_{_id}': ((self.C,),\n",
    "            constraints.positive), f'cov_factor_scale_init_{_id}': ((self.C,\n",
    "            self.D, self.K), constraints.positive),\n",
    "            f'cov_factor_prior_scale_init_{_id}': ((self.C, self.D, self.K),\n",
    "            constraints.positive), f'cov_factor_loc_init_{_id}': ((self.C, self\n",
    "            .D, self.K), constraints.real), f'cov_factor_prior_loc_init_{_id}':\n",
    "            ((self.C, self.D, self.K), constraints.real),\n",
    "            f'cov_diag_scale_init_{_id}': ((self.C, self.D), constraints.\n",
    "            positive), f'cov_diag_prior_scale_init_{_id}': ((self.C, self.D),\n",
    "            constraints.positive), f'cov_diag_loc_init_{_id}': ((self.C, self.D\n",
    "            ), constraints.real), f'cov_diag_prior_loc_init_{_id}': ((self.C,\n",
    "            self.D), constraints.real)}\n",
    "\n",
    "\n",
    "    def model(self, X):\n",
    "        C = self.C\n",
    "        K = self.K\n",
    "        N, D = X.shape\n",
    "        _id = self._id\n",
    "        loc_prior_scale_init = self.param_init[f'loc_prior_scale_init_{_id}']\n",
    "        loc_prior_scale = pyro.param(f'loc_prior_scale_{_id}',\n",
    "            loc_prior_scale_init, constraint=constraints.positive)\n",
    "        loc_prior_loc_init = self.param_init[f'loc_prior_loc_init_{_id}']\n",
    "        loc_prior_loc = pyro.param(f'loc_prior_loc_{_id}', loc_prior_loc_init)\n",
    "        with pyro.plate(f'C_{_id}', C):\n",
    "            loc = pyro.sample(f'loc_{_id}', dist.Normal(loc_prior_loc,\n",
    "                loc_prior_scale).to_event(1))\n",
    "            cov_factor_prior_scale_init = self.param_init[\n",
    "                f'cov_factor_prior_scale_init_{_id}']\n",
    "            cov_factor_prior_scale = pyro.param(f'cov_factor_prior_scale_{_id}',\n",
    "                cov_factor_prior_scale_init, constraint=constraints.positive)\n",
    "            cov_factor_prior_loc_init = self.param_init[\n",
    "                f'cov_factor_prior_loc_init_{_id}']\n",
    "            cov_factor_prior_loc = pyro.param(f'cov_factor_prior_loc_{_id}',\n",
    "                cov_factor_prior_loc_init)\n",
    "            cov_factor = pyro.sample(f'cov_factor_{_id}', dist.Normal(\n",
    "                cov_factor_prior_loc, cov_factor_prior_scale).to_event(2))\n",
    "            cov_diag_prior_scale_init = self.param_init[\n",
    "                f'cov_diag_prior_scale_init_{_id}']\n",
    "            cov_diag_prior_scale = pyro.param(f'cov_diag_prior_scale_{_id}',\n",
    "                cov_diag_prior_scale_init, constraint=constraints.positive)\n",
    "            cov_diag_prior_loc_init = self.param_init[\n",
    "                f'cov_diag_prior_loc_init_{_id}']\n",
    "            cov_diag_prior_loc = pyro.param(f'cov_diag_prior_loc_{_id}',\n",
    "                cov_diag_prior_loc_init)\n",
    "            cov_diag = pyro.sample(f'cov_diag_{_id}', dist.LogNormal(\n",
    "                cov_diag_prior_loc, cov_diag_prior_scale).to_event(1))\n",
    "            cov_diag_j = torch.add(cov_diag, 0.0001)\n",
    "        mixing_proportions_prior_concentration_init = self.param_init[\n",
    "            f'mixing_proportions_prior_concentration_init_{_id}']\n",
    "        mixing_proportions_prior_concentration = pyro.param(\n",
    "            f'mixing_proportions_prior_concentration_{_id}',\n",
    "            mixing_proportions_prior_concentration_init, constraint=constraints\n",
    "            .positive)\n",
    "        mixing_proportions = pyro.sample(f'mixing_proportions_{_id}', dist.\n",
    "            Dirichlet(mixing_proportions_prior_concentration))\n",
    "        with pyro.plate(f'N_{_id}', N, subsample_size=self.batch_size) as ind:\n",
    "            assignment = pyro.sample(f'assignment_{_id}', dist.Categorical(\n",
    "                mixing_proportions), infer={'enumerate': 'parallel'})\n",
    "\n",
    "            #loc_idx = loc[assignment]\n",
    "            #cov_diag_j_idx = cov_diag_j[assignment]\n",
    "            #cov_factor_idx = cov_factor[assignment]\n",
    "            loc_idx = Vindex(loc)[...,assignment,:]\n",
    "            cov_diag_j_idx = Vindex(cov_diag_j)[...,assignment,:]\n",
    "            cov_factor_idx = Vindex(cov_factor)[...,assignment,:,:]\n",
    "            X = pyro.sample('obs', dist.LowRankMultivariateNormal(loc_idx,\n",
    "                cov_factor_idx, cov_diag_j_idx), obs=X.index_select(0, ind))\n",
    "        return X\n",
    "\n",
    "\n",
    "    def guide(self, X):\n",
    "        C = self.C\n",
    "        K = self.K\n",
    "        N, D = X.shape\n",
    "        _id = self._id\n",
    "        loc_scale_init = self.param_init[f'loc_scale_init_{_id}']\n",
    "        loc_scale = pyro.param(f'loc_scale_{_id}', loc_scale_init, constraint=\n",
    "            constraints.positive)\n",
    "        loc_loc_init = self.param_init[f'loc_loc_init_{_id}']\n",
    "        loc_loc = pyro.param(f'loc_loc_{_id}', loc_loc_init)\n",
    "        with pyro.plate(f'C_{_id}', C):\n",
    "            loc = pyro.sample(f'loc_{_id}', dist.Normal(loc_loc, loc_scale).\n",
    "                to_event(1))\n",
    "            cov_factor_scale_init = self.param_init[f'cov_factor_scale_init_{_id}']\n",
    "            cov_factor_scale = pyro.param(f'cov_factor_scale_{_id}',\n",
    "                cov_factor_scale_init, constraint=constraints.positive)\n",
    "            cov_factor_loc_init = self.param_init[f'cov_factor_loc_init_{_id}']\n",
    "            cov_factor_loc = pyro.param(f'cov_factor_loc_{_id}',\n",
    "                cov_factor_loc_init)\n",
    "            cov_factor = pyro.sample(f'cov_factor_{_id}', dist.Normal(\n",
    "                cov_factor_loc, cov_factor_scale).to_event(2))\n",
    "            cov_diag_scale_init = self.param_init[f'cov_diag_scale_init_{_id}']\n",
    "            cov_diag_scale = pyro.param(f'cov_diag_scale_{_id}',\n",
    "                cov_diag_scale_init, constraint=constraints.positive)\n",
    "            cov_diag_loc_init = self.param_init[f'cov_diag_loc_init_{_id}']\n",
    "            cov_diag_loc = pyro.param(f'cov_diag_loc_{_id}', cov_diag_loc_init)\n",
    "            cov_diag = pyro.sample(f'cov_diag_{_id}', dist.LogNormal(\n",
    "                cov_diag_loc, cov_diag_scale).to_event(1))\n",
    "            cov_diag_j = torch.add(cov_diag, 0.0001)\n",
    "        mixing_proportions_concentration_init = self.param_init[\n",
    "            f'mixing_proportions_concentration_init_{_id}']\n",
    "        mixing_proportions_concentration = pyro.param(\n",
    "            f'mixing_proportions_concentration_{_id}',\n",
    "            mixing_proportions_concentration_init, constraint=constraints.positive)\n",
    "        mixing_proportions = pyro.sample(f'mixing_proportions_{_id}', dist.\n",
    "            Dirichlet(mixing_proportions_concentration))\n",
    "        return cov_factor, cov_diag, loc, mixing_proportions\n"
   ]
  },
  {
   "cell_type": "code",
   "execution_count": 18,
   "metadata": {},
   "outputs": [],
   "source": [
    "pyro.clear_param_store()\n",
    "N = 1000\n",
    "D = 2\n",
    "K = 2\n",
    "C = 5\n",
    "dagmodel = DAGModel(torch.zeros(N,D),K,C,N,'id')\n",
    "tmp = dagmodel.model(torch.zeros(N,D))"
   ]
  },
  {
   "cell_type": "code",
   "execution_count": 19,
   "metadata": {},
   "outputs": [
    {
     "data": {
      "text/plain": [
       "{'loc_scale_init_id': ((5, 2), GreaterThan(lower_bound=0.0)),\n",
       " 'loc_prior_scale_init_id': ((5, 2), GreaterThan(lower_bound=0.0)),\n",
       " 'loc_loc_init_id': ((5, 2), Real()),\n",
       " 'loc_prior_loc_init_id': ((5, 2), Real()),\n",
       " 'mixing_proportions_concentration_init_id': ((5,),\n",
       "  GreaterThan(lower_bound=0.0)),\n",
       " 'mixing_proportions_prior_concentration_init_id': ((5,),\n",
       "  GreaterThan(lower_bound=0.0)),\n",
       " 'cov_factor_scale_init_id': ((5, 2, 2), GreaterThan(lower_bound=0.0)),\n",
       " 'cov_factor_prior_scale_init_id': ((5, 2, 2), GreaterThan(lower_bound=0.0)),\n",
       " 'cov_factor_loc_init_id': ((5, 2, 2), Real()),\n",
       " 'cov_factor_prior_loc_init_id': ((5, 2, 2), Real()),\n",
       " 'cov_diag_scale_init_id': ((5, 2), GreaterThan(lower_bound=0.0)),\n",
       " 'cov_diag_prior_scale_init_id': ((5, 2), GreaterThan(lower_bound=0.0)),\n",
       " 'cov_diag_loc_init_id': ((5, 2), Real()),\n",
       " 'cov_diag_prior_loc_init_id': ((5, 2), Real())}"
      ]
     },
     "execution_count": 19,
     "metadata": {},
     "output_type": "execute_result"
    }
   ],
   "source": [
    "dagmodel.param_shapes_and_support"
   ]
  },
  {
   "cell_type": "code",
   "execution_count": 20,
   "metadata": {},
   "outputs": [],
   "source": [
    "pyro.set_rng_seed(42)"
   ]
  },
  {
   "cell_type": "code",
   "execution_count": 21,
   "metadata": {},
   "outputs": [],
   "source": [
    "dgp = dagmodel.unconditioned_model\n",
    "trace = pyro.poutine.trace(dgp).get_trace(torch.empty(N,D))\n",
    "true_variables = dict([(name,trace.nodes[name][\"value\"]) for name in trace.stochastic_nodes if len(name)>1])\n",
    "\n",
    "new_dgp = pyro.poutine.condition(dgp, data={'loc_id':true_variables['loc_id']*20})\n",
    "trace = pyro.poutine.trace(new_dgp).get_trace(torch.empty(N,D))\n",
    "\n",
    "true_variables = dict([(name,trace.nodes[name][\"value\"]) for name in trace.stochastic_nodes if len(name)>1])\n",
    "X = true_variables['obs'].detach()\n",
    "Xz = torch.cat([X,true_variables['assignment_id'].detach().float().unsqueeze(-1)],dim=-1)\n",
    "Xzdata, Xztest_data = train_test_split(Xz)\n",
    "data, train_assign = Xzdata[:,:-1],Xzdata[:,-1]\n",
    "test_data, test_assign = Xztest_data[:,:-1],Xztest_data[:,-1]"
   ]
  },
  {
   "cell_type": "code",
   "execution_count": 22,
   "metadata": {},
   "outputs": [
    {
     "data": {
      "text/plain": [
       "torch.Size([1000, 2])"
      ]
     },
     "execution_count": 22,
     "metadata": {},
     "output_type": "execute_result"
    }
   ],
   "source": [
    "X.shape"
   ]
  },
  {
   "cell_type": "code",
   "execution_count": 23,
   "metadata": {
    "scrolled": false
   },
   "outputs": [
    {
     "data": {
      "text/plain": [
       "<matplotlib.collections.PathCollection at 0x7f44e91e9208>"
      ]
     },
     "execution_count": 23,
     "metadata": {},
     "output_type": "execute_result"
    },
    {
     "data": {
      "image/png": "[encoded data removed]",
      "text/plain": [
       "<Figure size 432x288 with 1 Axes>"
      ]
     },
     "metadata": {
      "needs_background": "light"
     },
     "output_type": "display_data"
    }
   ],
   "source": [
    "rand_idx = np.random.choice(D,2, replace=False)\n",
    "\n",
    "rand_idx\n",
    "\n",
    "plt.scatter(*data[:,rand_idx].T,c=train_assign.squeeze())\n",
    "#plt.scatter(*foo['obs'][:,0,0,rand_idx].squeeze().T.detach())"
   ]
  },
  {
   "cell_type": "code",
   "execution_count": 24,
   "metadata": {},
   "outputs": [],
   "source": [
    "config = dict(\n",
    "        n_iter = 8000,\n",
    "        learning_rate = 0.01, \n",
    "        beta1 = 0.9,\n",
    "        beta2 = 0.999,\n",
    "        learning_rate_decay = 1., # no decay by default\n",
    "        batch_size = 32, \n",
    "        n_elbo_particles = 32, \n",
    "        n_posterior_samples = 1024,\n",
    "        window = 500,\n",
    "        convergence_window = 30,\n",
    "        slope_significance = 0.1,\n",
    "        track_params = False,\n",
    "        monitor_gradients = False,\n",
    "        telemetry = None\n",
    "    )"
   ]
  },
  {
   "cell_type": "code",
   "execution_count": 29,
   "metadata": {},
   "outputs": [],
   "source": [
    "pyro.clear_param_store()\n",
    "N = 1000\n",
    "D = 2\n",
    "K = 2\n",
    "C = 2\n",
    "student = DAGModel(torch.zeros(N,D),K,C,N,'id')"
   ]
  },
  {
   "cell_type": "code",
   "execution_count": 30,
   "metadata": {
    "scrolled": true
   },
   "outputs": [
    {
     "name": "stdout",
     "output_type": "stream",
     "text": [
      "\n",
      "\n",
      "NLL after 0/8000 iterations is 42.421348571777344\n",
      "........................................................................................................................................................................................................................................................................................................................................................................................................................................................................................................................................................................................................................................................................................................................................................................................................................................................................................................................................................................................................................................\n",
      "\n",
      "NLL after 1000/8000 iterations is 9.903691291809082\n",
      "\n",
      "\n",
      "...................................................................................................................................................................................................................................................................................................................................................................................................................................................................................................................\n",
      "\n",
      "NLL after 1500/8000 iterations is 9.680830955505371\n",
      "\n",
      "\n",
      "...................................................................................................................................................................................................................................................................................................................................................................................................................................................................................................................\n",
      "\n",
      "NLL after 2000/8000 iterations is 9.670587539672852\n",
      "\n",
      "\n",
      "...................................................................................................................................................................................................................................................................................................................................................................................................................................................................................................................\n",
      "\n",
      "NLL after 2500/8000 iterations is 9.641987800598145\n",
      "\n",
      "\n",
      "...................................................................................................................................................................................................................................................................................................................................................................................................................................................................................................................\n",
      "\n",
      "NLL after 3000/8000 iterations is 9.623493194580078\n",
      "\n",
      "\n",
      "...................................................................................................................................................................................................................................................................................................................................................................................................................................................................................................................\n",
      "\n",
      "NLL after 3500/8000 iterations is 9.573200225830078\n",
      "\n",
      "\n",
      "...................................................................................................................................................................................................................................................................................................................................................................................................................................................................................................................\n",
      "\n",
      "NLL after 4000/8000 iterations is 9.57563304901123\n",
      "\n",
      "\n",
      "...................................................................................................................................................................................................................................................................................................................................................................................................................................................................................................................\n",
      "\n",
      "NLL after 4500/8000 iterations is 9.536123275756836\n",
      "\n",
      "\n",
      "...................................................................................................................................................................................................................................................................................................................................................................................................................................................................................................................\n",
      "\n",
      "NLL after 5000/8000 iterations is 9.508886337280273\n",
      "\n",
      "\n",
      "...................................................................................................................................................................................................................................................................................................................................................................................................................................................................................................................\n",
      "\n",
      "NLL after 5500/8000 iterations is 9.465351104736328\n",
      "\n",
      "\n",
      "...................................................................................................................................................................................................................................................................................................................................................................................................................................................................................................................\n",
      "\n",
      "NLL after 6000/8000 iterations is 9.305620193481445\n",
      "\n",
      "\n",
      "...................................................................................................................................................................................................................................................................................................................................................................................................................................................................................................................\n",
      "\n",
      "NLL after 6500/8000 iterations is 8.992718696594238\n",
      "\n",
      "\n",
      "...................................................................................................................................................................................................................................................................................................................................................................................................................................................................................................................\n",
      "\n",
      "NLL after 7000/8000 iterations is 8.714733123779297\n",
      "\n",
      "\n"
     ]
    },
    {
     "name": "stdout",
     "output_type": "stream",
     "text": [
      "...................................................................................................................................................................................................................................................................................................................................................................................................................................................................................................................\n",
      "\n",
      "NLL after 7500/8000 iterations is 8.251160621643066\n",
      "\n",
      "\n",
      "...................................................................................................................................................................................................................................................................................................................................................................................................................................................................................................................\n",
      "Converged in 8000 iterations.\n",
      "\n"
     ]
    }
   ],
   "source": [
    "telemetry = inference(student, data, test_data, config=config)"
   ]
  },
  {
   "cell_type": "code",
   "execution_count": 31,
   "metadata": {
    "scrolled": false
   },
   "outputs": [],
   "source": [
    "student.sample_posterior_predictive(data.shape[0])"
   ]
  },
  {
   "cell_type": "code",
   "execution_count": 32,
   "metadata": {
    "scrolled": false
   },
   "outputs": [],
   "source": [
    "student.batch_size = 500\n",
    "foo = student.posterior_predictive(data)\n",
    "student.batch_size = 32"
   ]
  },
  {
   "cell_type": "code",
   "execution_count": 33,
   "metadata": {},
   "outputs": [
    {
     "data": {
      "image/png": "[encoded data removed]",
      "text/plain": [
       "<Figure size 432x288 with 1 Axes>"
      ]
     },
     "metadata": {
      "needs_background": "light"
     },
     "output_type": "display_data"
    }
   ],
   "source": [
    "plt.plot(telemetry['loss'])\n",
    "plt.yscale('log')"
   ]
  },
  {
   "cell_type": "code",
   "execution_count": 34,
   "metadata": {},
   "outputs": [
    {
     "data": {
      "text/plain": [
       "[<matplotlib.lines.Line2D at 0x7f44e8ca57f0>]"
      ]
     },
     "execution_count": 34,
     "metadata": {},
     "output_type": "execute_result"
    },
    {
     "data": {
      "image/png": "[encoded data removed]",
      "text/plain": [
       "<Figure size 432x288 with 1 Axes>"
      ]
     },
     "metadata": {
      "needs_background": "light"
     },
     "output_type": "display_data"
    }
   ],
   "source": [
    "plt.plot(telemetry['MNLL'])"
   ]
  },
  {
   "cell_type": "code",
   "execution_count": 35,
   "metadata": {},
   "outputs": [
    {
     "data": {
      "text/plain": [
       "torch.Size([900, 500, 2])"
      ]
     },
     "execution_count": 35,
     "metadata": {},
     "output_type": "execute_result"
    }
   ],
   "source": [
    "foo['obs'].shape"
   ]
  },
  {
   "cell_type": "code",
   "execution_count": 36,
   "metadata": {},
   "outputs": [
    {
     "data": {
      "text/plain": [
       "torch.Size([900, 500])"
      ]
     },
     "execution_count": 36,
     "metadata": {},
     "output_type": "execute_result"
    }
   ],
   "source": [
    "foo['assignment_id'].shape"
   ]
  },
  {
   "cell_type": "code",
   "execution_count": 37,
   "metadata": {},
   "outputs": [
    {
     "data": {
      "text/plain": [
       "<matplotlib.collections.PathCollection at 0x7f44e8d2def0>"
      ]
     },
     "execution_count": 37,
     "metadata": {},
     "output_type": "execute_result"
    }
   ],
   "source": [
    "%matplotlib qt\n",
    "#plt.scatter(*data[:,rand_idx].T)\n",
    "plt.scatter(*data[:,rand_idx].T,c=train_assign.squeeze())\n",
    "plt.scatter(*foo['obs'][:,0,rand_idx].squeeze().T.detach(),alpha=.1)"
   ]
  },
  {
   "cell_type": "code",
   "execution_count": 38,
   "metadata": {},
   "outputs": [
    {
     "data": {
      "text/plain": [
       "<matplotlib.collections.PathCollection at 0x7f44e8d25ac8>"
      ]
     },
     "execution_count": 38,
     "metadata": {},
     "output_type": "execute_result"
    }
   ],
   "source": [
    "plt.scatter(*foo['obs'][:,0,rand_idx].squeeze().T.detach(),c=foo['assignment_id'][:,0].squeeze().T.detach())"
   ]
  },
  {
   "cell_type": "code",
   "execution_count": 39,
   "metadata": {},
   "outputs": [
    {
     "data": {
      "text/plain": [
       "tensor([[[0.7511, 0.2489]],\n",
       "\n",
       "        [[0.6897, 0.3103]],\n",
       "\n",
       "        [[0.7550, 0.2450]],\n",
       "\n",
       "        ...,\n",
       "\n",
       "        [[0.7168, 0.2832]],\n",
       "\n",
       "        [[0.6459, 0.3541]],\n",
       "\n",
       "        [[0.6690, 0.3310]]], grad_fn=<ViewBackward>)"
      ]
     },
     "execution_count": 39,
     "metadata": {},
     "output_type": "execute_result"
    }
   ],
   "source": [
    "foo['mixing_proportions_id']"
   ]
  },
  {
   "cell_type": "code",
   "execution_count": 40,
   "metadata": {},
   "outputs": [],
   "source": [
    "def compute_assignments(data, posterior_samples):\n",
    "    n_posterior_samples,C,D = posterior_samples['loc_id'].shape\n",
    "\n",
    "    n_posterior_samples = 200\n",
    "    # get component distributions\n",
    "    components = dist.LowRankMultivariateNormal(posterior_samples['loc_id'][:n_posterior_samples],posterior_samples['cov_factor_id'][:n_posterior_samples],posterior_samples['cov_diag_id'][:n_posterior_samples])\n",
    "\n",
    "    # find log_prob of every datapoint under each component, for all posterior samples\n",
    "    responsibilities = components.log_prob(data.unsqueeze(-2).unsqueeze(-2))\n",
    "\n",
    "    greatest_responsibility,most_responsible = responsibilities.max(dim=-1)\n",
    "\n",
    "    return most_responsible.sum(1)>n_posterior_samples/C"
   ]
  },
  {
   "cell_type": "code",
   "execution_count": 41,
   "metadata": {
    "scrolled": true
   },
   "outputs": [
    {
     "data": {
      "text/plain": [
       "<matplotlib.collections.PathCollection at 0x7f4438267550>"
      ]
     },
     "execution_count": 41,
     "metadata": {},
     "output_type": "execute_result"
    }
   ],
   "source": [
    "%matplotlib qt\n",
    "#plt.scatter(*data[:,rand_idx].T,c=compute_assignments(data, foo))\n",
    "# plot posterior predictive sample\n",
    "#plt.scatter(*foo['obs'][:,0,rand_idx].squeeze().T.detach(),alpha=.1)\n",
    "# plot one posterior model\n",
    "plt.scatter(*foo['obs'][4,:,rand_idx].squeeze().T.detach(),alpha=.1)"
   ]
  },
  {
   "cell_type": "code",
   "execution_count": 42,
   "metadata": {},
   "outputs": [],
   "source": [
    "# select component (pi,mu,W,Sigma) = (mixing_proportions, loc, cov_factor, cov_diag) for splitting\n",
    "# define two new components (pi_1,mu_1,W_1,Sigma_1) and (pi_2,mu_2,W_2,Sigma_2), such that\n",
    "# pi_1 = pi_2 P pi/2\n",
    "# mu_1, mu_2 = mu +- w, where w is the sum of eigenvectors of cov_factor.cov_factor.T + cov_diag**2, weighted by eigenvalues\n",
    "# the others are simply copied over"
   ]
  },
  {
   "cell_type": "code",
   "execution_count": 44,
   "metadata": {},
   "outputs": [
    {
     "name": "stdout",
     "output_type": "stream",
     "text": [
      "tensor([58.7134,  5.8414])\n",
      "tensor([-1.3639, -9.9080])\n"
     ]
    }
   ],
   "source": [
    "teacher = student\n",
    "# create a new model for each component, with that component split along first principal component\n",
    "for c in range(teacher.C):\n",
    "    pyro.clear_param_store()\n",
    "    N = teacher.N\n",
    "    D = teacher.D\n",
    "    K = teacher.K\n",
    "    C = teacher.C + 1\n",
    "    new_student = DAGModel(torch.zeros(N,D),K,C,N,'id_'+str(c))\n",
    "    \n",
    "    cov_factor = teacher.params['cov_factor_loc_id'][c]\n",
    "    variances = torch.diag(teacher.params['cov_diag_loc_id'][c]**2)\n",
    "    component_cov_mat = torch.matmul(cov_factor,cov_factor.T) + variances\n",
    "    eigvals, eigvecs = torch.eig(component_cov_mat, eigenvectors=True)\n",
    "    #new_component_loc_displacement = torch.matmul(torch.sqrt(eigvals[:,0]),eigvecs.T)\n",
    "    lamda,idx = eigvals[:,0].max(0)\n",
    "    #pc = lamda*eigvecs[idx]\n",
    "    pc = lamda*eigvecs[:,idx]\n",
    "    \n",
    "    print(pc)\n",
    "    #\n",
    "    plt.figure()\n",
    "    ax = plt.axes()\n",
    "    sample_idx = 6\n",
    "    plt.scatter(*foo['obs'][:,sample_idx,rand_idx].squeeze().T.detach(),c=foo['assignment_id'][:,sample_idx].squeeze().T.detach(),alpha=.01)\n",
    "\n",
    "    ax.arrow(*reversed(teacher.params['loc_loc_id'][c]), *reversed(pc), head_width=0.5, head_length=0.7, fc='lightblue', ec='black')\n",
    "    #ax.arrow(*teacher.params['loc_loc_id'][c], *pc, head_width=0.5, head_length=0.7, fc='lightblue', ec='black')\n",
    "    plt.axis('equal')"
   ]
  },
  {
   "cell_type": "code",
   "execution_count": 45,
   "metadata": {},
   "outputs": [
    {
     "data": {
      "text/plain": [
       "tensor([-19.8889,   0.1995])"
      ]
     },
     "execution_count": 45,
     "metadata": {},
     "output_type": "execute_result"
    }
   ],
   "source": [
    "reversed(teacher.params['loc_loc_id'][0])"
   ]
  },
  {
   "cell_type": "code",
   "execution_count": 46,
   "metadata": {},
   "outputs": [
    {
     "data": {
      "text/plain": [
       "tensor([[ 0.1532,  0.0000],\n",
       "        [10.0014,  0.0000]])"
      ]
     },
     "execution_count": 46,
     "metadata": {},
     "output_type": "execute_result"
    }
   ],
   "source": [
    "eigvals"
   ]
  },
  {
   "cell_type": "code",
   "execution_count": 47,
   "metadata": {},
   "outputs": [
    {
     "data": {
      "text/plain": [
       "torch.return_types.max(\n",
       "values=tensor(10.0014),\n",
       "indices=tensor(1))"
      ]
     },
     "execution_count": 47,
     "metadata": {},
     "output_type": "execute_result"
    }
   ],
   "source": [
    "eigvals[:,0].max(0)"
   ]
  },
  {
   "cell_type": "code",
   "execution_count": 48,
   "metadata": {},
   "outputs": [
    {
     "data": {
      "text/plain": [
       "tensor([[-0.9907, -0.1364],\n",
       "        [ 0.1364, -0.9907]])"
      ]
     },
     "execution_count": 48,
     "metadata": {},
     "output_type": "execute_result"
    }
   ],
   "source": [
    "eigvecs"
   ]
  },
  {
   "cell_type": "code",
   "execution_count": 49,
   "metadata": {},
   "outputs": [
    {
     "data": {
      "text/plain": [
       "tensor([-1.3639, -9.9080])"
      ]
     },
     "execution_count": 49,
     "metadata": {},
     "output_type": "execute_result"
    }
   ],
   "source": [
    "pc"
   ]
  },
  {
   "cell_type": "code",
   "execution_count": 50,
   "metadata": {},
   "outputs": [
    {
     "data": {
      "text/plain": [
       "tensor([[0.3364, 1.3304],\n",
       "        [1.3304, 9.8183]])"
      ]
     },
     "execution_count": 50,
     "metadata": {},
     "output_type": "execute_result"
    }
   ],
   "source": [
    "component_cov_mat"
   ]
  },
  {
   "cell_type": "code",
   "execution_count": 51,
   "metadata": {},
   "outputs": [
    {
     "data": {
      "text/plain": [
       "tensor([-1.3639, -9.9080])"
      ]
     },
     "execution_count": 51,
     "metadata": {},
     "output_type": "execute_result"
    }
   ],
   "source": [
    "pc"
   ]
  },
  {
   "cell_type": "code",
   "execution_count": 52,
   "metadata": {},
   "outputs": [
    {
     "data": {
      "text/plain": [
       "32"
      ]
     },
     "execution_count": 52,
     "metadata": {},
     "output_type": "execute_result"
    }
   ],
   "source": [
    "student.batch_size"
   ]
  },
  {
   "cell_type": "code",
   "execution_count": 53,
   "metadata": {},
   "outputs": [
    {
     "data": {
      "text/plain": [
       "1000"
      ]
     },
     "execution_count": 53,
     "metadata": {},
     "output_type": "execute_result"
    }
   ],
   "source": [
    "new_student.batch_size"
   ]
  },
  {
   "cell_type": "code",
   "execution_count": 54,
   "metadata": {},
   "outputs": [
    {
     "data": {
      "text/plain": [
       "torch.Size([900, 2])"
      ]
     },
     "execution_count": 54,
     "metadata": {},
     "output_type": "execute_result"
    }
   ],
   "source": [
    "data.shape"
   ]
  },
  {
   "cell_type": "code",
   "execution_count": 55,
   "metadata": {},
   "outputs": [],
   "source": [
    "    \n",
    "    # create param init for new_student model\n",
    "    for param_name, param_value in new_student.param_init.items():\n",
    "        teacher_param_name = param_name.replace('init_'+new_student._id, teacher._id)\n",
    "        for component,_ in enumerate(teacher.params[teacher_param_name]):\n",
    "#            if component == c:\n",
    "#                # split locs in two\n",
    "#                if param_name in ['loc_loc_init_id', 'loc_prior_loc_init_id']:\n",
    "#                    comp1 = teacher.params[teacher_param_name][component] + pc\n",
    "#                    comp2 = teacher.params[teacher_param_name][component] - pc\n",
    "#                # split mixing proportions in two\n",
    "#                elif param_name in ['mixing_proportions_concentration_init_id', 'mixing_proportions_prior_concentration_init_id']:\n",
    "#                    comp1 = comp2 = teacher.params[teacher_param_name][component]/2\n",
    "#                else:\n",
    "#                    comp1 = comp2 = teacher.params[teacher_param_name][component]\n",
    "#                new_student.param_init[param_name][component] = comp1\n",
    "#                new_student.param_init[param_name][component + 1] = comp2\n",
    "#                next\n",
    "#            else:\n",
    "#                new_student.param_init[param_name][component] = teacher.params[teacher_param_name][component]\n",
    "            new_student.param_init[param_name][component] = teacher.params[teacher_param_name][component]\n",
    "                \n",
    "    # train one iteration\n",
    "    one_iter_config = config.copy()\n",
    "    one_iter_config['n_iter'] = 1\n",
    "    one_iter_config['telemetry'] = None # otherwise infer will make errors, since it assumes batch_size is as previous"
   ]
  },
  {
   "cell_type": "code",
   "execution_count": 56,
   "metadata": {
    "scrolled": false
   },
   "outputs": [
    {
     "name": "stdout",
     "output_type": "stream",
     "text": [
      "\n",
      "\n",
      "NLL after 0/1 iterations is 8.171438217163086\n",
      ".\n",
      "Converged in 1 iterations.\n",
      "\n"
     ]
    },
    {
     "data": {
      "text/plain": [
       "<matplotlib.collections.PathCollection at 0x7f44380d86a0>"
      ]
     },
     "execution_count": 56,
     "metadata": {},
     "output_type": "execute_result"
    }
   ],
   "source": [
    "    telemetry = inference(new_student, data, test_data, config=one_iter_config)\n",
    "    \n",
    "    # get posterior sample\n",
    "    new_student.sample_posterior_predictive(N)\n",
    "    ppc = new_student.posterior_predictive(data)\n",
    "\n",
    "    # plot\n",
    "    plt.figure()\n",
    "    plt.scatter(*ppc['obs'][:,0,rand_idx].squeeze().T.detach(),c=ppc['assignment_'+new_student._id][:,0].squeeze().T.detach(), alpha=.1)"
   ]
  },
  {
   "cell_type": "code",
   "execution_count": 57,
   "metadata": {},
   "outputs": [],
   "source": [
    "pyro.clear_param_store()\n",
    "N = 1000\n",
    "D = 2\n",
    "K = 4\n",
    "C = 3\n",
    "new_student = DAGModel(torch.zeros(N,D),K,C,N,'id')"
   ]
  },
  {
   "cell_type": "code",
   "execution_count": 58,
   "metadata": {
    "scrolled": true
   },
   "outputs": [
    {
     "data": {
      "text/plain": [
       "{'loc_scale_init_id': tensor([[0.5796, 0.2425],\n",
       "         [0.1116, 0.0854],\n",
       "         [1.1932, 0.7773]]),\n",
       " 'loc_prior_scale_init_id': tensor([[2.0358, 0.4086],\n",
       "         [1.1616, 1.3847],\n",
       "         [0.4910, 0.1424]]),\n",
       " 'loc_loc_init_id': tensor([[ 0.8416,  0.3471],\n",
       "         [ 1.1977,  1.7428],\n",
       "         [-0.8393,  0.2851]]),\n",
       " 'loc_prior_loc_init_id': tensor([[ 0.2385, -0.4549],\n",
       "         [ 0.6293,  0.9435],\n",
       "         [ 1.8534,  0.4810]]),\n",
       " 'mixing_proportions_concentration_init_id': tensor([0.6951, 0.6414, 0.1416]),\n",
       " 'mixing_proportions_prior_concentration_init_id': tensor([0.4729, 1.0725, 0.3382]),\n",
       " 'cov_factor_scale_init_id': tensor([[[1.3561, 0.6026, 0.9432, 1.7144],\n",
       "          [1.2703, 1.5827, 0.9117, 1.3160]],\n",
       " \n",
       "         [[0.4502, 0.1390, 1.5446, 0.5794],\n",
       "          [0.9419, 0.1899, 0.1494, 0.3745]],\n",
       " \n",
       "         [[0.6834, 0.0926, 1.6650, 0.7934],\n",
       "          [0.0193, 0.0782, 0.6245, 1.9299]]]),\n",
       " 'cov_factor_prior_scale_init_id': tensor([[[0.1908, 0.0415, 1.4900, 0.1742],\n",
       "          [0.0216, 0.3404, 0.8776, 0.0901]],\n",
       " \n",
       "         [[0.3857, 0.1909, 0.3154, 0.2876],\n",
       "          [0.4742, 0.1872, 1.1089, 0.9325]],\n",
       " \n",
       "         [[1.6168, 0.7905, 0.9305, 0.9081],\n",
       "          [0.2216, 2.2778, 0.7018, 0.5657]]]),\n",
       " 'cov_factor_loc_init_id': tensor([[[ 2.6277, -2.1449, -0.3075, -0.0983],\n",
       "          [-0.4362,  1.1668, -1.3749,  0.2739]],\n",
       " \n",
       "         [[-0.4416,  0.9482,  1.8015,  0.7893],\n",
       "          [ 1.3685,  0.6139,  1.0415,  2.0663]],\n",
       " \n",
       "         [[ 1.6214,  0.0569, -0.8809, -0.1940],\n",
       "          [ 0.1367, -0.8618,  0.6364,  1.4394]]]),\n",
       " 'cov_factor_prior_loc_init_id': tensor([[[ 1.1624, -0.4860, -0.0341, -0.4205],\n",
       "          [ 0.3048,  0.3957,  1.0536,  0.7040]],\n",
       " \n",
       "         [[-0.6155,  0.1057,  0.0405, -0.3731],\n",
       "          [ 1.5639,  0.4062, -1.5346, -0.2301]],\n",
       " \n",
       "         [[-0.0927, -1.1428,  0.2063,  1.2277],\n",
       "          [ 0.6716,  1.9364,  0.9388,  0.5014]]]),\n",
       " 'cov_diag_scale_init_id': tensor([[1.2918, 1.0130],\n",
       "         [0.7173, 1.2055],\n",
       "         [0.8818, 0.6836]]),\n",
       " 'cov_diag_prior_scale_init_id': tensor([[1.1112, 0.6869],\n",
       "         [0.4110, 1.5306],\n",
       "         [0.6618, 0.3584]]),\n",
       " 'cov_diag_loc_init_id': tensor([[-0.0938, -0.5872],\n",
       "         [ 1.7651, -1.1703],\n",
       "         [-0.8793,  0.2594]]),\n",
       " 'cov_diag_prior_loc_init_id': tensor([[-0.6174, -0.1202],\n",
       "         [ 0.4102, -1.7133],\n",
       "         [ 0.5245,  0.4752]])}"
      ]
     },
     "execution_count": 58,
     "metadata": {},
     "output_type": "execute_result"
    }
   ],
   "source": [
    "new_student.param_init"
   ]
  },
  {
   "cell_type": "code",
   "execution_count": 59,
   "metadata": {},
   "outputs": [
    {
     "data": {
      "text/plain": [
       "tensor([[2.0358, 0.4086],\n",
       "        [1.1616, 1.3847],\n",
       "        [0.4910, 0.1424]])"
      ]
     },
     "execution_count": 59,
     "metadata": {},
     "output_type": "execute_result"
    }
   ],
   "source": [
    "new_student.param_init['loc_prior_scale_init_id']"
   ]
  },
  {
   "cell_type": "code",
   "execution_count": 60,
   "metadata": {},
   "outputs": [
    {
     "data": {
      "text/plain": [
       "tensor([[0.3052, 0.0608],\n",
       "        [0.0458, 0.0894]])"
      ]
     },
     "execution_count": 60,
     "metadata": {},
     "output_type": "execute_result"
    }
   ],
   "source": [
    "student.params['loc_prior_scale_id']"
   ]
  },
  {
   "cell_type": "code",
   "execution_count": 61,
   "metadata": {},
   "outputs": [],
   "source": [
    "old_student = student"
   ]
  },
  {
   "cell_type": "code",
   "execution_count": 62,
   "metadata": {},
   "outputs": [],
   "source": [
    "teacher = old_student\n",
    "student = new_student\n",
    "param_name = 'loc_loc_init_id'\n",
    "teacher_param_name = param_name.replace('init_'+student._id, teacher._id)"
   ]
  },
  {
   "cell_type": "code",
   "execution_count": 63,
   "metadata": {},
   "outputs": [
    {
     "data": {
      "text/plain": [
       "'loc_loc_id'"
      ]
     },
     "execution_count": 63,
     "metadata": {},
     "output_type": "execute_result"
    }
   ],
   "source": [
    "teacher_param_name"
   ]
  },
  {
   "cell_type": "code",
   "execution_count": 64,
   "metadata": {},
   "outputs": [
    {
     "data": {
      "text/plain": [
       "<matplotlib.patches.FancyArrow at 0x7f443813f588>"
      ]
     },
     "execution_count": 64,
     "metadata": {},
     "output_type": "execute_result"
    }
   ],
   "source": [
    "c = 1\n",
    "\n",
    "local_cov_mat = torch.matmul(teacher.params['cov_factor_loc_id'][c],teacher.params['cov_factor_loc_id'][c].T) + torch.diag(teacher.params['cov_diag_loc_id'][c]**2)\n",
    "eigvals, eigvecs = torch.eig(local_cov_mat, eigenvectors=True)\n",
    "new_component_loc_displacement = torch.matmul(torch.sqrt(eigvals[:,0]),eigvecs.T)\n",
    "\n",
    "ax = plt.axes()\n",
    "plt.scatter(*foo['obs'][:,1,rand_idx].squeeze().T.detach(),c=foo['assignment_id'][:,1].squeeze().T.detach())\n",
    "\n",
    "ax.arrow(*teacher.params['loc_loc_id'][c], *new_component_loc_displacement, head_width=0.5, head_length=0.7, fc='lightblue', ec='black')\n",
    "#ax.arrow(*student.params['loc_loc_id'][c], *-vec, head_width=0.5, head_length=0.7, fc='lightblue', ec='black')\n",
    "\n",
    "#plt.xlim(-20,40)\n",
    "#plt.ylim(-80,10)\n",
    "#plt.grid()"
   ]
  },
  {
   "cell_type": "code",
   "execution_count": 65,
   "metadata": {},
   "outputs": [
    {
     "ename": "RuntimeError",
     "evalue": "The expanded size of the tensor (4) must match the existing size (2) at non-singleton dimension 1.  Target sizes: [2, 4].  Tensor sizes: [2, 2]",
     "output_type": "error",
     "traceback": [
      "\u001b[0;31m---------------------------------------------------------------------------\u001b[0m",
      "\u001b[0;31mRuntimeError\u001b[0m                              Traceback (most recent call last)",
      "\u001b[0;32m<ipython-input-65-a1d9870be36e>\u001b[0m in \u001b[0;36m<module>\u001b[0;34m\u001b[0m\n\u001b[1;32m     14\u001b[0m             \u001b[0mnext\u001b[0m\u001b[0;34m\u001b[0m\u001b[0;34m\u001b[0m\u001b[0m\n\u001b[1;32m     15\u001b[0m         \u001b[0;32melse\u001b[0m\u001b[0;34m:\u001b[0m\u001b[0;34m\u001b[0m\u001b[0;34m\u001b[0m\u001b[0m\n\u001b[0;32m---> 16\u001b[0;31m             \u001b[0mstudent\u001b[0m\u001b[0;34m.\u001b[0m\u001b[0mparam_init\u001b[0m\u001b[0;34m[\u001b[0m\u001b[0mparam_name\u001b[0m\u001b[0;34m]\u001b[0m\u001b[0;34m[\u001b[0m\u001b[0mcomponent\u001b[0m\u001b[0;34m]\u001b[0m \u001b[0;34m=\u001b[0m \u001b[0mteacher\u001b[0m\u001b[0;34m.\u001b[0m\u001b[0mparams\u001b[0m\u001b[0;34m[\u001b[0m\u001b[0mteacher_param_name\u001b[0m\u001b[0;34m]\u001b[0m\u001b[0;34m[\u001b[0m\u001b[0mcomponent\u001b[0m\u001b[0;34m]\u001b[0m\u001b[0;34m\u001b[0m\u001b[0;34m\u001b[0m\u001b[0m\n\u001b[0m",
      "\u001b[0;31mRuntimeError\u001b[0m: The expanded size of the tensor (4) must match the existing size (2) at non-singleton dimension 1.  Target sizes: [2, 4].  Tensor sizes: [2, 2]"
     ]
    }
   ],
   "source": [
    "for param_name, param_value in student.param_init.items():\n",
    "    teacher_param_name = param_name.replace('init_'+student._id, teacher._id)\n",
    "    for component,_ in enumerate(teacher.param_init[param_name]):\n",
    "        if component == c:\n",
    "            if param_name in ['loc_loc_init_id', 'loc_prior_loc_init_id']:\n",
    "                comp1 = teacher.params[teacher_param_name][component] + new_component_loc_displacement\n",
    "                comp2 = teacher.params[teacher_param_name][component] - new_component_loc_displacement\n",
    "            elif param_name in ['mixing_proportions_concentration_init_id', 'mixing_proportions_prior_concentration_init_id']:\n",
    "                comp1 = comp2 = teacher.params[teacher_param_name][component]/2\n",
    "            else:\n",
    "                comp1 = comp2 = teacher.params[teacher_param_name][component]\n",
    "            student.param_init[param_name][component] = comp1\n",
    "            student.param_init[param_name][component + 1] = comp2\n",
    "            next\n",
    "        else:\n",
    "            student.param_init[param_name][component] = teacher.params[teacher_param_name][component]"
   ]
  },
  {
   "cell_type": "code",
   "execution_count": 66,
   "metadata": {},
   "outputs": [
    {
     "data": {
      "text/plain": [
       "torch.Size([3, 2, 4])"
      ]
     },
     "execution_count": 66,
     "metadata": {},
     "output_type": "execute_result"
    }
   ],
   "source": [
    "student.param_init[param_name].shape"
   ]
  },
  {
   "cell_type": "code",
   "execution_count": 67,
   "metadata": {},
   "outputs": [
    {
     "data": {
      "text/plain": [
       "torch.Size([2, 2, 2])"
      ]
     },
     "execution_count": 67,
     "metadata": {},
     "output_type": "execute_result"
    }
   ],
   "source": [
    "teacher.params[teacher_param_name].shape"
   ]
  },
  {
   "cell_type": "code",
   "execution_count": 68,
   "metadata": {},
   "outputs": [],
   "source": [
    "config = dict(\n",
    "        n_iter = 1,\n",
    "        learning_rate = 0.01, \n",
    "        beta1 = 0.9,\n",
    "        beta2 = 0.999,\n",
    "        learning_rate_decay = 1., # no decay by default\n",
    "        batch_size = 32, \n",
    "        n_elbo_particles = 1, \n",
    "        n_posterior_samples = 1024,\n",
    "        window = 500,\n",
    "        convergence_window = 30,\n",
    "        slope_significance = 0.1,\n",
    "        track_params = False,\n",
    "        monitor_gradients = False,\n",
    "        telemetry = None\n",
    "    )"
   ]
  },
  {
   "cell_type": "code",
   "execution_count": 69,
   "metadata": {},
   "outputs": [
    {
     "name": "stdout",
     "output_type": "stream",
     "text": [
      "\n",
      "\n",
      "NLL after 0/1 iterations is 21.046613693237305\n",
      ".\n",
      "Converged in 1 iterations.\n",
      "\n"
     ]
    }
   ],
   "source": [
    "telemetry = inference(student, data, test_data, config=config)"
   ]
  },
  {
   "cell_type": "code",
   "execution_count": 70,
   "metadata": {},
   "outputs": [],
   "source": [
    "student.sample_posterior_predictive(N)"
   ]
  },
  {
   "cell_type": "code",
   "execution_count": 71,
   "metadata": {},
   "outputs": [
    {
     "data": {
      "text/plain": [
       "torch.Size([1000, 32, 2])"
      ]
     },
     "execution_count": 71,
     "metadata": {},
     "output_type": "execute_result"
    }
   ],
   "source": [
    "foo = student.posterior_predictive(data)\n",
    "\n",
    "foo['obs'].shape"
   ]
  },
  {
   "cell_type": "code",
   "execution_count": 72,
   "metadata": {},
   "outputs": [
    {
     "data": {
      "text/plain": [
       "<matplotlib.collections.PathCollection at 0x7f4438154c50>"
      ]
     },
     "execution_count": 72,
     "metadata": {},
     "output_type": "execute_result"
    }
   ],
   "source": [
    "#plt.scatter(*data[:,rand_idx].T)\n",
    "#plt.scatter(*foo['obs'][:,0,rand_idx].squeeze().T.detach())\n",
    "\n",
    "#plt.scatter(*data[:,rand_idx].T,c=train_assign.squeeze())\n",
    "plt.scatter(*foo['obs'][:,0,rand_idx].squeeze().T.detach(),c=foo['assignment_id'][:,0].squeeze().T.detach())"
   ]
  },
  {
   "cell_type": "code",
   "execution_count": null,
   "metadata": {},
   "outputs": [],
   "source": [
    "config = dict(\n",
    "        n_iter = 4000,\n",
    "        learning_rate = 0.01, \n",
    "        beta1 = 0.9,\n",
    "        beta2 = 0.999,\n",
    "        learning_rate_decay = 1., # no decay by default\n",
    "        batch_size = 32, \n",
    "        n_elbo_particles = 32, \n",
    "        n_posterior_samples = 1024,\n",
    "        window = 500,\n",
    "        convergence_window = 30,\n",
    "        slope_significance = 0.1,\n",
    "        track_params = False,\n",
    "        monitor_gradients = False,\n",
    "        telemetry = None\n",
    "    )"
   ]
  },
  {
   "cell_type": "code",
   "execution_count": null,
   "metadata": {
    "scrolled": true
   },
   "outputs": [],
   "source": [
    "telemetry = inference(student, data, test_data, config=config)"
   ]
  },
  {
   "cell_type": "code",
   "execution_count": null,
   "metadata": {},
   "outputs": [],
   "source": [
    "student.sample_posterior_predictive(N)\n",
    "\n",
    "foo = student.posterior_predictive(data)\n",
    "\n",
    "#plt.scatter(*data[:,rand_idx].T)\n",
    "#plt.scatter(*foo['obs'][:,0,rand_idx].squeeze().T.detach())\n",
    "\n",
    "#plt.scatter(*data[:,rand_idx].T,c=train_assign.squeeze())\n",
    "plt.scatter(*foo['obs'][:,0,rand_idx].squeeze().T.detach(),c=foo['assignment_id'][:,0].squeeze().T.detach())"
   ]
  },
  {
   "cell_type": "code",
   "execution_count": null,
   "metadata": {},
   "outputs": [],
   "source": [
    "old_student = student\n",
    "teacher = student"
   ]
  },
  {
   "cell_type": "code",
   "execution_count": null,
   "metadata": {},
   "outputs": [],
   "source": [
    "c = 1\n",
    "\n",
    "local_cov_mat = torch.matmul(teacher.params['cov_factor_loc_id'][c],teacher.params['cov_factor_loc_id'][c].T) + torch.diag(teacher.params['cov_diag_loc_id'][c]**2)\n",
    "eigvals, eigvecs = torch.eig(local_cov_mat, eigenvectors=True)\n",
    "new_component_loc_displacement = torch.matmul(torch.sqrt(eigvals[:,0]),eigvecs.T)\n",
    "\n",
    "ax = plt.axes()\n",
    "plt.scatter(*foo['obs'][:,1,rand_idx].squeeze().T.detach(),c=foo['assignment_id'][:,1].squeeze().T.detach())\n",
    "\n",
    "ax.arrow(*teacher.params['loc_loc_id'][c], *new_component_loc_displacement, head_width=0.5, head_length=0.7, fc='lightblue', ec='black')\n",
    "#ax.arrow(*student.params['loc_loc_id'][c], *-vec, head_width=0.5, head_length=0.7, fc='lightblue', ec='black')\n",
    "\n",
    "#plt.xlim(-20,40)\n",
    "#plt.ylim(-80,10)\n",
    "#plt.grid()"
   ]
  },
  {
   "cell_type": "code",
   "execution_count": null,
   "metadata": {},
   "outputs": [],
   "source": [
    "for param_name, param_value in student.param_init.items():\n",
    "    teacher_param_name = param_name.replace('init_'+student._id, teacher._id)\n",
    "    for component,_ in enumerate(teacher.param_init[param_name]):\n",
    "        if component == c:\n",
    "            if param_name in ['loc_loc_init_id', 'loc_prior_loc_init_id']:\n",
    "                comp1 = teacher.params[teacher_param_name][component] + new_component_loc_displacement\n",
    "                comp2 = teacher.params[teacher_param_name][component] - new_component_loc_displacement\n",
    "            elif param_name in ['mixing_proportions_concentration_init_id', 'mixing_proportions_prior_concentration_init_id']:\n",
    "                comp1 = comp2 = teacher.params[teacher_param_name][component]/2\n",
    "            else:\n",
    "                comp1 = comp2 = teacher.params[teacher_param_name][component]\n",
    "            student.param_init[param_name][component] = comp1\n",
    "            student.param_init[param_name][component + 1] = comp2\n",
    "            next\n",
    "        else:\n",
    "            student.param_init[param_name][component] = teacher.params[teacher_param_name][component]"
   ]
  },
  {
   "cell_type": "code",
   "execution_count": null,
   "metadata": {},
   "outputs": [],
   "source": [
    "config = dict(\n",
    "        n_iter = 1,\n",
    "        learning_rate = 0.01, \n",
    "        beta1 = 0.9,\n",
    "        beta2 = 0.999,\n",
    "        learning_rate_decay = 1., # no decay by default\n",
    "        batch_size = 32, \n",
    "        n_elbo_particles = 1, \n",
    "        n_posterior_samples = 1024,\n",
    "        window = 500,\n",
    "        convergence_window = 30,\n",
    "        slope_significance = 0.1,\n",
    "        track_params = False,\n",
    "        monitor_gradients = False,\n",
    "        telemetry = None\n",
    "    )"
   ]
  },
  {
   "cell_type": "code",
   "execution_count": null,
   "metadata": {
    "scrolled": true
   },
   "outputs": [],
   "source": [
    "telemetry = inference(student, data, test_data, config=config)"
   ]
  },
  {
   "cell_type": "code",
   "execution_count": null,
   "metadata": {},
   "outputs": [],
   "source": [
    "student.sample_posterior_predictive(N)\n",
    "\n",
    "foo = student.posterior_predictive(data)\n",
    "\n",
    "#plt.scatter(*data[:,rand_idx].T)\n",
    "#plt.scatter(*foo['obs'][:,0,rand_idx].squeeze().T.detach())\n",
    "\n",
    "#plt.scatter(*data[:,rand_idx].T,c=train_assign.squeeze())\n",
    "plt.scatter(*foo['obs'][:,0,rand_idx].squeeze().T.detach(),c=foo['assignment_id'][:,0].squeeze().T.detach())"
   ]
  },
  {
   "cell_type": "code",
   "execution_count": null,
   "metadata": {},
   "outputs": [],
   "source": [
    "def incremental_init(student, teacher):\n",
    "    # modify parameters of student model to those of the teacher model\n",
    "    # assuming student has been randomly initialized\n",
    "    # assuming both student and teacher have the same parameter names, modulo id\n",
    "    # assuming teacher has smaller- or equal-sized parameters\n",
    "    for param_name, param_value in student.param_init.items():\n",
    "        teacher_param_name = param_name.replace('init_'+student._id, teacher._id)\n",
    "        assert teacher_param_name in teacher.params.keys()\n",
    "        # if corresponding param has same shape, use it\n",
    "        if param_value.shape == teacher.params[teacher_param_name].shape:\n",
    "            student.param_init[param_name] = teacher.params[teacher_param_name]\n",
    "        # if corresponding param has fewer rows, replace those\n",
    "        elif param_value.shape[0] > teacher.params[teacher_param_name].shape[0]:\n",
    "            student.param_init[param_name][:teacher.params[teacher_param_name].shape[0]] = teacher.params[teacher_param_name]\n",
    "        else:\n",
    "            print(f\"Parameter {param_name} and {teacher_param_name} have incompatible shapes.\")"
   ]
  },
  {
   "cell_type": "code",
   "execution_count": null,
   "metadata": {},
   "outputs": [],
   "source": [
    "foo.keys()"
   ]
  },
  {
   "cell_type": "code",
   "execution_count": null,
   "metadata": {},
   "outputs": [],
   "source": [
    "foo['loc_id'].shape"
   ]
  },
  {
   "cell_type": "code",
   "execution_count": null,
   "metadata": {},
   "outputs": [],
   "source": [
    "foo['loc_id'][0,0]"
   ]
  },
  {
   "cell_type": "code",
   "execution_count": null,
   "metadata": {},
   "outputs": [],
   "source": [
    "foo['cov_factor_id'][0,0]"
   ]
  },
  {
   "cell_type": "code",
   "execution_count": null,
   "metadata": {},
   "outputs": [],
   "source": [
    "foo['cov_diag_id'][0,0]"
   ]
  },
  {
   "cell_type": "code",
   "execution_count": null,
   "metadata": {},
   "outputs": [],
   "source": [
    "entropies = []\n",
    "entropies2 = []\n",
    "for i in range(1000):\n",
    "    et = dist.LowRankMultivariateNormal(foo['loc_id'][i,0],foo['cov_factor_id'][i,0],foo['cov_diag_id'][i,0])\n",
    "    entropies.append(et.entropy())\n",
    "    to = dist.LowRankMultivariateNormal(foo['loc_id'][i,1],foo['cov_factor_id'][i,1],foo['cov_diag_id'][i,1])\n",
    "    entropies2.append(to.entropy())"
   ]
  },
  {
   "cell_type": "code",
   "execution_count": null,
   "metadata": {},
   "outputs": [],
   "source": [
    "plt.hist(torch.tensor(entropies),'auto')\n",
    "plt.figure()\n",
    "plt.hist(torch.tensor(entropies2),'auto')"
   ]
  },
  {
   "cell_type": "code",
   "execution_count": null,
   "metadata": {},
   "outputs": [],
   "source": [
    "plt.scatter(*data[train_assign==1][:,rand_idx].T)"
   ]
  },
  {
   "cell_type": "code",
   "execution_count": null,
   "metadata": {},
   "outputs": [],
   "source": [
    "data[train_assign==1].shape"
   ]
  },
  {
   "cell_type": "code",
   "execution_count": null,
   "metadata": {},
   "outputs": [],
   "source": []
  }
 ],
 "metadata": {
  "kernelspec": {
   "display_name": "Python 3",
   "language": "python",
   "name": "python3"
  },
  "language_info": {
   "codemirror_mode": {
    "name": "ipython",
    "version": 3
   },
   "file_extension": ".py",
   "mimetype": "text/x-python",
   "name": "python",
   "nbconvert_exporter": "python",
   "pygments_lexer": "ipython3",
   "version": "3.7.3"
  }
 },
 "nbformat": 4,
 "nbformat_minor": 2
}

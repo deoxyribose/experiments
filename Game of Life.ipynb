{
 "cells": [
  {
   "cell_type": "code",
   "execution_count": 33,
   "metadata": {},
   "outputs": [],
   "source": [
    "import numpy as np\n",
    "import matplotlib.pylab as plt\n",
    "from matplotlib.animation import FuncAnimation\n"
   ]
  },
  {
   "cell_type": "code",
   "execution_count": 149,
   "metadata": {},
   "outputs": [],
   "source": [
    "X,Y = (100,100)\n",
    "board = np.zeros((X,Y))"
   ]
  },
  {
   "cell_type": "code",
   "execution_count": 151,
   "metadata": {},
   "outputs": [],
   "source": [
    "# glider init\n",
    "board[0,2] = 1\n",
    "board[1,2] = 1\n",
    "board[2,2] = 1\n",
    "board[2,1] = 1\n",
    "board[1,0] = 1"
   ]
  },
  {
   "cell_type": "code",
   "execution_count": 152,
   "metadata": {},
   "outputs": [],
   "source": [
    "# pretty slow\n",
    "\n",
    "def next_generation(board):\n",
    "    X, Y = board.shape\n",
    "    for x in range(X):\n",
    "        for y in range(Y):\n",
    "            x_lo,x_hi = max(0,x-1),min(X,x+2)\n",
    "            y_lo,y_hi = max(0,y-1),min(Y,y+2)\n",
    "            neighborhood = board[x_lo:x_hi,y_lo:y_hi]\n",
    "            n_neighbours = neighborhood.sum() - neighborhood[1,1]\n",
    "            if neighborhood[1,1]:\n",
    "                if n_neighbours < 2 or n_neighbours > 3:\n",
    "                    board[x,y] = 0\n",
    "            else:\n",
    "                if n_neighbours == 3:\n",
    "                    board[x,y] = 1\n",
    "    return board"
   ]
  },
  {
   "cell_type": "code",
   "execution_count": 153,
   "metadata": {},
   "outputs": [
    {
     "data": {
      "text/plain": [
       "array([[0., 1., 1., ..., 0., 0., 0.],\n",
       "       [0., 0., 0., ..., 0., 0., 0.],\n",
       "       [0., 0., 0., ..., 0., 0., 0.],\n",
       "       ...,\n",
       "       [1., 1., 1., ..., 0., 0., 0.],\n",
       "       [0., 1., 1., ..., 0., 0., 0.],\n",
       "       [0., 0., 0., ..., 0., 0., 0.]])"
      ]
     },
     "execution_count": 153,
     "metadata": {},
     "output_type": "execute_result"
    }
   ],
   "source": [
    "next_generation(next_generation(next_generation(frames[0])))"
   ]
  },
  {
   "cell_type": "code",
   "execution_count": 155,
   "metadata": {
    "scrolled": true
   },
   "outputs": [],
   "source": [
    "n_frames = 100\n",
    "frames = np.zeros((n_frames,X,Y))\n",
    "#init\n",
    "#frames[0,1,3] = 1\n",
    "#frames[0,2,3] = 1\n",
    "#frames[0,3,3] = 1\n",
    "#frames[0,3,2] = 1\n",
    "#frames[0,2,1] = 1\n",
    "# random init\n",
    "frames[0,np.random.randint(0,X,size=X*Y//3),np.random.randint(0,Y,size=X*Y//3)] = 1.\n",
    "for i in range(1,n_frames):\n",
    "    frames[i] = next_generation(frames[i-1].copy())"
   ]
  },
  {
   "cell_type": "code",
   "execution_count": 144,
   "metadata": {},
   "outputs": [
    {
     "data": {
      "text/plain": [
       "(-0.5, 99.5, 99.5, -0.5)"
      ]
     },
     "execution_count": 144,
     "metadata": {},
     "output_type": "execute_result"
    }
   ],
   "source": [
    "%matplotlib qt\n",
    "plt.imshow(frames[0], cmap='gray_r')\n",
    "plt.axis('off')"
   ]
  },
  {
   "cell_type": "code",
   "execution_count": 156,
   "metadata": {},
   "outputs": [],
   "source": [
    "fig, ax = plt.subplots()\n",
    "im = plt.imshow(board, cmap='gray_r')\n",
    "\n",
    "def update(i):\n",
    "    im.set_array(frames[i])\n",
    "    return [im]\n",
    "\n",
    "ani = FuncAnimation(fig, update, frames=n_frames, interval = 100)\n",
    "plt.show()"
   ]
  },
  {
   "cell_type": "code",
   "execution_count": null,
   "metadata": {},
   "outputs": [],
   "source": []
  }
 ],
 "metadata": {
  "kernelspec": {
   "display_name": "Python 3",
   "language": "python",
   "name": "python3"
  },
  "language_info": {
   "codemirror_mode": {
    "name": "ipython",
    "version": 3
   },
   "file_extension": ".py",
   "mimetype": "text/x-python",
   "name": "python",
   "nbconvert_exporter": "python",
   "pygments_lexer": "ipython3",
   "version": "3.7.3"
  }
 },
 "nbformat": 4,
 "nbformat_minor": 2
}
